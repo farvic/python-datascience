{
 "cells": [
  {
   "cell_type": "markdown",
   "source": [
    "with <context-manager>(<args>) as <variable-name>:\n",
    "  Run your code here\n",
    "  This code is running \"inside the context\"\n",
    "\n",
    "This code runs after the context is removed"
   ],
   "metadata": {
    "collapsed": false
   }
  },
  {
   "cell_type": "code",
   "execution_count": null,
   "outputs": [],
   "source": [
    "# Open \"alice.txt\" and assign the file to \"file\"\n",
    "with open('alice.txt') as file:\n",
    "  text = file.read()\n",
    "\n",
    "n = 0\n",
    "for word in text.split():\n",
    "  if word.lower() in ['cat', 'cats']:\n",
    "    n += 1\n",
    "\n",
    "print('Lewis Carroll uses the word \"cat\" {} times'.format(n))"
   ],
   "metadata": {
    "collapsed": false
   }
  },
  {
   "cell_type": "code",
   "execution_count": null,
   "outputs": [],
   "source": [
    "from numpy.ma.bench import timer\n",
    "\n",
    "\n",
    "def get_image_from_instagram():\n",
    "  pass\n",
    "\n",
    "# Time how long process_with_numpy(image) takes to run\n",
    "def process_with_numpy(image):\n",
    "  pass\n",
    "\n",
    "# Time how long process_with_pytorch(image) takes to run\n",
    "def process_with_pytorch(image):\n",
    "  pass\n",
    "\n",
    "image = get_image_from_instagram()\n",
    "\n",
    "with timer():\n",
    "  print('Numpy version')\n",
    "  process_with_numpy(image)\n",
    "\n",
    "with timer():\n",
    "  print('Pytorch version')\n",
    "  process_with_pytorch(image)\n",
    "\n",
    "# Numpy version\n",
    "# Processing..........done!\n",
    "# Elapsed: 1.52 seconds\n",
    "# Pytorch version\n",
    "# Processing..........done!\n",
    "# Elapsed: 0.33 seconds"
   ],
   "metadata": {
    "collapsed": false
   }
  },
  {
   "cell_type": "code",
   "execution_count": 3,
   "outputs": [
    {
     "name": "stdout",
     "output_type": "stream",
     "text": [
      "This should take approximately 0.25 seconds\n",
      "Elapsed: 0.25s\n"
     ]
    }
   ],
   "source": [
    "import time\n",
    "import contextlib\n",
    "\n",
    "\n",
    "# Add a decorator that will make timer() a context manager\n",
    "@contextlib.contextmanager\n",
    "def timer():\n",
    "  \"\"\"Time the execution of a context block.\n",
    "\n",
    "  Yields:\n",
    "    None\n",
    "  \"\"\"\n",
    "  start = time.time()\n",
    "  # Send control back to the context block\n",
    "  yield\n",
    "  end = time.time()\n",
    "  print('Elapsed: {:.2f}s'.format(end - start))\n",
    "\n",
    "with timer():\n",
    "  print('This should take approximately 0.25 seconds')\n",
    "  time.sleep(0.25)"
   ],
   "metadata": {
    "collapsed": false
   }
  },
  {
   "cell_type": "markdown",
   "source": [
    "### A read-only open() context manager"
   ],
   "metadata": {
    "collapsed": false
   }
  },
  {
   "cell_type": "code",
   "execution_count": null,
   "outputs": [],
   "source": [
    "@contextlib.contextmanager\n",
    "def open_read_only(filename):\n",
    "  \"\"\"Open a file in read-only mode.\n",
    "\n",
    "  Args:\n",
    "    filename (str): The location of the file to read\n",
    "\n",
    "  Yields:\n",
    "    file object\n",
    "  \"\"\"\n",
    "  read_only_file = open(filename, mode='r')\n",
    "  # Yield read_only_file so it can be assigned to my_file\n",
    "  yield read_only_file\n",
    "  # Close read_only_file\n",
    "  read_only_file.close()\n",
    "\n",
    "with open_read_only('my_file.txt') as my_file:\n",
    "  print(my_file.read())"
   ],
   "metadata": {
    "collapsed": false
   }
  },
  {
   "cell_type": "code",
   "execution_count": null,
   "outputs": [],
   "source": [
    "# Use the \"stock('NVDA')\" context manager\n",
    "# and assign the result to the variable \"nvda\"\n",
    "with stock('NVDA') as nvda:\n",
    "  # Open \"NVDA.txt\" for writing as f_out\n",
    "  with open('NVDA.txt','w') as f_out:\n",
    "    for _ in range(10):\n",
    "      value = nvda.price()\n",
    "      print('Logging ${:.2f} for NVDA'.format(value))\n",
    "      f_out.write('{:.2f}\\n'.format(value))"
   ],
   "metadata": {
    "collapsed": false
   }
  },
  {
   "cell_type": "markdown",
   "source": [
    "### Handling errors"
   ],
   "metadata": {
    "collapsed": false
   }
  },
  {
   "cell_type": "code",
   "execution_count": null,
   "outputs": [],
   "source": [
    "import os\n",
    "\n",
    "\n",
    "def in_dir(directory):\n",
    "  \"\"\"Change current working directory to `directory`,\n",
    "  allow the user to run some code, and change back.\n",
    "\n",
    "  Args:\n",
    "    directory (str): The path to a directory to work in.\n",
    "  \"\"\"\n",
    "  current_dir = os.getcwd()\n",
    "  os.chdir(directory)\n",
    "\n",
    "  # Add code that lets you handle errors\n",
    "  try:\n",
    "    yield\n",
    "  # Ensure the directory is reset,\n",
    "  # whether there was an error or not\n",
    "  finally:\n",
    "    os.chdir(current_dir)"
   ],
   "metadata": {
    "collapsed": false
   }
  }
 ],
 "metadata": {
  "kernelspec": {
   "display_name": "Python 3",
   "language": "python",
   "name": "python3"
  },
  "language_info": {
   "codemirror_mode": {
    "name": "ipython",
    "version": 2
   },
   "file_extension": ".py",
   "mimetype": "text/x-python",
   "name": "python",
   "nbconvert_exporter": "python",
   "pygments_lexer": "ipython2",
   "version": "2.7.6"
  }
 },
 "nbformat": 4,
 "nbformat_minor": 0
}
