{
 "cells": [
  {
   "cell_type": "code",
   "execution_count": 1,
   "metadata": {
    "collapsed": true
   },
   "outputs": [
    {
     "name": "stdout",
     "output_type": "stream",
     "text": [
      "      Age  Attrition     BusinessTravel  DailyRate            Department  \\\n",
      "1134   35        0.0      Travel_Rarely        583  Research_Development   \n",
      "1150   52        0.0         Non-Travel        585                 Sales   \n",
      "531    33        0.0      Travel_Rarely        931  Research_Development   \n",
      "395    31        0.0      Travel_Rarely       1332  Research_Development   \n",
      "392    29        0.0      Travel_Rarely        942  Research_Development   \n",
      "...   ...        ...                ...        ...                   ...   \n",
      "361    27        0.0  Travel_Frequently       1410                 Sales   \n",
      "1180   36        0.0      Travel_Rarely        530                 Sales   \n",
      "230    26        0.0      Travel_Rarely       1443                 Sales   \n",
      "211    29        0.0  Travel_Frequently        410  Research_Development   \n",
      "890    30        0.0  Travel_Frequently       1312  Research_Development   \n",
      "\n",
      "      DistanceFromHome      Education    EducationField  \\\n",
      "1134                25         Master           Medical   \n",
      "1150                29         Master     Life_Sciences   \n",
      "531                 14       Bachelor           Medical   \n",
      "395                 11        College           Medical   \n",
      "392                 15  Below_College     Life_Sciences   \n",
      "...                ...            ...               ...   \n",
      "361                  3  Below_College           Medical   \n",
      "1180                 2         Master     Life_Sciences   \n",
      "230                 23       Bachelor         Marketing   \n",
      "211                  2  Below_College     Life_Sciences   \n",
      "890                  2         Master  Technical_Degree   \n",
      "\n",
      "     EnvironmentSatisfaction  Gender  ...  PerformanceRating  \\\n",
      "1134                    High  Female  ...          Excellent   \n",
      "1150                     Low    Male  ...          Excellent   \n",
      "531                Very_High  Female  ...          Excellent   \n",
      "395                     High    Male  ...          Excellent   \n",
      "392                   Medium  Female  ...          Excellent   \n",
      "...                      ...     ...  ...                ...   \n",
      "361                Very_High  Female  ...        Outstanding   \n",
      "1180                    High  Female  ...          Excellent   \n",
      "230                     High  Female  ...          Excellent   \n",
      "211                Very_High  Female  ...          Excellent   \n",
      "890                Very_High  Female  ...          Excellent   \n",
      "\n",
      "     RelationshipSatisfaction  StockOptionLevel TotalWorkingYears  \\\n",
      "1134                     High                 1                16   \n",
      "1150                   Medium                 2                16   \n",
      "531                 Very_High                 1                 8   \n",
      "395                 Very_High                 0                 6   \n",
      "392                       Low                 1                 6   \n",
      "...                       ...               ...               ...   \n",
      "361                    Medium                 2                 6   \n",
      "1180                     High                 0                17   \n",
      "230                      High                 1                 5   \n",
      "211                      High                 3                 4   \n",
      "890                 Very_High                 0                10   \n",
      "\n",
      "     TrainingTimesLastYear WorkLifeBalance  YearsAtCompany  \\\n",
      "1134                     3            Good              16   \n",
      "1150                     3            Good               9   \n",
      "531                      5          Better               8   \n",
      "395                      2            Good               6   \n",
      "392                      2            Good               5   \n",
      "...                    ...             ...             ...   \n",
      "361                      3          Better               6   \n",
      "1180                     2            Good              13   \n",
      "230                      2            Good               2   \n",
      "211                      3          Better               3   \n",
      "890                      2          Better               9   \n",
      "\n",
      "      YearsInCurrentRole  YearsSinceLastPromotion YearsWithCurrManager  \n",
      "1134                  10                       10                    1  \n",
      "1150                   8                        0                    0  \n",
      "531                    7                        1                    6  \n",
      "395                    5                        0                    1  \n",
      "392                    4                        1                    3  \n",
      "...                  ...                      ...                  ...  \n",
      "361                    5                        0                    4  \n",
      "1180                   7                        6                    7  \n",
      "230                    2                        0                    0  \n",
      "211                    2                        0                    2  \n",
      "890                    7                        0                    7  \n",
      "\n",
      "[70 rows x 31 columns]\n"
     ]
    }
   ],
   "source": [
    "import pandas as pd\n",
    "\n",
    "# Read the data\n",
    "attrition_pop = pd.read_feather('attrition.feather')\n",
    "\n",
    "# Sample 70 rows using simple random sampling and set the seed\n",
    "attrition_samp = attrition_pop.sample(n=70, random_state=18900217)\n",
    "\n",
    "# Print the sample\n",
    "print(attrition_samp)"
   ]
  },
  {
   "cell_type": "code",
   "execution_count": 2,
   "outputs": [
    {
     "name": "stdout",
     "output_type": "stream",
     "text": [
      "      Age  Attrition BusinessTravel  DailyRate            Department  \\\n",
      "0      21        0.0  Travel_Rarely        391  Research_Development   \n",
      "21     19        0.0  Travel_Rarely       1181  Research_Development   \n",
      "42     45        0.0  Travel_Rarely        252  Research_Development   \n",
      "63     23        0.0  Travel_Rarely        373  Research_Development   \n",
      "84     30        1.0  Travel_Rarely        945                 Sales   \n",
      "...   ...        ...            ...        ...                   ...   \n",
      "1365   48        0.0  Travel_Rarely        715  Research_Development   \n",
      "1386   48        0.0  Travel_Rarely       1355  Research_Development   \n",
      "1407   50        0.0  Travel_Rarely        989  Research_Development   \n",
      "1428   50        0.0     Non-Travel        881  Research_Development   \n",
      "1449   52        0.0  Travel_Rarely        699  Research_Development   \n",
      "\n",
      "      DistanceFromHome      Education EducationField EnvironmentSatisfaction  \\\n",
      "0                   15        College  Life_Sciences                    High   \n",
      "21                   3  Below_College        Medical                  Medium   \n",
      "42                   2       Bachelor  Life_Sciences                  Medium   \n",
      "63                   1        College  Life_Sciences               Very_High   \n",
      "84                   9       Bachelor        Medical                  Medium   \n",
      "...                ...            ...            ...                     ...   \n",
      "1365                 1       Bachelor  Life_Sciences               Very_High   \n",
      "1386                 4         Master  Life_Sciences                    High   \n",
      "1407                 7        College        Medical                  Medium   \n",
      "1428                 2         Master  Life_Sciences                     Low   \n",
      "1449                 1         Master  Life_Sciences                    High   \n",
      "\n",
      "      Gender  ...  PerformanceRating RelationshipSatisfaction  \\\n",
      "0       Male  ...          Excellent                Very_High   \n",
      "21    Female  ...          Excellent                Very_High   \n",
      "42    Female  ...          Excellent                Very_High   \n",
      "63      Male  ...        Outstanding                Very_High   \n",
      "84      Male  ...          Excellent                     High   \n",
      "...      ...  ...                ...                      ...   \n",
      "1365    Male  ...          Excellent                     High   \n",
      "1386    Male  ...          Excellent                   Medium   \n",
      "1407  Female  ...          Excellent                Very_High   \n",
      "1428    Male  ...          Excellent                Very_High   \n",
      "1449    Male  ...          Excellent                      Low   \n",
      "\n",
      "      StockOptionLevel TotalWorkingYears TrainingTimesLastYear  \\\n",
      "0                    0                 0                     6   \n",
      "21                   0                 1                     3   \n",
      "42                   0                 1                     3   \n",
      "63                   1                 1                     2   \n",
      "84                   0                 1                     3   \n",
      "...                ...               ...                   ...   \n",
      "1365                 0                25                     3   \n",
      "1386                 0                27                     3   \n",
      "1407                 1                29                     2   \n",
      "1428                 1                31                     3   \n",
      "1449                 1                34                     5   \n",
      "\n",
      "     WorkLifeBalance  YearsAtCompany  YearsInCurrentRole  \\\n",
      "0             Better               0                   0   \n",
      "21            Better               1                   0   \n",
      "42            Better               1                   0   \n",
      "63            Better               1                   0   \n",
      "84              Good               1                   0   \n",
      "...              ...             ...                 ...   \n",
      "1365            Best               1                   0   \n",
      "1386          Better              15                  11   \n",
      "1407            Good              27                   3   \n",
      "1428          Better              31                   6   \n",
      "1449          Better              33                  18   \n",
      "\n",
      "      YearsSinceLastPromotion YearsWithCurrManager  \n",
      "0                           0                    0  \n",
      "21                          0                    0  \n",
      "42                          0                    0  \n",
      "63                          0                    1  \n",
      "84                          0                    0  \n",
      "...                       ...                  ...  \n",
      "1365                        0                    0  \n",
      "1386                        4                    8  \n",
      "1407                       13                    8  \n",
      "1428                       14                    7  \n",
      "1449                       11                    9  \n",
      "\n",
      "[70 rows x 31 columns]\n"
     ]
    }
   ],
   "source": [
    "# Set the sample size to 70\n",
    "sample_size = 70\n",
    "\n",
    "# Calculate the population size from attrition_pop\n",
    "pop_size = len(attrition_pop)\n",
    "\n",
    "# Calculate the interval\n",
    "interval = pop_size // sample_size\n",
    "\n",
    "# Systematically sample 70 rows\n",
    "attrition_sys_samp = attrition_pop.iloc[::interval]\n",
    "\n",
    "# Print the sample\n",
    "print(attrition_sys_samp)"
   ],
   "metadata": {
    "collapsed": false
   }
  },
  {
   "cell_type": "code",
   "execution_count": 3,
   "outputs": [
    {
     "data": {
      "text/plain": "<Figure size 640x480 with 1 Axes>",
      "image/png": "[encoded data removed]"
     },
     "metadata": {},
     "output_type": "display_data"
    }
   ],
   "source": [
    "import matplotlib.pyplot as plt\n",
    "\n",
    "# Add an index column to attrition_pop\n",
    "attrition_pop_id = attrition_pop.reset_index()\n",
    "\n",
    "# Plot YearsAtCompany vs. index for attrition_pop_id\n",
    "attrition_pop_id.plot(kind=\"scatter\", x=\"index\", y=\"YearsAtCompany\")\n",
    "plt.show()"
   ],
   "metadata": {
    "collapsed": false
   }
  },
  {
   "cell_type": "code",
   "execution_count": 4,
   "outputs": [
    {
     "data": {
      "text/plain": "<Figure size 640x480 with 1 Axes>",
      "image/png": "[encoded data removed]"
     },
     "metadata": {},
     "output_type": "display_data"
    }
   ],
   "source": [
    "# Shuffle the rows of attrition_pop\n",
    "attrition_shuffled = attrition_pop.sample(frac=1)\n",
    "\n",
    "# Reset the row indexes and create an index column\n",
    "attrition_shuffled = attrition_shuffled.reset_index(drop=True).reset_index()\n",
    "\n",
    "# Plot YearsAtCompany vs. index for attrition_shuffled\n",
    "attrition_shuffled.plot(x=\"index\",y=\"YearsAtCompany\", kind=\"scatter\")\n",
    "plt.show()"
   ],
   "metadata": {
    "collapsed": false
   }
  },
  {
   "cell_type": "code",
   "execution_count": 5,
   "outputs": [
    {
     "name": "stdout",
     "output_type": "stream",
     "text": [
      "Bachelor         0.389116\n",
      "Master           0.270748\n",
      "College          0.191837\n",
      "Below_College    0.115646\n",
      "Doctor           0.032653\n",
      "Name: Education, dtype: float64\n",
      "      Age  Attrition     BusinessTravel  DailyRate            Department  \\\n",
      "1191   53        0.0      Travel_Rarely        238                 Sales   \n",
      "407    29        0.0  Travel_Frequently        995  Research_Development   \n",
      "1233   59        0.0  Travel_Frequently       1225                 Sales   \n",
      "366    37        0.0      Travel_Rarely        571  Research_Development   \n",
      "702    31        0.0  Travel_Frequently        163  Research_Development   \n",
      "...   ...        ...                ...        ...                   ...   \n",
      "733    38        0.0  Travel_Frequently        653  Research_Development   \n",
      "1061   44        0.0  Travel_Frequently        602       Human_Resources   \n",
      "1307   41        0.0      Travel_Rarely       1276                 Sales   \n",
      "1060   33        0.0      Travel_Rarely        516  Research_Development   \n",
      "177    29        0.0      Travel_Rarely        738  Research_Development   \n",
      "\n",
      "      DistanceFromHome      Education    EducationField  \\\n",
      "1191                 1  Below_College           Medical   \n",
      "407                  2  Below_College     Life_Sciences   \n",
      "1233                 1  Below_College     Life_Sciences   \n",
      "366                 10  Below_College     Life_Sciences   \n",
      "702                 24  Below_College  Technical_Degree   \n",
      "...                ...            ...               ...   \n",
      "733                 29         Doctor     Life_Sciences   \n",
      "1061                 1         Doctor   Human_Resources   \n",
      "1307                 2         Doctor     Life_Sciences   \n",
      "1060                 8         Doctor     Life_Sciences   \n",
      "177                  9         Doctor             Other   \n",
      "\n",
      "     EnvironmentSatisfaction  Gender  ...  PerformanceRating  \\\n",
      "1191               Very_High  Female  ...        Outstanding   \n",
      "407                      Low    Male  ...          Excellent   \n",
      "1233                     Low  Female  ...          Excellent   \n",
      "366                Very_High  Female  ...          Excellent   \n",
      "702                Very_High  Female  ...        Outstanding   \n",
      "...                      ...     ...  ...                ...   \n",
      "733                Very_High  Female  ...          Excellent   \n",
      "1061                     Low    Male  ...          Excellent   \n",
      "1307                  Medium  Female  ...          Excellent   \n",
      "1060               Very_High    Male  ...          Excellent   \n",
      "177                   Medium    Male  ...          Excellent   \n",
      "\n",
      "     RelationshipSatisfaction  StockOptionLevel TotalWorkingYears  \\\n",
      "1191                Very_High                 0                18   \n",
      "407                 Very_High                 1                 6   \n",
      "1233                Very_High                 0                20   \n",
      "366                    Medium                 2                 6   \n",
      "702                 Very_High                 0                 9   \n",
      "...                       ...               ...               ...   \n",
      "733                 Very_High                 0                10   \n",
      "1061                     High                 0                14   \n",
      "1307                   Medium                 1                22   \n",
      "1060                      Low                 0                14   \n",
      "177                      High                 0                 4   \n",
      "\n",
      "     TrainingTimesLastYear WorkLifeBalance  YearsAtCompany  \\\n",
      "1191                     2            Best              14   \n",
      "407                      0            Best               6   \n",
      "1233                     2            Good               4   \n",
      "366                      3            Good               5   \n",
      "702                      3            Good               5   \n",
      "...                    ...             ...             ...   \n",
      "733                      2          Better              10   \n",
      "1061                     3          Better              10   \n",
      "1307                     2          Better              18   \n",
      "1060                     6          Better               0   \n",
      "177                      2          Better               3   \n",
      "\n",
      "      YearsInCurrentRole  YearsSinceLastPromotion YearsWithCurrManager  \n",
      "1191                   7                        8                   10  \n",
      "407                    4                        1                    3  \n",
      "1233                   3                        1                    3  \n",
      "366                    3                        4                    3  \n",
      "702                    4                        1                    4  \n",
      "...                  ...                      ...                  ...  \n",
      "733                    3                        9                    9  \n",
      "1061                   7                        0                    2  \n",
      "1307                  16                       11                    8  \n",
      "1060                   0                        0                    0  \n",
      "177                    2                        2                    2  \n",
      "\n",
      "[588 rows x 31 columns]\n"
     ]
    }
   ],
   "source": [
    "# Proportion of employees by Education level\n",
    "education_counts_pop = attrition_pop['Education'].value_counts(normalize=True)\n",
    "\n",
    "# Print education_counts_pop\n",
    "print(education_counts_pop)\n",
    "\n",
    "# Proportional stratified sampling for 40% of each Education group\n",
    "attrition_strat = attrition_pop.groupby('Education').sample(frac=0.4, random_state=2022)\n",
    "\n",
    "\n",
    "# Print the sample\n",
    "print(attrition_strat)"
   ],
   "metadata": {
    "collapsed": false
   }
  },
  {
   "cell_type": "markdown",
   "source": [
    "### Proportional stratified sampling for 40% of each Education group\n",
    "It helps ensure that the sample is representative of the population."
   ],
   "metadata": {
    "collapsed": false
   }
  },
  {
   "cell_type": "code",
   "execution_count": 6,
   "outputs": [
    {
     "name": "stdout",
     "output_type": "stream",
     "text": [
      "Bachelor         0.389116\n",
      "Master           0.270748\n",
      "College          0.191837\n",
      "Below_College    0.115646\n",
      "Doctor           0.032653\n",
      "Name: Education, dtype: float64\n",
      "Bachelor         0.389456\n",
      "Master           0.270408\n",
      "College          0.192177\n",
      "Below_College    0.115646\n",
      "Doctor           0.032313\n",
      "Name: Education, dtype: float64\n"
     ]
    }
   ],
   "source": [
    "# Proportion of employees by Education level\n",
    "education_counts_pop = attrition_pop['Education'].value_counts(normalize=True)\n",
    "\n",
    "# Print education_counts_pop\n",
    "print(education_counts_pop)\n",
    "\n",
    "# Proportional stratified sampling for 40% of each Education group\n",
    "attrition_strat = attrition_pop.groupby('Education') \\\n",
    "    .sample(frac=0.4, random_state=2022)\n",
    "\n",
    "# Calculate the Education level proportions from attrition_strat\n",
    "education_counts_strat = attrition_strat['Education'].value_counts(normalize=True)\n",
    "\n",
    "# Print education_counts_strat\n",
    "print(education_counts_strat)"
   ],
   "metadata": {
    "collapsed": false
   }
  },
  {
   "cell_type": "markdown",
   "source": [
    "### Proportional stratified sampling for n=30 of each Education group"
   ],
   "metadata": {
    "collapsed": false
   }
  },
  {
   "cell_type": "code",
   "execution_count": 8,
   "outputs": [
    {
     "name": "stdout",
     "output_type": "stream",
     "text": [
      "Below_College    0.2\n",
      "College          0.2\n",
      "Bachelor         0.2\n",
      "Master           0.2\n",
      "Doctor           0.2\n",
      "Name: Education, dtype: float64\n"
     ]
    }
   ],
   "source": [
    "# Get 30 employees from each Education group\n",
    "attrition_eq = attrition_pop.groupby('Education') \\\n",
    "    .sample(n=30, random_state=2022)\n",
    "\n",
    "# Get the proportions from attrition_eq\n",
    "education_counts_eq = attrition_eq['Education'].value_counts(normalize=True)\n",
    "\n",
    "# Print the results\n",
    "print(education_counts_eq)"
   ],
   "metadata": {
    "collapsed": false
   }
  },
  {
   "cell_type": "code",
   "execution_count": 9,
   "outputs": [
    {
     "data": {
      "text/plain": "<Figure size 640x480 with 1 Axes>",
      "image/png": "[encoded data removed]"
     },
     "metadata": {},
     "output_type": "display_data"
    }
   ],
   "source": [
    "import numpy as np\n",
    "\n",
    "# Plot YearsAtCompany from attrition_pop as a histogram\n",
    "attrition_pop.hist(\"YearsAtCompany\", bins=np.arange(0,41))\n",
    "plt.show()"
   ],
   "metadata": {
    "collapsed": false
   }
  },
  {
   "cell_type": "code",
   "execution_count": 11,
   "outputs": [
    {
     "data": {
      "text/plain": "<Figure size 640x480 with 1 Axes>",
      "image/png": "[encoded data removed]"
     },
     "metadata": {},
     "output_type": "display_data"
    }
   ],
   "source": [
    "# Plot YearsAtCompany from attrition_pop as a histogram\n",
    "attrition_pop['YearsAtCompany'].hist(bins=np.arange(0, 41, 1))\n",
    "\n",
    "# Sample 400 employees weighted by YearsAtCompany\n",
    "attrition_weight = attrition_pop.sample(n=400, weights=\"YearsAtCompany\")\n",
    "\n",
    "# Plot YearsAtCompany from attrition_weight as a histogram\n",
    "attrition_weight[\"YearsAtCompany\"].hist(bins=np.arange(0,41))\n",
    "plt.show()"
   ],
   "metadata": {
    "collapsed": false
   }
  },
  {
   "cell_type": "markdown",
   "source": [
    "### Cluster sampling"
   ],
   "metadata": {
    "collapsed": false
   }
  },
  {
   "cell_type": "code",
   "execution_count": 35,
   "outputs": [
    {
     "name": "stdout",
     "output_type": "stream",
     "text": [
      "      Age  Attrition     BusinessTravel  DailyRate            Department  \\\n",
      "1124   36        0.0      Travel_Rarely       1396  Research_Development   \n",
      "576    45        0.0      Travel_Rarely        974  Research_Development   \n",
      "995    42        0.0  Travel_Frequently        748  Research_Development   \n",
      "1243   50        0.0      Travel_Rarely       1207  Research_Development   \n",
      "869    45        0.0      Travel_Rarely       1015  Research_Development   \n",
      "599    33        0.0      Travel_Rarely       1099  Research_Development   \n",
      "117    24        0.0      Travel_Rarely        350  Research_Development   \n",
      "472    30        0.0      Travel_Rarely        921  Research_Development   \n",
      "149    27        0.0         Non-Travel       1277  Research_Development   \n",
      "49     20        1.0      Travel_Rarely        129  Research_Development   \n",
      "1201   36        0.0         Non-Travel        217  Research_Development   \n",
      "741    29        0.0         Non-Travel       1496  Research_Development   \n",
      "1021   31        0.0      Travel_Rarely       1274  Research_Development   \n",
      "1056   37        0.0      Travel_Rarely        977  Research_Development   \n",
      "897    37        1.0      Travel_Rarely        370  Research_Development   \n",
      "410    28        0.0      Travel_Rarely        580  Research_Development   \n",
      "984    30        0.0      Travel_Rarely        946  Research_Development   \n",
      "1397   52        0.0      Travel_Rarely        319  Research_Development   \n",
      "1282   39        0.0  Travel_Frequently        945  Research_Development   \n",
      "1013   34        0.0      Travel_Rarely        470  Research_Development   \n",
      "326    25        1.0      Travel_Rarely        240                 Sales   \n",
      "1454   53        0.0      Travel_Rarely        661                 Sales   \n",
      "358    33        0.0      Travel_Rarely       1216                 Sales   \n",
      "364    34        0.0      Travel_Rarely        304                 Sales   \n",
      "507    33        0.0         Non-Travel        530                 Sales   \n",
      "976    39        1.0      Travel_Rarely       1162                 Sales   \n",
      "462    29        0.0      Travel_Rarely        144                 Sales   \n",
      "1138   35        0.0         Non-Travel       1212                 Sales   \n",
      "1223   50        0.0         Non-Travel        145                 Sales   \n",
      "906    33        0.0      Travel_Rarely        217                 Sales   \n",
      "133    34        1.0  Travel_Frequently        296                 Sales   \n",
      "26     33        1.0      Travel_Rarely        350                 Sales   \n",
      "1228   48        1.0  Travel_Frequently        708                 Sales   \n",
      "99     31        0.0  Travel_Frequently        444                 Sales   \n",
      "268    29        1.0      Travel_Rarely        341                 Sales   \n",
      "1256   38        0.0      Travel_Rarely        723                 Sales   \n",
      "104    20        1.0  Travel_Frequently        769                 Sales   \n",
      "251    47        0.0  Travel_Frequently       1309                 Sales   \n",
      "101    29        0.0      Travel_Rarely       1090                 Sales   \n",
      "286    27        0.0      Travel_Rarely       1291                 Sales   \n",
      "\n",
      "      DistanceFromHome      Education    EducationField  \\\n",
      "1124                 5        College     Life_Sciences   \n",
      "576                  1         Master           Medical   \n",
      "995                  9        College           Medical   \n",
      "1243                28  Below_College           Medical   \n",
      "869                  5         Doctor           Medical   \n",
      "599                  4         Master           Medical   \n",
      "117                 21        College  Technical_Degree   \n",
      "472                  1       Bachelor     Life_Sciences   \n",
      "149                  8         Doctor     Life_Sciences   \n",
      "49                   4       Bachelor  Technical_Degree   \n",
      "1201                18         Master     Life_Sciences   \n",
      "741                  1  Below_College  Technical_Degree   \n",
      "1021                 9  Below_College     Life_Sciences   \n",
      "1056                 1       Bachelor     Life_Sciences   \n",
      "897                 10         Master           Medical   \n",
      "410                 27       Bachelor           Medical   \n",
      "984                  2       Bachelor           Medical   \n",
      "1397                 3       Bachelor           Medical   \n",
      "1282                22       Bachelor           Medical   \n",
      "1013                 2         Master     Life_Sciences   \n",
      "326                  5       Bachelor         Marketing   \n",
      "1454                 7        College         Marketing   \n",
      "358                  8         Master         Marketing   \n",
      "364                  2       Bachelor             Other   \n",
      "507                 16       Bachelor     Life_Sciences   \n",
      "976                  3        College           Medical   \n",
      "462                 10  Below_College         Marketing   \n",
      "1138                 8        College         Marketing   \n",
      "1223                 1       Bachelor     Life_Sciences   \n",
      "906                 10         Master         Marketing   \n",
      "133                  6        College         Marketing   \n",
      "26                   5       Bachelor         Marketing   \n",
      "1228                 7        College           Medical   \n",
      "99                   5       Bachelor         Marketing   \n",
      "268                  1       Bachelor           Medical   \n",
      "1256                 2         Master         Marketing   \n",
      "104                  9       Bachelor         Marketing   \n",
      "251                  4  Below_College           Medical   \n",
      "101                 10       Bachelor         Marketing   \n",
      "286                 11       Bachelor           Medical   \n",
      "\n",
      "     EnvironmentSatisfaction  Gender  ...  PerformanceRating  \\\n",
      "1124               Very_High    Male  ...          Excellent   \n",
      "576                Very_High  Female  ...          Excellent   \n",
      "995                      Low  Female  ...          Excellent   \n",
      "1243               Very_High    Male  ...          Excellent   \n",
      "869                     High  Female  ...          Excellent   \n",
      "599                      Low  Female  ...          Excellent   \n",
      "117                     High    Male  ...          Excellent   \n",
      "472                Very_High    Male  ...        Outstanding   \n",
      "149                      Low    Male  ...          Excellent   \n",
      "49                       Low    Male  ...          Excellent   \n",
      "1201                     Low    Male  ...        Outstanding   \n",
      "741                Very_High    Male  ...          Excellent   \n",
      "1021                    High    Male  ...        Outstanding   \n",
      "1056               Very_High  Female  ...          Excellent   \n",
      "897                Very_High    Male  ...          Excellent   \n",
      "410                   Medium  Female  ...        Outstanding   \n",
      "984                     High  Female  ...        Outstanding   \n",
      "1397               Very_High    Male  ...          Excellent   \n",
      "1282               Very_High  Female  ...          Excellent   \n",
      "1013               Very_High    Male  ...          Excellent   \n",
      "326                     High    Male  ...          Excellent   \n",
      "1454                     Low  Female  ...          Excellent   \n",
      "358                     High    Male  ...          Excellent   \n",
      "364                Very_High    Male  ...        Outstanding   \n",
      "507                     High  Female  ...        Outstanding   \n",
      "976                Very_High  Female  ...          Excellent   \n",
      "462                Very_High  Female  ...          Excellent   \n",
      "1138                    High  Female  ...          Excellent   \n",
      "1223               Very_High  Female  ...          Excellent   \n",
      "906                   Medium    Male  ...          Excellent   \n",
      "133                Very_High  Female  ...          Excellent   \n",
      "26                 Very_High  Female  ...          Excellent   \n",
      "1228               Very_High  Female  ...          Excellent   \n",
      "99                 Very_High  Female  ...          Excellent   \n",
      "268                   Medium  Female  ...          Excellent   \n",
      "1256                  Medium  Female  ...        Outstanding   \n",
      "104                Very_High  Female  ...          Excellent   \n",
      "251                   Medium    Male  ...          Excellent   \n",
      "101                Very_High    Male  ...          Excellent   \n",
      "286                     High  Female  ...          Excellent   \n",
      "\n",
      "     RelationshipSatisfaction  StockOptionLevel TotalWorkingYears  \\\n",
      "1124                Very_High                 0                16   \n",
      "576                 Very_High                 2                 8   \n",
      "995                      High                 0                12   \n",
      "1243                     High                 3                20   \n",
      "869                       Low                 0                10   \n",
      "599                 Very_High                 0                 8   \n",
      "117                    Medium                 3                 2   \n",
      "472                      High                 2                 7   \n",
      "149                 Very_High                 3                 3   \n",
      "49                     Medium                 0                 1   \n",
      "1201                      Low                 0                18   \n",
      "741                       Low                 1                10   \n",
      "1021                Very_High                 1                13   \n",
      "1056                   Medium                 1                14   \n",
      "897                    Medium                 0                10   \n",
      "410                    Medium                 1                 6   \n",
      "984                    Medium                 0                12   \n",
      "1397                     High                 0                28   \n",
      "1282                     High                 0                21   \n",
      "1013                   Medium                 1                13   \n",
      "326                 Very_High                 0                 6   \n",
      "1454                Very_High                 1                35   \n",
      "358                 Very_High                 0                 6   \n",
      "364                      High                 0                 6   \n",
      "507                      High                 1                 7   \n",
      "976                       Low                 0                12   \n",
      "462                       Low                 2                 7   \n",
      "1138                   Medium                 1                16   \n",
      "1223                      Low                 1                19   \n",
      "906                    Medium                 0                10   \n",
      "133                 Very_High                 1                 3   \n",
      "26                     Medium                 0                 1   \n",
      "1228                     High                 2                19   \n",
      "99                       High                 1                 2   \n",
      "268                      High                 3                 5   \n",
      "1256                      Low                 2                20   \n",
      "104                    Medium                 0                 2   \n",
      "251                       Low                 0                 5   \n",
      "101                 Very_High                 2                 2   \n",
      "286                    Medium                 1                 5   \n",
      "\n",
      "     TrainingTimesLastYear WorkLifeBalance  YearsAtCompany  \\\n",
      "1124                     3            Best              13   \n",
      "576                      2          Better               5   \n",
      "995                      3          Better              12   \n",
      "1243                     3          Better              20   \n",
      "869                      3          Better              10   \n",
      "599                      5          Better               5   \n",
      "117                      3          Better               1   \n",
      "472                      2          Better               2   \n",
      "149                      4          Better               3   \n",
      "49                       2          Better               1   \n",
      "1201                     0          Better              11   \n",
      "741                      1          Better              10   \n",
      "1021                     6            Best              13   \n",
      "1056                     2            Good              14   \n",
      "897                      4             Bad              10   \n",
      "410                      5            Good               5   \n",
      "984                      4            Good               0   \n",
      "1397                     4          Better               5   \n",
      "1282                     2          Better              21   \n",
      "1013                     3          Better              11   \n",
      "326                      1          Better               6   \n",
      "1454                     3          Better               5   \n",
      "358                      3          Better               5   \n",
      "364                      5          Better               6   \n",
      "507                      2          Better               6   \n",
      "976                      3            Good               1   \n",
      "462                      2          Better               7   \n",
      "1138                     6            Good              13   \n",
      "1223                     3          Better              18   \n",
      "906                      2            Good              10   \n",
      "133                      3            Good               2   \n",
      "26                       2          Better               1   \n",
      "1228                     3          Better               9   \n",
      "99                       5            Good               2   \n",
      "268                      3          Better               3   \n",
      "1256                     4            Good               4   \n",
      "104                      3          Better               2   \n",
      "251                      3          Better               0   \n",
      "101                      2          Better               2   \n",
      "286                      4          Better               1   \n",
      "\n",
      "      YearsInCurrentRole  YearsSinceLastPromotion YearsWithCurrManager  \n",
      "1124                  11                        3                    7  \n",
      "576                    3                        0                    2  \n",
      "995                    9                        5                    8  \n",
      "1243                   8                        3                    8  \n",
      "869                    7                        1                    4  \n",
      "599                    4                        0                    2  \n",
      "117                    1                        0                    0  \n",
      "472                    2                        0                    2  \n",
      "149                    2                        1                    2  \n",
      "49                     0                        0                    0  \n",
      "1201                   9                        0                    9  \n",
      "741                    7                        0                    9  \n",
      "1021                   8                        0                    8  \n",
      "1056                   8                        3                   11  \n",
      "897                    3                        0                    8  \n",
      "410                    3                        0                    0  \n",
      "984                    0                        0                    0  \n",
      "1397                   4                        0                    4  \n",
      "1282                   6                        2                    8  \n",
      "1013                   9                        5                    9  \n",
      "326                    4                        0                    3  \n",
      "1454                   2                        0                    4  \n",
      "358                    0                        1                    2  \n",
      "364                    5                        1                    4  \n",
      "507                    5                        1                    2  \n",
      "976                    0                        0                    0  \n",
      "462                    7                        1                    7  \n",
      "1138                   2                        4                   12  \n",
      "1223                   7                        0                   13  \n",
      "906                    4                        0                    9  \n",
      "133                    2                        1                    0  \n",
      "26                     0                        0                    0  \n",
      "1228                   7                        7                    7  \n",
      "99                     2                        2                    2  \n",
      "268                    2                        0                    2  \n",
      "1256                   2                        0                    3  \n",
      "104                    2                        0                    2  \n",
      "251                    0                        0                    0  \n",
      "101                    2                        2                    2  \n",
      "286                    0                        0                    0  \n",
      "\n",
      "[40 rows x 31 columns]\n"
     ]
    },
    {
     "name": "stderr",
     "output_type": "stream",
     "text": [
      "C:\\Users\\vicfa\\AppData\\Local\\Temp\\ipykernel_21260\\945508395.py:14: SettingWithCopyWarning: \n",
      "A value is trying to be set on a copy of a slice from a DataFrame.\n",
      "Try using .loc[row_indexer,col_indexer] = value instead\n",
      "\n",
      "See the caveats in the documentation: https://pandas.pydata.org/pandas-docs/stable/user_guide/indexing.html#returning-a-view-versus-a-copy\n",
      "  attrition_filtered['JobRole'] = attrition_filtered['JobRole'].cat.remove_unused_categories()\n"
     ]
    }
   ],
   "source": [
    "import random\n",
    "\n",
    "# Create a list of unique JobRole values\n",
    "job_roles_pop = list(attrition_pop['JobRole'].unique())\n",
    "\n",
    "# Randomly sample four JobRole values\n",
    "job_roles_samp = random.sample(job_roles_pop, k=4)\n",
    "\n",
    "# Filter for rows where JobRole is in job_roles_samp\n",
    "jobrole_condition = attrition_pop['JobRole'].isin(job_roles_samp)\n",
    "attrition_filtered = attrition_pop[jobrole_condition]\n",
    "\n",
    "# Remove categories with no rows\n",
    "attrition_filtered['JobRole'] = attrition_filtered['JobRole'].cat.remove_unused_categories()\n",
    "\n",
    "# Randomly sample 10 employees from each sampled job role\n",
    "attrition_clust = attrition_filtered.groupby('JobRole').sample(n=10, random_state=2022)\n",
    "\n",
    "# Print the sample\n",
    "print(attrition_clust)"
   ],
   "metadata": {
    "collapsed": false
   }
  },
  {
   "cell_type": "code",
   "execution_count": 38,
   "outputs": [],
   "source": [
    "# Perform simple random sampling to get 0.25 of the population\n",
    "attrition_srs = attrition_pop.sample(frac=0.25,random_state=2022)"
   ],
   "metadata": {
    "collapsed": false
   }
  },
  {
   "cell_type": "markdown",
   "source": [
    "### Stratifed sampling"
   ],
   "metadata": {
    "collapsed": false
   }
  },
  {
   "cell_type": "code",
   "execution_count": 53,
   "outputs": [],
   "source": [
    "# Perform stratified sampling to get 0.25 of each relationship group\n",
    "attrition_strat = attrition_pop.groupby('RelationshipSatisfaction').sample(frac=0.25, random_state=2022)"
   ],
   "metadata": {
    "collapsed": false
   }
  },
  {
   "cell_type": "markdown",
   "source": [
    "### Cluster sampling"
   ],
   "metadata": {
    "collapsed": false
   }
  },
  {
   "cell_type": "code",
   "execution_count": 54,
   "outputs": [
    {
     "name": "stdout",
     "output_type": "stream",
     "text": [
      "['High', 'Very High']\n"
     ]
    },
    {
     "name": "stderr",
     "output_type": "stream",
     "text": [
      "C:\\Users\\vicfa\\AppData\\Local\\Temp\\ipykernel_21260\\3482783929.py:12: SettingWithCopyWarning: \n",
      "A value is trying to be set on a copy of a slice from a DataFrame.\n",
      "Try using .loc[row_indexer,col_indexer] = value instead\n",
      "\n",
      "See the caveats in the documentation: https://pandas.pydata.org/pandas-docs/stable/user_guide/indexing.html#returning-a-view-versus-a-copy\n",
      "  attrition_clust_prep['RelationshipSatisfaction'] = attrition_clust_prep['RelationshipSatisfaction'] \\\n"
     ]
    }
   ],
   "source": [
    "# Create a list of unique RelationshipSatisfaction values\n",
    "satisfaction_unique = list(attrition_pop['RelationshipSatisfaction'].unique())\n",
    "\n",
    "# Randomly sample 2 unique satisfaction values\n",
    "# satisfaction_samp = random.sample(satisfaction_unique, k=2)\n",
    "satisfaction_samp = ['High', 'Very High']\n",
    "print(satisfaction_samp)\n",
    "\n",
    "# Filter for satisfaction_samp and clear unused categories from RelationshipSatisfaction\n",
    "satis_condition = attrition_pop['RelationshipSatisfaction'].isin(satisfaction_samp)\n",
    "attrition_clust_prep = attrition_pop[satis_condition]\n",
    "attrition_clust_prep['RelationshipSatisfaction'] = attrition_clust_prep['RelationshipSatisfaction'] \\\n",
    "    .cat.remove_unused_categories()\n",
    "\n",
    "# Perform cluster sampling on the selected group, getting 0.25 of attrition_pop\n",
    "attrition_clust = attrition_clust_prep.groupby('RelationshipSatisfaction').sample(n=len(attrition_pop)//4, random_state=2022)"
   ],
   "metadata": {
    "collapsed": false
   }
  },
  {
   "cell_type": "markdown",
   "source": [
    "### Population mean"
   ],
   "metadata": {
    "collapsed": false
   }
  },
  {
   "cell_type": "code",
   "execution_count": 55,
   "outputs": [
    {
     "name": "stdout",
     "output_type": "stream",
     "text": [
      "RelationshipSatisfaction\n",
      "Low          0.206522\n",
      "Medium       0.148515\n",
      "High         0.154684\n",
      "Very_High    0.148148\n",
      "Name: Attrition, dtype: float64\n"
     ]
    }
   ],
   "source": [
    "# Mean Attrition by RelationshipSatisfaction group\n",
    "mean_attrition_pop = attrition_pop.groupby('RelationshipSatisfaction')['Attrition'].mean()\n",
    "\n",
    "# Print the result\n",
    "print(mean_attrition_pop)"
   ],
   "metadata": {
    "collapsed": false
   }
  },
  {
   "cell_type": "markdown",
   "source": [
    "### Random sample mean"
   ],
   "metadata": {
    "collapsed": false
   }
  },
  {
   "cell_type": "code",
   "execution_count": 56,
   "outputs": [
    {
     "name": "stdout",
     "output_type": "stream",
     "text": [
      "RelationshipSatisfaction\n",
      "Low          0.134328\n",
      "Medium       0.164179\n",
      "High         0.160000\n",
      "Very_High    0.155963\n",
      "Name: Attrition, dtype: float64\n"
     ]
    }
   ],
   "source": [
    "# Mean Attrition by RelationshipSatisfaction group\n",
    "mean_attrition_srs = attrition_srs.groupby('RelationshipSatisfaction')['Attrition'].mean()\n",
    "\n",
    "# Print the result\n",
    "print(mean_attrition_srs)"
   ],
   "metadata": {
    "collapsed": false
   }
  },
  {
   "cell_type": "markdown",
   "source": [
    "### Stratified sample mean"
   ],
   "metadata": {
    "collapsed": false
   }
  },
  {
   "cell_type": "code",
   "execution_count": 57,
   "outputs": [
    {
     "name": "stdout",
     "output_type": "stream",
     "text": [
      "RelationshipSatisfaction\n",
      "Low          0.144928\n",
      "Medium       0.078947\n",
      "High         0.165217\n",
      "Very_High    0.129630\n",
      "Name: Attrition, dtype: float64\n"
     ]
    }
   ],
   "source": [
    "# Calculate the same thing for the stratified sample\n",
    "mean_attrition_strat = attrition_strat.groupby('RelationshipSatisfaction')['Attrition'].mean()\n",
    "\n",
    "# Print the result\n",
    "print(mean_attrition_strat)"
   ],
   "metadata": {
    "collapsed": false
   }
  },
  {
   "cell_type": "code",
   "execution_count": 58,
   "outputs": [
    {
     "name": "stdout",
     "output_type": "stream",
     "text": [
      "RelationshipSatisfaction\n",
      "High    0.149864\n",
      "Name: Attrition, dtype: float64\n"
     ]
    }
   ],
   "source": [
    "# Calculate the same thing for the cluster sample\n",
    "mean_attrition_clust = attrition_clust.groupby('RelationshipSatisfaction')['Attrition'].mean()\n",
    "\n",
    "# Print the result\n",
    "print(mean_attrition_clust)"
   ],
   "metadata": {
    "collapsed": false
   }
  },
  {
   "cell_type": "code",
   "execution_count": null,
   "outputs": [],
   "source": [],
   "metadata": {
    "collapsed": false
   }
  }
 ],
 "metadata": {
  "kernelspec": {
   "display_name": "Python 3",
   "language": "python",
   "name": "python3"
  },
  "language_info": {
   "codemirror_mode": {
    "name": "ipython",
    "version": 2
   },
   "file_extension": ".py",
   "mimetype": "text/x-python",
   "name": "python",
   "nbconvert_exporter": "python",
   "pygments_lexer": "ipython2",
   "version": "2.7.6"
  }
 },
 "nbformat": 4,
 "nbformat_minor": 0
}
