{
 "cells": [
  {
   "cell_type": "code",
   "execution_count": null,
   "metadata": {
    "vscode": {
     "languageId": "sql"
    }
   },
   "outputs": [],
   "source": [
    "-- Select all fields from economies2015\n",
    "SELECT * FROM economies2015\n",
    "-- Set operation\n",
    "UNION\n",
    "-- Select all fields from economies2019\n",
    "SELECT * FROM economies2019\n",
    "ORDER BY code, year;"
   ]
  },
  {
   "attachments": {},
   "cell_type": "markdown",
   "metadata": {},
   "source": [
    "### Comparing two set operations\n",
    "You learned in the video exercise that UNION ALL returns duplicates, whereas UNION does not. In this exercise, you will dive deeper into this, looking at cases for when UNION is appropriate compared to UNION ALL.\n",
    "\n",
    "You will be looking at combinations of country code and year from the economies and populations tables."
   ]
  },
  {
   "cell_type": "code",
   "execution_count": null,
   "metadata": {
    "vscode": {
     "languageId": "sql"
    }
   },
   "outputs": [],
   "source": [
    "-- Query that determines all pairs of code and year from economies and populations, without duplicates\n",
    "SELECT code, year FROM economies\n",
    "UNION\n",
    "SELECT country_code, year FROM populations\n",
    "ORDER BY code, year;"
   ]
  },
  {
   "cell_type": "code",
   "execution_count": null,
   "metadata": {
    "vscode": {
     "languageId": "sql"
    }
   },
   "outputs": [],
   "source": [
    "-- Amend the query to return all combinations (including duplicates) of country code\n",
    "-- and year in the economies or the populations table\n",
    "\n",
    "SELECT code, year\n",
    "FROM economies\n",
    "-- Set theory clause\n",
    "UNION ALL\n",
    "SELECT country_code, year\n",
    "FROM populations\n",
    "ORDER BY code, year;"
   ]
  },
  {
   "attachments": {},
   "cell_type": "markdown",
   "metadata": {},
   "source": [
    "### INTERSECT"
   ]
  },
  {
   "cell_type": "code",
   "execution_count": null,
   "metadata": {
    "vscode": {
     "languageId": "sql"
    }
   },
   "outputs": [],
   "source": [
    "-- Return all cities with the same name as a country\n",
    "SELECT name\n",
    "FROM cities\n",
    "INTERSECT\n",
    "SELECT name\n",
    "FROM countries;"
   ]
  },
  {
   "attachments": {},
   "cell_type": "markdown",
   "metadata": {},
   "source": [
    "### EXCEPT"
   ]
  },
  {
   "cell_type": "code",
   "execution_count": null,
   "metadata": {
    "vscode": {
     "languageId": "sql"
    }
   },
   "outputs": [],
   "source": [
    "-- Return all cities that do not have the same name as a country\n",
    "SELECT name\n",
    "FROM cities\n",
    "EXCEPT\n",
    "SELECT name\n",
    "FROM countries\n",
    "ORDER BY name;"
   ]
  }
 ],
 "metadata": {
  "language_info": {
   "name": "python"
  },
  "orig_nbformat": 4
 },
 "nbformat": 4,
 "nbformat_minor": 2
}
