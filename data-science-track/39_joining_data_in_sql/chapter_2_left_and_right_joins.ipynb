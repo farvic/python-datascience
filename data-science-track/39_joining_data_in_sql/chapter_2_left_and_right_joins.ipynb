{
 "cells": [
  {
   "attachments": {},
   "cell_type": "markdown",
   "metadata": {},
   "source": [
    "### Performing joins"
   ]
  },
  {
   "cell_type": "code",
   "execution_count": null,
   "metadata": {
    "vscode": {
     "languageId": "sql"
    }
   },
   "outputs": [],
   "source": [
    "SELECT \n",
    "\tc1.name AS city, \n",
    "    code, \n",
    "    c2.name AS country,\n",
    "    region, \n",
    "    city_proper_pop\n",
    "FROM cities AS c1\n",
    "-- Join right table (with alias)\n",
    "LEFT JOIN countries as c2\n",
    "ON c1.country_code = c2.code\n",
    "ORDER BY code DESC;"
   ]
  },
  {
   "cell_type": "markdown",
   "metadata": {},
   "source": []
  },
  {
   "cell_type": "code",
   "execution_count": null,
   "metadata": {
    "vscode": {
     "languageId": "sql"
    }
   },
   "outputs": [],
   "source": [
    "SELECT name, region, gdp_percapita\n",
    "FROM countries AS c\n",
    "LEFT JOIN economies AS e\n",
    "-- Match on code fields\n",
    "USING(code)\n",
    "-- Filter for the year 2010\n",
    "WHERE year = 2010;"
   ]
  },
  {
   "attachments": {},
   "cell_type": "markdown",
   "metadata": {},
   "source": [
    "### Building on your LEFT JOIN\n",
    "You'll now revisit the use of the AVG() function introduced in a previous course.\n",
    "\n",
    "Being able to build more than one SQL function into your query will enable you to write compact, supercharged queries.\n",
    "\n",
    "You will use AVG() in combination with a LEFT JOIN to determine the average gross domestic product (GDP) per capita by region in 2010.\n",
    "\n",
    "Then...\n",
    "\n",
    "* Order the result set by the average GDP per capita from highest to lowest.\n",
    "* Return only the first 10 records in your result."
   ]
  },
  {
   "cell_type": "code",
   "execution_count": null,
   "metadata": {
    "vscode": {
     "languageId": "sql"
    }
   },
   "outputs": [],
   "source": [
    "SELECT region, AVG(gdp_percapita) AS avg_gdp\n",
    "FROM countries AS c\n",
    "LEFT JOIN economies AS e\n",
    "USING(code)\n",
    "WHERE year = 2010\n",
    "GROUP BY region\n",
    "-- Order by descending avg_gdp\n",
    "ORDER BY avg_gdp DESC\n",
    "-- Return only first 10 records\n",
    "LIMIT 10;"
   ]
  },
  {
   "attachments": {},
   "cell_type": "markdown",
   "metadata": {},
   "source": [
    "Correct: when converting a LEFT JOIN to a RIGHT JOIN, change both the type of join and the order of the tables\n",
    "to get equivalent results. You would get different results if you only changed the table order.\n",
    "The order of fields you are joining ON still does not matter."
   ]
  },
  {
   "cell_type": "code",
   "execution_count": null,
   "metadata": {
    "vscode": {
     "languageId": "sql"
    }
   },
   "outputs": [],
   "source": [
    "-- Modify this query to use RIGHT JOIN instead of LEFT JOIN\n",
    "SELECT countries.name AS country, languages.name AS language, percent\n",
    "FROM languages\n",
    "RIGHT JOIN countries\n",
    "USING(code)\n",
    "ORDER BY language;"
   ]
  },
  {
   "attachments": {},
   "cell_type": "markdown",
   "metadata": {},
   "source": [
    "### FULL JOIN\n",
    "Comparing joins\n",
    "\n",
    "* Perform a full join with countries (left) and currencies (right).\n",
    "* Filter for the North America region or NULL country names.\n"
   ]
  },
  {
   "cell_type": "code",
   "execution_count": null,
   "metadata": {
    "vscode": {
     "languageId": "sql"
    }
   },
   "outputs": [],
   "source": [
    "SELECT name AS country, code, region, basic_unit\n",
    "FROM countries\n",
    "-- Join to currencies\n",
    "FULL JOIN currencies\n",
    "USING (code)\n",
    "-- Where region is North America or null\n",
    "WHERE region = 'North America'\n",
    "\tOR name IS NULL\n",
    "ORDER BY region;"
   ]
  },
  {
   "attachments": {},
   "cell_type": "markdown",
   "metadata": {},
   "source": [
    "* Repeat the same query as before, turning your full join into a left join with the currencies table.\n",
    "* Have a look at what has changed in the output by comparing it to the full join result."
   ]
  },
  {
   "cell_type": "code",
   "execution_count": null,
   "metadata": {
    "vscode": {
     "languageId": "sql"
    }
   },
   "outputs": [],
   "source": [
    "SELECT name AS country, code, region, basic_unit\n",
    "FROM countries\n",
    "-- Join to currencies\n",
    "LEFT JOIN currencies\n",
    "USING (code)\n",
    "WHERE region = 'North America' \n",
    "\tOR name IS NULL\n",
    "ORDER BY region;"
   ]
  },
  {
   "cell_type": "code",
   "execution_count": null,
   "metadata": {
    "vscode": {
     "languageId": "sql"
    }
   },
   "outputs": [],
   "source": [
    "-- Repeat the same query again, this time performing an inner join of countries with currencies.\n",
    "-- Have a look at what has changed in the output by comparing it to the full join and left join results!\n",
    "\n",
    "SELECT name AS country, code, region, basic_unit\n",
    "FROM countries\n",
    "-- Join to currencies\n",
    "INNER JOIN currencies \n",
    "USING (code)\n",
    "WHERE region = 'North America' \n",
    "\tOR name IS NULL\n",
    "ORDER BY region;"
   ]
  },
  {
   "attachments": {},
   "cell_type": "markdown",
   "metadata": {},
   "source": [
    "* Complete the FULL JOIN with countries as c1 on the left and languages as l on the right, using code to perform this join.\n",
    "* Next, chain this join with another FULL JOIN, placing currencies on the right, joining on code again."
   ]
  },
  {
   "cell_type": "code",
   "execution_count": null,
   "metadata": {
    "vscode": {
     "languageId": "sql"
    }
   },
   "outputs": [],
   "source": [
    "SELECT \n",
    "\tc1.name AS country, \n",
    "    region, \n",
    "    l.name AS language,\n",
    "\tbasic_unit, \n",
    "    frac_unit\n",
    "FROM countries as c1 \n",
    "-- Full join with languages (alias as l)\n",
    "FULL JOIN languages as l \n",
    "USING(code)\n",
    "-- Full join with currencies (alias as c2)\n",
    "FULL JOIN currencies AS c2\n",
    "USING(code)\n",
    "WHERE region LIKE 'M%esia';"
   ]
  },
  {
   "attachments": {},
   "cell_type": "markdown",
   "metadata": {},
   "source": [
    "### CROSS JOIN exercises"
   ]
  },
  {
   "cell_type": "code",
   "execution_count": null,
   "metadata": {
    "vscode": {
     "languageId": "sql"
    }
   },
   "outputs": [],
   "source": [
    "SELECT c.name AS country, l.name AS language\n",
    "-- Inner join countries as c with languages as l on code\n",
    "FROM countries as c\n",
    "INNER JOIN languages as l\n",
    "USING(code)\n",
    "WHERE c.code IN ('PAK','IND')\n",
    "\tAND l.code in ('PAK','IND');"
   ]
  },
  {
   "attachments": {},
   "cell_type": "markdown",
   "metadata": {},
   "source": [
    "* Change your INNER JOIN to a different kind of join to look at possible combinations of languages that\n",
    "could have been spoken in the two countries given their history.\n",
    "* Observe the differences in output for both joins."
   ]
  },
  {
   "cell_type": "code",
   "execution_count": null,
   "metadata": {
    "vscode": {
     "languageId": "sql"
    }
   },
   "outputs": [],
   "source": [
    "SELECT c.name AS country, l.name AS language\n",
    "FROM countries AS c        \n",
    "-- Perform a cross join to languages (alias as l)\n",
    "CROSS JOIN languages as l\n",
    "WHERE c.code in ('PAK','IND')\n",
    "\tAND l.code in ('PAK','IND');"
   ]
  },
  {
   "attachments": {},
   "cell_type": "markdown",
   "metadata": {},
   "source": [
    "* Complete the join of countries AS c with populations as p.\n",
    "* Filter on the year 2010.\n",
    "* Sort your results by life expectancy in ascending order.\n",
    "* Limit the result to five countries."
   ]
  },
  {
   "cell_type": "code",
   "execution_count": null,
   "metadata": {
    "vscode": {
     "languageId": "sql"
    }
   },
   "outputs": [],
   "source": [
    "SELECT \n",
    "\tc.name AS country,\n",
    "    region,\n",
    "    life_expectancy AS life_exp\n",
    "FROM countries AS c\n",
    "-- Join to populations (alias as p) using an appropriate join\n",
    "LEFT JOIN populations AS p\n",
    "ON c.code = p.country_code\n",
    "-- Filter for only results in the year 2010\n",
    "WHERE year = 2010\n",
    "-- Order by life_exp\n",
    "ORDER BY life_exp\n",
    "-- Limit to five records\n",
    "LIMIT 5;"
   ]
  },
  {
   "attachments": {},
   "cell_type": "markdown",
   "metadata": {},
   "source": [
    "### Comparing a country to itself\n",
    "* Perform an inner join of populations with itself ON country_code, aliased p1 and p2 respectively.\n",
    "* Select the country_code from p1 and the size field from both p1 and p2, aliasing p1.size as size2010 and p2.size as size2015 (in that order)."
   ]
  },
  {
   "cell_type": "code",
   "execution_count": null,
   "metadata": {
    "vscode": {
     "languageId": "sql"
    }
   },
   "outputs": [],
   "source": [
    "-- Select aliased fields from populations as p1\n",
    "SELECT \n",
    "\tp1.country_code, \n",
    "    p1.size AS size2010, \n",
    "    p2.size AS size2015\n",
    "-- Join populations as p1 to itself, alias as p2, on country code\n",
    "FROM populations AS p1\n",
    "INNER JOIN populations AS p2\n",
    "USING(country_code);"
   ]
  },
  {
   "attachments": {},
   "cell_type": "markdown",
   "metadata": {},
   "source": [
    "* Since you want to compare records from 2010 and 2015, eliminate unwanted records by extending the\n",
    "WHERE statement to include only records where the p1.year matches **p2.year - 5.**"
   ]
  },
  {
   "cell_type": "code",
   "execution_count": null,
   "metadata": {
    "vscode": {
     "languageId": "sql"
    }
   },
   "outputs": [],
   "source": [
    "SELECT \n",
    "\tp1.country_code, \n",
    "    p1.size AS size2010, \n",
    "    p2.size AS size2015\n",
    "FROM populations AS p1\n",
    "INNER JOIN populations AS p2\n",
    "ON p1.country_code = p2.country_code\n",
    "WHERE p1.year = 2010\n",
    "-- Filter such that p1.year is always five years before p2.year\n",
    "    AND p1.year = p2.year - 5"
   ]
  }
 ],
 "metadata": {
  "language_info": {
   "name": "python"
  },
  "orig_nbformat": 4
 },
 "nbformat": 4,
 "nbformat_minor": 2
}
