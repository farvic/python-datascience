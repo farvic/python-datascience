{
 "cells": [
  {
   "cell_type": "code",
   "execution_count": 4,
   "metadata": {
    "collapsed": true
   },
   "outputs": [
    {
     "name": "stdout",
     "output_type": "stream",
     "text": [
      "   respondent                                        main_branch hobbyist  \\\n",
      "0        36.0  I am not primarily a developer, but I write co...      Yes   \n",
      "1        47.0                     I am a developer by profession      Yes   \n",
      "2        69.0                     I am a developer by profession      Yes   \n",
      "3       125.0  I am not primarily a developer, but I write co...      Yes   \n",
      "4       147.0  I am not primarily a developer, but I write co...       No   \n",
      "\n",
      "    age  age_1st_code age_first_code_cut comp_freq  comp_total  \\\n",
      "0  34.0          30.0              adult    Yearly     60000.0   \n",
      "1  53.0          10.0              child    Yearly     58000.0   \n",
      "2  25.0          12.0              child    Yearly    550000.0   \n",
      "3  41.0          30.0              adult   Monthly    200000.0   \n",
      "4  28.0          15.0              adult    Yearly     50000.0   \n",
      "\n",
      "   converted_comp         country  ...          survey_length trans  \\\n",
      "0         77556.0  United Kingdom  ...  Appropriate in length    No   \n",
      "1         74970.0  United Kingdom  ...  Appropriate in length    No   \n",
      "2        594539.0          France  ...              Too short    No   \n",
      "3       2000000.0   United States  ...  Appropriate in length    No   \n",
      "4         37816.0          Canada  ...  Appropriate in length    No   \n",
      "\n",
      "                                     undergrad_major  \\\n",
      "0  Computer science, computer engineering, or sof...   \n",
      "1  A natural science (such as biology, chemistry,...   \n",
      "2  Computer science, computer engineering, or sof...   \n",
      "3                                               None   \n",
      "4  Another engineering discipline (such as civil,...   \n",
      "\n",
      "  webframe_desire_next_year webframe_worked_with  \\\n",
      "0          Express;React.js     Express;React.js   \n",
      "1              Flask;Spring         Flask;Spring   \n",
      "2              Django;Flask         Django;Flask   \n",
      "3                      None                 None   \n",
      "4                      None        Express;Flask   \n",
      "\n",
      "                            welcome_change work_week_hrs years_code  \\\n",
      "0  Just as welcome now as I felt last year          40.0        4.0   \n",
      "1  Just as welcome now as I felt last year          40.0       43.0   \n",
      "2  Just as welcome now as I felt last year          40.0       13.0   \n",
      "3  Just as welcome now as I felt last year          40.0       11.0   \n",
      "4  Just as welcome now as I felt last year          40.0        5.0   \n",
      "\n",
      "  years_code_pro      age_cat  \n",
      "0            3.0  At least 30  \n",
      "1           28.0  At least 30  \n",
      "2            3.0     Under 30  \n",
      "3           11.0  At least 30  \n",
      "4            3.0     Under 30  \n",
      "\n",
      "[5 rows x 63 columns]\n"
     ]
    }
   ],
   "source": [
    "import pandas as pd\n",
    "stack_overflow = pd.read_feather('stack_overflow.feather')\n",
    "print(stack_overflow.head())"
   ]
  },
  {
   "cell_type": "code",
   "execution_count": 3,
   "outputs": [
    {
     "name": "stdout",
     "output_type": "stream",
     "text": [
      "119574.71738168952\n"
     ]
    }
   ],
   "source": [
    "# Calculate the mean of the converted_comp column\n",
    "mean_comp_samp = stack_overflow['converted_comp'].mean()\n",
    "print(mean_comp_samp)"
   ],
   "metadata": {
    "collapsed": false
   }
  },
  {
   "cell_type": "code",
   "execution_count": 5,
   "outputs": [
    {
     "name": "stdout",
     "output_type": "stream",
     "text": [
      "        id       country managed_by  fulfill_via vendor_inco_term  \\\n",
      "0  36203.0       Nigeria   PMO - US  Direct Drop              EXW   \n",
      "1  30998.0      Botswana   PMO - US  Direct Drop              EXW   \n",
      "2  69871.0       Vietnam   PMO - US  Direct Drop              EXW   \n",
      "3  17648.0  South Africa   PMO - US  Direct Drop              DDP   \n",
      "4   5647.0        Uganda   PMO - US  Direct Drop              EXW   \n",
      "\n",
      "  shipment_mode  late_delivery late product_group    sub_classification  ...  \\\n",
      "0           Air            1.0  Yes          HRDT              HIV test  ...   \n",
      "1           Air            0.0   No          HRDT              HIV test  ...   \n",
      "2           Air            0.0   No           ARV                 Adult  ...   \n",
      "3         Ocean            0.0   No           ARV                 Adult  ...   \n",
      "4           Air            0.0   No          HRDT  HIV test - Ancillary  ...   \n",
      "\n",
      "  line_item_quantity line_item_value pack_price unit_price  \\\n",
      "0             2996.0       266644.00      89.00       0.89   \n",
      "1               25.0          800.00      32.00       1.60   \n",
      "2            22925.0       110040.00       4.80       0.08   \n",
      "3           152535.0       361507.95       2.37       0.04   \n",
      "4              850.0            8.50       0.01       0.00   \n",
      "\n",
      "             manufacturing_site first_line_designation  weight_kilograms  \\\n",
      "0       Alere Medical Co., Ltd.                    Yes            1426.0   \n",
      "1          Trinity Biotech, Plc                    Yes              10.0   \n",
      "2  Hetero Unit III Hyderabad IN                    Yes            3723.0   \n",
      "3     Aurobindo Unit III, India                    Yes            7698.0   \n",
      "4               Inverness Japan                    Yes              56.0   \n",
      "\n",
      "   freight_cost_usd  freight_cost_groups  line_item_insurance_usd  \n",
      "0          33279.83            expensive                   373.83  \n",
      "1            559.89           reasonable                     1.72  \n",
      "2          19056.13            expensive                   181.57  \n",
      "3          11372.23            expensive                   779.41  \n",
      "4            360.00           reasonable                     0.01  \n",
      "\n",
      "[5 rows x 27 columns]\n",
      "0.061\n"
     ]
    }
   ],
   "source": [
    "late_shipments = pd.read_feather('late_shipments.feather')\n",
    "\n",
    "# Print the late_shipments dataset\n",
    "print(late_shipments.head())\n",
    "\n",
    "# Calculate the proportion of late shipments\n",
    "late_prop_samp = (late_shipments.late == \"Yes\").mean()\n",
    "\n",
    "# Print the results\n",
    "print(late_prop_samp)"
   ],
   "metadata": {
    "collapsed": false
   }
  },
  {
   "cell_type": "markdown",
   "source": [
    "### Bootstrap sampling"
   ],
   "metadata": {
    "collapsed": false
   }
  },
  {
   "cell_type": "code",
   "execution_count": 7,
   "outputs": [],
   "source": [
    "import numpy as np\n",
    "\n",
    "# mapping the categories to 1s and 0s\n",
    "late_shipments_map = {\n",
    "    'Yes': 1,\n",
    "    'No': 0\n",
    "}\n",
    "\n",
    "late_shipments_mapped = late_shipments.copy()\n",
    "\n",
    "# Convert late_shipments to a numeric column\n",
    "late_shipments_mapped['late'] = late_shipments.late.map(late_shipments_map)\n",
    "\n",
    "np.random.seed(42)\n",
    "# Calculating the late shipments bootstrap distribution\n",
    "late_shipments_boot_distn =[late_shipments_mapped.sample(frac=1, replace=True).late.mean() for i in range(10000)]"
   ],
   "metadata": {
    "collapsed": false
   }
  },
  {
   "cell_type": "code",
   "execution_count": 8,
   "outputs": [
    {
     "name": "stdout",
     "output_type": "stream",
     "text": [
      "0.1322293782013778\n"
     ]
    }
   ],
   "source": [
    "# Hypothesize that the proportion is 6%\n",
    "late_prop_hyp = 0.06\n",
    "\n",
    "# Calculate the standard error\n",
    "std_error = np.std(late_shipments_boot_distn, ddof=1)\n",
    "\n",
    "# Find z-score of late_prop_samp\n",
    "z_score = (late_prop_samp - late_prop_hyp) / std_error\n",
    "\n",
    "# Print z_score\n",
    "print(z_score)"
   ],
   "metadata": {
    "collapsed": false
   }
  },
  {
   "cell_type": "code",
   "execution_count": 9,
   "outputs": [
    {
     "name": "stdout",
     "output_type": "stream",
     "text": [
      "0.4474014323466098\n"
     ]
    }
   ],
   "source": [
    "from scipy.stats import norm\n",
    "\n",
    "# Calculate the z-score of late_prop_samp\n",
    "z_score = (late_prop_samp - late_prop_hyp) / std_error\n",
    "\n",
    "# Calculate the p-value\n",
    "p_value = 1 - norm.cdf(z_score, loc = 0, scale = 1)\n",
    "\n",
    "# Print the p-value\n",
    "print(p_value)"
   ],
   "metadata": {
    "collapsed": false
   }
  },
  {
   "cell_type": "code",
   "execution_count": 10,
   "outputs": [
    {
     "name": "stdout",
     "output_type": "stream",
     "text": [
      "(0.046, 0.076)\n"
     ]
    }
   ],
   "source": [
    "# Calculate 95% confidence interval using quantile method\n",
    "lower = np.quantile(late_shipments_boot_distn, 0.025)\n",
    "upper = np.quantile(late_shipments_boot_distn, 0.975)\n",
    "\n",
    "# Print the confidence interval\n",
    "print((lower, upper))"
   ],
   "metadata": {
    "collapsed": false
   }
  },
  {
   "cell_type": "code",
   "execution_count": null,
   "outputs": [],
   "source": [
    "# Calculate 95% confidence interval using t-distribution\n",
    "lower = np.mean(late_shipments_boot_distn) - 1.96 * np.std(late_shipments_boot_distn, ddof=1)\n",
    "upper = np.mean(late_shipments_boot_distn) + 1.96 * np.std(late_shipments_boot_distn, ddof=1)\n",
    "\n",
    "# Print the confidence interval\n",
    "print((lower, upper))"
   ],
   "metadata": {
    "collapsed": false
   }
  }
 ],
 "metadata": {
  "kernelspec": {
   "display_name": "Python 3",
   "language": "python",
   "name": "python3"
  },
  "language_info": {
   "codemirror_mode": {
    "name": "ipython",
    "version": 2
   },
   "file_extension": ".py",
   "mimetype": "text/x-python",
   "name": "python",
   "nbconvert_exporter": "python",
   "pygments_lexer": "ipython2",
   "version": "2.7.6"
  }
 },
 "nbformat": 4,
 "nbformat_minor": 0
}
