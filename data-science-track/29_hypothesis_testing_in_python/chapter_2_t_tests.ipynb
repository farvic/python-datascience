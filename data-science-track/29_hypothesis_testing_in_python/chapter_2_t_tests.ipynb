{
 "cells": [
  {
   "cell_type": "code",
   "execution_count": 7,
   "metadata": {
    "collapsed": true
   },
   "outputs": [
    {
     "name": "stdout",
     "output_type": "stream",
     "text": [
      "2.3936661778766433\n"
     ]
    }
   ],
   "source": [
    "import pandas as pd\n",
    "import numpy as np\n",
    "\n",
    "# Read in the data\n",
    "stack_overflow = pd.read_feather('stack_overflow.feather')\n",
    "\n",
    "xbar_yes = 2715.6721311475408\n",
    "xbar_no = 1897.7912673056444\n",
    "s_yes = 2544.688210903328\n",
    "s_no = 3154.0395070841687\n",
    "n_yes = 61\n",
    "n_no = 939\n",
    "\n",
    "# Calculate the numerator of the test statistic\n",
    "numerator = xbar_yes - xbar_no\n",
    "\n",
    "# Calculate the denominator of the test statistic\n",
    "denominator = np.sqrt(s_yes ** 2 / n_yes + s_no ** 2 / n_no)\n",
    "\n",
    "# Calculate the test statistic\n",
    "t_stat = numerator / denominator\n",
    "\n",
    "# Print the test statistic\n",
    "print(t_stat)"
   ]
  },
  {
   "cell_type": "code",
   "execution_count": 9,
   "outputs": [
    {
     "name": "stdout",
     "output_type": "stream",
     "text": [
      "0.008432382146249523\n"
     ]
    }
   ],
   "source": [
    "from scipy.stats import t\n",
    "\n",
    "t_stat = -t_stat\n",
    "\n",
    "# Calculate the degrees of freedom\n",
    "degrees_of_freedom = n_yes + n_no - 2\n",
    "\n",
    "# Calculate the p-value from the test stat\n",
    "p_value = t.cdf(t_stat, df=degrees_of_freedom)\n",
    "\n",
    "# Print the p_value\n",
    "print(p_value)"
   ],
   "metadata": {
    "collapsed": false
   }
  },
  {
   "cell_type": "code",
   "execution_count": 11,
   "outputs": [
    {
     "data": {
      "text/plain": "<Figure size 640x480 with 1 Axes>",
      "image/png": "[encoded data removed]"
     },
     "metadata": {},
     "output_type": "display_data"
    }
   ],
   "source": [
    "import matplotlib.pyplot as plt\n",
    "\n",
    "sample_dem_data = pd.read_feather('dem_votes_potus_12_16.feather')\n",
    "\n",
    "# Calculate the differences from 2012 to 2016\n",
    "sample_dem_data['diff'] = sample_dem_data['dem_percent_12'] - sample_dem_data['dem_percent_16']\n",
    "\n",
    "# Find the mean of the diff column\n",
    "xbar_diff = sample_dem_data['diff'].mean()\n",
    "\n",
    "# Find the standard deviation of the diff column\n",
    "s_diff = sample_dem_data['diff'].std()\n",
    "\n",
    "# Plot a histogram of diff with 20 bins\n",
    "sample_dem_data['diff'].hist(bins=20)\n",
    "plt.show()"
   ],
   "metadata": {
    "collapsed": false
   }
  },
  {
   "cell_type": "code",
   "execution_count": 16,
   "outputs": [
    {
     "name": "stdout",
     "output_type": "stream",
     "text": [
      "                T  dof alternative          p-val         CI95%   cohen-d  \\\n",
      "T-test  30.298384  499   two-sided  3.600634e-115  [6.39, 7.27]  1.354985   \n",
      "\n",
      "              BF10  power  \n",
      "T-test  2.246e+111    1.0  \n"
     ]
    }
   ],
   "source": [
    "import pingouin as pingouin\n",
    "\n",
    "# Conduct a t-test on diff\n",
    "test_results = pingouin.ttest(x=sample_dem_data['diff'], y=0, paired=False, alternative='two-sided')\n",
    "\n",
    "# Print the test results\n",
    "print(test_results)"
   ],
   "metadata": {
    "collapsed": false
   }
  },
  {
   "cell_type": "code",
   "execution_count": 17,
   "outputs": [
    {
     "data": {
      "text/plain": "               T  dof alternative         p-val        CI95%   cohen-d  \\\nT-test  7.181565  998   two-sided  1.345737e-12  [4.96, 8.7]  0.454202   \n\n             BF10  power  \nT-test  4.308e+09    1.0  ",
      "text/html": "<div>\n<style scoped>\n    .dataframe tbody tr th:only-of-type {\n        vertical-align: middle;\n    }\n\n    .dataframe tbody tr th {\n        vertical-align: top;\n    }\n\n    .dataframe thead th {\n        text-align: right;\n    }\n</style>\n<table border=\"1\" class=\"dataframe\">\n  <thead>\n    <tr style=\"text-align: right;\">\n      <th></th>\n      <th>T</th>\n      <th>dof</th>\n      <th>alternative</th>\n      <th>p-val</th>\n      <th>CI95%</th>\n      <th>cohen-d</th>\n      <th>BF10</th>\n      <th>power</th>\n    </tr>\n  </thead>\n  <tbody>\n    <tr>\n      <th>T-test</th>\n      <td>7.181565</td>\n      <td>998</td>\n      <td>two-sided</td>\n      <td>1.345737e-12</td>\n      <td>[4.96, 8.7]</td>\n      <td>0.454202</td>\n      <td>4.308e+09</td>\n      <td>1.0</td>\n    </tr>\n  </tbody>\n</table>\n</div>"
     },
     "execution_count": 17,
     "metadata": {},
     "output_type": "execute_result"
    }
   ],
   "source": [
    "pingouin.ttest(x=sample_dem_data['dem_percent_12'],\n",
    "               y=sample_dem_data['dem_percent_16'],\n",
    "               alternative=\"two-sided\")"
   ],
   "metadata": {
    "collapsed": false
   }
  },
  {
   "cell_type": "markdown",
   "source": [
    "### ANOVA Test"
   ],
   "metadata": {
    "collapsed": false
   }
  },
  {
   "cell_type": "code",
   "execution_count": 3,
   "outputs": [
    {
     "data": {
      "text/plain": "<Figure size 640x480 with 1 Axes>",
      "image/png": "[encoded data removed]"
     },
     "metadata": {},
     "output_type": "display_data"
    }
   ],
   "source": [
    "import seaborn as sns\n",
    "import pandas as pd\n",
    "import matplotlib.pyplot as plt\n",
    "\n",
    "late_shipments = pd.read_feather('late_shipments.feather')\n",
    "\n",
    "# Calculate the mean pack_price for each shipment_mode\n",
    "xbar_pack_by_mode = late_shipments.groupby(\"shipment_mode\")['pack_price'].mean()\n",
    "\n",
    "# Calculate the standard deviation of the pack_price for each shipment_mode\n",
    "s_pack_by_mode = late_shipments.groupby(\"shipment_mode\")['pack_price'].std()\n",
    "\n",
    "# Boxplot of shipment_mode vs. pack_price\n",
    "sns.boxplot(data=late_shipments, y=\"shipment_mode\", x=\"pack_price\")\n",
    "plt.show()"
   ],
   "metadata": {
    "collapsed": false
   }
  },
  {
   "cell_type": "code",
   "execution_count": 15,
   "outputs": [
    {
     "name": "stdout",
     "output_type": "stream",
     "text": [
      "          Source  ddof1  ddof2        F         p-unc       np2\n",
      "0  shipment_mode      2    997  21.8646  5.089479e-10  0.042018\n",
      "CPU times: total: 15.6 ms\n",
      "Wall time: 11 ms\n"
     ]
    }
   ],
   "source": [
    "%%time\n",
    "import pingouin\n",
    "\n",
    "# Run an ANOVA for pack_price across shipment_mode\n",
    "anova_results = pingouin.anova(data=late_shipments, dv=\"pack_price\", between=\"shipment_mode\")\n",
    "\n",
    "# Print anova_results\n",
    "print(anova_results)"
   ],
   "metadata": {
    "collapsed": false
   }
  },
  {
   "cell_type": "code",
   "execution_count": 18,
   "outputs": [
    {
     "name": "stdout",
     "output_type": "stream",
     "text": [
      "        Contrast            A            B  Paired  Parametric          T  \\\n",
      "0  shipment_mode          Air  Air Charter   False        True  21.179625   \n",
      "1  shipment_mode          Air        Ocean   False        True  19.335760   \n",
      "2  shipment_mode  Air Charter        Ocean   False        True  -3.170654   \n",
      "\n",
      "          dof alternative         p-unc       BF10    hedges  \n",
      "0  600.685682   two-sided  8.748346e-75  5.809e+76  0.726592  \n",
      "1  986.979785   two-sided  6.934555e-71  1.129e+67  0.711119  \n",
      "2   35.615026   two-sided  3.123012e-03     15.277 -0.423775  \n"
     ]
    }
   ],
   "source": [
    "# Perform a pairwise t-test on pack price, grouped by shipment mode\n",
    "pairwise_results = pingouin.pairwise_tests(data=late_shipments, between=\"shipment_mode\", dv=\"pack_price\",padjust=\"none\")\n",
    "\n",
    "# Print pairwise_results\n",
    "print(pairwise_results)"
   ],
   "metadata": {
    "collapsed": false
   }
  },
  {
   "cell_type": "code",
   "execution_count": 17,
   "outputs": [
    {
     "name": "stdout",
     "output_type": "stream",
     "text": [
      "        Contrast            A            B  Paired  Parametric          T  \\\n",
      "0  shipment_mode          Air  Air Charter   False        True  21.179625   \n",
      "1  shipment_mode          Air        Ocean   False        True  19.335760   \n",
      "2  shipment_mode  Air Charter        Ocean   False        True  -3.170654   \n",
      "\n",
      "          dof alternative         p-unc        p-corr p-adjust       BF10  \\\n",
      "0  600.685682   two-sided  8.748346e-75  2.624504e-74     bonf  5.809e+76   \n",
      "1  986.979785   two-sided  6.934555e-71  2.080367e-70     bonf  1.129e+67   \n",
      "2   35.615026   two-sided  3.123012e-03  9.369037e-03     bonf     15.277   \n",
      "\n",
      "     hedges  \n",
      "0  0.726592  \n",
      "1  0.711119  \n",
      "2 -0.423775  \n"
     ]
    }
   ],
   "source": [
    "# Modify the pairwise t-tests to use Bonferroni p-value adjustment\n",
    "pairwise_results = pingouin.pairwise_tests(data=late_shipments,\n",
    "                                           dv=\"pack_price\",\n",
    "                                           between=\"shipment_mode\",\n",
    "                                           padjust=\"bonf\")\n",
    "\n",
    "# Print pairwise_results\n",
    "print(pairwise_results)"
   ],
   "metadata": {
    "collapsed": false
   }
  },
  {
   "cell_type": "code",
   "execution_count": 20,
   "outputs": [
    {
     "name": "stdout",
     "output_type": "stream",
     "text": [
      "0.44703503936503364\n"
     ]
    }
   ],
   "source": [
    "from scipy.stats import norm\n",
    "import numpy as np\n",
    "\n",
    "# Hypothesize that the proportion of late shipments is 6%\n",
    "p_0 = 0.06\n",
    "\n",
    "# Calculate the sample proportion of late shipments\n",
    "p_hat = (late_shipments['late'] == \"Yes\").mean()\n",
    "\n",
    "# Calculate the sample size\n",
    "n = len(late_shipments)\n",
    "\n",
    "# Calculate the numerator and denominator of the test statistic\n",
    "numerator = p_hat - p_0\n",
    "denominator = np.sqrt(p_0 * (1 - p_0) / n)\n",
    "\n",
    "# Calculate the test statistic\n",
    "z_score = numerator / denominator\n",
    "\n",
    "# Calculate the p-value from the z-score\n",
    "p_value = 1 - norm.cdf(z_score)\n",
    "\n",
    "# Print the p-value\n",
    "print(p_value)"
   ],
   "metadata": {
    "collapsed": false
   }
  },
  {
   "cell_type": "code",
   "execution_count": 24,
   "outputs": [
    {
     "name": "stdout",
     "output_type": "stream",
     "text": [
      "0.06116\n"
     ]
    }
   ],
   "source": [
    "p_hats = {\n",
    "    \"reasonable\": 0.035,\n",
    "    \"expensive\": 0.083\n",
    "}\n",
    "ns = {\n",
    "    \"reasonable\": 455,\n",
    "    \"expensive\": 545\n",
    "}\n",
    "\n",
    "# Calculate the pooled estimate of the population proportion\n",
    "p_hat = (p_hats[\"reasonable\"] * ns[\"reasonable\"] + p_hats[\"expensive\"] * ns[\"expensive\"]) / (ns[\"reasonable\"] + ns[\"expensive\"])\n",
    "\n",
    "# Print the result\n",
    "print(p_hat)"
   ],
   "metadata": {
    "collapsed": false
   }
  },
  {
   "cell_type": "code",
   "execution_count": 25,
   "outputs": [
    {
     "name": "stdout",
     "output_type": "stream",
     "text": [
      "0.015216878791038039\n"
     ]
    }
   ],
   "source": [
    "# Calculate the pooled estimate of the population proportion\n",
    "p_hat = (p_hats[\"reasonable\"] * ns[\"reasonable\"] + p_hats[\"expensive\"] * ns[\"expensive\"]) / (ns[\"reasonable\"] + ns[\"expensive\"])\n",
    "\n",
    "# Calculate p_hat one minus p_hat\n",
    "p_hat_times_not_p_hat = p_hat * (1 - p_hat)\n",
    "\n",
    "# Divide this by each of the sample sizes and then sum\n",
    "p_hat_times_not_p_hat_over_ns = p_hat_times_not_p_hat * (1 / ns[\"expensive\"] + 1 / ns[\"reasonable\"])\n",
    "\n",
    "# Calculate the standard error\n",
    "std_error = np.sqrt(p_hat_times_not_p_hat_over_ns)\n",
    "\n",
    "# Print the result\n",
    "print(std_error)"
   ],
   "metadata": {
    "collapsed": false
   }
  },
  {
   "cell_type": "code",
   "execution_count": 26,
   "outputs": [
    {
     "name": "stdout",
     "output_type": "stream",
     "text": [
      "0.0008041646027723282\n"
     ]
    }
   ],
   "source": [
    "# Calculate the pooled estimate of the population proportion\n",
    "p_hat = (p_hats[\"reasonable\"] * ns[\"reasonable\"] + p_hats[\"expensive\"] * ns[\"expensive\"]) / (ns[\"reasonable\"] + ns[\"expensive\"])\n",
    "\n",
    "# Calculate p_hat one minus p_hat\n",
    "p_hat_times_not_p_hat = p_hat * (1 - p_hat)\n",
    "\n",
    "# Divide this by each of the sample sizes and then sum\n",
    "p_hat_times_not_p_hat_over_ns = p_hat_times_not_p_hat / ns[\"expensive\"] + p_hat_times_not_p_hat / ns[\"reasonable\"]\n",
    "\n",
    "# Calculate the standard error\n",
    "std_error = np.sqrt(p_hat_times_not_p_hat_over_ns)\n",
    "\n",
    "# Calculate the z-score\n",
    "z_score = (p_hats[\"expensive\"] - p_hats[\"reasonable\"]) / std_error\n",
    "\n",
    "# Calculate the p-value from the z-score\n",
    "p_value = 1-norm.cdf(z_score)\n",
    "\n",
    "# Print p_value\n",
    "print(p_value)"
   ],
   "metadata": {
    "collapsed": false
   }
  },
  {
   "cell_type": "code",
   "execution_count": null,
   "outputs": [],
   "source": [
    "# Proportion of freight_cost_group grouped by vendor_inco_term\n",
    "props = late_shipments.groupby('vendor_inco_term')['freight_cost_group'].value_counts(normalize=True)\n",
    "\n",
    "# Convert props to wide format\n",
    "wide_props = props.unstack()\n",
    "\n",
    "# Proportional stacked bar plot of freight_cost_group vs. vendor_inco_term\n",
    "wide_props.plot(kind=\"bar\", stacked=True)\n",
    "plt.show()\n",
    "\n",
    "# Determine if freight_cost_group and vendor_inco_term are independent\n",
    "expected, observed, stats = pingouin.chi2_independence(data=late_shipments, x=\"vendor_inco_term\", y=\"freight_cost_group\")\n",
    "\n",
    "# Print results\n",
    "print(stats[stats['test'] == 'pearson'])#%%\n",
    "import pandas as pd\n",
    "import numpy as np\n",
    "\n",
    "# Read in the data\n",
    "stack_overflow = pd.read_feather('stack_overflow.feather')\n",
    "\n",
    "xbar_yes = 2715.6721311475408\n",
    "xbar_no = 1897.7912673056444\n",
    "s_yes = 2544.688210903328\n",
    "s_no = 3154.0395070841687\n",
    "n_yes = 61\n",
    "n_no = 939\n",
    "\n",
    "# Calculate the numerator of the test statistic\n",
    "numerator = xbar_yes - xbar_no\n",
    "\n",
    "# Calculate the denominator of the test statistic\n",
    "denominator = np.sqrt(s_yes ** 2 / n_yes + s_no ** 2 / n_no)\n",
    "\n",
    "# Calculate the test statistic\n",
    "t_stat = numerator / denominator\n",
    "\n",
    "# Print the test statistic\n",
    "print(t_stat)"
   ],
   "metadata": {
    "collapsed": false
   }
  },
  {
   "cell_type": "code",
   "execution_count": null,
   "outputs": [],
   "source": [
    "from scipy.stats import t\n",
    "\n",
    "t_stat = -t_stat\n",
    "\n",
    "# Calculate the degrees of freedom\n",
    "degrees_of_freedom = n_yes + n_no - 2\n",
    "\n",
    "# Calculate the p-value from the test stat\n",
    "p_value = t.cdf(t_stat, df=degrees_of_freedom)\n",
    "\n",
    "# Print the p_value\n",
    "print(p_value)"
   ],
   "metadata": {
    "collapsed": false
   }
  },
  {
   "cell_type": "code",
   "execution_count": null,
   "outputs": [],
   "source": [
    "import matplotlib.pyplot as plt\n",
    "\n",
    "sample_dem_data = pd.read_feather('dem_votes_potus_12_16.feather')\n",
    "\n",
    "# Calculate the differences from 2012 to 2016\n",
    "sample_dem_data['diff'] = sample_dem_data['dem_percent_12'] - sample_dem_data['dem_percent_16']\n",
    "\n",
    "# Find the mean of the diff column\n",
    "xbar_diff = sample_dem_data['diff'].mean()\n",
    "\n",
    "# Find the standard deviation of the diff column\n",
    "s_diff = sample_dem_data['diff'].std()\n",
    "\n",
    "# Plot a histogram of diff with 20 bins\n",
    "sample_dem_data['diff'].hist(bins=20)\n",
    "plt.show()"
   ],
   "metadata": {
    "collapsed": false
   }
  },
  {
   "cell_type": "code",
   "execution_count": null,
   "outputs": [],
   "source": [
    "import pingouin as pingouin\n",
    "\n",
    "# Conduct a t-test on diff\n",
    "test_results = pingouin.ttest(x=sample_dem_data['diff'], y=0, paired=False, alternative='two-sided')\n",
    "\n",
    "# Print the test results\n",
    "print(test_results)"
   ],
   "metadata": {
    "collapsed": false
   }
  },
  {
   "cell_type": "code",
   "execution_count": null,
   "outputs": [],
   "source": [
    "pingouin.ttest(x=sample_dem_data['dem_percent_12'],\n",
    "               y=sample_dem_data['dem_percent_16'],\n",
    "               alternative=\"two-sided\")"
   ],
   "metadata": {
    "collapsed": false
   }
  },
  {
   "cell_type": "markdown",
   "source": [
    "### ANOVA Test"
   ],
   "metadata": {
    "collapsed": false
   }
  },
  {
   "cell_type": "code",
   "execution_count": null,
   "outputs": [],
   "source": [
    "import seaborn as sns\n",
    "import pandas as pd\n",
    "import matplotlib.pyplot as plt\n",
    "\n",
    "late_shipments = pd.read_feather('late_shipments.feather')\n",
    "\n",
    "# Calculate the mean pack_price for each shipment_mode\n",
    "xbar_pack_by_mode = late_shipments.groupby(\"shipment_mode\")['pack_price'].mean()\n",
    "\n",
    "# Calculate the standard deviation of the pack_price for each shipment_mode\n",
    "s_pack_by_mode = late_shipments.groupby(\"shipment_mode\")['pack_price'].std()\n",
    "\n",
    "# Boxplot of shipment_mode vs. pack_price\n",
    "sns.boxplot(data=late_shipments, y=\"shipment_mode\", x=\"pack_price\")\n",
    "plt.show()"
   ],
   "metadata": {
    "collapsed": false
   }
  },
  {
   "cell_type": "code",
   "execution_count": null,
   "outputs": [],
   "source": [
    "%%time\n",
    "import pingouin\n",
    "\n",
    "# Run an ANOVA for pack_price across shipment_mode\n",
    "anova_results = pingouin.anova(data=late_shipments, dv=\"pack_price\", between=\"shipment_mode\")\n",
    "\n",
    "# Print anova_results\n",
    "print(anova_results)"
   ],
   "metadata": {
    "collapsed": false
   }
  },
  {
   "cell_type": "code",
   "execution_count": null,
   "outputs": [],
   "source": [
    "# Perform a pairwise t-test on pack price, grouped by shipment mode\n",
    "pairwise_results = pingouin.pairwise_tests(data=late_shipments, between=\"shipment_mode\", dv=\"pack_price\",padjust=\"none\")\n",
    "\n",
    "# Print pairwise_results\n",
    "print(pairwise_results)"
   ],
   "metadata": {
    "collapsed": false
   }
  },
  {
   "cell_type": "code",
   "execution_count": null,
   "outputs": [],
   "source": [
    "# Modify the pairwise t-tests to use Bonferroni p-value adjustment\n",
    "pairwise_results = pingouin.pairwise_tests(data=late_shipments,\n",
    "                                           dv=\"pack_price\",\n",
    "                                           between=\"shipment_mode\",\n",
    "                                           padjust=\"bonf\")\n",
    "\n",
    "# Print pairwise_results\n",
    "print(pairwise_results)"
   ],
   "metadata": {
    "collapsed": false
   }
  },
  {
   "cell_type": "code",
   "execution_count": null,
   "outputs": [],
   "source": [
    "from scipy.stats import norm\n",
    "import numpy as np\n",
    "\n",
    "# Hypothesize that the proportion of late shipments is 6%\n",
    "p_0 = 0.06\n",
    "\n",
    "# Calculate the sample proportion of late shipments\n",
    "p_hat = (late_shipments['late'] == \"Yes\").mean()\n",
    "\n",
    "# Calculate the sample size\n",
    "n = len(late_shipments)\n",
    "\n",
    "# Calculate the numerator and denominator of the test statistic\n",
    "numerator = p_hat - p_0\n",
    "denominator = np.sqrt(p_0 * (1 - p_0) / n)\n",
    "\n",
    "# Calculate the test statistic\n",
    "z_score = numerator / denominator\n",
    "\n",
    "# Calculate the p-value from the z-score\n",
    "p_value = 1 - norm.cdf(z_score)\n",
    "\n",
    "# Print the p-value\n",
    "print(p_value)"
   ],
   "metadata": {
    "collapsed": false
   }
  },
  {
   "cell_type": "code",
   "execution_count": null,
   "outputs": [],
   "source": [
    "p_hats = {\n",
    "    \"reasonable\": 0.035,\n",
    "    \"expensive\": 0.083\n",
    "}\n",
    "ns = {\n",
    "    \"reasonable\": 455,\n",
    "    \"expensive\": 545\n",
    "}\n",
    "\n",
    "# Calculate the pooled estimate of the population proportion\n",
    "p_hat = (p_hats[\"reasonable\"] * ns[\"reasonable\"] + p_hats[\"expensive\"] * ns[\"expensive\"]) / (ns[\"reasonable\"] + ns[\"expensive\"])\n",
    "\n",
    "# Print the result\n",
    "print(p_hat)"
   ],
   "metadata": {
    "collapsed": false
   }
  },
  {
   "cell_type": "code",
   "execution_count": null,
   "outputs": [],
   "source": [
    "# Calculate the pooled estimate of the population proportion\n",
    "p_hat = (p_hats[\"reasonable\"] * ns[\"reasonable\"] + p_hats[\"expensive\"] * ns[\"expensive\"]) / (ns[\"reasonable\"] + ns[\"expensive\"])\n",
    "\n",
    "# Calculate p_hat one minus p_hat\n",
    "p_hat_times_not_p_hat = p_hat * (1 - p_hat)\n",
    "\n",
    "# Divide this by each of the sample sizes and then sum\n",
    "p_hat_times_not_p_hat_over_ns = p_hat_times_not_p_hat * (1 / ns[\"expensive\"] + 1 / ns[\"reasonable\"])\n",
    "\n",
    "# Calculate the standard error\n",
    "std_error = np.sqrt(p_hat_times_not_p_hat_over_ns)\n",
    "\n",
    "# Print the result\n",
    "print(std_error)"
   ],
   "metadata": {
    "collapsed": false
   }
  },
  {
   "cell_type": "code",
   "execution_count": null,
   "outputs": [],
   "source": [
    "# Calculate the pooled estimate of the population proportion\n",
    "p_hat = (p_hats[\"reasonable\"] * ns[\"reasonable\"] + p_hats[\"expensive\"] * ns[\"expensive\"]) / (ns[\"reasonable\"] + ns[\"expensive\"])\n",
    "\n",
    "# Calculate p_hat one minus p_hat\n",
    "p_hat_times_not_p_hat = p_hat * (1 - p_hat)\n",
    "\n",
    "# Divide this by each of the sample sizes and then sum\n",
    "p_hat_times_not_p_hat_over_ns = p_hat_times_not_p_hat / ns[\"expensive\"] + p_hat_times_not_p_hat / ns[\"reasonable\"]\n",
    "\n",
    "# Calculate the standard error\n",
    "std_error = np.sqrt(p_hat_times_not_p_hat_over_ns)\n",
    "\n",
    "# Calculate the z-score\n",
    "z_score = (p_hats[\"expensive\"] - p_hats[\"reasonable\"]) / std_error\n",
    "\n",
    "# Calculate the p-value from the z-score\n",
    "p_value = 1-norm.cdf(z_score)\n",
    "\n",
    "# Print p_value\n",
    "print(p_value)"
   ],
   "metadata": {
    "collapsed": false
   }
  },
  {
   "cell_type": "code",
   "execution_count": 31,
   "outputs": [
    {
     "data": {
      "text/plain": "<Figure size 640x480 with 1 Axes>",
      "image/png": "[encoded data removed]"
     },
     "metadata": {},
     "output_type": "display_data"
    },
    {
     "name": "stdout",
     "output_type": "stream",
     "text": [
      "      test  lambda       chi2  dof          pval    cramer     power\n",
      "0  pearson     1.0  34.805072  4.0  5.093922e-07  0.186561  0.999235\n"
     ]
    },
    {
     "name": "stderr",
     "output_type": "stream",
     "text": [
      "C:\\Users\\vicfa\\.conda\\envs\\datascienceml\\lib\\site-packages\\pingouin\\contingency.py:150: UserWarning: Low count on observed frequencies.\n",
      "  warnings.warn(\"Low count on {} frequencies.\".format(name))\n",
      "C:\\Users\\vicfa\\.conda\\envs\\datascienceml\\lib\\site-packages\\pingouin\\contingency.py:150: UserWarning: Low count on expected frequencies.\n",
      "  warnings.warn(\"Low count on {} frequencies.\".format(name))\n",
      "C:\\Users\\vicfa\\.conda\\envs\\datascienceml\\lib\\site-packages\\scipy\\stats\\_stats_py.py:7416: RuntimeWarning: divide by zero encountered in power\n",
      "  terms = f_obs * ((f_obs / f_exp)**lambda_ - 1)\n",
      "C:\\Users\\vicfa\\.conda\\envs\\datascienceml\\lib\\site-packages\\scipy\\stats\\_stats_py.py:7416: RuntimeWarning: invalid value encountered in multiply\n",
      "  terms = f_obs * ((f_obs / f_exp)**lambda_ - 1)\n",
      "C:\\Users\\vicfa\\.conda\\envs\\datascienceml\\lib\\site-packages\\scipy\\stats\\_stats_py.py:7413: RuntimeWarning: divide by zero encountered in divide\n",
      "  terms = 2.0 * special.xlogy(f_exp, f_exp / f_obs)\n"
     ]
    }
   ],
   "source": [
    "# Proportion of freight_cost_group grouped by vendor_inco_term\n",
    "props = late_shipments.groupby('vendor_inco_term')['freight_cost_groups'].value_counts(normalize=True)\n",
    "\n",
    "# Convert props to wide format\n",
    "wide_props = props.unstack()\n",
    "\n",
    "# Proportional stacked bar plot of freight_cost_group vs. vendor_inco_term\n",
    "wide_props.plot(kind=\"bar\", stacked=True)\n",
    "plt.show()\n",
    "\n",
    "# Determine if freight_cost_group and vendor_inco_term are independent\n",
    "expected, observed, stats = pingouin.chi2_independence(data=late_shipments, x=\"vendor_inco_term\", y=\"freight_cost_groups\")\n",
    "\n",
    "# Print results\n",
    "print(stats[stats['test'] == 'pearson'])"
   ],
   "metadata": {
    "collapsed": false
   }
  },
  {
   "cell_type": "code",
   "execution_count": null,
   "outputs": [],
   "source": [
    "# # Find the number of rows in late_shipments\n",
    "# n_total = len(late_shipments)\n",
    "#\n",
    "# # Create n column that is prop column * n_total\n",
    "# hypothesized[\"n\"] = hypothesized[\"prop\"] * n_total\n",
    "#\n",
    "# # Plot a red bar graph of n vs. vendor_inco_term for incoterm_counts\n",
    "# plt.bar(incoterm_counts['vendor_inco_term'], incoterm_counts['n'], color=\"red\", label=\"Observed\")\n",
    "#\n",
    "# # Add a blue bar plot for the hypothesized counts\n",
    "# plt.bar(hypothesized[\"vendor_inco_term\"], hypothesized[\"n\"], label=\"Hypothesized\", alpha=0.5, color=\"blue\")\n",
    "# plt.legend()\n",
    "# plt.show()"
   ],
   "metadata": {
    "collapsed": false
   }
  },
  {
   "cell_type": "code",
   "execution_count": null,
   "outputs": [],
   "source": [
    "# # Perform a goodness of fit test on the incoterm counts n\n",
    "# gof_test = chisquare(f_obs=incoterm_counts[\"n\"], f_exp=hypothesized[\"n\"])\n",
    "#\n",
    "#\n",
    "# # Print gof_test results\n",
    "# print(gof_test)"
   ],
   "metadata": {
    "collapsed": false
   }
  },
  {
   "cell_type": "code",
   "execution_count": 33,
   "outputs": [
    {
     "name": "stdout",
     "output_type": "stream",
     "text": [
      "expensive     531\n",
      "reasonable    455\n",
      "Name: freight_cost_groups, dtype: int64\n",
      "True\n"
     ]
    }
   ],
   "source": [
    "# Count the freight_cost_group values\n",
    "counts = late_shipments[\"freight_cost_groups\"].value_counts()\n",
    "\n",
    "# Print the result\n",
    "print(counts)\n",
    "\n",
    "# Inspect whether the counts are big enough\n",
    "print((counts >= 30).all())"
   ],
   "metadata": {
    "collapsed": false
   }
  },
  {
   "cell_type": "code",
   "execution_count": 34,
   "outputs": [
    {
     "name": "stdout",
     "output_type": "stream",
     "text": [
      "No     939\n",
      "Yes     61\n",
      "Name: late, dtype: int64\n",
      "True\n"
     ]
    }
   ],
   "source": [
    "# Count the late values\n",
    "counts = late_shipments[\"late\"].value_counts()\n",
    "\n",
    "# Print the result\n",
    "print(counts)\n",
    "\n",
    "# Inspect whether the counts are big enough\n",
    "print((counts >= 10).all())"
   ],
   "metadata": {
    "collapsed": false
   }
  },
  {
   "cell_type": "code",
   "execution_count": 35,
   "outputs": [
    {
     "name": "stdout",
     "output_type": "stream",
     "text": [
      "vendor_inco_term  freight_cost_groups\n",
      "CIP               reasonable              34\n",
      "                  expensive               16\n",
      "DDP               expensive               55\n",
      "                  reasonable              45\n",
      "DDU               reasonable               1\n",
      "EXW               expensive              423\n",
      "                  reasonable             302\n",
      "FCA               reasonable              73\n",
      "                  expensive               37\n",
      "Name: freight_cost_groups, dtype: int64\n",
      "False\n"
     ]
    }
   ],
   "source": [
    "# Count the values of freight_cost_group grouped by vendor_inco_term\n",
    "counts = late_shipments.groupby(\"vendor_inco_term\")[\"freight_cost_groups\"].value_counts()\n",
    "\n",
    "# Print the result\n",
    "print(counts)\n",
    "\n",
    "# Inspect whether the counts are big enough\n",
    "print((counts >= 5).all())"
   ],
   "metadata": {
    "collapsed": false
   }
  },
  {
   "cell_type": "code",
   "execution_count": 36,
   "outputs": [
    {
     "name": "stdout",
     "output_type": "stream",
     "text": [
      "Air            906\n",
      "Ocean           88\n",
      "Air Charter      6\n",
      "Name: shipment_mode, dtype: int64\n",
      "False\n"
     ]
    }
   ],
   "source": [
    "# Count the shipment_mode values\n",
    "counts = late_shipments[\"shipment_mode\"].value_counts()\n",
    "\n",
    "# Print the result\n",
    "print(counts)\n",
    "\n",
    "# Inspect whether the counts are big enough\n",
    "print((counts >= 30).all())"
   ],
   "metadata": {
    "collapsed": false
   }
  },
  {
   "cell_type": "code",
   "execution_count": null,
   "outputs": [],
   "source": [
    "# Conduct a paired t-test on dem_percent_12 and dem_percent_16\n",
    "paired_test_results = pingouin.ttest(x=sample_dem_data['dem_percent_12'],\n",
    "                                     y=sample_dem_data['dem_percent_16'],\n",
    "                                     paired=True,\n",
    "                                     alternative=\"two-sided\")\n",
    "\n",
    "# Print paired t-test results\n",
    "print(paired_test_results)"
   ],
   "metadata": {
    "collapsed": false,
    "pycharm": {
     "is_executing": true
    }
   }
  },
  {
   "cell_type": "code",
   "execution_count": null,
   "outputs": [],
   "source": [
    "# Conduct a Wilcoxon test on dem_percent_12 and dem_percent_16\n",
    "wilcoxon_test_results = pingouin.wilcoxon(x=sample_dem_data['dem_percent_12'],\n",
    "                                          y=sample_dem_data['dem_percent_16'],\n",
    "                                          alternative=\"two-sided\")\n",
    "\n",
    "# Print Wilcoxon test results\n",
    "print(wilcoxon_test_results)"
   ],
   "metadata": {
    "collapsed": false
   }
  },
  {
   "cell_type": "code",
   "execution_count": 38,
   "outputs": [
    {
     "name": "stdout",
     "output_type": "stream",
     "text": [
      "       U-val alternative     p-val       RBC      CLES\n",
      "MWU  19134.0   two-sided  0.000014  0.331902  0.334049\n"
     ]
    }
   ],
   "source": [
    "# Select the weight_kilograms and late columns\n",
    "weight_vs_late = late_shipments[[\"weight_kilograms\", \"late\"]]\n",
    "\n",
    "# Convert weight_vs_late into wide format\n",
    "weight_vs_late_wide = weight_vs_late.pivot(columns='late',\n",
    "                                           values='weight_kilograms')\n",
    "\n",
    "# Run a two-sided Wilcoxon-Mann-Whitney test on weight_kilograms vs. late\n",
    "wmw_test = pingouin.mwu(x=weight_vs_late_wide['No'],\n",
    "                        y=weight_vs_late_wide['Yes'],\n",
    "                        alternative='two-sided')\n",
    "\n",
    "# Print the test results\n",
    "print(wmw_test)"
   ],
   "metadata": {
    "collapsed": false
   }
  },
  {
   "cell_type": "code",
   "execution_count": 39,
   "outputs": [
    {
     "name": "stdout",
     "output_type": "stream",
     "text": [
      "                Source  ddof1           H         p-unc\n",
      "Kruskal  shipment_mode      2  125.096618  6.848799e-28\n"
     ]
    }
   ],
   "source": [
    "# Run a Kruskal-Wallis test on weight_kilograms vs. shipment_mode\n",
    "kw_test = pingouin.kruskal(data=late_shipments,\n",
    "                           dv='weight_kilograms',\n",
    "                           between='shipment_mode')\n",
    "\n",
    "# Print the results\n",
    "print(kw_test)"
   ],
   "metadata": {
    "collapsed": false
   }
  },
  {
   "cell_type": "code",
   "execution_count": null,
   "outputs": [],
   "source": [],
   "metadata": {
    "collapsed": false
   }
  }
 ],
 "metadata": {
  "kernelspec": {
   "display_name": "Python 3",
   "language": "python",
   "name": "python3"
  },
  "language_info": {
   "codemirror_mode": {
    "name": "ipython",
    "version": 2
   },
   "file_extension": ".py",
   "mimetype": "text/x-python",
   "name": "python",
   "nbconvert_exporter": "python",
   "pygments_lexer": "ipython2",
   "version": "2.7.6"
  }
 },
 "nbformat": 4,
 "nbformat_minor": 0
}
