{
 "cells": [
  {
   "cell_type": "code",
   "execution_count": 1,
   "metadata": {
    "collapsed": true
   },
   "outputs": [
    {
     "name": "stdout",
     "output_type": "stream",
     "text": [
      "[False  True False False]\n",
      "[False  True  True False]\n"
     ]
    }
   ],
   "source": [
    "# Create arrays\n",
    "import numpy as np\n",
    "my_house = np.array([18.0, 20.0, 10.75, 9.50])\n",
    "your_house = np.array([14.0, 24.0, 14.25, 9.0])\n",
    "\n",
    "# my_house greater than or equal to 18\n",
    "print(my_house >= 18)\n",
    "\n",
    "# my_house less than your_house\n",
    "print(my_house < your_house)"
   ]
  },
  {
   "cell_type": "code",
   "execution_count": 4,
   "outputs": [
    {
     "name": "stdout",
     "output_type": "stream",
     "text": [
      "[ True False  True False  True]\n",
      "[21.852 21.75  21.441]\n"
     ]
    }
   ],
   "source": [
    "bmi = np.array([21.852, 22.751, 21.75, 23.125, 21.441])\n",
    "# logical_and()\n",
    "# logical_or()\n",
    "# logical_not()\n",
    "\n",
    "print(np.logical_and(bmi > 21, bmi < 22))\n",
    "# array([True, False, True, False, True], dtype=bool)\n",
    "\n",
    "print(bmi[np.logical_and(bmi > 21, bmi < 22)])\n",
    "# array([21.852, 21.75, 21.441])"
   ],
   "metadata": {
    "collapsed": false
   }
  },
  {
   "cell_type": "markdown",
   "source": [
    "Filtering pandas dataframes"
   ],
   "metadata": {
    "collapsed": false
   }
  },
  {
   "cell_type": "code",
   "execution_count": null,
   "outputs": [],
   "source": [
    "import pandas as pd\n",
    "brics = pd.read_csv(\"path/to/brics.csv\", index_col = 0)\n",
    "\n",
    "# get the series of booleans which fit the condition\n",
    "is_huge = brics[\"area\"] > 8\n",
    "\n",
    "# print the boolean series\n",
    "print(is_huge)\n",
    "\n",
    "# print the countries which fit the condition\n",
    "print(brics[is_huge])"
   ],
   "metadata": {
    "collapsed": false
   }
  },
  {
   "cell_type": "code",
   "execution_count": null,
   "outputs": [],
   "source": [
    "import numpy as np\n",
    "\n",
    "np.logical_and(brics[\"area\"] > 8, brics[\"area\"] < 10)\n",
    "\n",
    "brics[np.logical_and(brics[\"area\"] > 8, brics[\"area\"] < 10)]"
   ],
   "metadata": {
    "collapsed": false
   }
  },
  {
   "cell_type": "code",
   "execution_count": null,
   "outputs": [],
   "source": [
    "# Import cars data\n",
    "import pandas as pd\n",
    "cars = pd.read_csv('cars.csv', index_col = 0)\n",
    "\n",
    "# Create car_maniac: observations that have a cars_per_cap over 500\n",
    "cpc = cars['cars_per_cap']\n",
    "many_cars = cpc > 500\n",
    "car_maniac = cars[many_cars]\n",
    "\n",
    "# Print car_maniac\n",
    "print(car_maniac)"
   ],
   "metadata": {
    "collapsed": false
   }
  }
 ],
 "metadata": {
  "kernelspec": {
   "display_name": "Python 3",
   "language": "python",
   "name": "python3"
  },
  "language_info": {
   "codemirror_mode": {
    "name": "ipython",
    "version": 2
   },
   "file_extension": ".py",
   "mimetype": "text/x-python",
   "name": "python",
   "nbconvert_exporter": "python",
   "pygments_lexer": "ipython2",
   "version": "2.7.6"
  }
 },
 "nbformat": 4,
 "nbformat_minor": 0
}
