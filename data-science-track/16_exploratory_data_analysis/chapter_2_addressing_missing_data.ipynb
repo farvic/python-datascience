{
 "cells": [
  {
   "cell_type": "code",
   "execution_count": 1,
   "metadata": {},
   "outputs": [
    {
     "name": "stdout",
     "output_type": "stream",
     "text": [
      "Working_Year            0\n",
      "Designation             0\n",
      "Experience              0\n",
      "Employment_Status       0\n",
      "Employee_Location       0\n",
      "Company_Size            0\n",
      "Remote_Working_Ratio    0\n",
      "Salary_USD              0\n",
      "dtype: int64\n"
     ]
    }
   ],
   "source": [
    "import pandas as pd\n",
    "import matplotlib.pyplot as plt\n",
    "import seaborn as sns\n",
    "\n",
    "salaries = pd.read_csv('ds_salaries_clean.csv')\n",
    "\n",
    "print(salaries.isna().sum())"
   ]
  },
  {
   "cell_type": "code",
   "execution_count": null,
   "metadata": {},
   "outputs": [],
   "source": [
    "# Creating the dict with the median salary for each group\n",
    "salaries_dict = salaries.groupby(\"Experience\")[\"Salary_USD\"].median().to_dict()\n",
    "\n",
    "print(salaries_dict)\n",
    "# {'Entry': 55380.0, 'Executive': 135439.0, 'Mid': 74173.5, 'Senior': 128903.0}\n",
    "\n",
    "# Mapping the values\n",
    "salaries[\"Salary_USD\"] = salaries[\"Salary_USD\"]. \\\n",
    "\t\tfillna(salaries[\"Experience\"].map(salaries_dict))\n",
    "\n",
    "print(salaries.isna().sum())"
   ]
  },
  {
   "cell_type": "code",
   "execution_count": null,
   "metadata": {},
   "outputs": [],
   "source": [
    "# need to look for the dataset\n",
    "planes = pd.read_csv('planes.csv')\n",
    "\n",
    "# Count the number of missing values in each column\n",
    "print(planes.isna().sum())\n",
    "\n",
    "# Find the five percent threshold\n",
    "threshold = len(planes) * 0.05\n",
    "\n",
    "# Create a filter\n",
    "cols_to_drop = planes.columns[planes.isna().sum() <= threshold]\n",
    "\n",
    "# Drop missing values for columns below the threshold\n",
    "planes.dropna(subset=cols_to_drop, inplace=True)\n",
    "\n",
    "print(planes.isna().sum())"
   ]
  },
  {
   "cell_type": "code",
   "execution_count": null,
   "metadata": {},
   "outputs": [],
   "source": [
    "import pandas as pd\n",
    "import seaborn as sns\n",
    "import matplotlib.pyplot as plt\n",
    "\n",
    "# Count the number of missing values in each column\n",
    "print(planes.isna().sum())\n",
    "\n",
    "# Find the five percent threshold\n",
    "threshold = len(planes) * 0.05\n",
    "\n",
    "# Create a filter\n",
    "cols_to_drop = planes.columns[planes.isna().sum() <= threshold]\n",
    "\n",
    "# Drop missing values for columns below the threshold\n",
    "planes.dropna(subset=cols_to_drop, inplace=True)\n",
    "\n",
    "print(planes.isna().sum())"
   ]
  },
  {
   "cell_type": "code",
   "execution_count": null,
   "metadata": {},
   "outputs": [],
   "source": [
    "# Calculate median plane ticket prices by Airline\n",
    "airline_prices = planes.groupby(\"Airline\")[\"Price\"].median()\n",
    "\n",
    "print(airline_prices)\n",
    "\n",
    "# Convert to a dictionary\n",
    "prices_dict = airline_prices.to_dict()\n",
    "\n",
    "# Map the dictionary to the missing values\n",
    "planes[\"Price\"] = planes[\"Price\"].fillna(planes[\"Airline\"].map(prices_dict))\n",
    "\n",
    "# Check for missing values\n",
    "print(planes.isna().sum())"
   ]
  },
  {
   "attachments": {},
   "cell_type": "markdown",
   "metadata": {},
   "source": [
    "### Converting and analyzing categorical data"
   ]
  },
  {
   "cell_type": "code",
   "execution_count": 2,
   "metadata": {},
   "outputs": [
    {
     "name": "stdout",
     "output_type": "stream",
     "text": [
      "                  Designation Experience Employment_Status Employee_Location  \\\n",
      "0              Data Scientist        Mid                FT                DE   \n",
      "1  Machine Learning Scientist     Senior                FT                JP   \n",
      "2           Big Data Engineer     Senior                FT                GB   \n",
      "3        Product Data Analyst        Mid                FT                HN   \n",
      "4   Machine Learning Engineer     Senior                FT                US   \n",
      "\n",
      "  Company_Size  \n",
      "0            L  \n",
      "1            S  \n",
      "2            M  \n",
      "3            S  \n",
      "4            L  \n"
     ]
    }
   ],
   "source": [
    "# Prewewing the data\n",
    "print(salaries.select_dtypes(\"object\").head())"
   ]
  },
  {
   "cell_type": "code",
   "execution_count": 3,
   "metadata": {},
   "outputs": [
    {
     "name": "stdout",
     "output_type": "stream",
     "text": [
      "Data Scientist                              143\n",
      "Data Engineer                               132\n",
      "Data Analyst                                 97\n",
      "Machine Learning Engineer                    41\n",
      "Research Scientist                           16\n",
      "Data Science Manager                         12\n",
      "Data Architect                               11\n",
      "Big Data Engineer                             8\n",
      "Machine Learning Scientist                    8\n",
      "Principal Data Scientist                      7\n",
      "AI Scientist                                  7\n",
      "Data Science Consultant                       7\n",
      "Director of Data Science                      7\n",
      "Data Analytics Manager                        7\n",
      "ML Engineer                                   6\n",
      "Computer Vision Engineer                      6\n",
      "BI Data Analyst                               6\n",
      "Lead Data Engineer                            6\n",
      "Data Engineering Manager                      5\n",
      "Business Data Analyst                         5\n",
      "Head of Data                                  5\n",
      "Applied Data Scientist                        5\n",
      "Applied Machine Learning Scientist            4\n",
      "Head of Data Science                          4\n",
      "Analytics Engineer                            4\n",
      "Data Analytics Engineer                       4\n",
      "Machine Learning Developer                    3\n",
      "Machine Learning Infrastructure Engineer      3\n",
      "Lead Data Scientist                           3\n",
      "Computer Vision Software Engineer             3\n",
      "Lead Data Analyst                             3\n",
      "Data Science Engineer                         3\n",
      "Principal Data Engineer                       3\n",
      "Principal Data Analyst                        2\n",
      "ETL Developer                                 2\n",
      "Product Data Analyst                          2\n",
      "Director of Data Engineering                  2\n",
      "Financial Data Analyst                        2\n",
      "Cloud Data Engineer                           2\n",
      "Lead Machine Learning Engineer                1\n",
      "NLP Engineer                                  1\n",
      "Head of Machine Learning                      1\n",
      "3D Computer Vision Researcher                 1\n",
      "Data Specialist                               1\n",
      "Staff Data Scientist                          1\n",
      "Big Data Architect                            1\n",
      "Finance Data Analyst                          1\n",
      "Marketing Data Analyst                        1\n",
      "Machine Learning Manager                      1\n",
      "Data Analytics Lead                           1\n",
      "Name: Designation, dtype: int64\n",
      "50\n"
     ]
    }
   ],
   "source": [
    "# Job titles\n",
    "print(salaries[\"Designation\"].value_counts())\n",
    "\n",
    "print(salaries[\"Designation\"].nunique())"
   ]
  },
  {
   "cell_type": "code",
   "execution_count": 46,
   "metadata": {},
   "outputs": [
    {
     "data": {
      "image/png": "[encoded data removed]",
      "text/plain": [
       "<Figure size 1000x500 with 1 Axes>"
      ]
     },
     "metadata": {},
     "output_type": "display_data"
    }
   ],
   "source": [
    "import matplotlib.pyplot as plt\n",
    "import seaborn as sns\n",
    "\n",
    "designations = salaries[\"Designation\"].value_counts().sort_values(ascending=False)\n",
    "\n",
    "# get the top 5\n",
    "top_5_designations = designations[:5]\n",
    "\n",
    "# Plot the top 5 designations\n",
    "sns.countplot(x=\"Designation\", data=salaries, order=top_5_designations.index)\n",
    "\n",
    "# increase the size of the plot\n",
    "sns.set_context()\n",
    "\n",
    "# set the background color to white\n",
    "sns.set_style(\"white\")\n",
    "sns.despine()\n",
    "\n",
    "sns.set_palette(\"bright\")\n",
    "\n",
    "plt.xticks(rotation=45)\n",
    "\n",
    "plt.title(\"Top 5 most common data professional job titles\")\n",
    "\n",
    "# remove x and y labels\n",
    "plt.xlabel(\"\")\n",
    "plt.ylabel(\"\")\n",
    "\n",
    "plt.show()"
   ]
  },
  {
   "cell_type": "code",
   "execution_count": null,
   "metadata": {},
   "outputs": [],
   "source": [
    "# Filter the DataFrame for object columns\n",
    "non_numeric = planes.select_dtypes(\"object\")\n",
    "\n",
    "# Loop through columns\n",
    "for col in non_numeric.columns:\n",
    "  \n",
    "  # Print the number of unique values\n",
    "  print(f\"Number of unique values in {col} column: \", non_numeric[col].nunique())"
   ]
  },
  {
   "cell_type": "code",
   "execution_count": null,
   "metadata": {},
   "outputs": [],
   "source": [
    "# Create a list of categories\n",
    "flight_categories = [\"Short-haul\", \"Medium\", \"Long-haul\"]\n",
    "\n",
    "# Create short_flights\n",
    "short_flights = \"0h|1h|2h|3h|4h\"\n",
    "\n",
    "# Create medium_flights\n",
    "medium_flights = \"5h|6h|7h|8h|9h\"\n",
    "\n",
    "# Create long_flights\n",
    "long_flights = \"10h|11h|12h|13h|14h|15h|16h\""
   ]
  },
  {
   "cell_type": "code",
   "execution_count": null,
   "metadata": {},
   "outputs": [],
   "source": [
    "import numpy as np\n",
    "\n",
    "# Create conditions for values in flight_categories to be created\n",
    "conditions = [\n",
    "    (planes[\"Duration\"].str.contains(short_flights)),\n",
    "    (planes[\"Duration\"].str.contains(medium_flights)),\n",
    "    (planes[\"Duration\"].str.contains(long_flights))\n",
    "]\n",
    "\n",
    "# Apply the conditions list to the flight_categories\n",
    "planes[\"Duration_Category\"] = np.select(conditions, \n",
    "                                        flight_categories,\n",
    "                                        default=\"Extreme duration\")\n",
    "\n",
    "# Plot the counts of each category\n",
    "sns.countplot(data=planes, x=\"Duration_Category\")\n",
    "plt.show()"
   ]
  },
  {
   "cell_type": "code",
   "execution_count": null,
   "metadata": {},
   "outputs": [],
   "source": [
    "# Preview the column\n",
    "print(planes[\"Duration\"].head())\n",
    "\n",
    "# Remove the string character\n",
    "planes[\"Duration\"] = planes[\"Duration\"].str.replace(\"h\", \"\")\n",
    "\n",
    "# Convert to float data type\n",
    "planes[\"Duration\"] = planes[\"Duration\"].astype(float)\n",
    "\n",
    "# Plot a histogram\n",
    "sns.histplot(data=planes, x=\"Duration\")\n",
    "plt.show()"
   ]
  },
  {
   "cell_type": "code",
   "execution_count": null,
   "metadata": {},
   "outputs": [],
   "source": [
    "# Price standard deviation by Airline\n",
    "planes[\"airline_price_st_dev\"] = planes.groupby(\"Airline\")[\"Price\"].transform(lambda x: x.std())\n",
    "\n",
    "print(planes[[\"Airline\", \"airline_price_st_dev\"]].value_counts())\n",
    "\n",
    "# Median Duration by Airline\n",
    "planes[\"airline_median_duration\"] = planes.groupby(\"Airline\")[\"Duration\"].transform(lambda x: x.median())\n",
    "\n",
    "print(planes[[\"Airline\",\"airline_median_duration\"]].value_counts())\n",
    "\n",
    "# Mean Price by Destination\n",
    "planes[\"price_destination_mean\"] = planes.groupby(\"Destination\")[\"Price\"].transform(lambda x: x.mean())\n",
    "\n",
    "print(planes[[\"Destination\",\"price_destination_mean\"]].value_counts())"
   ]
  },
  {
   "cell_type": "code",
   "execution_count": null,
   "metadata": {},
   "outputs": [],
   "source": [
    "# Plot a histogram of flight prices\n",
    "sns.histplot(data=planes, x=\"Price\")\n",
    "plt.show()\n",
    "\n",
    "# Display descriptive statistics for flight duration\n",
    "print(planes[\"Duration\"].describe())"
   ]
  },
  {
   "cell_type": "code",
   "execution_count": null,
   "metadata": {},
   "outputs": [],
   "source": [
    "# Find the 75th and 25th percentiles\n",
    "price_seventy_fifth = planes[\"Price\"].quantile(0.75)\n",
    "price_twenty_fifth = planes[\"Price\"].quantile(0.25)\n",
    "\n",
    "# Calculate iqr\n",
    "prices_iqr = price_seventy_fifth - price_twenty_fifth\n",
    "\n",
    "# Calculate the thresholds\n",
    "upper = price_seventy_fifth + (1.5 * prices_iqr)\n",
    "lower = price_twenty_fifth - (1.5 * prices_iqr)\n",
    "\n",
    "# Subset the data\n",
    "planes = planes[(planes[\"Price\"] > lower) & (planes[\"Price\"] < upper)]\n",
    "\n",
    "print(planes[\"Price\"].describe())"
   ]
  }
 ],
 "metadata": {
  "kernelspec": {
   "display_name": "venv",
   "language": "python",
   "name": "python3"
  },
  "language_info": {
   "codemirror_mode": {
    "name": "ipython",
    "version": 3
   },
   "file_extension": ".py",
   "mimetype": "text/x-python",
   "name": "python",
   "nbconvert_exporter": "python",
   "pygments_lexer": "ipython3",
   "version": "3.11.0"
  },
  "orig_nbformat": 4
 },
 "nbformat": 4,
 "nbformat_minor": 2
}
