{
 "cells": [
  {
   "cell_type": "code",
   "execution_count": 1,
   "metadata": {},
   "outputs": [
    {
     "name": "stdout",
     "output_type": "stream",
     "text": [
      "153\n"
     ]
    }
   ],
   "source": [
    "# adding many arguments to a function\n",
    "\n",
    "def add_many(*args):\n",
    "    s = 0\n",
    "    for n in args:\n",
    "        s += n\n",
    "    print(s)\n",
    "\n",
    "add_many(100, 50, 3)"
   ]
  },
  {
   "cell_type": "code",
   "execution_count": 2,
   "metadata": {},
   "outputs": [
    {
     "data": {
      "text/plain": [
       "245"
      ]
     },
     "execution_count": 2,
     "metadata": {},
     "output_type": "execute_result"
    }
   ],
   "source": [
    "class Building:\n",
    "    \n",
    "    def __init__(self, number):\n",
    "        self.number = number\n",
    "\n",
    "b = Building(245)\n",
    "\n",
    "b.number"
   ]
  },
  {
   "cell_type": "code",
   "execution_count": 3,
   "metadata": {},
   "outputs": [
    {
     "data": {
      "text/plain": [
       "[3, 4]"
      ]
     },
     "execution_count": 3,
     "metadata": {},
     "output_type": "execute_result"
    }
   ],
   "source": [
    "# to return the output [3, 4]\n",
    "[i for i in range(5) if i > 2]"
   ]
  },
  {
   "cell_type": "code",
   "execution_count": null,
   "metadata": {},
   "outputs": [],
   "source": [
    "# Expected Output: The file peter_rabbit.txt cannot be found\n",
    "\n",
    "def count_words(filename):\n",
    "  \"\"\"Count the number of words in a file\"\"\"\n",
    "  try:\n",
    "    with open(filename, encoding='utf-8') as f:\n",
    "      contents = f.read()\n",
    "  except FileNotFoundError:\n",
    "    print(\"The file {} cannot be found\".format(filename))\n",
    "  else:\n",
    "    words = contents.split()\n",
    "    num_words = len(words)\n",
    "    print(\"The file {} has about {} words.\".format(filename, num_words))\n",
    "    \n",
    "filename = \"peter_rabbit.txt\"\n",
    "count_words(filename)"
   ]
  }
 ],
 "metadata": {
  "kernelspec": {
   "display_name": "Python 3",
   "language": "python",
   "name": "python3"
  },
  "language_info": {
   "codemirror_mode": {
    "name": "ipython",
    "version": 3
   },
   "file_extension": ".py",
   "mimetype": "text/x-python",
   "name": "python",
   "nbconvert_exporter": "python",
   "pygments_lexer": "ipython3",
   "version": "3.11.0"
  },
  "orig_nbformat": 4,
  "vscode": {
   "interpreter": {
    "hash": "c261aea317cc0286b3b3261fbba9abdec21eaa57589985bb7a274bf54d6cc0a7"
   }
  }
 },
 "nbformat": 4,
 "nbformat_minor": 2
}
