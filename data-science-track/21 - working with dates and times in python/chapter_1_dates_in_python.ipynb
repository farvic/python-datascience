{
 "cells": [
  {
   "cell_type": "code",
   "execution_count": 1,
   "metadata": {
    "collapsed": true
   },
   "outputs": [
    {
     "name": "stdout",
     "output_type": "stream",
     "text": [
      "0\n"
     ]
    }
   ],
   "source": [
    "# Import date from datetime\n",
    "from datetime import date\n",
    "\n",
    "# Create a date object\n",
    "hurricane_andrew = date(1992, 8, 24)\n",
    "\n",
    "# Which day of the week is the date?\n",
    "print(hurricane_andrew.weekday())"
   ]
  },
  {
   "cell_type": "code",
   "execution_count": 3,
   "outputs": [
    {
     "name": "stdout",
     "output_type": "stream",
     "text": [
      "10\n"
     ]
    }
   ],
   "source": [
    "import pandas as pd\n",
    "\n",
    "# Read in the data\n",
    "florida_hurricane_dates = pd.read_pickle('florida_hurricane_dates.pkl')\n",
    "\n",
    "# Counter for how many before June 1\n",
    "early_hurricanes = 0\n",
    "\n",
    "# We loop over the dates\n",
    "for hurricane in florida_hurricane_dates:\n",
    "    # Check if the month is before June (month number 6)\n",
    "    if hurricane.month < 6:\n",
    "        early_hurricanes = early_hurricanes + 1\n",
    "\n",
    "print(early_hurricanes)"
   ],
   "metadata": {
    "collapsed": false
   }
  },
  {
   "cell_type": "markdown",
   "source": [
    "### Math with dates"
   ],
   "metadata": {
    "collapsed": false
   }
  },
  {
   "cell_type": "code",
   "execution_count": 4,
   "outputs": [
    {
     "name": "stdout",
     "output_type": "stream",
     "text": [
      "218\n"
     ]
    }
   ],
   "source": [
    "# Import date\n",
    "from datetime import date\n",
    "\n",
    "# Create a date object for May 9th, 2007\n",
    "start = date(2007, 5, 9)\n",
    "\n",
    "# Create a date object for December 13th, 2007\n",
    "end = date(2007, 12, 13)\n",
    "\n",
    "# Subtract the two dates and print the number of days\n",
    "print((end - start).days)"
   ],
   "metadata": {
    "collapsed": false
   }
  },
  {
   "cell_type": "markdown",
   "source": [
    "### Counting events per calendar month"
   ],
   "metadata": {
    "collapsed": false
   }
  },
  {
   "cell_type": "code",
   "execution_count": 5,
   "outputs": [
    {
     "name": "stdout",
     "output_type": "stream",
     "text": [
      "{1: 0, 2: 1, 3: 0, 4: 1, 5: 8, 6: 32, 7: 21, 8: 49, 9: 70, 10: 43, 11: 9, 12: 1}\n"
     ]
    }
   ],
   "source": [
    "# A dictionary to count hurricanes per calendar month\n",
    "hurricanes_each_month = {1: 0, 2: 0, 3: 0, 4: 0, 5: 0, 6:0,\n",
    "                         7: 0, 8:0, 9:0, 10:0, 11:0, 12:0}\n",
    "\n",
    "# Loop over all hurricanes\n",
    "for hurricane in florida_hurricane_dates:\n",
    "    # Pull out the month\n",
    "    month = hurricane.month\n",
    "    # Increment the count in your dictionary by one\n",
    "    hurricanes_each_month[month] += 1\n",
    "\n",
    "print(hurricanes_each_month)"
   ],
   "metadata": {
    "collapsed": false
   }
  },
  {
   "cell_type": "markdown",
   "source": [
    "### Putting a list of dates in order"
   ],
   "metadata": {
    "collapsed": false
   }
  },
  {
   "cell_type": "code",
   "execution_count": 6,
   "outputs": [
    {
     "name": "stdout",
     "output_type": "stream",
     "text": [
      "1988-08-04\n",
      "2011-07-18\n",
      "1950-08-31\n",
      "2017-10-29\n"
     ]
    }
   ],
   "source": [
    "dates_scrambled = [date(1988, 8, 4),\n",
    "                   date(1990, 10, 12),\n",
    "                   date(2003, 4, 20),\n",
    "                   date(1971, 9, 1),\n",
    "                   date(1988, 8, 23),\n",
    "                   date(1994, 8, 15),\n",
    "                   date(2002, 8, 4),\n",
    "                   date(1988, 5, 30),\n",
    "                   date(2003, 9, 13),\n",
    "                   date(2009, 8, 21),\n",
    "                   date(1978, 6, 22),\n",
    "                   date(1969, 6, 9),\n",
    "                   date(1976, 6, 11),\n",
    "                   date(1976, 8, 19),\n",
    "                   date(1966, 6, 9),\n",
    "                   date(1968, 7, 5),\n",
    "                   date(1987, 11, 4),\n",
    "                   date(1988, 8, 13),\n",
    "                   date(2007, 12, 13),\n",
    "                   date(1994, 11, 16),\n",
    "                   date(2003, 9, 6),\n",
    "                   date(1971, 8, 13),\n",
    "                   date(1981, 8, 17),\n",
    "                   date(1998, 9, 25),\n",
    "                   date(1968, 9, 26),\n",
    "                   date(1968, 6, 4),\n",
    "                   date(1998, 11, 5),\n",
    "                   date(2008, 8, 18),\n",
    "                   date(1987, 8, 14),\n",
    "                   date(1988, 11, 23),\n",
    "                   date(2010, 9, 29),\n",
    "                   date(1985, 7, 23),\n",
    "                   date(2017, 7, 31),\n",
    "                   date(1955, 8, 21),\n",
    "                   date(1986, 6, 26),\n",
    "                   date(1963, 10, 21),\n",
    "                   date(2011, 10, 28),\n",
    "                   date(2011, 11, 9),\n",
    "                   date(1997, 7, 19),\n",
    "                   date(2007, 6, 2),\n",
    "                   date(2002, 9, 14),\n",
    "                   date(1992, 9, 29),\n",
    "                   date(1971, 10, 13),\n",
    "                   date(1962, 8, 26),\n",
    "                   date(1964, 8, 27),\n",
    "                   date(1984, 9, 27),\n",
    "                   date(1973, 9, 25),\n",
    "                   date(1969, 10, 21),\n",
    "                   date(1994, 7, 3),\n",
    "                   date(1958, 9, 4),\n",
    "                   date(1985, 11, 21),\n",
    "                   date(2011, 9, 3),\n",
    "                   date(1972, 6, 19),\n",
    "                   date(1991, 6, 30),\n",
    "                   date(2004, 8, 12),\n",
    "                   date(2007, 9, 8),\n",
    "                   date(1952, 2, 3),\n",
    "                   date(1965, 9, 30),\n",
    "                   date(2000, 9, 22),\n",
    "                   date(2002, 9, 26),\n",
    "                   date(1950, 9, 5),\n",
    "                   date(1966, 10, 4),\n",
    "                   date(1970, 5, 25),\n",
    "                   date(1979, 9, 24),\n",
    "                   date(1960, 9, 23),\n",
    "                   date(2007, 8, 23),\n",
    "                   date(2009, 8, 16),\n",
    "                   date(1996, 10, 18),\n",
    "                   date(2012, 10, 25),\n",
    "                   date(2011, 8, 25),\n",
    "                   date(1951, 5, 18),\n",
    "                   date(1980, 8, 7),\n",
    "                   date(1979, 9, 3),\n",
    "                   date(1953, 9, 26),\n",
    "                   date(1968, 10, 19),\n",
    "                   date(2009, 11, 9),\n",
    "                   date(1999, 8, 29),\n",
    "                   date(2015, 10, 1),\n",
    "                   date(2008, 9, 2),\n",
    "                   date(2004, 10, 10),\n",
    "                   date(2004, 9, 16),\n",
    "                   date(1992, 8, 24),\n",
    "                   date(2000, 9, 9),\n",
    "                   date(1971, 9, 16),\n",
    "                   date(1996, 9, 2),\n",
    "                   date(1998, 9, 3),\n",
    "                   date(1951, 10, 2),\n",
    "                   date(1979, 9, 12),\n",
    "                   date(2007, 10, 31),\n",
    "                   date(1953, 10, 9),\n",
    "                   date(1952, 8, 30),\n",
    "                   date(1969, 9, 7),\n",
    "                   date(2015, 8, 30),\n",
    "                   date(1959, 10, 8),\n",
    "                   date(2002, 7, 13),\n",
    "                   date(1961, 10, 29),\n",
    "                   date(2007, 5, 9),\n",
    "                   date(2016, 10, 7),\n",
    "                   date(1964, 9, 20),\n",
    "                   date(1979, 7, 11),\n",
    "                   date(1950, 10, 18),\n",
    "                   date(2008, 8, 31),\n",
    "                   date(2012, 8, 25),\n",
    "                   date(1966, 7, 24),\n",
    "                   date(2010, 8, 10),\n",
    "                   date(2005, 8, 25),\n",
    "                   date(2003, 6, 30),\n",
    "                   date(1956, 7, 6),\n",
    "                   date(1974, 9, 8),\n",
    "                   date(1966, 6, 30),\n",
    "                   date(2016, 9, 14),\n",
    "                   date(1968, 6, 18),\n",
    "                   date(1982, 9, 11),\n",
    "                   date(1976, 9, 13),\n",
    "                   date(1975, 7, 29),\n",
    "                   date(2007, 9, 13),\n",
    "                   date(1970, 9, 27),\n",
    "                   date(1969, 10, 2),\n",
    "                   date(2010, 8, 31),\n",
    "                   date(1995, 10, 4),\n",
    "                   date(1969, 8, 29),\n",
    "                   date(1984, 10, 26),\n",
    "                   date(1973, 9, 3),\n",
    "                   date(1976, 5, 23),\n",
    "                   date(2001, 11, 5),\n",
    "                   date(2010, 6, 30),\n",
    "                   date(1985, 10, 10),\n",
    "                   date(1970, 7, 22),\n",
    "                   date(1972, 5, 28),\n",
    "                   date(1982, 6, 18),\n",
    "                   date(2001, 8, 6),\n",
    "                   date(1953, 8, 29),\n",
    "                   date(1965, 9, 8),\n",
    "                   date(1964, 9, 10),\n",
    "                   date(1959, 10, 18),\n",
    "                   date(1957, 6, 8),\n",
    "                   date(1988, 9, 10),\n",
    "                   date(2005, 6, 11),\n",
    "                   date(1953, 6, 6),\n",
    "                   date(2003, 8, 30),\n",
    "                   date(2002, 10, 3),\n",
    "                   date(1968, 8, 10),\n",
    "                   date(1999, 10, 15),\n",
    "                   date(2002, 9, 4),\n",
    "                   date(2001, 6, 12),\n",
    "                   date(2017, 9, 10),\n",
    "                   date(2005, 10, 5),\n",
    "                   date(2005, 7, 10),\n",
    "                   date(1973, 6, 7),\n",
    "                   date(1999, 9, 15),\n",
    "                   date(2005, 9, 20),\n",
    "                   date(1995, 6, 5),\n",
    "                   date(2003, 7, 25),\n",
    "                   date(2004, 9, 13),\n",
    "                   date(1964, 6, 6),\n",
    "                   date(1973, 6, 23),\n",
    "                   date(2005, 9, 12),\n",
    "                   date(2012, 6, 23),\n",
    "                   date(1961, 9, 11),\n",
    "                   date(1990, 5, 25),\n",
    "                   date(2017, 6, 21),\n",
    "                   date(1975, 6, 27),\n",
    "                   date(1959, 6, 18),\n",
    "                   date(2004, 9, 5),\n",
    "                   date(1987, 10, 12),\n",
    "                   date(1995, 7, 27),\n",
    "                   date(1964, 10, 14),\n",
    "                   date(1970, 8, 6),\n",
    "                   date(1969, 10, 1),\n",
    "                   date(1996, 10, 8),\n",
    "                   date(1968, 8, 28),\n",
    "                   date(1956, 10, 15),\n",
    "                   date(1975, 9, 23),\n",
    "                   date(1970, 9, 13),\n",
    "                   date(1975, 10, 16),\n",
    "                   date(1990, 10, 9),\n",
    "                   date(2005, 10, 24),\n",
    "                   date(1950, 8, 31),\n",
    "                   date(2000, 10, 3),\n",
    "                   date(2002, 10, 11),\n",
    "                   date(1983, 8, 28),\n",
    "                   date(1960, 7, 29),\n",
    "                   date(1950, 10, 21),\n",
    "                   date(1995, 8, 2),\n",
    "                   date(1956, 9, 24),\n",
    "                   date(2016, 9, 1),\n",
    "                   date(1993, 6, 1),\n",
    "                   date(1987, 9, 7),\n",
    "                   date(2012, 5, 28),\n",
    "                   date(1995, 8, 23),\n",
    "                   date(1969, 8, 18),\n",
    "                   date(2001, 9, 14),\n",
    "                   date(2000, 8, 23),\n",
    "                   date(1974, 10, 7),\n",
    "                   date(1986, 8, 13),\n",
    "                   date(1977, 8, 27),\n",
    "                   date(2008, 7, 16),\n",
    "                   date(1996, 7, 11),\n",
    "                   date(1988, 9, 4),\n",
    "                   date(1975, 10, 1),\n",
    "                   date(2003, 8, 14),\n",
    "                   date(1957, 9, 8),\n",
    "                   date(2005, 7, 6),\n",
    "                   date(1960, 9, 15),\n",
    "                   date(1974, 9, 27),\n",
    "                   date(1965, 6, 15),\n",
    "                   date(1999, 9, 21),\n",
    "                   date(2004, 8, 13),\n",
    "                   date(1994, 10, 2),\n",
    "                   date(1971, 8, 10),\n",
    "                   date(2008, 7, 22),\n",
    "                   date(2000, 9, 18),\n",
    "                   date(1960, 9, 10),\n",
    "                   date(2006, 6, 13),\n",
    "                   date(2017, 10, 29),\n",
    "                   date(1972, 9, 5),\n",
    "                   date(1964, 10, 5),\n",
    "                   date(1991, 10, 16),\n",
    "                   date(1969, 9, 21),\n",
    "                   date(1998, 9, 20),\n",
    "                   date(1977, 9, 5),\n",
    "                   date(1988, 9, 13),\n",
    "                   date(1974, 6, 25),\n",
    "                   date(2010, 7, 23),\n",
    "                   date(2007, 9, 22),\n",
    "                   date(1984, 9, 9),\n",
    "                   date(1989, 9, 22),\n",
    "                   date(1992, 6, 25),\n",
    "                   date(1971, 8, 29),\n",
    "                   date(1953, 9, 20),\n",
    "                   date(1985, 8, 15),\n",
    "                   date(2016, 6, 6),\n",
    "                   date(2006, 8, 30),\n",
    "                   date(1980, 11, 18),\n",
    "                   date(2011, 7, 18)]\n",
    "\n",
    "# Print the first and last scrambled dates\n",
    "print(dates_scrambled[0])\n",
    "print(dates_scrambled[-1])\n",
    "\n",
    "# Put the dates in order\n",
    "dates_ordered = sorted(dates_scrambled)\n",
    "\n",
    "# Print the first and last ordered dates\n",
    "print(dates_ordered[0])\n",
    "print(dates_ordered[-1])"
   ],
   "metadata": {
    "collapsed": false
   }
  },
  {
   "cell_type": "code",
   "execution_count": 7,
   "outputs": [
    {
     "name": "stdout",
     "output_type": "stream",
     "text": [
      "ISO: Our earliest hurricane date: 1950-08-31\n",
      "US: Our earliest hurricane date: 08/31/1950\n"
     ]
    }
   ],
   "source": [
    "# Assign the earliest date to first_date\n",
    "first_date = min(florida_hurricane_dates)\n",
    "\n",
    "# Convert to ISO and US formats\n",
    "iso = \"Our earliest hurricane date: \" + first_date.isoformat()\n",
    "us = \"Our earliest hurricane date: \" + first_date.strftime(\"%m/%d/%Y\")\n",
    "\n",
    "print(\"ISO: \" + iso)\n",
    "print(\"US: \" + us)"
   ],
   "metadata": {
    "collapsed": false
   }
  },
  {
   "cell_type": "code",
   "execution_count": 8,
   "outputs": [
    {
     "name": "stdout",
     "output_type": "stream",
     "text": [
      "1992-08\n"
     ]
    }
   ],
   "source": [
    "# Import date\n",
    "from datetime import date\n",
    "\n",
    "# Create a date object\n",
    "andrew = date(1992, 8, 26)\n",
    "\n",
    "# Print the date in the format 'YYYY-MM'\n",
    "print(andrew.strftime('%Y-%m'))"
   ],
   "metadata": {
    "collapsed": false
   }
  },
  {
   "cell_type": "code",
   "execution_count": 9,
   "outputs": [
    {
     "name": "stdout",
     "output_type": "stream",
     "text": [
      "August (1992)\n"
     ]
    }
   ],
   "source": [
    "# Import date\n",
    "from datetime import date\n",
    "\n",
    "# Create a date object\n",
    "andrew = date(1992, 8, 26)\n",
    "\n",
    "# Print the date in the format 'MONTH (YYYY)'\n",
    "print(andrew.strftime(\"%B (%Y)\"))"
   ],
   "metadata": {
    "collapsed": false
   }
  },
  {
   "cell_type": "code",
   "execution_count": null,
   "outputs": [],
   "source": [
    "# Import date\n",
    "from datetime import date\n",
    "\n",
    "# Create a date object\n",
    "andrew = date(1992, 8, 26)\n",
    "\n",
    "# Print the date in the format 'YYYY-DDD'\n",
    "print(andrew.strftime(\"%Y-%j\"))"
   ],
   "metadata": {
    "collapsed": false
   }
  }
 ],
 "metadata": {
  "kernelspec": {
   "display_name": "Python 3",
   "language": "python",
   "name": "python3"
  },
  "language_info": {
   "codemirror_mode": {
    "name": "ipython",
    "version": 2
   },
   "file_extension": ".py",
   "mimetype": "text/x-python",
   "name": "python",
   "nbconvert_exporter": "python",
   "pygments_lexer": "ipython2",
   "version": "2.7.6"
  }
 },
 "nbformat": 4,
 "nbformat_minor": 0
}
