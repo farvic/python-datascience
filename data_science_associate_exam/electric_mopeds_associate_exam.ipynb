{
 "cells": [
  {
   "cell_type": "markdown",
   "source": [
    "### Task 1 - Data Validation\n",
    "Assess data quality and perform validation tasks"
   ],
   "metadata": {
    "collapsed": false
   }
  },
  {
   "cell_type": "code",
   "execution_count": 40,
   "outputs": [
    {
     "data": {
      "text/plain": "   owned     make_model review_month web_browser reviewer_age primary_use  \\\n0      1   Nielah-Eyden          Oct      Chrome           23   Commuting   \n1      0  Nielah-Keetra          Jun         NaN           24   Commuting   \n2      0   Lunna-Keetra       23-Oct      Chrome           28   Commuting   \n3      1   Hoang-Keetra       07-Nov          IE           41     Leisure   \n4      1   Lunna-Keetra       16-Sep      Chrome           33     Leisure   \n\n  value_for_money  overall_rating  \n0            5/10           18.62  \n1            4/10           15.55  \n2            5/10           12.76  \n3            5/10           17.07  \n4            5/10           12.29  ",
      "text/html": "<div>\n<style scoped>\n    .dataframe tbody tr th:only-of-type {\n        vertical-align: middle;\n    }\n\n    .dataframe tbody tr th {\n        vertical-align: top;\n    }\n\n    .dataframe thead th {\n        text-align: right;\n    }\n</style>\n<table border=\"1\" class=\"dataframe\">\n  <thead>\n    <tr style=\"text-align: right;\">\n      <th></th>\n      <th>owned</th>\n      <th>make_model</th>\n      <th>review_month</th>\n      <th>web_browser</th>\n      <th>reviewer_age</th>\n      <th>primary_use</th>\n      <th>value_for_money</th>\n      <th>overall_rating</th>\n    </tr>\n  </thead>\n  <tbody>\n    <tr>\n      <th>0</th>\n      <td>1</td>\n      <td>Nielah-Eyden</td>\n      <td>Oct</td>\n      <td>Chrome</td>\n      <td>23</td>\n      <td>Commuting</td>\n      <td>5/10</td>\n      <td>18.62</td>\n    </tr>\n    <tr>\n      <th>1</th>\n      <td>0</td>\n      <td>Nielah-Keetra</td>\n      <td>Jun</td>\n      <td>NaN</td>\n      <td>24</td>\n      <td>Commuting</td>\n      <td>4/10</td>\n      <td>15.55</td>\n    </tr>\n    <tr>\n      <th>2</th>\n      <td>0</td>\n      <td>Lunna-Keetra</td>\n      <td>23-Oct</td>\n      <td>Chrome</td>\n      <td>28</td>\n      <td>Commuting</td>\n      <td>5/10</td>\n      <td>12.76</td>\n    </tr>\n    <tr>\n      <th>3</th>\n      <td>1</td>\n      <td>Hoang-Keetra</td>\n      <td>07-Nov</td>\n      <td>IE</td>\n      <td>41</td>\n      <td>Leisure</td>\n      <td>5/10</td>\n      <td>17.07</td>\n    </tr>\n    <tr>\n      <th>4</th>\n      <td>1</td>\n      <td>Lunna-Keetra</td>\n      <td>16-Sep</td>\n      <td>Chrome</td>\n      <td>33</td>\n      <td>Leisure</td>\n      <td>5/10</td>\n      <td>12.29</td>\n    </tr>\n  </tbody>\n</table>\n</div>"
     },
     "metadata": {},
     "output_type": "display_data"
    },
    {
     "name": "stdout",
     "output_type": "stream",
     "text": [
      "<class 'pandas.core.frame.DataFrame'>\n",
      "RangeIndex: 1500 entries, 0 to 1499\n",
      "Data columns (total 8 columns):\n",
      " #   Column           Non-Null Count  Dtype  \n",
      "---  ------           --------------  -----  \n",
      " 0   owned            1500 non-null   int64  \n",
      " 1   make_model       1500 non-null   object \n",
      " 2   review_month     1500 non-null   object \n",
      " 3   web_browser      1350 non-null   object \n",
      " 4   reviewer_age     1500 non-null   object \n",
      " 5   primary_use      1500 non-null   object \n",
      " 6   value_for_money  1500 non-null   object \n",
      " 7   overall_rating   1500 non-null   float64\n",
      "dtypes: float64(1), int64(1), object(6)\n",
      "memory usage: 93.9+ KB\n"
     ]
    }
   ],
   "source": [
    "from datetime import datetime as dt\n",
    "import re\n",
    "\n",
    "import numpy as np\n",
    "import pandas as pd\n",
    "\n",
    "# Reading the dataset\n",
    "emo_df = pd.read_csv('electric_bike_ratings_2212.csv')\n",
    "# Meeting our data\n",
    "display(emo_df.head())\n",
    "emo_df.info()\n",
    "\n",
    "year = dt.now().year.__str__()\n",
    "# fixing year\n",
    "emo_df['review_month'] = pd.to_datetime(emo_df['review_month'] + '-' + year)"
   ],
   "metadata": {
    "collapsed": false
   }
  },
  {
   "cell_type": "code",
   "execution_count": 41,
   "outputs": [
    {
     "name": "stdout",
     "output_type": "stream",
     "text": [
      "['Chrome', 'unknown', 'IE', 'Firefox', 'Safari', 'Android', 'Opera']\n",
      "Categories (7, object): ['Android', 'Chrome', 'Firefox', 'IE', 'Opera', 'Safari', 'unknown']\n",
      "CPU times: total: 0 ns\n",
      "Wall time: 4 ms\n"
     ]
    }
   ],
   "source": [
    "%%time\n",
    "\n",
    "# emo_df['review_month'] = emo_df['review_month'].apply(lambda x: x.strftime('%Y-%m'))\n",
    "\n",
    "# converting make_model to a categorical variable\n",
    "emo_df['make_model'] = emo_df['make_model'].astype('category')\n",
    "\n",
    "# convert the web_browser null values are replaced with 'unknown'\n",
    "emo_df['web_browser'].fillna('unknown', inplace=True)\n",
    "emo_df['web_browser'] = emo_df['web_browser'].astype('category')\n",
    "\n",
    "# reviewer age string should be converted to integers and null values should be replaced with the mean\n",
    "emo_df['reviewer_age'] = emo_df['reviewer_age'].replace('-', np.nan).astype(\"Int64\")\n",
    "mean_age = emo_df['reviewer_age'].mean(numeric_only=True).astype(int)\n",
    "emo_df['reviewer_age'] = emo_df['reviewer_age'].fillna(mean_age)\n"
   ],
   "metadata": {
    "collapsed": false
   }
  },
  {
   "cell_type": "code",
   "execution_count": 42,
   "outputs": [],
   "source": [
    "# Converting primary_use to a categorical variable\n",
    "emo_df['primary_use'] = emo_df['primary_use'].astype('category')"
   ],
   "metadata": {
    "collapsed": false
   }
  },
  {
   "cell_type": "code",
   "execution_count": 43,
   "outputs": [
    {
     "name": "stdout",
     "output_type": "stream",
     "text": [
      "int64\n"
     ]
    }
   ],
   "source": [
    "# Convert value_for_money to a numeric value considering the original value is a rating from 1 to 10 and it has to be discrete\n",
    "emo_df['value_for_money'] = emo_df['value_for_money'].apply(lambda x: int(x.split('/')[0]))\n",
    "print(emo_df['value_for_money'].dtype)"
   ],
   "metadata": {
    "collapsed": false
   }
  },
  {
   "cell_type": "code",
   "execution_count": 44,
   "outputs": [
    {
     "data": {
      "text/plain": "owned                       int64\nmake_model               category\nreview_month       datetime64[ns]\nweb_browser              category\nreviewer_age                Int64\nprimary_use              category\nvalue_for_money             int64\noverall_rating            float64\ndtype: object"
     },
     "execution_count": 44,
     "metadata": {},
     "output_type": "execute_result"
    }
   ],
   "source": [
    "emo_df.dtypes"
   ],
   "metadata": {
    "collapsed": false
   }
  },
  {
   "cell_type": "code",
   "execution_count": 44,
   "outputs": [],
   "source": [],
   "metadata": {
    "collapsed": false
   }
  }
 ],
 "metadata": {
  "kernelspec": {
   "display_name": "Python 3",
   "language": "python",
   "name": "python3"
  },
  "language_info": {
   "codemirror_mode": {
    "name": "ipython",
    "version": 2
   },
   "file_extension": ".py",
   "mimetype": "text/x-python",
   "name": "python",
   "nbconvert_exporter": "python",
   "pygments_lexer": "ipython2",
   "version": "2.7.6"
  }
 },
 "nbformat": 4,
 "nbformat_minor": 0
}
