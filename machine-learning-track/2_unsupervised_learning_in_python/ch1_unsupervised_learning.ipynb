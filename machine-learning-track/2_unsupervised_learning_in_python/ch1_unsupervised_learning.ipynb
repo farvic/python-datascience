{
 "cells": [
  {
   "cell_type": "code",
   "execution_count": 25,
   "metadata": {
    "collapsed": true
   },
   "outputs": [
    {
     "name": "stdout",
     "output_type": "stream",
     "text": [
      "(150, 4) (150,)\n"
     ]
    }
   ],
   "source": [
    "from sklearn.model_selection import train_test_split\n",
    "# Import KMeans\n",
    "from sklearn.cluster import KMeans\n",
    "from sklearn import datasets\n",
    "import pandas as pd\n",
    "\n",
    "iris = datasets.load_iris()\n",
    "# iris_df = pd.DataFrame(iris.data, columns=iris.feature_names)\n",
    "\n",
    "X = iris.data\n",
    "y = iris.target\n",
    "print(X.shape, y.shape)\n",
    "\n",
    "#\n",
    "#\n",
    "#\n",
    "# # Create a KMeans instance with 3 clusters: model\n",
    "# model = KMeans(n_clusters=3, n_init='auto')\n",
    "# #\n",
    "# # # Fit model to points\n",
    "# model.fit(points)\n",
    "# #\n",
    "# # Determine the cluster labels of new_points: labels\n",
    "# labels = model.predict(new_points)\n",
    "#\n",
    "# # Print cluster labels of new_points\n",
    "# print(labels)\n"
   ]
  },
  {
   "cell_type": "code",
   "execution_count": 23,
   "outputs": [
    {
     "ename": "NameError",
     "evalue": "name 'new_points' is not defined",
     "output_type": "error",
     "traceback": [
      "\u001B[1;31m---------------------------------------------------------------------------\u001B[0m",
      "\u001B[1;31mNameError\u001B[0m                                 Traceback (most recent call last)",
      "Cell \u001B[1;32mIn[23], line 5\u001B[0m\n\u001B[0;32m      2\u001B[0m \u001B[38;5;28;01mimport\u001B[39;00m \u001B[38;5;21;01mmatplotlib\u001B[39;00m\u001B[38;5;21;01m.\u001B[39;00m\u001B[38;5;21;01mpyplot\u001B[39;00m \u001B[38;5;28;01mas\u001B[39;00m \u001B[38;5;21;01mplt\u001B[39;00m\n\u001B[0;32m      4\u001B[0m \u001B[38;5;66;03m# Assign the columns of new_points: xs and ys\u001B[39;00m\n\u001B[1;32m----> 5\u001B[0m xs \u001B[38;5;241m=\u001B[39m \u001B[43mnew_points\u001B[49m[:,\u001B[38;5;241m0\u001B[39m]\n\u001B[0;32m      6\u001B[0m ys \u001B[38;5;241m=\u001B[39m new_points[:,\u001B[38;5;241m1\u001B[39m]\n\u001B[0;32m      9\u001B[0m \u001B[38;5;66;03m# Make a scatter plot of xs and ys, using labels to define the colors\u001B[39;00m\n",
      "\u001B[1;31mNameError\u001B[0m: name 'new_points' is not defined"
     ]
    }
   ],
   "source": [
    "# Import pyplot\n",
    "import matplotlib.pyplot as plt\n",
    "\n",
    "# Assign the columns of new_points: xs and ys\n",
    "xs = new_points[:,0]\n",
    "ys = new_points[:,1]\n",
    "\n",
    "\n",
    "# Make a scatter plot of xs and ys, using labels to define the colors\n",
    "plt.scatter(xs, ys, c=labels, alpha=0.5)\n",
    "\n",
    "# Assign the cluster centers: centroids\n",
    "centroids = model.cluster_centers_\n",
    "\n",
    "# Assign the columns of centroids: centroids_x, centroids_y\n",
    "centroids_x = centroids[:,0]\n",
    "centroids_y = centroids[:,1]\n",
    "\n",
    "# Make a scatter plot of centroids_x and centroids_y\n",
    "plt.scatter(centroids_x, centroids_y, marker='D', s=50)\n",
    "plt.show()\n"
   ],
   "metadata": {
    "collapsed": false
   }
  },
  {
   "cell_type": "markdown",
   "source": [
    "### How many clusters of grain? Plotting inertia"
   ],
   "metadata": {
    "collapsed": false
   }
  },
  {
   "cell_type": "code",
   "execution_count": 28,
   "outputs": [
    {
     "data": {
      "text/plain": "<Figure size 640x480 with 1 Axes>",
      "image/png": "[encoded data removed]"
     },
     "metadata": {},
     "output_type": "display_data"
    }
   ],
   "source": [
    "from sklearn.cluster import KMeans\n",
    "import matplotlib.pyplot as plt\n",
    "import pandas as pd\n",
    "\n",
    "grains = pd.read_csv('datasets/Grains/seeds.csv', header=None)\n",
    "\n",
    "samples = grains.drop([7], axis=1).values\n",
    "\n",
    "ks = range(1, 6)\n",
    "inertias = []\n",
    "\n",
    "for k in ks:\n",
    "    # Create a KMeans instance with k clusters: model\n",
    "    model = KMeans(n_clusters=k, n_init='auto')\n",
    "\n",
    "    # Fit model to samples\n",
    "    model.fit(samples)\n",
    "\n",
    "    # Append the inertia to the list of inertias\n",
    "    inertias.append(model.inertia_)\n",
    "\n",
    "# Plot ks vs inertias\n",
    "plt.plot(ks, inertias, '-o')\n",
    "plt.xlabel('number of clusters, k')\n",
    "plt.ylabel('inertia')\n",
    "plt.xticks(ks)\n",
    "plt.show()\n"
   ],
   "metadata": {
    "collapsed": false
   }
  },
  {
   "cell_type": "code",
   "execution_count": null,
   "outputs": [],
   "source": [
    "# Create a KMeans model with 3 clusters: model\n",
    "model = KMeans(n_clusters=3, n_init='auto')\n",
    "\n",
    "# Use fit_predict to fit model and obtain cluster labels: labels\n",
    "labels = model.fit_predict(samples)\n",
    "\n",
    "# Create a DataFrame with labels and varieties as columns: df\n",
    "df = pd.DataFrame({'labels': labels, 'varieties': grains[7]})\n",
    "\n",
    "# Create crosstab: ct\n",
    "ct = pd.crosstab(df['labels'], df['varieties'])\n",
    "\n",
    "# Display ct\n",
    "print(ct)"
   ],
   "metadata": {
    "collapsed": false
   }
  },
  {
   "cell_type": "markdown",
   "source": [
    "The cross-tabulation shows that the 3 varieties of grain separate really well into 3 clusters.\n",
    "But depending on the type of data you are working with, the clustering may not always be this good.\n",
    "Is there anything you can do in such situations to improve your clustering?"
   ],
   "metadata": {
    "collapsed": false
   }
  },
  {
   "cell_type": "markdown",
   "source": [
    "### Evaluating the grain clustering"
   ],
   "metadata": {
    "collapsed": false
   }
  },
  {
   "cell_type": "code",
   "execution_count": 29,
   "outputs": [
    {
     "name": "stdout",
     "output_type": "stream",
     "text": [
      "Homogeneity: 0.6934607041029826\n",
      "Completeness: 0.696395547296022\n",
      "V-measure: 0.6949250270680578\n",
      "Adjusted Rand Index: 0.7166198557361053\n",
      "Adjusted Mutual Information Score: 0.6922160128787073\n"
     ]
    }
   ],
   "source": [
    "from sklearn.metrics import homogeneity_score\n",
    "from sklearn.metrics import completeness_score\n",
    "from sklearn.metrics import v_measure_score\n",
    "from sklearn.metrics import adjusted_rand_score\n",
    "from sklearn.metrics import adjusted_mutual_info_score\n",
    "\n",
    "# Create a KMeans model with 3 clusters: model\n",
    "model = KMeans(n_clusters=3, n_init='auto')\n",
    "\n",
    "# Use fit_predict to fit model and obtain cluster labels: labels\n",
    "labels = model.fit_predict(samples)\n",
    "\n",
    "# Calculate the homogeneity score\n",
    "homogeneity = homogeneity_score(grains[7], labels)\n",
    "\n",
    "# Calculate the completeness score\n",
    "completeness = completeness_score(grains[7], labels)\n",
    "\n",
    "# Calculate the V-measure\n",
    "v_measure = v_measure_score(grains[7], labels)\n",
    "\n",
    "# Calculate the Adjusted Rand Score\n",
    "ARI = adjusted_rand_score(grains[7], labels)\n",
    "\n",
    "# Calculate the Adjusted Mutual Information Score\n",
    "AMI = adjusted_mutual_info_score(grains[7], labels)\n",
    "\n",
    "# Print the score\n",
    "print(\"Homogeneity: {}\".format(homogeneity))\n",
    "print(\"Completeness: {}\".format(completeness))\n",
    "print(\"V-measure: {}\".format(v_measure))\n",
    "print(\"Adjusted Rand Index: {}\".format(ARI))\n",
    "print(\"Adjusted Mutual Information Score: {}\".format(AMI))\n"
   ],
   "metadata": {
    "collapsed": false
   }
  },
  {
   "cell_type": "code",
   "execution_count": 30,
   "outputs": [
    {
     "data": {
      "text/plain": "<Figure size 640x480 with 1 Axes>",
      "image/png": "[encoded data removed]"
     },
     "metadata": {},
     "output_type": "display_data"
    }
   ],
   "source": [
    "# Import pyplot\n",
    "import matplotlib.pyplot as plt\n",
    "\n",
    "# Assign the columns of new_points: xs and ys\n",
    "xs = samples[:,0]\n",
    "ys = samples[:,1]\n",
    "\n",
    "# Make a scatter plot of xs and ys, using labels to define the colors\n",
    "plt.scatter(xs, ys, c=labels, alpha=0.5)\n",
    "\n",
    "# Assign the cluster centers: centroids\n",
    "centroids = model.cluster_centers_\n",
    "\n",
    "# Assign the columns of centroids: centroids_x, centroids_y\n",
    "centroids_x = centroids[:,0]\n",
    "centroids_y = centroids[:,1]\n",
    "\n",
    "# Make a scatter plot of centroids_x and centroids_y\n",
    "plt.scatter(centroids_x, centroids_y, marker='D', s=50)\n",
    "plt.show()"
   ],
   "metadata": {
    "collapsed": false
   }
  },
  {
   "cell_type": "code",
   "execution_count": null,
   "outputs": [],
   "source": [
    "# Import Normalizer\n",
    "from sklearn.preprocessing import Normalizer\n",
    "\n",
    "# Create a KMeans model with 10 clusters: model\n",
    "model = KMeans(n_clusters=10, n_init='auto')\n",
    "\n",
    "# Use fit_predict to fit model and obtain cluster labels: labels\n",
    "labels = model.fit_predict(samples)\n",
    "\n",
    "# Create a DataFrame aligning labels and companies: df\n",
    "df = pd.DataFrame({'labels': labels, 'companies': companies})\n",
    "\n",
    "# Display df sorted by cluster label\n",
    "print(df.sort_values('labels'))\n"
   ],
   "metadata": {
    "collapsed": false
   }
  },
  {
   "cell_type": "markdown",
   "source": [
    "### Transforming features for better clusterings"
   ],
   "metadata": {
    "collapsed": false
   }
  },
  {
   "cell_type": "code",
   "execution_count": 41,
   "outputs": [],
   "source": [
    "# Perform the necessary imports\n",
    "from sklearn.pipeline import make_pipeline\n",
    "from sklearn.preprocessing import StandardScaler\n",
    "from sklearn.cluster import KMeans\n",
    "\n",
    "# Create scaler: scaler\n",
    "scaler = StandardScaler()\n",
    "\n",
    "# Create KMeans instance: kmeans\n",
    "kmeans = KMeans(n_clusters=4, n_init='auto')\n",
    "\n",
    "# Create pipeline: pipeline\n",
    "pipeline = make_pipeline(scaler, kmeans)"
   ],
   "metadata": {
    "collapsed": false
   }
  },
  {
   "cell_type": "code",
   "execution_count": 42,
   "outputs": [
    {
     "name": "stdout",
     "output_type": "stream",
     "text": [
      "species  Bream  Pike  Roach  Smelt\n",
      "labels                            \n",
      "0            0    17      0      0\n",
      "1           33     0      1      0\n",
      "2            0     0      0     13\n",
      "3            1     0     19      1\n"
     ]
    }
   ],
   "source": [
    "# Import pandas\n",
    "import pandas as pd\n",
    "\n",
    "fish_df = pd.read_csv('datasets/fish.csv', header=None)\n",
    "samples = fish_df.drop([0], axis=1).values\n",
    "species = fish_df[0].values\n",
    "\n",
    "# Fit the pipeline to samples\n",
    "pipeline.fit(samples)\n",
    "\n",
    "# Calculate the cluster labels: labels\n",
    "labels = pipeline.predict(samples)\n",
    "\n",
    "# Create a DataFrame with labels and species as columns: df\n",
    "df = pd.DataFrame({'labels': labels, 'species': species})\n",
    "\n",
    "# Create crosstab: ct\n",
    "ct = pd.crosstab(df['labels'], df['species'])\n",
    "\n",
    "# Display ct\n",
    "print(ct)"
   ],
   "metadata": {
    "collapsed": false
   }
  },
  {
   "cell_type": "markdown",
   "source": [
    "The cross-tabulation shows that the 4 clusters are made up of 4 species of fish. The clustering is pretty good, but not perfect."
   ],
   "metadata": {
    "collapsed": false
   }
  },
  {
   "cell_type": "code",
   "execution_count": null,
   "outputs": [],
   "source": [
    "### Evaluating the fish clustering\n",
    "\n",
    "# Import pandas\n",
    "import pandas as pd\n",
    "\n",
    "fish_df = pd.read_csv('datasets/fish.csv', header=None)\n",
    "\n",
    "samples = fish_df.drop([0], axis=1).values\n",
    "species = fish_df[0].values\n",
    "\n",
    "# Fit the pipeline to samples\n",
    "pipeline.fit(samples)\n",
    "\n",
    "# Calculate the cluster labels: labels\n",
    "labels = pipeline.predict(samples)\n",
    "\n",
    "# Create a DataFrame with labels and species as columns: df\n",
    "df = pd.DataFrame({'labels': labels, 'species': species})\n",
    "\n",
    "# Create crosstab: ct\n",
    "ct = pd.crosstab(df['labels'], df['species'])\n",
    "\n",
    "# Display ct\n",
    "print(ct)"
   ],
   "metadata": {
    "collapsed": false
   }
  },
  {
   "cell_type": "markdown",
   "source": [
    "### Clustering stocks using KMeans\n",
    "\n",
    "Clustering stocks using KMeans\n",
    "In this exercise, you'll cluster companies using their daily stock price movements (i.e. the dollar difference between the closing and opening prices for each trading day). You are given a NumPy array movements of daily price movements from 2010 to 2015 (obtained from Yahoo! Finance), where each row corresponds to a company, and each column corresponds to a trading day.\n",
    "\n",
    "Some stocks are more expensive than others. To account for this, include a Normalizer at the beginning of your pipeline. The Normalizer will separately transform each company's stock price to a relative scale before the clustering begins.\n",
    "\n",
    "Note that Normalizer() is different to StandardScaler(), which you used in the previous exercise. While **StandardScaler()** standardizes features (such as the features of the fish data from the previous exercise) by **removing the mean and scaling to unit variance**, **Normalizer() rescales each sample - here, each company's stock price - independently of the other**.\n",
    "\n",
    "KMeans and make_pipeline have already been imported for you."
   ],
   "metadata": {
    "collapsed": false
   }
  },
  {
   "cell_type": "code",
   "execution_count": 48,
   "outputs": [
    {
     "name": "stdout",
     "output_type": "stream",
     "text": [
      "    labels                           companies\n",
      "27       0                      Kimberly-Clark\n",
      "56       0                            Wal-Mart\n",
      "0        1                               Apple\n",
      "58       1                               Xerox\n",
      "26       1                      JPMorgan Chase\n",
      "35       1                            Navistar\n",
      "44       1                        Schlumberger\n",
      "22       1                                  HP\n",
      "18       1                       Goldman Sachs\n",
      "17       1                     Google/Alphabet\n",
      "16       1                   General Electrics\n",
      "13       1                   DuPont de Nemours\n",
      "49       1                               Total\n",
      "51       1                   Texas instruments\n",
      "1        1                                 AIG\n",
      "10       1                      ConocoPhillips\n",
      "53       1                       Valero Energy\n",
      "8        1                         Caterpillar\n",
      "2        1                              Amazon\n",
      "57       1                               Exxon\n",
      "5        1                     Bank of America\n",
      "12       1                             Chevron\n",
      "55       1                         Wells Fargo\n",
      "34       2                          Mitsubishi\n",
      "54       2                            Walgreen\n",
      "45       2                                Sony\n",
      "47       2                            Symantec\n",
      "48       2                              Toyota\n",
      "33       2                           Microsoft\n",
      "50       2  Taiwan Semiconductor Manufacturing\n",
      "36       2                    Northrop Grumman\n",
      "32       2                                  3M\n",
      "29       2                     Lookheed Martin\n",
      "59       2                               Yahoo\n",
      "3        2                    American express\n",
      "4        2                              Boeing\n",
      "24       2                               Intel\n",
      "7        2                               Canon\n",
      "11       2                               Cisco\n",
      "14       2                                Dell\n",
      "15       2                                Ford\n",
      "23       2                                 IBM\n",
      "21       2                               Honda\n",
      "20       2                          Home Depot\n",
      "6        3            British American Tobacco\n",
      "9        3                   Colgate-Palmolive\n",
      "52       3                            Unilever\n",
      "19       3                     GlaxoSmithKline\n",
      "30       3                          MasterCard\n",
      "43       3                                 SAP\n",
      "42       3                   Royal Dutch Shell\n",
      "41       3                       Philip Morris\n",
      "40       3                      Procter Gamble\n",
      "39       3                              Pfizer\n",
      "38       3                               Pepsi\n",
      "37       3                            Novartis\n",
      "25       3                   Johnson & Johnson\n",
      "28       3                           Coca Cola\n",
      "31       3                           McDonalds\n",
      "46       3                      Sanofi-Aventis\n"
     ]
    }
   ],
   "source": [
    "from sklearn.preprocessing import Normalizer\n",
    "from sklearn.pipeline import make_pipeline\n",
    "from sklearn.cluster import KMeans\n",
    "from pandas import read_csv, DataFrame\n",
    "\n",
    "stocks_df = read_csv('datasets/company-stock-movements-2010-2015-incl.csv', index_col=0)\n",
    "\n",
    "# Get the NumPy array of movements: movements\n",
    "movements = stocks_df.values\n",
    "\n",
    "# Get the stock companies names: companies\n",
    "companies = stocks_df.index\n",
    "\n",
    "# Create a normalizer: normalizer\n",
    "normalizer = Normalizer()\n",
    "\n",
    "# Create a KMeans model with 4 clusters: kmeans\n",
    "kmeans = KMeans(n_clusters=4, n_init='auto')\n",
    "\n",
    "# Make a pipeline chaining normalizer and kmeans: pipeline\n",
    "pipeline = make_pipeline(normalizer, kmeans)\n",
    "\n",
    "# Fit pipeline to the daily price movements\n",
    "pipeline.fit(movements)\n",
    "\n",
    "# Calculate the cluster labels: labels\n",
    "labels = pipeline.predict(movements)\n",
    "\n",
    "# Create a DataFrame aligning labels and companies: df\n",
    "df = DataFrame({'labels': labels, 'companies': companies})\n",
    "\n",
    "# Display df sorted by cluster label\n",
    "print(df.sort_values('labels'))"
   ],
   "metadata": {
    "collapsed": false
   }
  },
  {
   "cell_type": "code",
   "execution_count": null,
   "outputs": [],
   "source": [],
   "metadata": {
    "collapsed": false
   }
  }
 ],
 "metadata": {
  "kernelspec": {
   "display_name": "Python 3",
   "language": "python",
   "name": "python3"
  },
  "language_info": {
   "codemirror_mode": {
    "name": "ipython",
    "version": 2
   },
   "file_extension": ".py",
   "mimetype": "text/x-python",
   "name": "python",
   "nbconvert_exporter": "python",
   "pygments_lexer": "ipython2",
   "version": "2.7.6"
  }
 },
 "nbformat": 4,
 "nbformat_minor": 0
}
