{
 "cells": [
  {
   "cell_type": "code",
   "execution_count": 2,
   "outputs": [
    {
     "name": "stdout",
     "output_type": "stream",
     "text": [
      "Searching for songs by Calcinha Preta...\n",
      "\n",
      "Song 1: \"Agora Estou Sofrendo\"\n",
      "Song 2: \"Manchete dos Jornais\"\n",
      "Song 3: \"Dois Amores Duas Paixões\"\n",
      "Song 4: \"Hoje à Noite “Alone”\"\n",
      "Song 5: \"Por Amor\"\n",
      "Song 6: \"Mágica\"\n",
      "Song 7: \"O Navio e O Mar (Send Me An Angel)\"\n",
      "Song 8: \"Declaração De Amor\"\n",
      "Song 9: \"Seu Namorado\"\n",
      "Song 10: \"Segredo\"\n",
      "Song 11: \"Um Novo Amor “Good Bye”\"\n",
      "Song 12: \"Você Não Vale Nada\"\n",
      "Song 13: \"Paulinha (Without You)\"\n",
      "Song 14: \"Como Vou Deixar Você?\"\n",
      "Song 15: \"Quem Sabe Um Dia\"\n",
      "Song 16: \"Louca Por Ti\"\n",
      "Song 17: \"Ainda Te Amo\"\n",
      "Song 18: \"Adão e Eva\"\n",
      "Song 19: \"A Calcinha Preta É Nossa\"\n",
      "Song 20: \"Amor da Minha Vida\"\n",
      "Song 21: \"Ânsia\"\n",
      "Song 22: \"Renascerá\"\n",
      "Song 23: \"E O Vento Levou\"\n",
      "Song 24: \"Salve o Nosso Amor\"\n",
      "Song 25: \"Baby Doll\"\n",
      "Song 26: \"Hipnose\"\n",
      "Song 27: \"Faltou o Leite Ninho\"\n",
      "Song 28: \"Pensão Alimentícia\"\n",
      "Song 29: \"Hello\"\n",
      "Song 30: \"Tanto Amor Que Eu Te Dei\"\n",
      "Song 31: \"Desilusão\"\n",
      "Song 32: \"Abelha Que Virou Anjo\"\n",
      "Song 33: \"Furunfa\"\n",
      "Song 34: \"Te Quero Namorar\"\n",
      "Song 35: \"Eu Quero É Gozar A Vida\"\n",
      "Song 36: \"Te Amo Demais\"\n",
      "Song 37: \"Morrendo de Desejo\"\n",
      "Song 38: \"Por Que Tocou Meu Coração? (Because I’m a Girl)\"\n",
      "Song 39: \"Já Me Acostumei “Same Mistake”\"\n",
      "Song 40: \"Sonho Lindo\"\n",
      "Song 41: \"Meu Amor Não Vá\"\n",
      "Song 42: \"Cobertor\"\n",
      "Song 43: \"Romeu e Julieta\"\n",
      "Song 44: \"Puxei A Meu Pai\"\n",
      "Song 45: \"Por Que Te Amo?\"\n",
      "Song 46: \"Se Quiser é Assim\"\n",
      "Song 47: \"Perdoar\"\n",
      "Song 48: \"Quer Namorar Comigo?\"\n",
      "Song 49: \"Sai Solidão\"\n",
      "Song 50: \"Abra Meu Coração\"\n",
      "Song 51: \"Fique Amor\"\n",
      "Song 52: \"Vem Ver A Calcinha Preta\"\n",
      "Song 53: \"Não Tenho Nada\"\n",
      "Song 54: \"Desfile De Moda\"\n",
      "Song 55: \"Vem Me Deixar Louca\"\n",
      "Song 56: \"Calcinha Preta\"\n",
      "Song 57: \"Bebo e Choro\"\n",
      "Song 58: \"Não Diga, Não\"\n",
      "Song 59: \"Cada Paixão Uma Novela\"\n",
      "Song 60: \"Me Diz O Que Fazer (Voce Quem Sabe)\"\n",
      "Song 61: \"Fica Comigo\"\n",
      "Song 62: \"Tudo De Novo\"\n",
      "Song 63: \"Faltou Coragem\"\n",
      "Song 64: \"A Encruzilhada\"\n",
      "Song 65: \"Hoje Não Tenho Nada\"\n",
      "Song 66: \"Campeão de Bilheteria\"\n",
      "Song 67: \"O Que Vou Fazer?\"\n",
      "Song 68: \"Só Tenho Olhos Pra Você\"\n",
      "Song 69: \"Código Das Vinte\"\n",
      "Song 70: \"Não Fique Longe De Mim\"\n",
      "\"Só Não Diga Bye Bye\" is not valid. Skipping.\n",
      "\"Amor Dividido\" is not valid. Skipping.\n",
      "Song 71: \"Beijo Molhado\"\n",
      "\"Tutti-Frutti\" is not valid. Skipping.\n",
      "Song 72: \"A Dona do Barraco\"\n",
      "Song 73: \"Me Ensina A Namorar\"\n",
      "\"Te Acho Tão Linda\" is not valid. Skipping.\n",
      "Song 74: \"Amanhecer\"\n",
      "Song 75: \"Veneno\"\n",
      "Song 76: \"Magoei Meu Coração\"\n",
      "Song 77: \"Armadilha\"\n",
      "\"Vamos Pra Lá Beber\" is not valid. Skipping.\n",
      "Song 78: \"Louco, Louco, Louco, Louco Por Você\"\n",
      "\"Cena de Novela\" is not valid. Skipping.\n",
      "Song 79: \"Te Amo Tanto\"\n",
      "\"Hoje Eu Acabo Essa História\" is not valid. Skipping.\n",
      "\"Me Diz Onde Você Está?\" is not valid. Skipping.\n",
      "Song 80: \"Eu Sou O Cara\"\n",
      "Song 81: \"O Que É Que Eu Vou Fazer\"\n",
      "Song 82: \"Aumente O Meu Salário\"\n",
      "\"Novo Namorado\" is not valid. Skipping.\n",
      "\"Não Desligue, Amor\" is not valid. Skipping.\n",
      "Song 83: \"40 Segundos\"\n",
      "\"Coração Vagabundo\" is not valid. Skipping.\n",
      "Song 84: \"A Vida é Assim\"\n",
      "Song 85: \"Beijar Por Beijar\"\n",
      "Song 86: \"Não, Não Me Deixe\"\n",
      "Song 87: \"Verdadeiro Amor\"\n",
      "Song 88: \"O Gemidinho\"\n",
      "Song 89: \"Uma Gota No Oceano\"\n",
      "Song 90: \"Voce Jurou Pra Mim Seu Amor\"\n",
      "\"Não Gruda Não Cola\" is not valid. Skipping.\n",
      "\"Arreia Cerveja\" is not valid. Skipping.\n",
      "Song 91: \"Coração Bobo\"\n",
      "\"Sem Explicação (I Will Be)\" is not valid. Skipping.\n",
      "Song 92: \"Te Amo\"\n",
      "Song 93: \"Xeque-mate\"\n",
      "Song 94: \"Vendaval\"\n",
      "Song 95: \"Onde a Gente Errou\"\n",
      "\"Locutor\" is not valid. Skipping.\n",
      "Song 96: \"Vem Minha Vida\"\n",
      "\"Não Tem Segredo\" is not valid. Skipping.\n",
      "Song 97: \"Só Um Amor\"\n",
      "Song 98: \"Não Faz Sentido\"\n",
      "Song 99: \"Digitais\"\n",
      "\"24 Horas de Amor\" is not valid. Skipping.\n",
      "\"Óculos Escuros\" is not valid. Skipping.\n",
      "Song 100: \"Não Vale a Pena “Linger”\"\n",
      "Song 101: \"Coração Free\"\n",
      "Song 102: \"É Amor (o Que Sinto)\"\n",
      "\"Não Se Apaixone, Não\" is not valid. Skipping.\n",
      "\"Entre Quatro Paredes\" is not valid. Skipping.\n",
      "Song 103: \"Balançando O Brasil\"\n",
      "Song 104: \"Eu Vim do Futuro\"\n",
      "Song 105: \"Jogo Sujo\"\n",
      "Song 106: \"Favo De Mel\"\n",
      "Song 107: \"Hipnose (Ao Vivo)\"\n",
      "Song 108: \"Refém\"\n",
      "\"Prazo de Carência\" is not valid. Skipping.\n",
      "Song 109: \"Único Amor (II)\"\n",
      "Song 110: \"A Calcinha Preta É Nossa (Ao Vivo)\"\n",
      "Song 111: \"Hoje à Noite (Ao Vivo)\"\n",
      "\"Nunca Me Amou\" is not valid. Skipping.\n",
      "Done. Found 111 songs.\n"
     ]
    },
    {
     "ename": "TypeError",
     "evalue": "'Artist' object is not subscriptable",
     "output_type": "error",
     "traceback": [
      "\u001B[1;31m---------------------------------------------------------------------------\u001B[0m",
      "\u001B[1;31mTypeError\u001B[0m                                 Traceback (most recent call last)",
      "Cell \u001B[1;32mIn[2], line 8\u001B[0m\n\u001B[0;32m      4\u001B[0m genius \u001B[38;5;241m=\u001B[39m lyricsgenius\u001B[38;5;241m.\u001B[39mGenius(\u001B[38;5;124m'\u001B[39m\u001B[38;5;124maRfSZ8O7dGDz188Ih_xfNta8Io9YJa_7318yxupf8zQjsC9UuVPJ4iWkl9Sgsm-T\u001B[39m\u001B[38;5;124m'\u001B[39m)\n\u001B[0;32m      6\u001B[0m artist \u001B[38;5;241m=\u001B[39m genius\u001B[38;5;241m.\u001B[39msearch_artist(\u001B[38;5;124m'\u001B[39m\u001B[38;5;124mCalcinha Preta\u001B[39m\u001B[38;5;124m'\u001B[39m, max_songs\u001B[38;5;241m=\u001B[39m\u001B[38;5;241m1000\u001B[39m, sort\u001B[38;5;241m=\u001B[39m\u001B[38;5;124m'\u001B[39m\u001B[38;5;124mpopularity\u001B[39m\u001B[38;5;124m'\u001B[39m)\n\u001B[1;32m----> 8\u001B[0m \u001B[38;5;28mprint\u001B[39m(\u001B[43martist\u001B[49m\u001B[43m[\u001B[49m\u001B[43m:\u001B[49m\u001B[38;5;241;43m10\u001B[39;49m\u001B[43m]\u001B[49m)\n",
      "\u001B[1;31mTypeError\u001B[0m: 'Artist' object is not subscriptable"
     ]
    }
   ],
   "source": [
    "import lyricsgenius\n",
    "import csv\n",
    "\n",
    "genius = lyricsgenius.Genius('aRfSZ8O7dGDz188Ih_xfNta8Io9YJa_7318yxupf8zQjsC9UuVPJ4iWkl9Sgsm-T')\n",
    "\n",
    "artist = genius.search_artist('Calcinha Preta', max_songs=1000, sort='popularity')\n",
    "\n",
    "print(artist[:10])"
   ],
   "metadata": {
    "collapsed": false
   }
  },
  {
   "cell_type": "code",
   "execution_count": 3,
   "outputs": [
    {
     "ename": "HTTPError",
     "evalue": "[Errno 403] 403 Client Error: Forbidden for url: https://api.genius.com/songs/%22Agora%20Estou%20Sofrendo%22%20by%20Calcinha%20Preta:%0A%20%20%20%20Agora%20Estou%20Sofrendo%20LyricsN%C3%A3o%20h%C3%A1%20amor%20para%20mim%20n%C3%A3o%0A%20%20%20%20Voc%C3%AA%20estava%20mentindo%0A%20%20%20%20Diga%20logo%20que%20n%C3%A3o%20me%20amou%0A%20%20%20%20Q...?text_format=plain\nAction forbidden for current scope",
     "output_type": "error",
     "traceback": [
      "\u001B[1;31m---------------------------------------------------------------------------\u001B[0m",
      "\u001B[1;31mHTTPError\u001B[0m                                 Traceback (most recent call last)",
      "File \u001B[1;32m~\\.conda\\envs\\datascienceml\\lib\\site-packages\\lyricsgenius\\api\\base.py:80\u001B[0m, in \u001B[0;36mSender._make_request\u001B[1;34m(self, path, method, params_, public_api, web, **kwargs)\u001B[0m\n\u001B[0;32m     75\u001B[0m     response \u001B[38;5;241m=\u001B[39m \u001B[38;5;28mself\u001B[39m\u001B[38;5;241m.\u001B[39m_session\u001B[38;5;241m.\u001B[39mrequest(method, uri,\n\u001B[0;32m     76\u001B[0m                                      timeout\u001B[38;5;241m=\u001B[39m\u001B[38;5;28mself\u001B[39m\u001B[38;5;241m.\u001B[39mtimeout,\n\u001B[0;32m     77\u001B[0m                                      params\u001B[38;5;241m=\u001B[39mparams_,\n\u001B[0;32m     78\u001B[0m                                      headers\u001B[38;5;241m=\u001B[39mheader,\n\u001B[0;32m     79\u001B[0m                                      \u001B[38;5;241m*\u001B[39m\u001B[38;5;241m*\u001B[39mkwargs)\n\u001B[1;32m---> 80\u001B[0m     \u001B[43mresponse\u001B[49m\u001B[38;5;241;43m.\u001B[39;49m\u001B[43mraise_for_status\u001B[49m\u001B[43m(\u001B[49m\u001B[43m)\u001B[49m\n\u001B[0;32m     81\u001B[0m \u001B[38;5;28;01mexcept\u001B[39;00m Timeout \u001B[38;5;28;01mas\u001B[39;00m e:\n",
      "File \u001B[1;32m~\\.conda\\envs\\datascienceml\\lib\\site-packages\\requests\\models.py:1021\u001B[0m, in \u001B[0;36mResponse.raise_for_status\u001B[1;34m(self)\u001B[0m\n\u001B[0;32m   1020\u001B[0m \u001B[38;5;28;01mif\u001B[39;00m http_error_msg:\n\u001B[1;32m-> 1021\u001B[0m     \u001B[38;5;28;01mraise\u001B[39;00m HTTPError(http_error_msg, response\u001B[38;5;241m=\u001B[39m\u001B[38;5;28mself\u001B[39m)\n",
      "\u001B[1;31mHTTPError\u001B[0m: 403 Client Error: Forbidden for url: https://api.genius.com/songs/%22Agora%20Estou%20Sofrendo%22%20by%20Calcinha%20Preta:%0A%20%20%20%20Agora%20Estou%20Sofrendo%20LyricsN%C3%A3o%20h%C3%A1%20amor%20para%20mim%20n%C3%A3o%0A%20%20%20%20Voc%C3%AA%20estava%20mentindo%0A%20%20%20%20Diga%20logo%20que%20n%C3%A3o%20me%20amou%0A%20%20%20%20Q...?text_format=plain",
      "\nDuring handling of the above exception, another exception occurred:\n",
      "\u001B[1;31mHTTPError\u001B[0m                                 Traceback (most recent call last)",
      "Cell \u001B[1;32mIn[3], line 2\u001B[0m\n\u001B[0;32m      1\u001B[0m \u001B[38;5;28;01mfor\u001B[39;00m song \u001B[38;5;129;01min\u001B[39;00m artist\u001B[38;5;241m.\u001B[39msongs:\n\u001B[1;32m----> 2\u001B[0m     lyrics \u001B[38;5;241m=\u001B[39m \u001B[43mgenius\u001B[49m\u001B[38;5;241;43m.\u001B[39;49m\u001B[43mlyrics\u001B[49m\u001B[43m(\u001B[49m\u001B[43msong\u001B[49m\u001B[43m)\u001B[49m\n\u001B[0;32m      3\u001B[0m     \u001B[38;5;66;03m# Do something with the lyrics (e.g. write them to a CSV file)\u001B[39;00m\n\u001B[0;32m      4\u001B[0m     \u001B[38;5;28;01mwith\u001B[39;00m \u001B[38;5;28mopen\u001B[39m(\u001B[38;5;124m'\u001B[39m\u001B[38;5;124mcalcinha_preta.csv\u001B[39m\u001B[38;5;124m'\u001B[39m, \u001B[38;5;124m'\u001B[39m\u001B[38;5;124ma\u001B[39m\u001B[38;5;124m'\u001B[39m) \u001B[38;5;28;01mas\u001B[39;00m f:\n",
      "File \u001B[1;32m~\\.conda\\envs\\datascienceml\\lib\\site-packages\\lyricsgenius\\genius.py:128\u001B[0m, in \u001B[0;36mGenius.lyrics\u001B[1;34m(self, song_id, song_url, remove_section_headers)\u001B[0m\n\u001B[0;32m    126\u001B[0m     path \u001B[38;5;241m=\u001B[39m song_url\u001B[38;5;241m.\u001B[39mreplace(\u001B[38;5;124m\"\u001B[39m\u001B[38;5;124mhttps://genius.com/\u001B[39m\u001B[38;5;124m\"\u001B[39m, \u001B[38;5;124m\"\u001B[39m\u001B[38;5;124m\"\u001B[39m)\n\u001B[0;32m    127\u001B[0m \u001B[38;5;28;01melse\u001B[39;00m:\n\u001B[1;32m--> 128\u001B[0m     path \u001B[38;5;241m=\u001B[39m \u001B[38;5;28;43mself\u001B[39;49m\u001B[38;5;241;43m.\u001B[39;49m\u001B[43msong\u001B[49m\u001B[43m(\u001B[49m\u001B[43msong_id\u001B[49m\u001B[43m)\u001B[49m[\u001B[38;5;124m'\u001B[39m\u001B[38;5;124msong\u001B[39m\u001B[38;5;124m'\u001B[39m][\u001B[38;5;124m'\u001B[39m\u001B[38;5;124mpath\u001B[39m\u001B[38;5;124m'\u001B[39m][\u001B[38;5;241m1\u001B[39m:]\n\u001B[0;32m    130\u001B[0m \u001B[38;5;66;03m# Scrape the song lyrics from the HTML\u001B[39;00m\n\u001B[0;32m    131\u001B[0m html \u001B[38;5;241m=\u001B[39m BeautifulSoup(\n\u001B[0;32m    132\u001B[0m     \u001B[38;5;28mself\u001B[39m\u001B[38;5;241m.\u001B[39m_make_request(path, web\u001B[38;5;241m=\u001B[39m\u001B[38;5;28;01mTrue\u001B[39;00m)\u001B[38;5;241m.\u001B[39mreplace(\u001B[38;5;124m'\u001B[39m\u001B[38;5;124m<br/>\u001B[39m\u001B[38;5;124m'\u001B[39m, \u001B[38;5;124m'\u001B[39m\u001B[38;5;130;01m\\n\u001B[39;00m\u001B[38;5;124m'\u001B[39m),\n\u001B[0;32m    133\u001B[0m     \u001B[38;5;124m\"\u001B[39m\u001B[38;5;124mhtml.parser\u001B[39m\u001B[38;5;124m\"\u001B[39m\n\u001B[0;32m    134\u001B[0m )\n",
      "File \u001B[1;32m~\\.conda\\envs\\datascienceml\\lib\\site-packages\\lyricsgenius\\api\\api.py:437\u001B[0m, in \u001B[0;36mAPI.song\u001B[1;34m(self, song_id, text_format)\u001B[0m\n\u001B[0;32m    435\u001B[0m endpoint \u001B[38;5;241m=\u001B[39m \u001B[38;5;124m\"\u001B[39m\u001B[38;5;124msongs/\u001B[39m\u001B[38;5;132;01m{id}\u001B[39;00m\u001B[38;5;124m\"\u001B[39m\u001B[38;5;241m.\u001B[39mformat(\u001B[38;5;28mid\u001B[39m\u001B[38;5;241m=\u001B[39msong_id)\n\u001B[0;32m    436\u001B[0m params \u001B[38;5;241m=\u001B[39m {\u001B[38;5;124m'\u001B[39m\u001B[38;5;124mtext_format\u001B[39m\u001B[38;5;124m'\u001B[39m: text_format \u001B[38;5;129;01mor\u001B[39;00m \u001B[38;5;28mself\u001B[39m\u001B[38;5;241m.\u001B[39mresponse_format}\n\u001B[1;32m--> 437\u001B[0m \u001B[38;5;28;01mreturn\u001B[39;00m \u001B[38;5;28;43mself\u001B[39;49m\u001B[38;5;241;43m.\u001B[39;49m\u001B[43m_make_request\u001B[49m\u001B[43m(\u001B[49m\u001B[43mendpoint\u001B[49m\u001B[43m,\u001B[49m\u001B[43m \u001B[49m\u001B[43mparams_\u001B[49m\u001B[38;5;241;43m=\u001B[39;49m\u001B[43mparams\u001B[49m\u001B[43m)\u001B[49m\n",
      "File \u001B[1;32m~\\.conda\\envs\\datascienceml\\lib\\site-packages\\lyricsgenius\\api\\base.py:88\u001B[0m, in \u001B[0;36mSender._make_request\u001B[1;34m(self, path, method, params_, public_api, web, **kwargs)\u001B[0m\n\u001B[0;32m     86\u001B[0m     error \u001B[38;5;241m=\u001B[39m get_description(e)\n\u001B[0;32m     87\u001B[0m     \u001B[38;5;28;01mif\u001B[39;00m response\u001B[38;5;241m.\u001B[39mstatus_code \u001B[38;5;241m<\u001B[39m \u001B[38;5;241m500\u001B[39m \u001B[38;5;129;01mor\u001B[39;00m tries \u001B[38;5;241m>\u001B[39m \u001B[38;5;28mself\u001B[39m\u001B[38;5;241m.\u001B[39mretries:\n\u001B[1;32m---> 88\u001B[0m         \u001B[38;5;28;01mraise\u001B[39;00m HTTPError(response\u001B[38;5;241m.\u001B[39mstatus_code, error)\n\u001B[0;32m     90\u001B[0m \u001B[38;5;66;03m# Enforce rate limiting\u001B[39;00m\n\u001B[0;32m     91\u001B[0m time\u001B[38;5;241m.\u001B[39msleep(\u001B[38;5;28mself\u001B[39m\u001B[38;5;241m.\u001B[39msleep_time)\n",
      "\u001B[1;31mHTTPError\u001B[0m: [Errno 403] 403 Client Error: Forbidden for url: https://api.genius.com/songs/%22Agora%20Estou%20Sofrendo%22%20by%20Calcinha%20Preta:%0A%20%20%20%20Agora%20Estou%20Sofrendo%20LyricsN%C3%A3o%20h%C3%A1%20amor%20para%20mim%20n%C3%A3o%0A%20%20%20%20Voc%C3%AA%20estava%20mentindo%0A%20%20%20%20Diga%20logo%20que%20n%C3%A3o%20me%20amou%0A%20%20%20%20Q...?text_format=plain\nAction forbidden for current scope"
     ]
    }
   ],
   "source": [
    "for song in artist.songs:\n",
    "    lyrics = genius.lyrics(song)\n",
    "    # Do something with the lyrics (e.g. write them to a CSV file)\n",
    "    with open('calcinha_preta.csv', 'a') as f:\n",
    "        writer = csv.writer(f)\n",
    "        writer.writerow([song, lyrics])"
   ],
   "metadata": {
    "collapsed": false
   }
  },
  {
   "cell_type": "code",
   "execution_count": 18,
   "outputs": [
    {
     "name": "stdout",
     "output_type": "stream",
     "text": [
      "Agora Estou Sofrendo LyricsNão há amor para mim não\n",
      "Você estava mentindo\n",
      "Diga logo que não me amou\n",
      "Que não gostou de mim\n",
      "Não sente amor por mim\n",
      "Quais as armas que encontrar\n",
      "Pra fazer seus encantos\n",
      "Derramar seu amor em mim\n",
      "Mais não gostou de mim\n",
      "Não sente amor\n",
      "Me feri, me risca de amor\n",
      "Me foge, me alimenta\n",
      "Não sabe que já me conquistou\n",
      "Agora estou sofrendoYou might also likeEmbed\n"
     ]
    }
   ],
   "source": [
    "print(artist.songs[0].lyrics)"
   ],
   "metadata": {
    "collapsed": false
   }
  },
  {
   "cell_type": "code",
   "execution_count": null,
   "outputs": [],
   "source": [],
   "metadata": {
    "collapsed": false
   }
  }
 ],
 "metadata": {
  "kernelspec": {
   "display_name": "Python 3",
   "language": "python",
   "name": "python3"
  },
  "language_info": {
   "codemirror_mode": {
    "name": "ipython",
    "version": 2
   },
   "file_extension": ".py",
   "mimetype": "text/x-python",
   "name": "python",
   "nbconvert_exporter": "python",
   "pygments_lexer": "ipython2",
   "version": "2.7.6"
  }
 },
 "nbformat": 4,
 "nbformat_minor": 0
}
