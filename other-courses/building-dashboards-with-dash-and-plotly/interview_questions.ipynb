{
 "cells": [
  {
   "cell_type": "code",
   "execution_count": 1,
   "metadata": {
    "collapsed": true
   },
   "outputs": [
    {
     "name": "stdout",
     "output_type": "stream",
     "text": [
      "Input string:  a!!!b.c.d,e'f,ghi\n",
      "Output string:  i!!!h.g.f,e'd,cba\n"
     ]
    }
   ],
   "source": [
    "def reverse_string(text):\n",
    "    index = -1\n",
    "\n",
    "    # Loop from last index until half of the index\n",
    "    for i in range(len(text) - 1, int(len(text) / 2), -1):\n",
    "\n",
    "        # match character is alphabet or not\n",
    "        if text[i].isalpha():\n",
    "            temp = text[i]\n",
    "            while True:\n",
    "                index += 1\n",
    "                if text[index].isalpha():\n",
    "                    text[i] = text[index]\n",
    "                    text[index] = temp\n",
    "                    break\n",
    "    return text\n",
    "\n",
    "\n",
    "# Driver code\n",
    "string = \"a!!!b.c.d,e'f,ghi\"\n",
    "print(\"Input string: \", string)\n",
    "string = reverse_string(list(string))\n",
    "print(\"Output string: \", \"\".join(string))\n"
   ]
  },
  {
   "cell_type": "code",
   "execution_count": null,
   "outputs": [],
   "source": [
    "def check(myStr):\n",
    "    stack = []\n",
    "    for i in myStr:\n",
    "        if i in open_list:\n",
    "            stack.append(i)\n",
    "        elif i in close_list:\n",
    "            pos = close_list.index(i)\n",
    "            if ((len(stack) > 0) and\n",
    "                    (open_list[pos] == stack[len(stack)-1])):\n",
    "                stack.pop()\n",
    "            else:\n",
    "                return \"Unbalanced\"\n",
    "    if len(stack) == 0:\n",
    "        return \"Balanced\"\n",
    "    else:\n",
    "        return \"Unbalanced\""
   ],
   "metadata": {
    "collapsed": false
   }
  },
  {
   "cell_type": "markdown",
   "source": [
    "Sort an array based on the frequency of each number"
   ],
   "metadata": {
    "collapsed": false
   }
  },
  {
   "cell_type": "code",
   "execution_count": 2,
   "outputs": [
    {
     "name": "stdout",
     "output_type": "stream",
     "text": [
      "[1, 1, 2, 3, 4, 5, 6, 7, 8, 9]\n"
     ]
    }
   ],
   "source": [
    "def freq_sort(arr):\n",
    "    freq = {}\n",
    "    for i in arr:\n",
    "        if i in freq:\n",
    "            freq[i] += 1\n",
    "        else:\n",
    "            freq[i] = 1\n",
    "    freq = sorted(freq.items(), key=lambda x: x[1], reverse=True)\n",
    "    res = []\n",
    "    for i in freq:\n",
    "        res += [i[0]] * i[1]\n",
    "    return res\n",
    "\n",
    "l = [1, 2, 3, 4, 5, 6, 7, 8, 9, 1]\n",
    "print(freq_sort(l))"
   ],
   "metadata": {
    "collapsed": false
   }
  },
  {
   "cell_type": "markdown",
   "source": [
    "Sort the array based on the frequency of the numbers and if the frequency is same then sort the array based on the number"
   ],
   "metadata": {
    "collapsed": false
   }
  },
  {
   "cell_type": "code",
   "execution_count": 3,
   "outputs": [
    {
     "name": "stdout",
     "output_type": "stream",
     "text": [
      "[1, 1, 9, 8, 7, 6, 5, 4, 3, 2]\n"
     ]
    }
   ],
   "source": [
    "def freq_sort2(arr):\n",
    "    freq = {}\n",
    "    for i in arr:\n",
    "        if i in freq:\n",
    "            freq[i] += 1\n",
    "        else:\n",
    "            freq[i] = 1\n",
    "    freq = sorted(freq.items(), key=lambda x: (x[1], x[0]), reverse=True)\n",
    "    res = []\n",
    "    for i in freq:\n",
    "        res += [i[0]] * i[1]\n",
    "    return res\n",
    "\n",
    "l = [1, 2, 3, 4, 5, 6, 7, 8, 9, 1]\n",
    "print(freq_sort2(l))"
   ],
   "metadata": {
    "collapsed": false
   }
  },
  {
   "cell_type": "code",
   "execution_count": 4,
   "outputs": [
    {
     "name": "stdout",
     "output_type": "stream",
     "text": [
      "[1, 1, 2, 3, 4, 5, 6, 7, 8, 9]\n"
     ]
    }
   ],
   "source": [
    "def freq_sort3(arr):\n",
    "    freq = {}\n",
    "    for i in arr:\n",
    "        if i in freq:\n",
    "            freq[i] += 1\n",
    "        else:\n",
    "            freq[i] = 1\n",
    "    freq = sorted(freq.items(), key=lambda x: (x[1], -x[0]), reverse=True)\n",
    "    res = []\n",
    "    for i in freq:\n",
    "        res += [i[0]] * i[1]\n",
    "    return res\n",
    "\n",
    "l = [1, 2, 3, 4, 5, 6, 7, 8, 9, 1]\n",
    "print(freq_sort3(l))"
   ],
   "metadata": {
    "collapsed": false
   }
  },
  {
   "cell_type": "markdown",
   "source": [
    "Sort the array based on the frequency of the numbers and if the frequency is same then sort the array based on the number in descending order"
   ],
   "metadata": {
    "collapsed": false
   }
  },
  {
   "cell_type": "code",
   "execution_count": 7,
   "outputs": [
    {
     "name": "stdout",
     "output_type": "stream",
     "text": [
      "[3, 4, 4, 2, 2, 1, 1, 1]\n"
     ]
    }
   ],
   "source": [
    "def freq_sort4(arr):\n",
    "    freq = {}\n",
    "    for i in arr:\n",
    "        if i in freq:\n",
    "            freq[i] += 1\n",
    "        else:\n",
    "            freq[i] = 1\n",
    "    freq = sorted(freq.items(), key=lambda x: (x[1], -x[0]))\n",
    "    res = []\n",
    "    for i in freq:\n",
    "        res += [i[0]] * i[1]\n",
    "    return res\n",
    "\n",
    "l = [1, 1, 1, 2, 2, 3, 4, 4]\n",
    "print(freq_sort4(l))"
   ],
   "metadata": {
    "collapsed": false
   }
  },
  {
   "cell_type": "code",
   "execution_count": null,
   "outputs": [],
   "source": [
    "# splitting an email address into username and domain name\n",
    "email = \"upchh@example.com\"\n",
    "username, domain = email.split(\"@\")"
   ],
   "metadata": {
    "collapsed": false
   }
  }
 ],
 "metadata": {
  "kernelspec": {
   "display_name": "Python 3",
   "language": "python",
   "name": "python3"
  },
  "language_info": {
   "codemirror_mode": {
    "name": "ipython",
    "version": 2
   },
   "file_extension": ".py",
   "mimetype": "text/x-python",
   "name": "python",
   "nbconvert_exporter": "python",
   "pygments_lexer": "ipython2",
   "version": "2.7.6"
  }
 },
 "nbformat": 4,
 "nbformat_minor": 0
}
