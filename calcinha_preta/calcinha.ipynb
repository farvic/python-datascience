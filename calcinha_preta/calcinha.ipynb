{
 "cells": [
  {
   "cell_type": "code",
   "execution_count": 2,
   "metadata": {
    "collapsed": true
   },
   "outputs": [
    {
     "data": {
      "text/plain": [
       "(379931, 5)"
      ]
     },
     "execution_count": 2,
     "metadata": {},
     "output_type": "execute_result"
    }
   ],
   "source": [
    "import pandas as pd\n",
    "\n",
    "lyrics_data = pd.read_csv('lyrics-data.csv')\n",
    "\n",
    "lyrics_data.shape"
   ]
  },
  {
   "cell_type": "code",
   "execution_count": 3,
   "metadata": {
    "collapsed": false
   },
   "outputs": [
    {
     "data": {
      "text/html": [
       "<div>\n",
       "<style scoped>\n",
       "    .dataframe tbody tr th:only-of-type {\n",
       "        vertical-align: middle;\n",
       "    }\n",
       "\n",
       "    .dataframe tbody tr th {\n",
       "        vertical-align: top;\n",
       "    }\n",
       "\n",
       "    .dataframe thead th {\n",
       "        text-align: right;\n",
       "    }\n",
       "</style>\n",
       "<table border=\"1\" class=\"dataframe\">\n",
       "  <thead>\n",
       "    <tr style=\"text-align: right;\">\n",
       "      <th></th>\n",
       "      <th>ALink</th>\n",
       "      <th>SName</th>\n",
       "      <th>SLink</th>\n",
       "      <th>Lyric</th>\n",
       "      <th>language</th>\n",
       "    </tr>\n",
       "  </thead>\n",
       "  <tbody>\n",
       "    <tr>\n",
       "      <th>0</th>\n",
       "      <td>/ivete-sangalo/</td>\n",
       "      <td>Arerê</td>\n",
       "      <td>/ivete-sangalo/arere.html</td>\n",
       "      <td>Tudo o que eu quero nessa vida,\\nToda vida, é\\...</td>\n",
       "      <td>pt</td>\n",
       "    </tr>\n",
       "    <tr>\n",
       "      <th>1</th>\n",
       "      <td>/ivete-sangalo/</td>\n",
       "      <td>Se Eu Não Te Amasse Tanto Assim</td>\n",
       "      <td>/ivete-sangalo/se-eu-nao-te-amasse-tanto-assim...</td>\n",
       "      <td>Meu coração\\nSem direção\\nVoando só por voar\\n...</td>\n",
       "      <td>pt</td>\n",
       "    </tr>\n",
       "    <tr>\n",
       "      <th>2</th>\n",
       "      <td>/ivete-sangalo/</td>\n",
       "      <td>Céu da Boca</td>\n",
       "      <td>/ivete-sangalo/chupa-toda.html</td>\n",
       "      <td>É de babaixá!\\nÉ de balacubaca!\\nÉ de babaixá!...</td>\n",
       "      <td>pt</td>\n",
       "    </tr>\n",
       "    <tr>\n",
       "      <th>3</th>\n",
       "      <td>/ivete-sangalo/</td>\n",
       "      <td>Quando A Chuva Passar</td>\n",
       "      <td>/ivete-sangalo/quando-a-chuva-passar.html</td>\n",
       "      <td>Quando a chuva passar\\n\\nPra quê falar\\nSe voc...</td>\n",
       "      <td>pt</td>\n",
       "    </tr>\n",
       "    <tr>\n",
       "      <th>4</th>\n",
       "      <td>/ivete-sangalo/</td>\n",
       "      <td>Sorte Grande</td>\n",
       "      <td>/ivete-sangalo/sorte-grande.html</td>\n",
       "      <td>A minha sorte grande foi você cair do céu\\nMin...</td>\n",
       "      <td>pt</td>\n",
       "    </tr>\n",
       "  </tbody>\n",
       "</table>\n",
       "</div>"
      ],
      "text/plain": [
       "             ALink                            SName  \\\n",
       "0  /ivete-sangalo/                            Arerê   \n",
       "1  /ivete-sangalo/  Se Eu Não Te Amasse Tanto Assim   \n",
       "2  /ivete-sangalo/                      Céu da Boca   \n",
       "3  /ivete-sangalo/            Quando A Chuva Passar   \n",
       "4  /ivete-sangalo/                     Sorte Grande   \n",
       "\n",
       "                                               SLink  \\\n",
       "0                          /ivete-sangalo/arere.html   \n",
       "1  /ivete-sangalo/se-eu-nao-te-amasse-tanto-assim...   \n",
       "2                     /ivete-sangalo/chupa-toda.html   \n",
       "3          /ivete-sangalo/quando-a-chuva-passar.html   \n",
       "4                   /ivete-sangalo/sorte-grande.html   \n",
       "\n",
       "                                               Lyric language  \n",
       "0  Tudo o que eu quero nessa vida,\\nToda vida, é\\...       pt  \n",
       "1  Meu coração\\nSem direção\\nVoando só por voar\\n...       pt  \n",
       "2  É de babaixá!\\nÉ de balacubaca!\\nÉ de babaixá!...       pt  \n",
       "3  Quando a chuva passar\\n\\nPra quê falar\\nSe voc...       pt  \n",
       "4  A minha sorte grande foi você cair do céu\\nMin...       pt  "
      ]
     },
     "execution_count": 3,
     "metadata": {},
     "output_type": "execute_result"
    }
   ],
   "source": [
    "lyrics_data.head()"
   ]
  },
  {
   "cell_type": "code",
   "execution_count": 30,
   "metadata": {
    "collapsed": false
   },
   "outputs": [
    {
     "data": {
      "text/html": [
       "<div>\n",
       "<style scoped>\n",
       "    .dataframe tbody tr th:only-of-type {\n",
       "        vertical-align: middle;\n",
       "    }\n",
       "\n",
       "    .dataframe tbody tr th {\n",
       "        vertical-align: top;\n",
       "    }\n",
       "\n",
       "    .dataframe thead th {\n",
       "        text-align: right;\n",
       "    }\n",
       "</style>\n",
       "<table border=\"1\" class=\"dataframe\">\n",
       "  <thead>\n",
       "    <tr style=\"text-align: right;\">\n",
       "      <th></th>\n",
       "      <th>ALink</th>\n",
       "      <th>SName</th>\n",
       "      <th>SLink</th>\n",
       "      <th>Lyric</th>\n",
       "      <th>language</th>\n",
       "    </tr>\n",
       "  </thead>\n",
       "  <tbody>\n",
       "    <tr>\n",
       "      <th>76069</th>\n",
       "      <td>/calcinha-preta/</td>\n",
       "      <td>Paulinha</td>\n",
       "      <td>/calcinha-preta/paulinha.html</td>\n",
       "      <td>Não há quem te ame tanto\\nEnvolvido em seus en...</td>\n",
       "      <td>pt</td>\n",
       "    </tr>\n",
       "    <tr>\n",
       "      <th>76070</th>\n",
       "      <td>/calcinha-preta/</td>\n",
       "      <td>Liga Pra Mim</td>\n",
       "      <td>/calcinha-preta/liga-pra-mim.html</td>\n",
       "      <td>Liga pra mim\\nEu tenho tantas coisas pra te fa...</td>\n",
       "      <td>pt</td>\n",
       "    </tr>\n",
       "    <tr>\n",
       "      <th>76071</th>\n",
       "      <td>/calcinha-preta/</td>\n",
       "      <td>Ainda Te Amo</td>\n",
       "      <td>/calcinha-preta/ainda-te-amo.html</td>\n",
       "      <td>Já faz tempo\\nQue esse meu coração\\nTá batendo...</td>\n",
       "      <td>pt</td>\n",
       "    </tr>\n",
       "    <tr>\n",
       "      <th>76072</th>\n",
       "      <td>/calcinha-preta/</td>\n",
       "      <td>Agora Estou Sofrendo</td>\n",
       "      <td>/calcinha-preta/agora-estou-sofrendo.html</td>\n",
       "      <td>Não há amor para mim, não\\nVocê estava mentind...</td>\n",
       "      <td>pt</td>\n",
       "    </tr>\n",
       "    <tr>\n",
       "      <th>76073</th>\n",
       "      <td>/calcinha-preta/</td>\n",
       "      <td>Declaração de Amor</td>\n",
       "      <td>/calcinha-preta/declaracao-de-amor.html</td>\n",
       "      <td>Hoje me deu uma vontade louca alucinada\\nDe me...</td>\n",
       "      <td>pt</td>\n",
       "    </tr>\n",
       "  </tbody>\n",
       "</table>\n",
       "</div>"
      ],
      "text/plain": [
       "                  ALink                 SName  \\\n",
       "76069  /calcinha-preta/              Paulinha   \n",
       "76070  /calcinha-preta/          Liga Pra Mim   \n",
       "76071  /calcinha-preta/          Ainda Te Amo   \n",
       "76072  /calcinha-preta/  Agora Estou Sofrendo   \n",
       "76073  /calcinha-preta/    Declaração de Amor   \n",
       "\n",
       "                                           SLink  \\\n",
       "76069              /calcinha-preta/paulinha.html   \n",
       "76070          /calcinha-preta/liga-pra-mim.html   \n",
       "76071          /calcinha-preta/ainda-te-amo.html   \n",
       "76072  /calcinha-preta/agora-estou-sofrendo.html   \n",
       "76073    /calcinha-preta/declaracao-de-amor.html   \n",
       "\n",
       "                                                   Lyric language  \n",
       "76069  Não há quem te ame tanto\\nEnvolvido em seus en...       pt  \n",
       "76070  Liga pra mim\\nEu tenho tantas coisas pra te fa...       pt  \n",
       "76071  Já faz tempo\\nQue esse meu coração\\nTá batendo...       pt  \n",
       "76072  Não há amor para mim, não\\nVocê estava mentind...       pt  \n",
       "76073  Hoje me deu uma vontade louca alucinada\\nDe me...       pt  "
      ]
     },
     "execution_count": 30,
     "metadata": {},
     "output_type": "execute_result"
    }
   ],
   "source": [
    "calcinha_preta = lyrics_data[lyrics_data['ALink'] == '/calcinha-preta/']\n",
    "calcinha_preta.head()\n",
    "# calcinha_preta.shape"
   ]
  },
  {
   "cell_type": "code",
   "execution_count": 44,
   "metadata": {
    "collapsed": false
   },
   "outputs": [],
   "source": [
    "calcinha_preta.reset_index(drop=True, inplace=True)\n",
    "calcinha_preta = calcinha_preta[['SName', 'Lyric']]\n",
    "calcinha_preta.head()\n",
    "with open('calcinha_preta.csv', 'w') as f:\n",
    "    calcinha_preta.to_csv(f, index=False, header=True, encoding='unicode_escape')\n"
   ]
  },
  {
   "cell_type": "code",
   "execution_count": 1,
   "metadata": {
    "collapsed": false
   },
   "outputs": [
    {
     "data": {
      "text/html": [
       "<div>\n",
       "<style scoped>\n",
       "    .dataframe tbody tr th:only-of-type {\n",
       "        vertical-align: middle;\n",
       "    }\n",
       "\n",
       "    .dataframe tbody tr th {\n",
       "        vertical-align: top;\n",
       "    }\n",
       "\n",
       "    .dataframe thead th {\n",
       "        text-align: right;\n",
       "    }\n",
       "</style>\n",
       "<table border=\"1\" class=\"dataframe\">\n",
       "  <thead>\n",
       "    <tr style=\"text-align: right;\">\n",
       "      <th></th>\n",
       "      <th>SName</th>\n",
       "      <th>Lyric</th>\n",
       "    </tr>\n",
       "  </thead>\n",
       "  <tbody>\n",
       "    <tr>\n",
       "      <th>0</th>\n",
       "      <td>Paulinha</td>\n",
       "      <td>Não há quem te ame tanto\\r\\nEnvolvido em seus ...</td>\n",
       "    </tr>\n",
       "    <tr>\n",
       "      <th>1</th>\n",
       "      <td>Liga Pra Mim</td>\n",
       "      <td>Liga pra mim\\r\\nEu tenho tantas coisas pra te ...</td>\n",
       "    </tr>\n",
       "    <tr>\n",
       "      <th>2</th>\n",
       "      <td>Ainda Te Amo</td>\n",
       "      <td>Já faz tempo\\r\\nQue esse meu coração\\r\\nTá bat...</td>\n",
       "    </tr>\n",
       "    <tr>\n",
       "      <th>3</th>\n",
       "      <td>Agora Estou Sofrendo</td>\n",
       "      <td>Não há amor para mim, não\\r\\nVocê estava menti...</td>\n",
       "    </tr>\n",
       "    <tr>\n",
       "      <th>4</th>\n",
       "      <td>Declaração de Amor</td>\n",
       "      <td>Hoje me deu uma vontade louca alucinada\\r\\nDe ...</td>\n",
       "    </tr>\n",
       "    <tr>\n",
       "      <th>5</th>\n",
       "      <td>Louca Por Ti</td>\n",
       "      <td>Amor demais,\\r\\nLembro dos momentos que te ame...</td>\n",
       "    </tr>\n",
       "    <tr>\n",
       "      <th>6</th>\n",
       "      <td>Hoje À Noite</td>\n",
       "      <td>A noite passa devagar, estou aqui deitado só\\r...</td>\n",
       "    </tr>\n",
       "    <tr>\n",
       "      <th>7</th>\n",
       "      <td>Sonho Lindo</td>\n",
       "      <td>Como foi tão bom a gente se encontrar\\r\\nEu ta...</td>\n",
       "    </tr>\n",
       "    <tr>\n",
       "      <th>8</th>\n",
       "      <td>Manchete dos Jornais</td>\n",
       "      <td>Eu faço tudo por você.\\r\\nPonho um anúncio na ...</td>\n",
       "    </tr>\n",
       "    <tr>\n",
       "      <th>9</th>\n",
       "      <td>O Navio E O Mar</td>\n",
       "      <td>Foi você quem me escolheu\\r\\nQuando entrou no ...</td>\n",
       "    </tr>\n",
       "  </tbody>\n",
       "</table>\n",
       "</div>"
      ],
      "text/plain": [
       "                  SName                                              Lyric\n",
       "0              Paulinha  Não há quem te ame tanto\\r\\nEnvolvido em seus ...\n",
       "1          Liga Pra Mim  Liga pra mim\\r\\nEu tenho tantas coisas pra te ...\n",
       "2          Ainda Te Amo  Já faz tempo\\r\\nQue esse meu coração\\r\\nTá bat...\n",
       "3  Agora Estou Sofrendo  Não há amor para mim, não\\r\\nVocê estava menti...\n",
       "4    Declaração de Amor  Hoje me deu uma vontade louca alucinada\\r\\nDe ...\n",
       "5          Louca Por Ti  Amor demais,\\r\\nLembro dos momentos que te ame...\n",
       "6          Hoje À Noite  A noite passa devagar, estou aqui deitado só\\r...\n",
       "7           Sonho Lindo  Como foi tão bom a gente se encontrar\\r\\nEu ta...\n",
       "8  Manchete dos Jornais  Eu faço tudo por você.\\r\\nPonho um anúncio na ...\n",
       "9       O Navio E O Mar  Foi você quem me escolheu\\r\\nQuando entrou no ..."
      ]
     },
     "execution_count": 1,
     "metadata": {},
     "output_type": "execute_result"
    }
   ],
   "source": [
    "import pandas as pd\n",
    "import re\n",
    "\n",
    "calcinha_preta_df = pd.read_csv('calcinha_preta.csv', encoding='unicode_escape')\n",
    "\n",
    "calcinha_preta_df.head(10)"
   ]
  },
  {
   "cell_type": "code",
   "execution_count": 37,
   "metadata": {
    "collapsed": false
   },
   "outputs": [],
   "source": [
    "# Processando os dados\n",
    "lyrics = calcinha_preta_df['Lyric'].values\n",
    "words_list = []\n",
    "\n",
    "to_remove = re.compile(r'[\\?|\\!|\\r\\n|,|\\-+|\\.+]')\n",
    "\n",
    "for i in range(len(lyrics)):\n",
    "    lyrics[i] = to_remove.sub('', lyrics[i])\n",
    "    words_list +=(word.lower() for word in lyrics[i].split(' ') if ((word != '' and not len(word) > 20) and (not len(word) < 2)))"
   ]
  },
  {
   "cell_type": "code",
   "execution_count": 55,
   "metadata": {
    "collapsed": false
   },
   "outputs": [
    {
     "name": "stdout",
     "output_type": "stream",
     "text": [
      "43168\n",
      "3366\n",
      "{'eu': 1809, 'que': 1750, 'não': 1602, 'você': 1449, 'me': 1122, 'te': 999, 'de': 900, 'amor': 880, 'pra': 710, 'meu': 604, 'se': 546, 'quero': 466, 'mais': 428, 'um': 425, 'vou': 408, 'por': 405, 'só': 330, 'seu': 325, 'vai': 289, 'com': 282, 'coração': 273, 'mim': 271, 'em': 264, 'do': 259, 'amo': 256, 'na': 245, 'sem': 245, 'no': 244, 'mas': 207, 'sou': 205, 'amar': 188, 'já': 188, 'sei': 186, 'foi': 185, 'minha': 182, 'uma': 180, 'vem': 172, 'tudo': 171, 'agora': 170, 'da': 170, 'quando': 167, 'tem': 164, 'assim': 159, 'quer': 159, 'quem': 145, 'estou': 139, 'faz': 138, 'vida': 137, 'fazer': 134, 'como': 133, 'sua': 131, 'está': 128, 'tá': 128, 'ver': 126, 'ser': 124, 'aqui': 121, 'calcinha': 121, 'porque': 115, 'esse': 113, 'ai': 113, 'demais': 105, 'gente': 103, 'bem': 99, 'esquecer': 97, 'sempre': 97, 'teu': 97, 'onde': 97, 'ter': 97, 'ficar': 96, 'comigo': 94, 'nem': 93, 'nada': 92, 'dá': 89, 'paixão': 87, 'nunca': 85, 'preciso': 85, 'tô': 83, 'viver': 82, 'essa': 82, 'dia': 82, 'sabe': 82, 'tão': 81, 'vez': 80, 'dar': 80, 'jeito': 77, 'diz': 76, 'hoje': 75, 'alguém': 74, 'dizer': 74, 'ainda': 74, 'mundo': 73, 'tempo': 73, 'encontrar': 72, 'ela': 71, 'noite': 71, 'ama': 69, 'beijo': 69, 'outra': 68, 'ao': 68, 'amei': 66, 'tanto': 65, 'solidão': 65, 'deixa': 64, 'pode': 63, 'bom': 63, 'tenho': 61, 'todo': 61, 'feliz': 61, 'ninguém': 61, 'nossa': 60, 'saber': 59, 'voltar': 59, 'para': 58, 'corpo': 58, 'aí': 57, 'quis': 57, 'deixe': 57, 'nosso': 57, 'outro': 56, 'será': 56, 'as': 55, 'preta': 54, 'posso': 54, 'fez': 53, 'faço': 53, 'volta': 52, 'ou': 52, 'embora': 51, 'nos': 51, 'falar': 51, 'ele': 51, 'os': 51, 'longe': 50, 'sinto': 48, 'era': 47, 'desse': 47, 'louco': 47, 'mulher': 47, 'perder': 46, 'toda': 45, 'meus': 45, 'isso': 45, 'sofrer': 43, 'cama': 42, 'louca': 42, 'favor': 42, 'deixar': 42, 'até': 42, 'logo': 41, 'mesmo': 41, 'deus': 41, 'depois': 41, 'lugar': 41, 'fui': 41, 'nós': 41, 'bye': 40, 'fim': 39, 'lá': 39, 'desejo': 39, 'sonho': 38, 'diga': 38, 'beber': 38, 'cara': 38, 'muito': 38, 'hora': 38, 'esta': 38, 'fico': 38, 'dos': 37, 'valor': 37, 'consigo': 37, 'beijar': 37, 'saudade': 37, 'linda': 35, 'chorar': 35, 'vá': 35, 'dois': 35, 'mar': 35, 'estourado': 35, 'medo': 35, 'boca': 34, 'olhar': 34, 'nao': 34, 'ti': 34, 'lado': 33, 'queria': 33, 'liga': 33, 'namorar': 33, 'também': 33, 'pensando': 33, 'quiser': 33, 'querer': 33, 'olhos': 32, 'fiz': 32, 'fica': 32, 'leva': 32, 'fique': 32, 'cada': 32, 'poder': 32, 'novo': 31, 'querendo': 31, 'deu': 30, 'ir': 30, 'entre': 30, 'disse': 30, 'for': 30, 'chora': 29, 'vi': 29, 'verdade': 29, 'faça': 29, 'apaixonado': 29, 'pensar': 29, 'sentir': 29, 'galera': 28, 'peito': 28, 'fora': 28, 'vê': 28, 'sai': 28, 'então': 28, 'tchê': 28, 'vamos': 27, 'gosto': 27, 'história': 27, 'sair': 27, 'coisa': 27, 'lua': 27, 'to': 27, 'chegou': 27, 'qualquer': 27, 'prazer': 27, 'voce': 26, 'acho': 26, 'vejo': 26, 'vontade': 26, 'dor': 26, 'sol': 26, 'ah': 26, 'chorando': 26, 'beber)': 26, 'saideira': 25, 'acabou': 25, 'vivo': 25, 'sofrendo': 25, 'esqueceu': 25, 'vezes': 25, 'lindo': 25, 'carinho': 24, 'money': 24, 'pedir': 24, 'nesse': 24, 'cê': 24, 'jogo': 24, 'cerveja': 23, 'soube': 23, 'quanto': 23, 'céu': 23, 'vale': 23, 'grande': 23, 'porta': 23, 'mão': 22, 'seus': 22, 'verão': 22, 'penso': 22, 'esperando': 22, 'há': 22, 'adeus': 22, 'passa': 22, 'nessa': 22, 'ouvir': 22, 'iê': 22, 'pois': 22, '(2x)': 22, 'nome': 22, 'falta': 22, 'sozinha': 21, 'juro': 21, 'tirar': 21, 'mô': 21, 'paz': 21, 'tal': 21, 'baby': 21, 'tocando': 21, 'casa': 21, 'dessa': 21, 'contigo': 21, '(pode': 20, 'dormir': 20, 'voz': 20, 'perdi': 20, 'ta': 20, 'pouco': 20, 'chegando': 20, 'apaixonar': 20, 'homem': 20, 'calor': 20, 'ficou': 20, 'morrer': 20, 'so': 19, 'atrás': 19, 'tchau': 19, 'sozinho': 19, 'chama': 19, 'estar': 19, 'chover': 19, 'mal': 19, 'chance': 19, 'mata': 19, 'frio': 19, 'chuva': 19, 'fosse': 19, 'entender': 19, 'sente': 18, 'morrendo': 18, 'cheiro': 18, 'dentro': 18, 'levar': 18, 'pro': 18, 'teus': 18, 'deixou': 18, 'canção': 18, 'vim': 18, 'aquele': 18, 'passou': 18, 'esperar': 18, 'dançar': 18, 'chore': 18, 'tocar': 18, 'gostoso': 18, 'digo': 18, 'numa': 18, 'chega': 18, 'pena': 17, 'feito': 17, 'melhor': 17, 'parar': 17, 'venha': 17, 'abraçar': 17, 'ganhar': 17, 'passar': 17, 'importa': 17, 'tua': 17, 'aconteceu': 17, 'sentimento': 17, 'gosta': 17, 'são': 17, 'estava': 17, 'oh': 17, 'parece': 17, 'alma': 17, 'beijos': 16, 'ilusão': 16, 'conta': 16, 'queira': 16, 'matar': 16, 'bb': 16, 'tinha': 16, 'valeu': 16, 'acabar': 16, 'arreia': 16, 'sorriso': 16, 'enquanto': 16, 'adianta': 16, 'seja': 16, 'pessoa': 16, 'repente': 16, 'amou': 16, 'correndo': 16, 'separar': 15, 'tarde': 15, 'paraíso': 15, 'doidão': 15, 'dizendo': 15, 'procurar': 15, 'marca': 15, 'som': 15, 'entregar': 15, 'estrada': 15, 'boa': 15, 'adoro': 15, 'momento': 15, 'dê': 15, 'ia': 15, 'num': 15, 'pense': 15, 'dei': 14, 'explicação': 14, 'saiba': 14, 'errei': 14, 'ja': 14, 'dando': 14, 'fala': 14, 'segue': 14, 'madrugada': 14, 'certeza': 14, 'falei': 14, 'braços': 14, 'entrar': 14, 'rolar': 14, 'entreguei': 14, 'capaz': 14, 'inteiro': 14, 'cima': 14, 'existe': 14, 'deve': 14, 'falou': 14, 'suas': 14, 'coisas': 13, 'promessas': 13, 'vão': 13, 'aonde': 13, 'primeira': 13, 'tentar': 13, 'tenha': 13, 'banho': 13, 'bebendo': 13, 'olha': 13, 'mandou': 13, '(refrão)': 13, 'amando': 13, 'vento': 13, 'provar': 13, 'conversa': 13, 'bateu': 13, 'seria': 13, 'pelo': 13, 'celular': 13, 'tentei': 13, 'uô': 13, 'quase': 12, 'difícil': 12, 'pegar': 12, 'pensei': 12, 'gemidinho': 12, 'ame': 12, 'fã': 12, 'tantas': 12, 'refrão': 12, 'segundo': 12, 'teve': 12, 'sobre': 12, 'chegar': 12, 'perdão': 12, 'loucura': 12, 'namorado': 12, 'disfarçar': 12, 'fila': 12, 'sonhos': 12, 'traz': 12, 'namorada': 12, 'uôu': 12, 'esqueci': 12, 'sonhar': 12, 'the': 12, 'pela': 12, 'nasceu': 12, 'maluco': 12, 'forte': 12, 'fugir': 12, 'f#': 12, 'brother': 12, 'sim': 12, 'lance': 12, 'livre': 12, 'versos': 12, 'ensina': 12, 'acreditar': 12, 'verdadeiro': 12, 'dias': 12, 'curtir': 12, 'lembrar': 12, 'maior': 12, 'perto': 12, 'chamar': 12, 'dela': 12, 'solução': 12, 'ganhou': 12, 'nas': 12, 'cuidar': 12, 'jogar': 11, 'culpa': 11, 'lhe': 11, 'decide': 11, 'halo': 11, 'sofro': 11, 'pega': 11, 'foram': 11, 'aceito': 11, 'buscar': 11, 'vivendo': 11, 'tanta': 11, 'ar': 11, 'boi': 11, 'segurar': 11, 'amanhecer': 11, 'nossos': 11, 'sentindo': 11, 'balada': 11, 'lembro': 11, 'rio': 11, 'fiquei': 11, 'povo': 11, 'praia': 11, 'negar': 11, 'furunfa': 11, 'conquistar': 11, 'amanda': 11, 'choro': 11, 'esconder': 11, 'dói': 11, 'procuro': 11, 'bate': 11, 'final': 10, 'agente': 10, 'mãos': 10, 'olhando': 10, 'noites': 10, 'ligar': 10, 'hj': 10, 'vc': 10, 'eb': 10, 'antes': 10, 'sério': 10, 'sete': 10, 'minuto': 10, 'falando': 10, 'virar': 10, 'luz': 10, 'caminho': 10, 'minhas': 10, 'amigos': 10, 'paga': 10, 'jamais': 10, 'aceitar': 10, 'sonhei': 10, 'pensamento': 10, 'ajuda': 10, 'caiu': 10, 'menos': 10, 'flor': 10, 'pegando': 10, 'conhecer': 10, 'abraço': 10, 'leve': 10, 'cá': 10, 'caso': 10, 'doce': 10, 'sofri': 10, 'tira': 10, 'cena': 10, 'fácil': 10, 'meio': 10, 'passado': 9, 'avisar': 9, 'desistir': 9, 'possa': 9, 'chão': 9, 'memória': 9, 'laço': 9, 'mesma': 9, 'mariananana': 9, 'amada': 9, 'casar': 9, 'dou': 9, 'proibido': 9, 'momentos': 9, 'adriananana': 9, 'passei': 9, 'fere': 9, 'sentido': 9, 'encontrei': 9, 'bebo': 9, 'alegria': 9, 'magoei': 9, 'todos': 9, 'deixando': 9, 'cansei': 9, 'quantas': 9, 'amigo': 9, 'arrepender': 9, 'perdeu': 9, 'partir': 9, 'virou': 9, 'uuu': 9, 'perco': 9, 'au': 9, 'cadê': 9, 'palavras': 9, 'cabeça': 9, 'menina': 9, 'pelas': 9, 'apaixonei': 9, 'tento': 9, 'anjo': 9, 'yeh': 9, 'às': 9, 'roupa': 9, 'juliananana': 9, 'uo': 9, 'espero': 9, 'mina': 9, 'coragem': 9, 'enganou': 9, 'aguenta': 9, 'filme': 9, 'bobeira': 9, 'destino': 9, 'veio': 9, 'fujo': 8, 'mente': 8, 'acostumar': 8, 'pago': 8, 'graça': 8, 'mudou': 8, '(bis)': 8, 'pele': 8, 'brasil': 8, 'mentir': 8, 'bar': 8, 'certo': 8, 'encima': 8, 'custa': 8, 'sabor': 8, 'tomar': 8, 'vivi': 8, 'gm': 8, 'peço': 8, 'brincadeira': 8, 'esquece': 8, 'terminou': 8, 'raiz': 8, 'ben': 8, 'atender': 8, 'quarto': 8, 'anos': 8, 'der': 8, 'rua': 8, 'pensa': 8, 'brincou': 8, 'procura': 8, 'felicidade': 8, 'alguem': 8, 'infeliz': 8, 'acontecer': 8, 'sincero': 8, 'voar': 8, 'falava': 8, 'fugiu': 8, 'apaixonada': 8, 'abraça': 8, 'acordar': 8, 'corro': 8, 'sofrimento': 8, 'apenas': 8, 'calma': 8, 'segredo': 8, 'diferença': 8, 'larga': 8, 'pedaço': 8, 'sono': 8, 'espera': 8, 'manda': 8, 'devagar': 8, 'mexer': 8, 'iludir': 8, 'acaba': 8, 'presente': 8, 'toca': 8, 'festa': 8, 'põe': 8, '\"tô\"': 8, 'quizer': 8, 'ninguem': 8, 'rosto': 8, 'mudar': 8, '(vamos': 7, 'balançando': 7, 'tv': 7, 'puro': 7, 'mostrar': 7, 'forró': 7, 'pros': 7, 'merece': 7, 'vamo': 7, 'tristeza': 7, 'levo': 7, 'depressa': 7, 'arrancar': 7, 'amoor': 7, 'igual': 7, 'pensamentos': 7, 'emoção': 7, 'qual': 7, 'dividir': 7, 'campeão': 7, 'joga': 7, 'porquê': 7, 'diferente': 7, 'desesperada': 7, 'amarrar': 7, 'amantes': 7, 'abrir': 7, 'apaixone': 7, 'apaixonou': 7, 'frente': 7, 'apagar': 7, 'erro': 7, 'faltou': 7, 'copo': 7, 'foto': 7, 'beira': 7, 'errar': 7, 'algum': 7, 'sorrindo': 7, 'guardado': 7, 'forrozão': 7, 'dança': 7, 'aguento': 7, 'ligando': 7, 'gostosa': 7, 'trás': 7, 'mel': 7, 'esperei': 7, 'encontro': 7, 'prender': 7, 'inteira': 7, 'anda': 7, 'agenda': 7, 'este': 7, 'convencer': 7, 'g#m': 7, 'pedindo': 7, 'agradar': 7, 'simbora': 7, 'vaquejada': 7, 'chamando': 7, 'seguir': 7, 'dinheiro': 7, 'devo': 7, 'tive': 7, 'esqueço': 7, 'estarei': 7, 'explicar': 7, 'escrava': 6, 'duas': 6, 'c#m': 6, 'gritar': 6, 'levante': 6, 'canto': 6, 'ana': 6, 'fogo': 6, 'quê': 6, 'começou': 6, 'culpado': 6, 'toque': 6, 'escuridão': 6, 'telefone': 6, 'lembra': 6, 'silêncio': 6, 'blá': 6, 'brinquedo': 6, 'tiver': 6, 'querem': 6, 'ferido': 6, 'cansada': 6, 'minutos': 6, 'sujo': 6, 'ouvido': 6, 'brisa': 6, 'traga': 6, 'precisando': 6, 'liguei': 6, 'menino': 6, 'preparei': 6, 'precisa': 6, 'azul': 6, 'durmo': 6, 'prova': 6, 'chamo': 6, 'paredão': 6, 'parou': 6, 'podem': 6, 'enfim': 6, 'triste': 6, 'carro': 6, 'descobri': 6, 'tempestade': 6, 'bailão': 6, 'bola': 6, 'basta': 6, 'carente': 6, 'ninho': 6, 'rapaz': 6, 'novela': 6, 'cabelo': 6, 'tava': 6, 'aquecer': 6, 'novamente': 6, 'colchão': 6, 'castigo': 6, 'tentando': 6, 'levou': 6, 'perfume': 6, 'onda': 6, 'enganar': 6, 'insiste': 6, 'vacilou': 6, 'jurou': 6, 'houver': 6, 'direito': 6, 'delirar': 6, 'existir': 6, 'vencedor': 6, 'bandido': 6, 'sucesso': 6, 'sofreu': 6, 'estrelas': 6, 'aquilo': 6, 'ma': 6, 'gostar': 6, 'disso': 6, 'conto': 6, 'olho': 6, 'parte': 6, 'cantar': 6, 'romance': 6, 'moçada': 6, 'aumenta': 6, 'amores': 6, 'hello': 6, 'oceano': 6, 'besteira': 6, 'cuidado': 6, 'problema': 6, 'doendo': 6, 'pegada': 6, 'denovo': 6, 'there': 6, 'retrato': 6, 'sorrir': 6, 'ligou': 6, 'mato': 6, 'das': 6, 'preço': 6, 'perde': 6, '2x': 6, 'horas': 6, 'brinquei': 6, 'suportar': 6, 'princesa': 6, 'quieto': 6, 'jeitinho': 6, 'multidão': 6, 'aquela': 5, 'ficando': 5, 'enlouquecer': 5, 'profundo': 5, 'ouviu': 5, 'entendo': 5, 'eterno': 5, 'procure': 5, '(refrão': 5, 'última': 5, 'barra': 5, 'julieta': 5, 'semana': 5, 'guardar': 5, 'vagabundo': 5, 'locutor': 5, 'escolher': 5, 'repete': 5, 'trazer': 5, 'overdose': 5, 'prá': 5, 'deita': 5, 'evitar': 5, 'siga': 5, 'entregue': 5, 'toma': 5, 'página': 5, 'prometo': 5, 'saudades': 5, 'procurando': 5, 'pagar': 5, 'disser': 5, 'molhar': 5, 'apostar': 5, 'surpreendeu': 5, 'cheguei': 5, 'pé': 5, 'alguma': 5, 'saída': 5, 'tu': 5, 'dúvidas': 5, 'use': 5, 'apague': 5, 'historia': 5, 'fa': 5, 'c#': 5, 'sentimentos': 5, 'água': 5, 'junto': 5, 'perigo': 5, 'todas': 5, 'pecado': 5, 'travesseiro': 5, 'completamente': 5, 'refém': 5, 'errou': 5, 'lembrando': 5, 'jovem': 5, 'opinião': 5, 'buscando': 5, 'entendi': 5, 'sabendo': 5, 'bicho': 5, 'pesadelo': 5, 'vive': 5, 'trabalho': 5, 'ruim': 5, 'usou': 5, 'paulinha': 5, 'armadilha': 5, 'feita': 5, 'impossível': 5, 'dizia': 5, 'aprendi': 5, 'perdido': 5, 'alô': 5, 'contando': 5, 'preta)': 5, 'rasga': 5, 'morre': 5, 'talvez': 5, 'segura': 5, 'coraçao': 5, 'romeu': 5, 'primeiro': 5, 'deixo': 5, 'planta': 5, 'mansinho': 5, 'aceite': 5, 'doer': 5, 'vendo': 5, 'andei': 5, 'outras': 5, 'desfez': 5, 'distância': 5, 'começar': 5, 'pés': 5, 'cobertor': 5, 'senti': 5, 'nenhum': 5, 'usa': 5, 'casou': 5, 'confesso': 5, 'vuco': 5, 'acostumei': 5, 'somente': 5, 'saio': 5, 'resolver': 5, 'busca': 5, 'chorei': 5, 'mulherada': 5, 'mereço': 5, 'mesa': 5, 'outros': 5, 'instante': 5, 'ensinar': 5, 'corre': 5, 'mole': 5, 'serei': 5, 'perdoar': 5, 'razão': 5, 'badalação': 4, 'moderação': 4, 'somos': 4, 'abandonou': 4, 'relação': 4, 'surpreender': 4, 'sentia': 4, 'mostrou': 4, 'despertar': 4, 'sorvete': 4, 'viu': 4, 'fome': 4, 'vir': 4, 'quebrar': 4, 'nossas': 4, 'dona': 4, 'pude': 4, 'tcherere': 4, 'orar': 4, 'morro': 4, 'acabo': 4, 'esperança': 4, 'pesquisa': 4, 'precisamos': 4, 'diamantes': 4, 'abuse': 4, 'saia': 4, 'entrando': 4, 'palavra': 4, 'cura': 4, 'g#': 4, 'imaginar': 4, '(calcinha': 4, 'manter': 4, 'legal': 4, 'esqueça': 4, 'canso': 4, 'além': 4, 'distante': 4, 'doido': 4, 'seguindo': 4, 'bailar': 4, 'fingir': 4, 'acredite': 4, 'desde': 4, 'queimada': 4, 'eva': 4, 'curti': 4, 'rebola': 4, 'rala': 4, 'aos': 4, 'arranha': 4, 'apertar': 4, 'hospital': 4, 'quiz': 4, 'devia': 4, 'loucamente': 4, 'vêm': 4, 'gatinha': 4, 'naquele': 4, 'ôôô': 4, 'achar': 4, 'livrar': 4, 'conquistou': 4, 'alisando': 4, 'neste': 4, 'encontrou': 4, 'animal': 4, 'algo': 4, 'cinza': 4, 'navegou': 4, 'desespero': 4, 'f#7': 4, 'rolando': 4, 'algumas': 4, 'quente': 4, 'prometeu': 4, 'dispara': 4, 'bb7': 4, 'consegui': 4, 'googleme': 4, 'cais': 4, 'by': 4, 'durou': 4, 'juras': 4, 'motivo': 4, 'afim': 4, 'flecha': 4, 'real': 4, 'pegador': 4, 'bonitas': 4, 'refleto': 4, 'dono': 4, 'séria': 4, 'réfem': 4, 'brinquedinho': 4, 'você)': 4, 'canudinho': 4, 'arriscar': 4, 'direção': 4, 'percebeu': 4, 'acordado': 4, 'ave': 4, 'deixei': 4, 'aumentando': 4, 'pedras': 4, 'clube': 4, 'loucuras': 4, 'respiro': 4, 'excitadinha': 4, 'magoar': 4, 'beijou': 4, 'demora': 4, 'fotos': 4, 'inferno': 4, 'todinho': 4, 'refrão:': 4, 'devorar': 4, 'entrou': 4, 'resposta': 4, 'caminhar': 4, 'bonita': 4, 'ache': 4, 'brilhar': 4, 'rola': 4, 'doi': 4, 'responde': 4, 'serio': 4, 'top': 4, 'gelada': 4, 'passando': 4, 'ref:': 4, 'limpa': 4, 'mentira': 4, 'descobriu': 4, 'conversar': 4, 'abandonada': 4, 'querernao': 4, 'ouvi': 4, 'enfeitiçou': 4, 'espalhando': 4, 'despertava': 4, 'estouro': 4, 'sede': 4, 'mude': 4, 'salvar': 4, 'ausência': 4, 'guardo': 4, 'cola': 4, 'nenhuma': 4, 'beija': 4, 'mil': 4, 'rendo': 4, 'dez': 4, '(7x)': 4, 'chupechupechupe': 4, 'pa': 4, 'sul': 4, 'mandar': 4, 'adão': 4, 'tentou': 4, 'tchererê': 4, 'arte': 4, 'flores': 4, 'ié': 4, 'simplesmente': 4, 'declarar': 4, 'tocou': 4, 'aberta': 4, 'caro': 4, 'fãs': 4, 'entrego': 4, 'volte': 4, 'amiga': 4, 'cai': 4, 'lembranças': 4, 'força': 4, 'ru': 4, 'engana': 4, 'vazio': 4, 'time': 4, 'aaa': 4, '[refrão]': 4, 'bobo': 4, 'irmão': 4, 'refrescando': 4, 'notícias': 4, 'enganei': 4, 'roubar': 4, 'veneno': 4, 'tenta': 4, 'abandonar': 4, 'aventura': 4, 'verso': 4, 'compromisso': 4, 'grosso': 4, 'cobrei': 4, 'tchêrêrê': 4, 'continuo': 4, 'pegou': 4, 'amoramor': 4, 'ligado': 4, 'muita': 4, 'fazendo': 4, 'balanço': 4, 'baixar': 4, 'fundo': 4, 'lenha': 4, 'curtição': 4, 'precisou': 4, 'palma': 4, 'acordei': 4, 'indecisão': 3, 'rumo': 3, 'fatal': 3, 'prove': 3, 'escondido': 3, 'fúria': 3, 'parei': 3, 'botar': 3, 'tremer': 3, 'necessário': 3, 'correr': 3, 'exata': 3, 'foge': 3, 'atrapalhado': 3, 'valer': 3, 'fadas': 3, 'porre': 3, 'anúncio': 3, 'melhores': 3, 'gostou': 3, 'ouço': 3, 'contra': 3, 'pirado': 3, 'papo': 3, 'jurei': 3, 'abra': 3, 'daquela': 3, 'nus': 3, 'descobrir': 3, 'cego': 3, 'paparazzi': 3, 'inventa': 3, 'vira': 3, 'sob': 3, 'presto': 3, 'programa': 3, 'servirá': 3, 'atenção': 3, 'harém': 3, 'sofra': 3, 'paulo': 3, 'espinha': 3, 'dividido': 3, 'lamba': 3, 'iria': 3, 'entregando': 3, 'gruda': 3, 'estranho': 3, 'vinte': 3, 'estourar': 3, 'infinito': 3, 'ligo': 3, 'corações': 3, 'disfarce': 3, 'certa': 3, 'invadiu': 3, 'ponto': 3, 'escuto': 3, 'seguida': 3, 'boas': 3, 'perdidamente': 3, 'abusa': 3, 'olhava': 3, 'fale': 3, 'distancia': 3, 'mãe': 3, 'motivos': 3, 'meigo': 3, 'nascer': 3, 'bela': 3, 'zero': 3, 'normal': 3, 'impedir': 3, 'recomeçar': 3, 'falo': 3, 'uuuu': 3, 'perca': 3, '(ou': 3, 'aceitei': 3, 'socorra': 3, 'perdoa': 3, 'surpreenda': 3, 'ajudar': 3, 'entendeu': 3, 'ganha': 3, 'escondeu': 3, 'acertou': 3, 'fecho': 3, 'pulos': 3, 'vampiro': 3, 'parecido': 3, 'invade': 3, 'sera': 3, 'tela': 3, 'coitado': 3, 'metade': 3, 'grito': 3, 'erros': 3, 'tuttifrutti': 3, 'papa': 3, 'rá': 3, 'charme': 3, 'usar': 3, 'mulheres': 3, 'perguntei': 3, 'complicação': 3, 'voltando': 3, 'deseja': 3, 'esconde': 3, 'entende': 3, 'machucar': 3, 'insubstituível': 3, 'asas': 3, 'arrasou': 3, 'estiver': 3, 'virei': 3, 'atracou': 3, 'compreenda': 3, 'realizar': 3, 'ooohooo': 3, 'clarão': 3, 'encontrava': 3, 'fé': 3, 'respeito': 3, 'juntos': 3, 'poderei': 3, 'precisar': 3, 'podia': 3, 'consumo': 3, 'volto': 3, 'confusão': 3, 'ra': 3, 'cante': 3, 'inverno': 3, 'dominar': 3, 'desprezou': 3, 'levando': 3, 'negou': 3, 'controlar': 3, 'figura': 3, 'desligar': 3, 'estão': 3, 'escolheu': 3, 'casal': 3, 'brincando': 3, 'criei': 3, 'filho': 3, 'estive': 3, 'gostava': 3, 'agradeço': 3, 'transbordando': 3, 'sabem': 3, 'homen': 3, 'procurava': 3, 'amava': 3, 'garota': 3, 'brincar': 3, 'mentiras': 3, 'duvida': 3, 'niguém': 3, 'nela': 3, 'contar': 3, 'nota': 3, 'dava': 3, 'tum': 3, 'enxergar': 3, 'assanhadinha': 3, 'garanto': 3, 'incomoda': 3, 'esquenta': 3, 'mudado': 3, 'doideira': 3, 'coracao': 3, 'pisou': 3, 'mudam': 3, 'desligue': 3, 'érica': 3, 'uôuuuuuu': 3, 'estação': 3, 'ruas': 3, 'lindas': 3, 'uu': 3, 'espelho': 3, 'gostosinho': 3, 'desilusão': 3, 'acordo': 3, 'entenda': 3, 'aguentar': 3, '1)': 3, 'tou': 3, 'apesar': 3, 'bilheteria': 3, 'ontem': 3, 'desculpe': 3, 'love': 3, 'nuvens': 3, 'culpada': 3, 'chego': 3, 'curar': 3, 'pronto': 3, 'chave': 3, 'ás': 3, 'tiro': 3, 'insistir': 3, 'caminhos': 3, 'explodindo': 3, 'gritando': 3, 'prepare': 3, 'g7': 3, 'ingratidão': 3, 'ponho': 3, 'trocou': 3, 'ui': 3, 'vício': 3, 'retornar': 3, 'conheço': 3, 'abismo': 3, 'revolto': 3, 'carregue': 3, 'cachaceiro': 3, 'começo': 3, 'provocou': 3, 'hei': 3, 'bunda': 3, 'babando': 3, 'desisto': 3, 'guia': 3, '(te': 3, 'mora': 3, 'começa': 3, 'parada': 3, 'ilha': 3, 'amado': 3, 'entramos': 3, 'asseguro': 3, 'batendo': 3, 'conseguir': 3, 'especial': 3, 'traiu': 3, 'manhã': 3, 'separam': 3, 'dormindo': 3, 'tesão': 3, 'paixões': 3, 'ei': 3, 'file': 3, 'tantos': 3, 'sigo': 3, 'acontece': 3, 'precisava': 3, 'motel': 3, 'forçando': 3, 'reinar': 3, 'telefono': 3, 'agita': 3, 'agüenta': 3, 'imaginei': 3, 'jura': 3, 'tentação': 3, 'andar': 3, 'mostra': 3, 'faminto': 3, 'ciúme': 3, 'soltinhamas': 3, 'negona': 3, 'queima': 3, 'imaturidade': 3, 'continuar': 3, 'êiê': 3, 'orgulho': 3, 'possível': 3, 'juízo': 3, 'show': 3, 'suar': 3, 'milhões': 3, 'eterna': 3, 'areia': 3, 'compara': 3, 'perdidos': 2, 'nuvem': 2, 'negócio': 2, 'podesse': 2, 'paraíso)': 2, 'cabeçatentar': 2, 'musa': 2, 'doll': 2, 'lancei': 2, 'amo)': 2, 'gata': 2, 'apostei': 2, 'compreender': 2, 'dizem': 2, 'fel': 2, 'lágrimas': 2, 'jardim': 2, 'convidada': 2, 'leite': 2, 'on': 2, 'conhecido': 2, 'causa': 2, 'poderia': 2, 'molhando': 2, 'your': 2, 'machuca': 2, 'salão': 2, 'partiu': 2, 'assim0': 2, 'ceder': 2, 'esfriar': 2, 'ferrou': 2, 'poucas': 2, 'gemendo': 2, 'abril': 2, 'levantou': 2, 'notou': 2, 'namoro': 2, 'ficaram': 2, 'temos': 2, 'dó': 2, 'viro': 2, 'am': 2, 'tortura': 2, 'saí': 2, 'thu': 2, 'sentar': 2, 'troco': 2, 'boto': 2, 'portamalas': 2, 'assumiria': 2, 'cobrança': 2, 'prime': 2, 'código': 2, 'contas': 2, 'cansado': 2, '(contigo)': 2, 'infarta': 2, 'porto': 2, 'obrigado': 2, 'afaga': 2, 'metades': 2, 'mexeu': 2, 'ocupando': 2, 'aliança)': 2, 'salto': 2, 'remédio': 2, 'desaba': 2, 'curtindo': 2, 'és': 2, 'escrito': 2, 'farra': 2, 'olhou': 2, 'ensinando': 2, 'fato': 2, 'quê:': 2, 'rede': 2, 'aproveitar': 2, 'divertir': 2, 'terminado': 2, 'faria': 2, 'pensão': 2, 'sentiu': 2, 'telefona': 2, 'manchete': 2, 'desperta': 2, 'compente': 2, 'humano': 2, 'carinhos': 2, 'televisão': 2, 'declarando': 2, 'afastar': 2, 'possuir': 2, 'd´aquele': 2, 'traição': 2, 'acordada': 2, 'complicado': 2, 'cidade': 2, 'encantos': 2, 'manaus': 2, 'pisa': 2, 'ternura': 2, 'quisertem': 2, 'têla': 2, 'imprevisto': 2, 'levanto': 2, 'atrás)': 2, 'começamos': 2, 'dito': 2, 'brigas': 2, 'ski': 2, 'decido': 2, 'ha': 2, 'prejuízo': 2, 'deitada': 2, 'pare': 2, 'edward': 2, 'passaramse': 2, 'muitas': 2, 'radar': 2, 'daqui': 2, 'la': 2, 'quebra': 2, 'desligado': 2, 'abandonado': 2, 'piriguetes': 2, 'ía': 2, 'arrastando': 2, 'esfregar': 2, 'pareço': 2, 'baratas': 2, 'natal': 2, 'inseguro': 2, 'suma': 2, '\"homi\"': 2, 'sujou': 2, 'multiplicar': 2, 'gemia': 2, 'pedra': 2, 'êta': 2, 'lambusa': 2, 'tente': 2, 'pensou': 2, 'santa': 2, 'bêra': 2, 'papel': 2, 'bebêdera': 2, 'prefere': 2, 'corpos': 2, 'levantou(arrepiou)': 2, 'envolver': 2, 'alguns': 2, 'lagrimas': 2, 'mandinga': 2, 'parede': 2, 'acendeu': 2, 'branco': 2, 'fizamor': 2, 'cinema': 2, 'velho': 2, 'apago': 2, 'pará': 2, 'marcou': 2, 'dera': 2, 'tomou': 2, 'estamos': 2, 'fonte': 2, 'magia': 2, 'indiferença': 2, '14': 2, 'férias': 2, 'invejado': 2, 'abraços': 2, 'aconteça': 2, 'perdidas': 2, 'furacão': 2, 'desabafei': 2, 'deusa': 2, 'cremoso': 2, 'by:laysinha': 2, 'gêmeas': 2, 'molhada': 2, 'poque': 2, 'decente': 2, '(um': 2, 'colorido': 2, 'vestir': 2, 'solteira': 2, 'cantores': 2, 'reconheceu': 2, 'vazia': 2, 'traindo': 2, 'saiu': 2, 'gsm': 2, 'jet': 2, 'sensual': 2, 'minas': 2, 'reconquistar': 2, '24': 2, 'injusta': 2, 'matarme': 2, 'procurei': 2, '(vou': 2, 'mostro': 2, 'gostaria': 2, 'sextou': 2, 'malhei': 2, 'limpo': 2, 'encontra': 2, 'criando': 2, 'pôde': 2, 'ligada': 2, 'macapá': 2, 'aumente': 2, 'elas': 2, 'ligue': 2, 'jornais': 2, 'aproximando': 2, 'gritou': 2, 'perdoei': 2, 'daria': 2, 'rara': 2, 'assustada': 2, 'releva': 2, 'decidido': 2, 'aiaiai': 2, 'arrepiada': 2, \"''\": 2, 'luzes': 2, 'fantasia': 2, 'bebeu': 2, 'gerais': 2, 'preto': 2, 'fechei': 2, 'lembrança': 2, 'mau': 2, 'eclipse': 2, 'aprovado': 2, 'nasci': 2, 'acabaram': 2, 'chorava': 2, 'bares': 2, 'escolhida': 2, 'coladinho': 2, 'bebida': 2, 'avião': 2, 'avesso': 2, 'brasília': 2, 'beijava': 2, 'praser': 2, 'vestida': 2, 'nen': 2, 'ficam': 2, 'see': 2, 'chupar': 2, 'amanheço': 2, 'apareceu': 2, 'realizada': 2, 'êita': 2, 'digitais': 2, 'tao': 2, 'decisão': 2, 'desejar': 2, 'calar': 2, 'conseguiu': 2, 'área': 2, 'sueira': 2, 'amaeu': 2, 'fugindo': 2, 'somar': 2, 'amoré': 2, 'procura)': 2, 'navio': 2, 'atendeu': 2, 'minta': 2, 'suave': 2, 'my': 2, 'mares': 2, 'parecendo': 2, '(é': 2, 'enchi': 2, 'tarda': 2, 'subtrair': 2, 'sousa': 2, 'sorria]': 2, 'confessar': 2, 'vocês': 2, 'alaga': 2, 'melei': 2, 'pelos': 2, 'ô)': 2, 'movimento': 2, '(quer': 2, 'abusou': 2, 'ilumina': 2, 'indicado': 2, 'letra': 2, 'indo': 2, 'abro': 2, 'parava': 2, 'troca': 2, 'provocando': 2, 'superar': 2, 'vinho': 2, 'pau': 2, 'pura': 2, 'sacanear': 2, 'bahia': 2, 'lágrima': 2, 'haa': 2, 'farsa': 2, 'tivesse': 2, 'madeirou': 2, 'beijando': 2, 'loiro': 2, 'andam': 2, 'bote': 2, 'adentro': 2, 'faculdade': 2, 'gelo': 2, 'acreditei': 2, 'juramento': 2, 'loucoloucoloucolouco': 2, 'mágica': 2, 'controle': 2, 'voltei': 2, 'viveu': 2, 'dadas': 2, 'cuida': 2, 'queimando': 2, 'escrevi': 2, 'sangue': 2, 'podemos': 2, 'tola': 2, 'conquiste': 2, 'medida': 2, 'favorita': 2, 'passamos': 2, 'carrego': 2, 'rastreei': 2, 'correu': 2, 've': 2, 'caí': 2, 'califórnia': 2, 'cartas': 2, 'pôr': 2, 'ôô': 2, 'resolvi': 2, 'sensação': 2, 'caneta': 2, 'estrela': 2, 'embriaguei': 2, 'felizes': 2, 'joguei': 2, 'garçom': 2, 'banheiro': 2, 'esquecida': 2, 'pensava': 2, 'recado': 2, 'noção': 2, 'deixes': 2, 'frases': 2, 'intenso': 2, 'sergipe': 2, 'jogue': 2, 'futuro': 2, 'errada': 2, 'brigam': 2, 'fiel': 2, '10': 2, 'escute': 2, '(eu': 2, 'maltrata': 2, 'baixando': 2, 'flechada': 2, 'safado': 2, 'aflor': 2, 'vivia': 2, 'ningúem': 2, 'imaginava': 2, 'confundir': 2, 'nois': 2, 'conquista': 2, '(4x)': 2, 'rolou': 2, 'feitiço': 2, 'falsa': 2, 'situação': 2, 'recordo': 2, 'aceso': 2, 'sermos': 2, 'sufocou': 2, 'poesia': 2, 'escancarado': 2, 'paaga': 2, 'atoa': 2, 'enfrento': 2, 'bobão': 2, 'acolher': 2, 'safadinha': 2, 'veja': 2, 'passo': 2, 'iludiu': 2, 'tirando': 2, 'estante': 2, 'pai': 2, 'defender': 2, 'assistindo': 2, 'charminho': 2, 'decidida': 2, 'passava': 2, 'm:': 2, 'lençol': 2, 'sumiu': 2, 'jantar': 2, 'chamava': 2, 'tocava': 2, 'decidi': 2, 'acelerou': 2, 'dizer:': 2, 'jóia': 2, 'existiu': 2, 'cabaré': 2, 'tolice': 2, 'modo': 2, 'cênica': 2, 'voê': 2, 'inimigo': 2, 'sinal': 2, 'arranca': 2, 'imaginando': 2, 'amizade': 2, 'conheceu': 2, 'idéia': 2, 'bonitos': 2, 'heeeey': 2, 'viajo': 2, 'chorão': 2, 'marcam': 2, 'terquero': 2, 'desconfiança': 2, 'consegue': 2, 'desculpa': 2, 'camarim': 2, 'ondas': 2, 'segundafeira': 2, 'criança': 2, 'duvide': 2, 'bater': 2, 'importante': 2, 'min': 2, 'bm': 2, 'cega': 2, 'escolhe': 2, 'arrasador': 2, 'espaço': 2, 'amapá': 2, 'viajar': 2, 'cruzar': 2, 'regras': 2, 'príncipe': 2, 'surgirá': 2, 'vier': 2, 'gostei': 2, 'sendo': 2, 'baseado': 2, 'sexta': 2, 'dose': 2, 'pára': 2, 'rosas': 2, 'oi': 2, 'zuar': 2, 'divina': 2, 'amortudo': 2, 'avida': 2, 'esteve': 2, 'vista': 2, 'ferveu': 2, 'vidas': 2, 'lugares': 2, 'hipnotizar': 2, 'fortaleza': 2, 'vacilar': 2, 'portas': 2, 'acabado': 2, 'mando': 2, 'arranja': 2, 'abri': 2, 'resisto': 2, 'aflito': 2, 'mala': 2, 'dependo': 2, 'segurando': 2, '2)': 2, 'assim:': 2, 'paraíba': 2, 'via': 2, 'tipo': 2, 'quais': 2, 'más': 2, 'hojehoje': 2, 'réfemseu': 2, 'cerqueira': 2, 'achou': 2, 'presos': 2, 'liberdade': 2, 'barraco': 2, 'arder': 2, 'vicio': 2, 'escolhi': 2, 'disposto': 2, 'noitada': 2, 'salve': 2, 'recebi': 2, 'muda': 2, 'edwilson': 2, 'caça': 2, 'arrumar': 2, 'bons': 2, 'nua': 2, 'desonesta': 2, 'encontram': 2, 'iêeeeeee': 2, 'povão': 2, 'soltinha': 2, 'avisei': 2, 'catarina': 2, 'trabalhador': 2, '(por': 2, 'êra': 2, 'janeiro': 2, 'bebi': 2, 'realiza': 2, 'lutar': 2, 'abraçarx2': 2, 'resistir': 2, 'recife': 2, 'dificil': 2, 'próxima': 2, 'sumir': 2, 'contava': 2, '(vencedor)': 2, 'grana': 2, 'separação': 2, 'explosão': 2, 'mergulhar': 2, 'zueira': 2, 'baixinho': 2, 'mentindo': 2, 'cenas': 2, 'mudei': 2, 'considerado': 2, 'morzinho': 2, 'aguentei': 2, 'boato': 2, 'amargo': 2, 'dormi': 2, 'odeia': 2, 'trovão': 2, 'nececito': 2, 'segundos': 2, 'ressentimento': 2, 'vitória': 2, 'cervejão': 2, 'despedir': 2, 'finjo': 2, 'd#m': 2, 'sacrifícioé': 2, 'poucos': 2, 'perdir': 2, 'direto': 2, 'seguro': 2, 'suporto': 2, 'bandida': 2, 'ciúmes': 2, 'pagou': 2, 'coracaomagoei': 2, 'dediquei': 2, 'fizer': 2, 'andando': 2, 'censurado': 2, 'resgatar': 2, 'arregada': 2, 'licença': 2, 'goiás': 2, 'sonhou': 2, 'atende': 2, 'peça': 2, 'lamentar': 2, '(só': 2, 'entra': 2, 'aprendo': 2, 'taça': 2, 'acredita': 2, 'avise': 2, 'bocas': 2, 'pergunte': 2, 'pesada': 2, 'fingiu': 2, '{refrão}': 2, 'saber)': 2, 'intro:': 2, 'absurdos': 2, 'branca': 2, 'pranto': 2, 'aparecer': 2, 'raio': 2, 'assumir': 2, 'arrasta': 2, 'chao': 2, 'estresse': 2, 'boba': 2, 'deitou': 2, 'esfrega': 2, 'sô': 2, 'aprender': 2, 'retirei': 2, 'multidões': 2, 'delícia': 2, 'milhas': 2, 'gritava': 2, 'artista': 2, 'crer': 2, 'merecer': 2, 'preste': 2, 'mande': 1, 'lembrei': 1, 'baile': 1, 'sextafeira': 1, 'you': 1, 'sequestrada': 1, 'cenário': 1, 'cacinha': 1, 'nunc': 1, 'háfogo': 1, 'daí': 1, 'humana': 1, 'risca': 1, 'imagino': 1, 'sabia': 1, 'abertos': 1, 'fechar': 1, 'esteja': 1, 'vô': 1, 'vodka': 1, 'consciência': 1, 'trate': 1, 'desaparece': 1, 'capricho': 1, 'adivinhar': 1, 'minando': 1, 'youtube': 1, '{2}': 1, 'dispedida': 1, 'pisar': 1, 'presta': 1, 'brigue': 1, 'inocente': 1, 'respondeu': 1, 'mensagens': 1, 'silencio': 1, 'jacob': 1, 'provei': 1, 'aperta': 1, 'laçou': 1, 'namore': 1, 'recordacao': 1, 'gota': 1, 'secretária': 1, 'dançando': 1, 'melhorar': 1, 'nâo': 1, 'aéreae': 1, 'entregou': 1, 'fecha': 1, 'fotografar': 1, 'suba': 1, 'loge': 1, 'seduzindo': 1, 'batida': 1, 'iluminado': 1, 'trilhando': 1, 'demoremeu': 1, 'desmantelado': 1, 'bôbo': 1, 'tome': 1, 'armas': 1, 'maltratava': 1, 'eternos': 1, 'conduz': 1, 'alimentícia': 1, 'resolvesse': 1, 'sequer': 1, 'amar(2x)': 1, 'seduz': 1, 'buraco': 1, 'voltava': 1, 'sertao': 1, 'você`': 1, 'colocou': 1, 'uso': 1, 'perderia': 1, 'cobertura': 1, 'entããão': 1, 'caindo': 1, 'guiam': 1, 'nascemos': 1, 'provoca': 1, 'tropeçava': 1, 'precisasse': 1, 'estrago': 1, 'ocupado': 1, 'dourar': 1, 'encruzilhada': 1, 'português': 1, 'marcas': 1, 'parado': 1, 'escutando': 1, 'perdia': 1, 'pobre': 1, 'suporta': 1, 'rouba': 1, 'ânsia': 1, 'escrito:desculpa': 1, 'pressa': 1, 'tranças': 1, 'vez)': 1, 'muitos': 1, 'afogar': 1, 'prometido': 1, 'prima': 1, 'caos': 1, 'realça': 1, 'completa': 1, 'ri': 1, 'caía': 1, 'abalar': 1, 'transformouse': 1, 'desgrudar': 1, 'viagem': 1, 'singela': 1, 'machuque': 1, 'tocantis': 1, 'arco': 1, 'espalhadas': 1, 'mentimenti': 1, 'solto': 1, 'estaria': 1, 'abala': 1, 'pinha': 1, 'perfeito': 1, 'paagaa': 1, 'pertence': 1, 'cansados': 1, 'faltando': 1, 'emudecer': 1, 'iluminar': 1, 'poderosa': 1, 'rádio': 1, 'passeio': 1, 'soprar': 1, 'conseguirá': 1, 'violão': 1, ';~d': 1, '[tris]': 1, 'es': 1, 'desfila': 1, 'xadrez': 1, 'chorarx2': 1, 'cawboy': 1, 'morar': 1, 'secreta': 1, 'personalidade': 1, 'segurança': 1, 'entregam': 1, 'esquecendo': 1, 'preferida': 1, 'missão': 1, 'fundamental': 1, '09': 1, 'pudi': 1, 'conquistada': 1, 'derretendo': 1, 'adorava': 1, 'dávou': 1, 'causou': 1, 'amanheceu': 1, 'atrasada': 1, 'data': 1, 'paranámaranhão': 1, 'justo': 1, 'planos': 1, 'girar': 1, 'di_gja@hotmailcom': 1, '(can': 1, 'afasta': 1, 'reconhecer': 1, 'marquei': 1, 'respeitar\"': 1, 'pondo': 1, 'risco': 1, 'iludindo': 1, 'arrependida': 1, 'suspiro': 1, 'lacrimejam': 1, 'cruz': 1, 'xandy': 1, 'ohhhhohhhyeahh': 1, 'massa': 1, 'créditos': 1, 'pernambuco': 1, 'eperei': 1, 'chapa': 1, 'pulsar': 1, 'farol': 1, 'rezo': 1, 'tambem': 1, 'laranja': 1, '100%': 1, 'lane': 1, 'mágoas': 1, 'seduzir': 1, 'adrenalina': 1, 'estações': 1, 'fogosa': 1, 'fanática': 1, 'plantar': 1, 'glamour': 1, 'capado': 1, 'desista': 1, 'sedução': 1, 'ganhei': 1, '(perdi': 1, 'acredito': 1, 'desfarçar': 1, 'goiaba': 1, 'agüento': 1, 'encontrase': 1, 'maí': 1, 'partia': 1, 'declaração': 1, 'guardei': 1, 'bem)': 1, 'sole': 1, 'joana': 1, 'valem': 1, 'formas': 1, 'ouvindo': 1, 'fracasso': 1, 'aurora': 1, 'suportei': 1, 'borracha': 1, 'filé': 1, 'noel': 1, 'atriz': 1, 'estrelaguia': 1, 'atravessar': 1, 'transformar': 1, 'chamou': 1, 'nã': 1, 'perguntar': 1, 'hipnose': 1, 'uns': 1, 'fantasias': 1, 'vivemos': 1, 'fronteiras': 1, 'feri': 1, 'acender': 1, 'garantoto': 1, 'perna': 1, 'duro': 1, 'depender': 1, 'desengano': 1, 'acorrentou': 1, 'cansou': 1, 'acabe': 1, 'namora': 1, 'amoamoamo': 1, 'festas': 1, 'provocante': 1, 'tocantins': 1, 'deleta': 1, '[7x]': 1, 'entrei': 1, 'senta': 1, '\"não': 1, 'milagres': 1, 'exite': 1, 'bonito': 1, 'premonição': 1, 'vagas': 1, 'pu': 1, 'passaram': 1, 'maravilha': 1, 'conseguem': 1, 'mágico': 1, 'frase': 1, 'ensine': 1, 'paredes': 1, 'encantador': 1, 'encontrado': 1, 'irmãos': 1, 'avisou': 1, 'melão': 1, 'agarrar': 1, 'largado': 1, 'glamourosa': 1, 'aquelas': 1, '2x)': 1, 'tatuagem': 1, 'numero': 1, 'derreto': 1, 'bocagosto': 1, 'alucinada': 1, 'vidaa': 1, 'encanto': 1, 'chorarnem': 1, 'malícia': 1, 'entendendo': 1, 'amanhece': 1, 'enfeitiço)': 1, 'oo': 1, 'acostumou': 1, 'transa': 1, 'manha': 1, 'abestalhado': 1, 'folhas': 1, 'aquece': 1, 'desmaiei': 1, 'outramas': 1, 'alí': 1, 'superhomem': 1, 'cupido': 1, 'superherói': 1, '08': 1, 'tremi': 1, 'libera': 1, 'quina': 1, 'encontroe': 1, 'reviravolta': 1, 'capaz)': 1, 'esqueceram': 1, 'brasileiro': 1, 'responder': 1, 'michael': 1, 'apanha': 1, 'prefiro': 1, 'largava': 1, 'regamos': 1, 'mexendo': 1, '12': 1, 'dilemas': 1, 'estrelado': 1, 'apaixonando': 1, 'moites': 1, 'viagens': 1, 'tremeu': 1, '\"alô': 1, 'montei': 1, 'seguinte': 1, 'anoiteça': 1, 'correspondência': 1, 'encantado': 1, 'mentiou': 1, 'encontre': 1, 'mundoque': 1, 'ficção': 1, 'briguei': 1, 'realidade': 1, 'demais(2x)': 1, 'laços': 1, 'separando': 1, 'notei': 1, 'pirou': 1, 'batia': 1, '2×': 1, 'ogro': 1, 'vacila': 1, 'escuro': 1, 'jane': 1, 'traçadas': 1, '(faz': 1, 'carinhoso': 1, 'consideração': 1, 'casa;': 1, 'deprimo': 1, 'danadinha': 1, 'coloquei': 1, '(dança': 1, 'fingimentos': 1, 'molhei': 1, 'mim(2x)': 1, 'bagunçou': 1, 'perigosa': 1, 'negue': 1, 'saquei': 1, 'descretamente': 1, 'couro': 1, 'arriscando': 1, 'excluir': 1, 'dizer:eu': 1, 'assume': 1, 'derramando': 1, 'restaurante': 1, 'cuidou': 1, 'historias': 1, 'brigando': 1, 'musica': 1, 'soares': 1, 'sentimental': 1, 'cantei': 1, 'quilinhos': 1, 'indeciso': 1, 'sentada': 1, 'crescidinha': 1, 'gandaia': 1, 'ferver': 1, 'defeito': 1, 'desistirei': 1, 'floricultura': 1, 'móvel': 1, 'carreguei': 1, 'respondem': 1, 'terços': 1, 'adular': 1, 'amorrrr': 1, 'fernando': 1, 'ligava': 1, 'deletar': 1, 'brava': 1, 'aperreio': 1, 'duvidar': 1, 'some': 1, 'macêdo': 1, 'mulhera': 1, 'camafaz': 1, 'confessou': 1, 'marcado': 1, 'bandeira': 1, 'denunciar': 1, 'dominou': 1, 'machuquei': 1, 'homemaranha': 1, 'x2': 1, 'veredito': 1, 'rabisca': 1, 'amornao': 1, 'fantástico': 1, 'fotografias': 1, 'pego': 1, 'senteiquase': 1, 'ajudou': 1, 'encantei': 1, 'enlouquecendo': 1, '(e': 1, 'íris': 1, 'sintomas': 1, 'luiz': 1, 'sou;': 1, 'talvezvocê': 1, 'nega': 1, 'único': 1, 'desses': 1, 'amante': 1, 'beijouiêêhh': 1, 'objeto': 1, 'rugas': 1, 'falam': 1, 'encaixa': 1, 'deprê': 1, 'paralisado': 1, 'mary': 1, 'amoreu': 1, 'filmar': 1, 'desfilar': 1, 'olhei': 1, 'difíceis': 1, 'gavião': 1, 'surpreendido': 1, 'decidir': 1, 'sinais': 1, 'desejou': 1, 'gestos': 1, 'ombom': 1, 'vais': 1, 'solteiro': 1, 'maravilhosa': 1, 'irá': 1, 'fiada': 1, 'silvânia': 1, 'regando': 1, 'sozinho(2x)': 1, 'proteger': 1, 'deles': 1, 'soprando': 1, 'danada': 1, 'soltinhamais': 1, 'pensarvou': 1, 'disfarçou': 1, 'convenceu': 1, 'alegrar': 1, 'crucial': 1, 'resista': 1, 'lois': 1, 'respeite': 1, 'recordacão': 1, 'sertão': 1, 'religião': 1, 'medos': 1, '{bis}me': 1, 'castelo': 1, 'moda': 1, 'sobreviver': 1, 'grudado': 1, '(2*)': 1, 'sinta': 1, 'desapareceu': 1, 'sos': 1, 'expulsei': 1, 'luana': 1, 'ligaria': 1, '_r¢k_': 1, 'caju': 1, '(bis': 1, 'atrapalhar': 1, 'criador': 1, 'hollywood': 1, 'histórias': 1, 'mexa': 1, 'amormuito': 1, '=]': 1, '\"mj\"': 1, 'leão': 1, 'vire': 1, 'despertou': 1, 'redor': 1, 'peças': 1, 'julgar': 1, 'interessa': 1, 'boate': 1, 'grita': 1, 'desejada': 1, 'desmascarar': 1, '(3x)': 1, 'justiça': 1, 'selinho': 1, 'belo': 1, 'tigo': 1, 'vários': 1, 'mané': 1, \"você'\": 1, 'ahh': 1, 'solo': 1, 'apartamento': 1, 'dedos': 1, 'divididos': 1, 'oooo': 1, 'maisespera': 1, 'ví': 1, 'deitado': 1, 'enfiada': 1, 'mechendo': 1, 'ladosserá': 1, 'topo': 1, 'acende': 1, 'prometi': 1, 'daniel': 1, '100': 1, 'raça': 1, 'haja': 1, 'pintei': 1, 'semprer': 1, 'brigamos': 1, 'gente)': 1, 'sozinha)': 1, 'miim': 1, 'paraiso': 1, '(x2)': 1, 'cansar': 1, 'papai': 1, 'alegrou': 1, \"'quero\": 1, 'bronca': 1, 'idade': 1, '07': 1, 'estradaponte': 1, 'voando': 1, 'boazuda': 1, 'beba': 1, 'revelando': 1, 'cheio': 1, 'raparigar': 1, 'roberta': 1, 'mintoesse': 1, 'transformou': 1, 'chegue': 1, 'águas': 1, 'andava': 1, 'voraz': 1, 'quica': 1, 'francês': 1, 'milhão': 1, 'embaixo': 1, 'inesperadamente': 1, 'acalmar': 1, 'vestiu': 1, 'ng': 1, 'beijada': 1, 'mamão': 1, 'kyrah': 1, 'prometer': 1, 'preparar': 1, 'mandei': 1, 'arrancasse': 1, 'maçã': 1, 'mesmas': 1, 'lgar': 1, 'partida': 1, 'furun': 1, 'maravilhoso': 1, 'suspiros': 1, 'aqueci': 1, 'brinque': 1, 'sabere': 1, 'telas': 1, 'juizo': 1, 'tomei': 1, 'internet': 1, 'watch': 1, 'centena': 1, 'humilhar': 1, 'restou': 1, 'mistérios': 1, 'ouro': 1, 'enfrentaria': 1, 'supero': 1, 'portana': 1, 'ôh': 1, 'resolvida': 1, 'largo': 1, 'colocava': 1, '#5': 1, 'naufraguei': 1, 'quebrou': 1, 'permita': 1, 'uivos': 1, 'espere': 1, 'dorme': 1, 'ex': 1, 'enche': 1, 'divido': 1, 'gamou': 1, 'cumprir': 1, 'baralho': 1, 'engano': 1, 'alagoas': 1, 'aliança': 1, 'envenenada': 1, 'beijei': 1, 'traçar': 1, 'oásis': 1, 'aumentam': 1, 'force': 1, 'verás': 1, 'aconteço': 1, 'forca': 1, 'abraçou': 1, 'infância': 1, 'crianças': 1, 'alimenta': 1, 'derreter': 1, 'eu)': 1, 'admirando': 1, 'aminha': 1, 'cuidarx2': 1, 'touro': 1, 'filha': 1, 'dançardançar': 1, 'computador': 1, 'mico': 1, 'misturado': 1, '4x': 1, 'sal': 1, 'quatro': 1, 'anose': 1, 'delicada': 1, 'rolé': 1, 'loucos': 1, 'quis(2x)': 1, 'deixálo': 1, 'aplauso': 1, 'ladrão': 1, 'presa': 1, 'umas': 1, 'gritaria': 1, 'antigamente': 1, 'bittencourt': 1, 'morreram': 1, 'venceu': 1, 'plano': 1, 'by:dryelle': 1, 'procuradas': 1, 'sérioalguém': 1, 'rabiscado': 1, 'defeitos': 1, 'embriagado': 1, 'gira': 1, 'resisti': 1, 'quanta': 1, 'perdao': 1, 'fingindo': 1, 'costela': 1, 'halo)': 1, 'procurou': 1, 'sonhando': 1, 'morri': 1, 'despercebido': 1, 'dependentes': 1, 'queroporque': 1, 'envolvendo': 1, 'aventuras': 1, 'joseph': 1, 'errado': 1, 'adormecida': 1, 'mometos': 1, 'cuide': 1, 'encantada': 1, 'diga:': 1, 'arrepio': 1, 'night': 1, 'dai': 1, 'namoradas': 1, 'desesperado': 1, 'cereja': 1, 'investidas': 1, 'pneuzinho': 1, 'invente': 1, 'tomo': 1, 'vingar': 1, 'gravada': 1, 'eii': 1, 'trai': 1, 'disse:': 1, 'xequemate': 1, 'primavera': 1, 'rei': 1, 'tarada': 1, 'arranco': 1, 'mistério': 1, 'perdendo': 1, 'visto': 1, 'tsunami': 1, 'respirar': 1, 'rondando': 1, 'cão': 1, 'desviar': 1, 'pato': 1, 'projetor': 1, 'uísque': 1, 'debaixo': 1, 'iêiê': 1, 'perguntam': 1, 'diabo': 1, 'jeans': 1, 'triz': 1, 'simples': 1, 'paquerada': 1, 'ano': 1, 'iventa': 1, 'http:': 1, 'aumentei': 1, 'dama': 1, 'arrumou': 1, 'preciso(refrao)': 1, 'comprometidos': 1, 'sorte': 1, 'vendaval': 1, 'sirvo': 1, 'subir': 1, 'titular': 1, 'lábios': 1, 'almas': 1, 'batalha': 1, 'embarcou': 1, 'nele': 1, 'rebolado': 1, 'inspiração': 1, 'sentidos': 1, 'três': 1, 'mês': 1, 'bombeiro': 1, 'lamento': 1, '[]': 1, 'implora': 1, 'aiai': 1, 'bastante': 1, 'amanteamadoamigo': 1, 'abriu': 1, 'arrebrenta': 1, 'imaginação': 1, 'reinventar': 1, 'cantava': 1, 'escutar': 1, 'rótulo': 1, 'ataque': 1, 'desço': 1, 'contido': 1, 'peguei': 1, 'postado': 1, 'ação': 1, 'pequenas': 1, 'pernanbuco': 1, 'olharo': 1, 'porém': 1, 'pudesse': 1, 'meto': 1, 'afinal': 1, 'decepções': 1, 'uhh': 1, 'durante': 1, 'ww': 1, 'hotel': 1, 'crescendo': 1, 'cedo': 1, 'mentiu': 1, 'henderson': 1, 'desfaça': 1, 'preferencia': 1, 'e1212i': 1, 'pequei': 1, 'niguem': 1, 'ou)': 1, 'adorar': 1, 'magoou': 1, 'mandava': 1, 'fisesse': 1, 'chandon': 1, 'segredos': 1, 'enganado': 1, 'ligacao': 1, 'percebi': 1, 'rapunzel': 1, 'exalando': 1, 'esconda': 1, 'entregava': 1, 'liberal': 1, 'casamento': 1, 'amanhacer': 1, '11': 1, 'seguia': 1, 'éaquele': 1, 'nããão': 1, '(repete': 1, 'desconfiar': 1, 'freqüentava': 1, 'rap:': 1, 'filmando': 1, 'baixo': 1, 'conversou': 1, 'romances': 1, 'jeitosem': 1, 'internacional': 1, 'desprezei': 1, 'armação': 1, 'arependida': 1, 'publicar': 1, 'passarx2': 1, 'doces': 1, 'joia': 1, 'filhinho': 1, '(mais': 1, 'polícia': 1, 'procuram': 1, 'crepúsculo': 1, 'introdução': 1, 'agarrando': 1, 'ameaçando': 1, 'rédias': 1, '(nós': 1, 'apaixonadamente': 1, 'filmes': 1, 'raro': 1, 'conserto': 1, 'desaparecer': 1, 'revidar': 1, 'guardarei': 1, '\"o': 1, 'rir': 1, 'continua': 1, 'desanima': 1, 'super': 1, 'raparigueiro': 1, 'toa': 1, 'insano': 1, 'seduziu': 1, 'socorrer': 1, 'namorados': 1, 'endereço': 1, 'uouououououououou': 1, 'mostrando': 1, 'prolongar': 1, 'pitanga': 1, 'pernas': 1, 'absolutamente': 1, 'acharmos': 1, 'domino': 1, 'proibir': 1, 'paraná': 1, 'prende': 1, 'sedutora': 1, 'conter': 1, 'surgindo': 1, 'balance': 1, 'gemidinha': 1, '(refrao)': 1, 'certotudo': 1, 'joão': 1, 'tempo)': 1, 'consiga': 1, 'febre': 1, 'vampiros': 1, 'pergunto:': 1, 'perfeição': 1, 'cores': 1, 'sonhava': 1, 'perfumada': 1, 'língua': 1, 'guardando': 1, 'penetrar': 1, 'fortaleza)': 1, 'arrisquei': 1, 'sandrinha': 1, 'falso': 1, 'existo': 1, 'rezei': 1, 'lambar': 1, 'conte': 1, 'desarmar': 1, 'apresentou': 1, 'clique': 1, 'derramar': 1, 'imploro': 1, 'contou': 1, 'sentado': 1, 'molhado': 1, 'alogoas': 1, 'ensolarado': 1, 'safada': 1, 'rever': 1, 'destaque': 1, 'comecei': 1, 'perda': 1, 'academia': 1, 'equecer': 1, 'início': 1, 'bemvai': 1, 'sincera': 1, \"fã'\": 1, 'desabando': 1, 'navegaram': 1, 'carambola': 1, 'intero': 1, 'puxar': 1, 'cabe': 1, 'sala': 1, 'abre': 1, 'qto': 1, 'totalmente': 1, 'chamado': 1, 'demorou': 1, 'machucando': 1, 'sinceramente': 1, 'desavença': 1, 'queda': 1, 'hájogo': 1, 'tranquila': 1, 'quinze': 1, 'deitar': 1, '(pense': 1, 'acertar': 1, 'claro': 1, 'ouve': 1, 'forma': 1, 'cristal': 1, 'ligaé': 1, 'testa': 1, 'sabendoque': 1, 'by:': 1, 'classe': 1, 'incendiando': 1, 'eternamente': 1, 'junho': 1, 'miragem': 1, 'suado': 1, 'va': 1, 'aceitarei': 1, 'demorar': 1, 'comemorar': 1, 'carinhogosto': 1, 'hu': 1, 'cortar': 1, 'buquê': 1, 'teresina': 1, 'atrai': 1, 'encher': 1, 'gozar': 1, 'bbm': 1, 'falte': 1, 'd7': 1, 'perdida': 1, 'cair': 1, 'diante': 1, 'selar': 1, 'cansa': 1, 'ceu': 1, 'sussurre': 1, 'complica': 1, 'carinhosa': 1, 'peso': 1, 'combinado': 1, 'conformar': 1, 'dividida': 1, 'embriagar': 1, 'jackson': 1, 'degrau': 1, 'aqueço': 1, 'desliza': 1, 'maltratou': 1, 'encontrarlambando': 1, 'lembrarme': 1, 'dissesse': 1, 'acordou': 1, 'ooooo': 1, 'bilhete': 1, 'amasse': 1, 'façopara': 1, 'privado': 1, 'estivesse': 1, 'off': 1, 'qualqer': 1, 'intensamente': 1, 'eh)': 1, 'rotinas': 1, 'deserto': 1, 'ostentação': 1, 'perdoe': 1, 'deixado': 1, 'di': 1, 'mexer(3x)': 1, 'acontecem': 1, 'fria': 1, 'cobrar': 1, 'incerteza': 1, 'dvd': 1, '(acreditei)': 1, 'disposta': 1, 'arruma': 1, 'tirou': 1, 'refrigerante': 1, 'esquente': 1, 'atrapalho': 1, 'lençóis': 1, 'caatigas': 1, 'razões': 1, 'dançasol': 1, 'flutuar': 1, 'luar': 1, 'galã': 1, 'maranhão': 1, '2011': 1, '//': 1, 'stress': 1, 'vestígios': 1, 'arrumei': 1, 'total': 1, 'corta': 1, 'bolso': 1, 'quintal': 1, 'olhe': 1, 'proíba': 1, 'fases': 1, 'flash': 1, 'estousozinho': 1, 'rosa': 1, 'karina': 1, 'saindo': 1, 'suficiente': 1, 'preucupada': 1, 'ascendeu': 1, 'jurando': 1, 'reservado': 1, 'varias': 1, 'botão': 1, 'barata': 1, 'facebook': 1, 'mudaria': 1, 'dele': 1, 'dani': 1, 'passagem': 1, 'frias': 1, 'arranque': 1, 'ardente': 1, 'passe': 1, 'partido': 1, 'jurar': 1, 'esbarra': 1, 'natural': 1, 'tamanho': 1, 'ando': 1, 'pista': 1, 'esnobei': 1, 'sobrevivi': 1, 'escurinho': 1, 'piedade': 1, 'cabra': 1, 'pinto': 1, 'arrume': 1, 'raparigando': 1, 'levarno': 1, 'arrasado': 1, 'vip': 1, 'desesperei': 1, 'tictac': 1, 'achei': 1, 'famosa': 1, 'aqui)': 1, 'aracaju': 1, 'abraçava': 1, 'ouvidos': 1, 'gostando': 1, 'cheia': 1, 'torturando': 1, 'sangrar': 1, 'incendiar': 1, 'irei': 1, 'arrependi': 1, 'genial': 1, 'mordo': 1, 'quebracabeça': 1, 'beleza': 1, 'fechado': 1, 'faser': 1, 'desligou': 1, 'levei': 1, 'unha': 1, 'tuas': 1, 'multião': 1, 'clareou': 1, 'existem': 1, 'atençao': 1, 'naquela': 1, 'wgziyog5rtg': 1, 'mudanças': 1, 'áte': 1, 'carinhos)': 1, 'mensagem': 1, 'sufoquei': 1, 'acariciando': 1, 'cala': 1, 'esquentando': 1, 'flutuava': 1, 'render': 1, 'odeio': 1, 'parta': 1, 'lixo': 1, '(:': 1, 'relogio': 1, 'certos': 1, 'quicar': 1, 'superstar': 1, 'favo': 1, 'maguou': 1, 'premiados': 1, 'comprei': 1, 'pergunta': 1, 'enganando': 1, 'descer': 1, 'cor': 1, 'hohohoho': 1, 'mergulhei': 1, 'essas': 1, 'desfile': 1, 'esquercer': 1, 'lobos': 1, 'vivida': 1, 'claudia': 1, 'apagou': 1, 'ivete': 1, 'superei': 1, 'resta': 1, 'oito': 1, 'sexo': 1, 'agunia': 1, 'notar': 1, 'renascerá': 1, 'gastos': 1, 'escutava': 1, 'fizemos': 1, 'maria': 1, 'can': 1, 'vocêque': 1, 'framboesa': 1, 'chamei': 1, 'estrague': 1, '15': 1, 'constantemente': 1, 'padece': 1, 'magou': 1, '(me': 1, '(de': 1, 'percebe': 1, 'sussurrar': 1, 'zoeira': 1, 'ator': 1, 'respeitar': 1, 'mágicos': 1, 'amanhecer(6x)': 1, 'passoupassou': 1, 'companhia': 1, 'moro': 1, 'perguntou': 1, 'estarás': 1, 'champagne': 1, 'repartindo': 1, 'abraçovem': 1, 'naquilo': 1, 'luta': 1, 'amargurado': 1, 'preso': 1, 'excita': 1, 'coracão': 1, 'fomos': 1, 'tentamos': 1, 'cinco': 1, 'bolando': 1, 'vocêé': 1, 'apaixonados': 1, 'atravessou': 1, 'voltamos': 1, 'daqueles': 1, 'haver': 1, 'puxei': 1, 'cuido': 1, 'fraquejar': 1, 'terá': 1, 'envolvido': 1, 'feitiço)': 1, 'agarrou': 1, 'escada': 1, 'perturba': 1, 'arrepia': 1, 'chove': 1, 'amasso': 1, 'alimentou': 1, 'tremia': 1, 'consumado': 1, 'senhora': 1, 'continuava': 1, 'aprendemos': 1, 'bravo': 1, 'casei': 1, '(o': 1, 'valorizei': 1, 'adivinha': 1, 'maos': 1, 'responsa': 1, 'acerola': 1, 'couto': 1, 'importei': 1, 'aconteçam': 1, 'eute': 1, 'aproximar': 1, 'sereia': 1, 'mostrei': 1, 'levanta': 1, 'alvo': 1, 'colorir': 1, 'terezina': 1, 'monalisa': 1, 'gritei': 1, 'enorme': 1, 'oscar': 1, 'uouuouuouuou': 1, 'explode': 1, 'aberto': 1, 'estando': 1, 'fórmula': 1, 'oferece': 1, 'seduzida': 1, 'jogou': 1, 'uhhh': 1, 'assunto': 1, 'senão': 1, 'esposa': 1, 'atravessaria': 1, 'você\"': 1, 'nao(refrao)': 1, '(sem': 1, 'normais': 1, 'coberto': 1, 'recebeu': 1, 'povoam': 1, 'perceber': 1, 'video': 1}\n"
     ]
    }
   ],
   "source": [
    "words_set = set(words_list)\n",
    "print(len(words_list))\n",
    "print(len(words_set))\n",
    "words_dict ={word: words_list.count(word) for word in words_set}\n",
    "words_dict = {k: v for k, v in sorted(words_dict.items(), key=lambda item: item[1], reverse=True)}\n",
    "print(words_dict)"
   ]
  },
  {
   "cell_type": "code",
   "execution_count": 56,
   "metadata": {
    "collapsed": false
   },
   "outputs": [
    {
     "name": "stdout",
     "output_type": "stream",
     "text": [
      "7\n"
     ]
    }
   ],
   "source": [
    "# get the index of the word 'amor'\n",
    "print(list(words_dict.keys()).index('amor'))"
   ]
  },
  {
   "cell_type": "code",
   "execution_count": null,
   "metadata": {
    "collapsed": false
   },
   "outputs": [],
   "source": []
  }
 ],
 "metadata": {
  "kernelspec": {
   "display_name": "Python 3",
   "language": "python",
   "name": "python3"
  },
  "language_info": {
   "codemirror_mode": {
    "name": "ipython",
    "version": 3
   },
   "file_extension": ".py",
   "mimetype": "text/x-python",
   "name": "python",
   "nbconvert_exporter": "python",
   "pygments_lexer": "ipython3",
   "version": "3.11.0"
  }
 },
 "nbformat": 4,
 "nbformat_minor": 0
}
