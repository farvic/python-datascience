{
 "cells": [
  {
   "cell_type": "code",
   "execution_count": null,
   "id": "52f5b6d0",
   "metadata": {
    "vscode": {
     "languageId": "sql"
    }
   },
   "outputs": [],
   "source": [
    "-- Database Roles and access control\n",
    "\n",
    "GRANT UPDATE ON ratings TO PUBLIC;\n",
    "REVOKE INSERT ON films FROM db_user;\n",
    "\n",
    "-- Empty role\n",
    "\n",
    "CREATE ROLE data_analyst;\n",
    "\n",
    "-- Roles with some attributes set\n",
    "\n",
    "CREATE ROLE intern WITH PASSWORD 'PasswordForIntern' VALID UNTIL '2020-01-01';\n",
    "\n",
    "CREATE ROLE admin CREATEDB;\n",
    "\n",
    "ALTER ROLE admin CREATEROLE;\n",
    "\n",
    "-- Granting and revoking privileges from roles\n",
    "\n",
    "GRANT UPDATE ON ratings TO data_analyst;\n",
    "\n",
    "REVOKE UPDATE ON ratings FROM data_analyst;\n",
    "\n",
    "-- Available privileges in PostgreSQL\n",
    "SELECT , INSERT , UPDATE , DELETE , TRUNCATE , REFERENCES , TRIGGER , CREATE , CONNECT ,\n",
    "TEMPORARY , EXECUTE , and USAGE\n",
    "\n",
    "-- Group role\n",
    "\n",
    "CREATE ROLE data_analyst;\n",
    "\n",
    "-- User role\n",
    "\n",
    "CREATE ROLE intern WITH PASSWORD 'PasswordForIntern' VALID UNTIL '2020-01-01';"
   ]
  },
  {
   "cell_type": "markdown",
   "id": "a13f313e",
   "metadata": {},
   "source": [
    "## Table Partitioning"
   ]
  },
  {
   "cell_type": "code",
   "execution_count": null,
   "id": "6791d71b",
   "metadata": {
    "vscode": {
     "languageId": "sql"
    }
   },
   "outputs": [],
   "source": [
    "-- Horizontal Partinioning\n",
    "\n",
    "CREATE TABLE sales (\n",
    "    ...\n",
    "    timestamp DATE NOT NULL\n",
    ")\n",
    "\n",
    "PARTITION BY RANGE (timestamp);\n",
    "CREATE TABLE sales_2019_q1 PARTITION OF sales\n",
    "FOR VALUES FROM ('2019-01-01') TO ('2019-03-31');\n",
    "...\n",
    "CREATE TABLE sales_2019_q4 PARTITION OF sales\n",
    "FOR VALUES FROM ('2019-10-01') TO ('2020-01-31');\n",
    "CREATE INDEX ON sales ('timestamp');"
   ]
  },
  {
   "cell_type": "code",
   "execution_count": null,
   "id": "b461cdec",
   "metadata": {
    "vscode": {
     "languageId": "sql"
    }
   },
   "outputs": [],
   "source": [
    "-- Create a new table called film_descriptions\n",
    "CREATE TABLE film_descriptions (\n",
    "    film_id INT,\n",
    "    long_description TEXT\n",
    ");\n",
    "\n",
    "-- Copy the descriptions from the film table\n",
    "INSERT INTO film_descriptions\n",
    "SELECT film_id, long_description FROM film;\n",
    "    \n",
    "-- Drop the column in the original table\n",
    "ALTER TABLE film DROP COLUMN long_description;\n",
    "\n",
    "-- Join to create the original table\n",
    "SELECT * FROM film \n",
    "JOIN film_descriptions USING(film_id);"
   ]
  },
  {
   "cell_type": "code",
   "execution_count": null,
   "id": "268ddad6",
   "metadata": {
    "vscode": {
     "languageId": "sql"
    }
   },
   "outputs": [],
   "source": [
    "-- Create a new table called film_partitioned\n",
    "CREATE TABLE film_partitioned (\n",
    "  film_id INT,\n",
    "  title TEXT NOT NULL,\n",
    "  release_year TEXT\n",
    ")\n",
    "PARTITION BY LIST (release_year);\n",
    "\n",
    "-- Create the partitions for 2019, 2018, and 2017\n",
    "CREATE TABLE film_2019\n",
    "\tPARTITION OF film_partitioned FOR VALUES IN ('2019');\n",
    "\n",
    "CREATE TABLE film_2018\n",
    "\tPARTITION OF film_partitioned FOR VALUES IN ('2018');\n",
    "\n",
    "CREATE TABLE film_2017\n",
    "\tPARTITION OF film_partitioned FOR VALUES IN ('2017');\n",
    "\n",
    "-- Insert the data into film_partitioned\n",
    "INSERT INTO film_partitioned\n",
    "SELECT film_id, title, release_year FROM film;\n",
    "\n",
    "-- View film_partitioned\n",
    "SELECT * FROM film_partitioned;"
   ]
  }
 ],
 "metadata": {
  "language_info": {
   "name": "python"
  }
 },
 "nbformat": 4,
 "nbformat_minor": 5
}
