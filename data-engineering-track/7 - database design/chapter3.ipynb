{
 "cells": [
  {
   "cell_type": "code",
   "execution_count": null,
   "id": "436fe025",
   "metadata": {
    "vscode": {
     "languageId": "sql"
    }
   },
   "outputs": [],
   "source": [
    "-- Creating a view\n",
    "\n",
    "CREATE VIEW view_name AS\n",
    "SELECT col1, col2\n",
    "FROM table_name\n",
    "WHERE condition;\n",
    "\n",
    "-- Example\n",
    "\n",
    "CREATE VIEW scifi_books AS\n",
    "SELECT title, author, genre\n",
    "FROM dim_book_sf\n",
    "JOIN dim_genre_sf ON dim_genre_sf.genre_id = dim_book_sf.genre_id\n",
    "JOIN dim_author_sf ON dim_author_sf.author_id = dim_book_sf.author_id\n",
    "WHERE dim_genre_sf.genre = 'science fiction';\n",
    "\n",
    "-- Then...\n",
    "\n",
    "SELECT * FROM scifi_books"
   ]
  },
  {
   "cell_type": "code",
   "execution_count": null,
   "id": "3d11c5cb",
   "metadata": {
    "vscode": {
     "languageId": "sql"
    }
   },
   "outputs": [],
   "source": [
    "-- Viewing views (in PostgreSQL)\n",
    "\n",
    "SELECT * FROM INFORMATION_SCHEMA.views;\n",
    "\n",
    "-- Includes system views\n",
    "\n",
    "SELECT * FROM information_schema.views\n",
    "WHERE table_schema NOT IN ('pg_catalog', 'information_schema');"
   ]
  },
  {
   "cell_type": "code",
   "execution_count": null,
   "id": "42c54785",
   "metadata": {
    "vscode": {
     "languageId": "sql"
    }
   },
   "outputs": [],
   "source": [
    "-- Create a view for reviews with a score above 9\n",
    "CREATE VIEW high_scores AS\n",
    "SELECT * FROM REVIEWS\n",
    "WHERE score > 9;\n",
    "\n",
    "-- Count the number of self-released works in high_scores\n",
    "SELECT COUNT(*) FROM high_scores\n",
    "INNER JOIN labels ON high_scores.reviewid = labels.reviewid\n",
    "WHERE label = 'self-released';"
   ]
  },
  {
   "cell_type": "markdown",
   "id": "dd2a30a8",
   "metadata": {},
   "source": [
    "## Materialized views\n",
    "\n",
    "When to use materialized views:\n",
    "* Long running queries\n",
    "* Underlying query results don't change often\n",
    "* Data warehouses because OLAP is not write-intensive\n",
    "    * Save on computational cost of frequent queries"
   ]
  },
  {
   "cell_type": "code",
   "execution_count": null,
   "id": "cac8d71d",
   "metadata": {
    "vscode": {
     "languageId": "sql"
    }
   },
   "outputs": [],
   "source": [
    "-- Implementing materialized views (in PostgreSQL)\n",
    "\n",
    "CREATE MATERIALIZED VIEW my_mv AS SELECT * FROM existing_table;\n",
    "\n",
    "REFRESH MATERIALIZED VIEW my_mv;"
   ]
  },
  {
   "cell_type": "code",
   "execution_count": null,
   "id": "1b21b8dc",
   "metadata": {
    "vscode": {
     "languageId": "sql"
    }
   },
   "outputs": [],
   "source": [
    "-- Create a materialized view called genre_count \n",
    "CREATE MATERIALIZED VIEW genre_count AS\n",
    "SELECT genre, COUNT(*) \n",
    "FROM genres\n",
    "GROUP BY genre;\n",
    "\n",
    "INSERT INTO genres\n",
    "VALUES (50000, 'classical');\n",
    "\n",
    "-- Refresh genre_count in PostgreSQL\n",
    "REFRESH MATERIALIZED VIEW genre_count;\n",
    "\n",
    "SELECT * FROM genre_count;"
   ]
  },
  {
   "cell_type": "markdown",
   "id": "895894eb",
   "metadata": {
    "vscode": {
     "languageId": "sql"
    }
   },
   "source": [
    "### Granting and revoking access to a view\n",
    "GRANT privilege(s) or REVOKE privilege(s)\n",
    "* ON object\n",
    "* TO role or FROM role\n",
    "\n",
    "* Privileges: SELECT , INSERT , UPDATE , DELETE , etc\n",
    "* Objects: table, view, schema, etc\n",
    "* Roles: a database user or a group of database users"
   ]
  },
  {
   "cell_type": "code",
   "execution_count": null,
   "id": "b72506d7",
   "metadata": {
    "vscode": {
     "languageId": "sql"
    }
   },
   "outputs": [],
   "source": [
    "GRANT UPDATE ON ratings TO PUBLIC;\n",
    "\n",
    "REVOKE INSERT ON films FROM db_user;"
   ]
  }
 ],
 "metadata": {
  "language_info": {
   "name": "python"
  }
 },
 "nbformat": 4,
 "nbformat_minor": 5
}
