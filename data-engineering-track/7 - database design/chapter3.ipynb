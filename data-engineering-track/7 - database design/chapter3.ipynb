{
 "cells": [
  {
   "cell_type": "code",
   "execution_count": null,
   "id": "436fe025",
   "metadata": {
    "vscode": {
     "languageId": "sql"
    }
   },
   "outputs": [],
   "source": [
    "-- Creating a view\n",
    "\n",
    "CREATE VIEW view_name AS\n",
    "SELECT col1, col2\n",
    "FROM table_name\n",
    "WHERE condition;\n",
    "\n",
    "-- Example\n",
    "\n",
    "CREATE VIEW scifi_books AS\n",
    "SELECT title, author, genre\n",
    "FROM dim_book_sf\n",
    "JOIN dim_genre_sf ON dim_genre_sf.genre_id = dim_book_sf.genre_id\n",
    "JOIN dim_author_sf ON dim_author_sf.author_id = dim_book_sf.author_id\n",
    "WHERE dim_genre_sf.genre = 'science fiction';\n",
    "\n",
    "-- Then...\n",
    "\n",
    "SELECT * FROM scifi_books"
   ]
  },
  {
   "cell_type": "code",
   "execution_count": null,
   "id": "3d11c5cb",
   "metadata": {
    "vscode": {
     "languageId": "sql"
    }
   },
   "outputs": [],
   "source": [
    "-- Viewing views (in PostgreSQL)\n",
    "\n",
    "SELECT * FROM INFORMATION_SCHEMA.views;\n",
    "\n",
    "-- Includes system views\n",
    "\n",
    "SELECT * FROM information_schema.views\n",
    "WHERE table_schema NOT IN ('pg_catalog', 'information_schema');"
   ]
  },
  {
   "cell_type": "code",
   "execution_count": null,
   "id": "42c54785",
   "metadata": {
    "vscode": {
     "languageId": "sql"
    }
   },
   "outputs": [],
   "source": [
    "-- Create a view for reviews with a score above 9\n",
    "CREATE VIEW high_scores AS\n",
    "SELECT * FROM REVIEWS\n",
    "WHERE score > 9;\n",
    "\n",
    "-- Count the number of self-released works in high_scores\n",
    "SELECT COUNT(*) FROM high_scores\n",
    "INNER JOIN labels ON high_scores.reviewid = labels.reviewid\n",
    "WHERE label = 'self-released';"
   ]
  }
 ],
 "metadata": {
  "language_info": {
   "name": "python"
  }
 },
 "nbformat": 4,
 "nbformat_minor": 5
}
