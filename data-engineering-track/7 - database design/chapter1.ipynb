{
 "cells": [
  {
   "cell_type": "code",
   "execution_count": null,
   "id": "23c84e80",
   "metadata": {
    "vscode": {
     "languageId": "sql"
    }
   },
   "outputs": [],
   "source": [
    "-- Create a route dimension table\n",
    "CREATE TABLE route (\n",
    "\troute_id INTEGER PRIMARY KEY,\n",
    "    park_name VARCHAR(160) NOT NULL,\n",
    "    city_name VARCHAR(160) NOT NULL,\n",
    "    distance_km FLOAT NOT NULL,\n",
    "    route_name VARCHAR(160) NOT NULL\n",
    ");\n",
    "-- Create a week dimension table\n",
    "CREATE TABLE week(\n",
    "\tweek_id INTEGER PRIMARY KEY,\n",
    "    week INTEGER NOT NULL,\n",
    "    month VARCHAR(160) NOT NULL,\n",
    "    year INTEGER NOT NULL\n",
    ");"
   ]
  },
  {
   "cell_type": "code",
   "execution_count": null,
   "id": "0524bc76",
   "metadata": {
    "vscode": {
     "languageId": "sql"
    }
   },
   "outputs": [],
   "source": [
    "-- Query the total duration of all runs in july 2019. The duration_mins is in table runs_fact which is linked to week_dim (which contains month and year) by the week_id.\n",
    "\n",
    "SELECT \n",
    "\t-- Get the total duration of all runs\n",
    "\tSUM(duration_mins)\n",
    "FROM \n",
    "\truns_fact\n",
    "-- Get all the week_id's that are from July, 2019\n",
    "INNER JOIN week_dim ON runs_fact.week_id = week_dim.week_id\n",
    "WHERE month = 'July' and year = '2019';"
   ]
  }
 ],
 "metadata": {
  "language_info": {
   "name": "python"
  }
 },
 "nbformat": 4,
 "nbformat_minor": 5
}
