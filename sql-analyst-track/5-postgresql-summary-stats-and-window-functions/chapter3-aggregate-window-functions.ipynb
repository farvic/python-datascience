{
 "cells": [
  {
   "cell_type": "code",
   "execution_count": null,
   "metadata": {
    "vscode": {
     "languageId": "sql"
    }
   },
   "outputs": [],
   "source": [
    "-- Running totals of athlete medals\n",
    "\n",
    "WITH Athlete_Medals AS (\n",
    "  SELECT\n",
    "    Athlete, COUNT(*) AS Medals\n",
    "  FROM Summer_Medals\n",
    "  WHERE\n",
    "    Country = 'USA' AND Medal = 'Gold'\n",
    "    AND Year >= 2000\n",
    "  GROUP BY Athlete)\n",
    "\n",
    "SELECT\n",
    "  -- Calculate the running total of athlete medals\n",
    "  Athlete,\n",
    "  Medals,\n",
    "  SUM(Medals) OVER (ORDER BY Athlete ASC) AS Max_Medals\n",
    "FROM Athlete_Medals\n",
    "ORDER BY Athlete ASC;"
   ]
  },
  {
   "cell_type": "code",
   "execution_count": null,
   "metadata": {
    "vscode": {
     "languageId": "sql"
    }
   },
   "outputs": [],
   "source": [
    "-- Maximum country medals by year\n",
    "\n",
    "WITH Country_Medals AS (\n",
    "  SELECT\n",
    "    Year, Country, COUNT(*) AS Medals\n",
    "  FROM Summer_Medals\n",
    "  WHERE\n",
    "    Country IN ('CHN', 'KOR', 'JPN')\n",
    "    AND Medal = 'Gold' AND Year >= 2000\n",
    "  GROUP BY Year, Country)\n",
    "\n",
    "SELECT\n",
    "  -- Return the max medals earned so far per country\n",
    "  Country,\n",
    "  Year,\n",
    "  Medals,\n",
    "  MAX(Medals) OVER (PARTITION BY Country\n",
    "                        ORDER BY Year ASC) AS Max_Medals\n",
    "FROM Country_Medals\n",
    "ORDER BY Country ASC, Year ASC;"
   ]
  },
  {
   "cell_type": "code",
   "execution_count": null,
   "metadata": {
    "vscode": {
     "languageId": "sql"
    }
   },
   "outputs": [],
   "source": [
    "-- Minimum country medals by year\n",
    "\n",
    "WITH France_Medals AS (\n",
    "  SELECT\n",
    "    Year, COUNT(*) AS Medals\n",
    "  FROM Summer_Medals\n",
    "  WHERE\n",
    "    Country = 'FRA'\n",
    "    AND Medal = 'Gold' AND Year >= 2000\n",
    "  GROUP BY Year)\n",
    "\n",
    "SELECT\n",
    "  Year,\n",
    "  Medals,\n",
    "  MIN(Medals) OVER (ORDER BY Year ASC) AS Min_Medals\n",
    "FROM France_Medals\n",
    "ORDER BY Year ASC;"
   ]
  },
  {
   "attachments": {},
   "cell_type": "markdown",
   "metadata": {},
   "source": [
    "Frames"
   ]
  },
  {
   "cell_type": "code",
   "execution_count": null,
   "metadata": {
    "vscode": {
     "languageId": "sql"
    }
   },
   "outputs": [],
   "source": [
    "-- Maximum medals comparing the current year to the next year\n",
    "\n",
    "WITH Scandinavian_Medals AS (\n",
    "  SELECT\n",
    "    Year, COUNT(*) AS Medals\n",
    "  FROM Summer_Medals\n",
    "  WHERE\n",
    "    Country IN ('DEN', 'NOR', 'FIN', 'SWE', 'ISL')\n",
    "    AND Medal = 'Gold'\n",
    "  GROUP BY Year)\n",
    "\n",
    "SELECT\n",
    "  -- Select each year's medals\n",
    "  Year,\n",
    "  Medals,\n",
    "  -- Get the max of the current and next years'  medals\n",
    "  MAX(Medals) OVER (ORDER BY Year ASC\n",
    "                    ROWS BETWEEN CURRENT ROW\n",
    "                    AND 1 FOLLOWING) AS Max_Medals\n",
    "FROM Scandinavian_Medals\n",
    "ORDER BY Year ASC;"
   ]
  },
  {
   "cell_type": "code",
   "execution_count": null,
   "metadata": {
    "vscode": {
     "languageId": "sql"
    }
   },
   "outputs": [],
   "source": [
    "-- Return the athletes, medals earned, and the maximum\n",
    "-- medals earned comparing only the last two and current\n",
    "-- athletes, ordering by athletes' names in alphabetical order\n",
    "\n",
    "WITH Chinese_Medals AS (\n",
    "  SELECT\n",
    "    Athlete, COUNT(*) AS Medals\n",
    "  FROM Summer_Medals\n",
    "  WHERE\n",
    "    Country = 'CHN' AND Medal = 'Gold'\n",
    "    AND Year >= 2000\n",
    "  GROUP BY Athlete)\n",
    "\n",
    "SELECT\n",
    "  -- Select the athletes and the medals they've earned\n",
    "  Athlete,\n",
    "  Medals,\n",
    "  -- Get the max of the last two and current rows' medals \n",
    "  MAX(Medals) OVER (ORDER BY Athlete ASC\n",
    "                    ROWS BETWEEN 2 PRECEDING\n",
    "                    AND CURRENT ROW) AS Max_Medals\n",
    "FROM Chinese_Medals\n",
    "ORDER BY Athlete ASC;"
   ]
  },
  {
   "attachments": {},
   "cell_type": "markdown",
   "metadata": {},
   "source": [
    "Moving averages and totals"
   ]
  },
  {
   "cell_type": "code",
   "execution_count": null,
   "metadata": {
    "vscode": {
     "languageId": "sql"
    }
   },
   "outputs": [],
   "source": [
    "-- Calculate the 3-year moving average of medals earned.\n",
    "\n",
    "WITH Russian_Medals AS (\n",
    "  SELECT\n",
    "    Year, COUNT(*) AS Medals\n",
    "  FROM Summer_Medals\n",
    "  WHERE\n",
    "    Country = 'RUS'\n",
    "    AND Medal = 'Gold'\n",
    "    AND Year >= 1980\n",
    "  GROUP BY Year)\n",
    "\n",
    "SELECT\n",
    "  Year, Medals,\n",
    "  AVG(Medals) OVER\n",
    "    (ORDER BY Year ASC\n",
    "     ROWS BETWEEN\n",
    "     2 PRECEDING AND CURRENT ROW) AS Medals_MA\n",
    "FROM Russian_Medals\n",
    "ORDER BY Year ASC;"
   ]
  },
  {
   "cell_type": "code",
   "execution_count": null,
   "metadata": {
    "vscode": {
     "languageId": "sql"
    }
   },
   "outputs": [],
   "source": [
    "-- Calculate the 3-year moving sum of medals earned per country\n",
    "\n",
    "WITH Country_Medals AS (\n",
    "  SELECT\n",
    "    Year, Country, COUNT(*) AS Medals\n",
    "  FROM Summer_Medals\n",
    "  GROUP BY Year, Country)\n",
    "\n",
    "SELECT\n",
    "  Year, Country, Medals,\n",
    "  -- Calculate each country's 3-game moving total\n",
    "  SUM(Medals) OVER\n",
    "    (PARTITION BY Country\n",
    "     ORDER BY Year ASC\n",
    "     ROWS BETWEEN\n",
    "     2 PRECEDING AND CURRENT ROW) AS Medals_MA\n",
    "FROM Country_Medals\n",
    "ORDER BY Country ASC, Year ASC;"
   ]
  }
 ],
 "metadata": {
  "language_info": {
   "name": "python"
  },
  "orig_nbformat": 4
 },
 "nbformat": 4,
 "nbformat_minor": 2
}
