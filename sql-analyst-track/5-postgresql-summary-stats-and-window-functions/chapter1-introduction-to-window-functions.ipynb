{
 "cells": [
  {
   "cell_type": "code",
   "execution_count": null,
   "metadata": {
    "vscode": {
     "languageId": "sql"
    }
   },
   "outputs": [],
   "source": [
    "-- Number each row in the dataset\n",
    "\n",
    "SELECT\n",
    "  *,\n",
    "  -- Assign numbers to each row\n",
    "  ROW_NUMBER() OVER () AS Row_N\n",
    "FROM Summer_Medals\n",
    "ORDER BY Row_N ASC;"
   ]
  },
  {
   "cell_type": "code",
   "execution_count": null,
   "metadata": {
    "vscode": {
     "languageId": "sql"
    }
   },
   "outputs": [],
   "source": [
    "-- numbering olympic games in ascending order\n",
    "\n",
    "SELECT\n",
    "  Year,\n",
    "\n",
    "  -- Assign numbers to each year\n",
    "  ROW_NUMBER() OVER () AS Row_N\n",
    "FROM (\n",
    "  SELECT DISTINCT Year\n",
    "  FROM Summer_Medals\n",
    "  ORDER BY Year ASC\n",
    ") AS Years\n",
    "ORDER BY Year ASC;"
   ]
  },
  {
   "attachments": {},
   "cell_type": "markdown",
   "metadata": {},
   "source": [
    "Numbering Olympic games in descending order"
   ]
  },
  {
   "cell_type": "code",
   "execution_count": null,
   "metadata": {
    "vscode": {
     "languageId": "sql"
    }
   },
   "outputs": [],
   "source": [
    "SELECT\n",
    "  Year,\n",
    "  -- Assign the lowest numbers to the most recent years\n",
    "  ROW_NUMBER() OVER (ORDER BY Year DESC) AS Row_N\n",
    "FROM (\n",
    "  SELECT DISTINCT Year\n",
    "  FROM Summer_Medals\n",
    ") AS Years\n",
    "ORDER BY Year;"
   ]
  },
  {
   "cell_type": "code",
   "execution_count": null,
   "metadata": {
    "vscode": {
     "languageId": "sql"
    }
   },
   "outputs": [],
   "source": [
    "-- Numbering Olympic athletes by medals earned\n",
    "\n",
    "SELECT\n",
    "  -- Count the number of medals each athlete has earned\n",
    "  Athlete,\n",
    "  COUNT(*) AS Medals\n",
    "FROM Summer_Medals\n",
    "GROUP BY Athlete\n",
    "ORDER BY Medals DESC;"
   ]
  },
  {
   "cell_type": "code",
   "execution_count": null,
   "metadata": {
    "vscode": {
     "languageId": "sql"
    }
   },
   "outputs": [],
   "source": [
    "-- Rank each athlete by the number of medals earned\n",
    "\n",
    "WITH Athlete_Medals AS (\n",
    "  SELECT\n",
    "    -- Count the number of medals each athlete has earned\n",
    "    Athlete,\n",
    "    COUNT(*) AS Medals\n",
    "  FROM Summer_Medals\n",
    "  GROUP BY Athlete)\n",
    "\n",
    "SELECT\n",
    "  -- Number each athlete by how many medals they've earned\n",
    "  Athlete,\n",
    "  ROW_NUMBER() OVER (ORDER BY Medals DESC) AS Row_N\n",
    "FROM Athlete_Medals\n",
    "ORDER BY Medals DESC;"
   ]
  },
  {
   "cell_type": "code",
   "execution_count": null,
   "metadata": {
    "vscode": {
     "languageId": "sql"
    }
   },
   "outputs": [],
   "source": [
    "SELECT\n",
    "  -- Return each year's champions' countries\n",
    "  Year,\n",
    "  Country AS champion\n",
    "FROM Summer_Medals\n",
    "WHERE\n",
    "  Discipline = 'Weightlifting' AND\n",
    "  Event = '69KG' AND\n",
    "  Gender = 'Men' AND\n",
    "  Medal = 'Gold';"
   ]
  },
  {
   "cell_type": "code",
   "execution_count": null,
   "metadata": {
    "vscode": {
     "languageId": "sql"
    }
   },
   "outputs": [],
   "source": [
    "-- Get the reining champion countries\n",
    "\n",
    "WITH Weightlifting_Gold AS (\n",
    "  SELECT\n",
    "    -- Return each year's champions' countries\n",
    "    Year,\n",
    "    Country AS champion\n",
    "  FROM Summer_Medals\n",
    "  WHERE\n",
    "    Discipline = 'Weightlifting' AND\n",
    "    Event = '69KG' AND\n",
    "    Gender = 'Men' AND\n",
    "    Medal = 'Gold')\n",
    "\n",
    "SELECT\n",
    "  Year, Champion,\n",
    "  -- Fetch the previous year's champion\n",
    "  LAG(Champion) OVER\n",
    "    (ORDER BY Year ASC) AS Last_Champion\n",
    "FROM Weightlifting_Gold\n",
    "ORDER BY Year ASC;"
   ]
  },
  {
   "attachments": {},
   "cell_type": "markdown",
   "metadata": {},
   "source": [
    "Using partition by"
   ]
  },
  {
   "cell_type": "code",
   "execution_count": null,
   "metadata": {
    "vscode": {
     "languageId": "sql"
    }
   },
   "outputs": [],
   "source": [
    "-- Reigning champions by gender\n",
    "\n",
    "WITH Tennis_Gold AS (\n",
    "  SELECT DISTINCT\n",
    "    Gender, Year, Country\n",
    "  FROM Summer_Medals\n",
    "  WHERE\n",
    "    Year >= 2000 AND\n",
    "    Event = 'Javelin Throw' AND\n",
    "    Medal = 'Gold')\n",
    "\n",
    "SELECT\n",
    "  Gender, Year,\n",
    "  Country AS Champion,\n",
    "  -- Fetch the previous year's champion by gender\n",
    "  LAG(Country) OVER (PARTITION BY Gender\n",
    "                         ORDER BY Year ASC) AS Last_Champion\n",
    "FROM Tennis_Gold\n",
    "ORDER BY Gender ASC, Year ASC;"
   ]
  },
  {
   "cell_type": "code",
   "execution_count": null,
   "metadata": {
    "vscode": {
     "languageId": "sql"
    }
   },
   "outputs": [],
   "source": [
    "-- Reigning champions by gender and event\n",
    "\n",
    "WITH Athletics_Gold AS (\n",
    "  SELECT DISTINCT\n",
    "    Gender, Year, Event, Country\n",
    "  FROM Summer_Medals\n",
    "  WHERE\n",
    "    Year >= 2000 AND\n",
    "    Discipline = 'Athletics' AND\n",
    "    Event IN ('100M', '10000M') AND\n",
    "    Medal = 'Gold')\n",
    "\n",
    "SELECT\n",
    "  Gender, Year, Event,\n",
    "  Country AS Champion,\n",
    "  -- Fetch the previous year's champion by gender and event\n",
    "  LAG(Country) OVER (PARTITION BY Gender, Event\n",
    "                         ORDER BY Year ASC) AS Last_Champion\n",
    "FROM Athletics_Gold\n",
    "ORDER BY Event ASC, Gender ASC, Year ASC;"
   ]
  }
 ],
 "metadata": {
  "language_info": {
   "name": "python"
  },
  "orig_nbformat": 4
 },
 "nbformat": 4,
 "nbformat_minor": 2
}
