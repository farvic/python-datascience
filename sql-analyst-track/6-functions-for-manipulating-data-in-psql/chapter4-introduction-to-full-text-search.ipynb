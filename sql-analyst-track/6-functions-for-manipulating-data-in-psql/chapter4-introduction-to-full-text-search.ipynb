{
 "cells": [
  {
   "attachments": {},
   "cell_type": "markdown",
   "metadata": {},
   "source": [
    "A review of the LIKE operator"
   ]
  },
  {
   "cell_type": "code",
   "execution_count": null,
   "metadata": {
    "vscode": {
     "languageId": "sql"
    }
   },
   "outputs": [],
   "source": [
    "-- Select all columns\n",
    "SELECT *\n",
    "FROM film\n",
    "-- Select only records that begin with the word 'GOLD'\n",
    "WHERE title LIKE 'GOLD%';"
   ]
  },
  {
   "cell_type": "code",
   "execution_count": null,
   "metadata": {
    "vscode": {
     "languageId": "sql"
    }
   },
   "outputs": [],
   "source": [
    "SELECT *\n",
    "FROM film\n",
    "-- Select only records that end with the word 'GOLD'\n",
    "WHERE title LIKE '%GOLD';"
   ]
  },
  {
   "cell_type": "code",
   "execution_count": null,
   "metadata": {
    "vscode": {
     "languageId": "sql"
    }
   },
   "outputs": [],
   "source": [
    "SELECT *\n",
    "FROM film\n",
    "-- Select only records that contain the word 'GOLD'\n",
    "WHERE title LIKE '%GOLD%';"
   ]
  },
  {
   "attachments": {},
   "cell_type": "markdown",
   "metadata": {},
   "source": [
    "A basic full-text search"
   ]
  },
  {
   "cell_type": "code",
   "execution_count": null,
   "metadata": {
    "vscode": {
     "languageId": "sql"
    }
   },
   "outputs": [],
   "source": [
    "-- Select the film description as a tsvector\n",
    "SELECT to_tsvector(description)\n",
    "FROM film;"
   ]
  },
  {
   "attachments": {},
   "cell_type": "markdown",
   "metadata": {},
   "source": [
    "* Select the title and description columns from the film table.\n",
    "* Perform a full-text search on the title column for the word elf."
   ]
  },
  {
   "cell_type": "code",
   "execution_count": null,
   "metadata": {
    "vscode": {
     "languageId": "sql"
    }
   },
   "outputs": [],
   "source": [
    "-- Select the title and description\n",
    "SELECT title, description\n",
    "FROM film\n",
    "-- Convert the title to a tsvector and match it against the tsquery \n",
    "WHERE to_tsvector(title) @@ to_tsquery('elf');"
   ]
  },
  {
   "attachments": {},
   "cell_type": "markdown",
   "metadata": {},
   "source": [
    "User-defined data types"
   ]
  },
  {
   "cell_type": "code",
   "execution_count": null,
   "metadata": {
    "vscode": {
     "languageId": "sql"
    }
   },
   "outputs": [],
   "source": [
    "-- Create an enumerated data type, compass_position\n",
    "CREATE TYPE compass_position AS ENUM (\n",
    "  \t-- Use the four cardinal directions\n",
    "  \t'North', \n",
    "  \t'South',\n",
    "  \t'East', \n",
    "  \t'West'\n",
    ");\n",
    "-- Confirm the new data type is in the pg_type system table\n",
    "SELECT *\n",
    "FROM pg_type\n",
    "WHERE typname='compass_position';"
   ]
  },
  {
   "attachments": {},
   "cell_type": "markdown",
   "metadata": {},
   "source": [
    "Getting info about user-defined data types\n",
    "\n",
    "* Select the column_name, data_type, udt_name.\n",
    "* Filter for the rating column in the film table"
   ]
  },
  {
   "cell_type": "code",
   "execution_count": null,
   "metadata": {
    "vscode": {
     "languageId": "sql"
    }
   },
   "outputs": [],
   "source": [
    "-- Select the column name, data type and udt name columns\n",
    "SELECT column_name, data_type, udt_name\n",
    "FROM INFORMATION_SCHEMA.COLUMNS \n",
    "-- Filter by the rating column in the film table\n",
    "WHERE table_name ='film' AND column_name='rating';"
   ]
  },
  {
   "cell_type": "code",
   "execution_count": null,
   "metadata": {
    "vscode": {
     "languageId": "sql"
    }
   },
   "outputs": [],
   "source": [
    "SELECT *\n",
    "FROM pg_type \n",
    "WHERE typname='mpaa_rating'"
   ]
  },
  {
   "cell_type": "code",
   "execution_count": null,
   "metadata": {
    "vscode": {
     "languageId": "sql"
    }
   },
   "outputs": [],
   "source": [
    "-- Select the film title and inventory ids\n",
    "SELECT \n",
    "\tf.title, \n",
    "    i.inventory_id\n",
    "FROM film as f \n",
    "\t-- Join the film table to the inventory table\n",
    "\tINNER JOIN inventory AS i ON f.film_id=i.film_id "
   ]
  },
  {
   "cell_type": "code",
   "execution_count": null,
   "metadata": {
    "vscode": {
     "languageId": "sql"
    }
   },
   "outputs": [],
   "source": [
    "-- Select the film title and inventory ids\n",
    "SELECT \n",
    "\tf.title, \n",
    "    i.inventory_id,\n",
    "    -- Determine whether the inventory is held by a customer\n",
    "    inventory_held_by_customer(i.inventory_id) AS held_by_cust\n",
    "FROM film as f \n",
    "\tINNER JOIN inventory AS i ON f.film_id=i.film_id "
   ]
  },
  {
   "cell_type": "code",
   "execution_count": null,
   "metadata": {
    "vscode": {
     "languageId": "sql"
    }
   },
   "outputs": [],
   "source": [
    "-- Select the film title and inventory ids\n",
    "SELECT \n",
    "\tf.title, \n",
    "    i.inventory_id,\n",
    "    -- Determine whether the inventory is held by a customer\n",
    "    inventory_held_by_customer(i.inventory_id) as held_by_cust\n",
    "FROM film as f \n",
    "\tINNER JOIN inventory AS i ON f.film_id=i.film_id \n",
    "WHERE\n",
    "\t-- Only include results where the held_by_cust is not null\n",
    "    inventory_held_by_customer(i.inventory_id) IS NOT NULL"
   ]
  },
  {
   "attachments": {},
   "cell_type": "markdown",
   "metadata": {},
   "source": [
    "Enabling extensions in postgres"
   ]
  },
  {
   "cell_type": "code",
   "execution_count": null,
   "metadata": {
    "vscode": {
     "languageId": "sql"
    }
   },
   "outputs": [],
   "source": [
    "-- Enable the pg_trgm extension\n",
    "CREATE EXTENSION IF NOT EXISTS pg_trgm;"
   ]
  },
  {
   "attachments": {},
   "cell_type": "markdown",
   "metadata": {},
   "source": [
    "Now confirm that both fuzzystrmatch and pg_trgm are enabled by selecting all rows from the appropriate system table."
   ]
  },
  {
   "cell_type": "code",
   "execution_count": null,
   "metadata": {
    "vscode": {
     "languageId": "sql"
    }
   },
   "outputs": [],
   "source": [
    "-- Select all rows extensions\n",
    "SELECT * \n",
    "FROM pg_extension;"
   ]
  },
  {
   "attachments": {},
   "cell_type": "markdown",
   "metadata": {},
   "source": [
    "Measuring similarity between two strings"
   ]
  },
  {
   "cell_type": "code",
   "execution_count": null,
   "metadata": {
    "vscode": {
     "languageId": "sql"
    }
   },
   "outputs": [],
   "source": [
    "-- Select the film title and description.\n",
    "-- Calculate the similarity between the title and description.\n",
    "\n",
    "-- Select the title and description columns\n",
    "SELECT \n",
    "  title, \n",
    "  description, \n",
    "  -- Calculate the similarity\n",
    "  similarity(title, description)\n",
    "FROM \n",
    "  film"
   ]
  },
  {
   "attachments": {},
   "cell_type": "markdown",
   "metadata": {},
   "source": [
    "Levenshtein distance examples"
   ]
  },
  {
   "cell_type": "code",
   "execution_count": null,
   "metadata": {
    "vscode": {
     "languageId": "sql"
    }
   },
   "outputs": [],
   "source": [
    "-- Select the film title and film description.\n",
    "-- Calculate the levenshtein distance for the film title with the string JET NEIGHBOR.\n",
    "\n",
    "-- Select the title and description columns\n",
    "SELECT  \n",
    "  title, \n",
    "  description, \n",
    "  -- Calculate the levenshtein distance\n",
    "  levenshtein(title, 'JET NEIGHBOR') AS distance\n",
    "FROM \n",
    "  film\n",
    "ORDER BY 3"
   ]
  },
  {
   "attachments": {},
   "cell_type": "markdown",
   "metadata": {},
   "source": [
    "Putting it all together"
   ]
  },
  {
   "cell_type": "code",
   "execution_count": null,
   "metadata": {
    "vscode": {
     "languageId": "sql"
    }
   },
   "outputs": [],
   "source": [
    "-- ! Step 1:\n",
    "-- Select the title and description for all DVDs from the film table.\n",
    "-- Perform a full-text search by converting the description to a tsvector\n",
    "-- ...and match it to the phrase 'Astounding & Drama' using a tsquery in the WHERE clause.\n",
    "\n",
    "-- Select the title and description columns\n",
    "SELECT  \n",
    "  title, \n",
    "  description \n",
    "FROM \n",
    "  film \n",
    "WHERE \n",
    "  -- Match \"Astounding Drama\" in the description\n",
    "  to_tsvector(description) @@ \n",
    "  to_tsquery('Astounding & Drama');"
   ]
  },
  {
   "cell_type": "code",
   "execution_count": null,
   "metadata": {
    "vscode": {
     "languageId": "sql"
    }
   },
   "outputs": [],
   "source": [
    "-- ! Step 2:\n",
    "\n",
    "-- Add a new column that calculates the similarity of the description\n",
    "-- ...with the phrase 'Astounding Drama'.\n",
    "-- Sort the results by the new similarity column in descending order.\n",
    "\n",
    "SELECT \n",
    "  title, \n",
    "  description, \n",
    "  -- Calculate the similarity\n",
    "  similarity(description, 'Astounding Drama') \n",
    "FROM \n",
    "  film \n",
    "WHERE \n",
    "  to_tsvector(description) @@ \n",
    "  to_tsquery('Astounding & Drama') \n",
    "ORDER BY \n",
    "\tsimilarity(description, 'Astounding Drama') DESC;"
   ]
  }
 ],
 "metadata": {
  "language_info": {
   "name": "python"
  },
  "orig_nbformat": 4
 },
 "nbformat": 4,
 "nbformat_minor": 2
}
