{
 "cells": [
  {
   "cell_type": "code",
   "execution_count": null,
   "metadata": {
    "vscode": {
     "languageId": "sql"
    }
   },
   "outputs": [],
   "source": [
    " -- Select all columns from the TABLES system database\n",
    " SELECT * \n",
    " FROM INFORMATION_SCHEMA.TABLES\n",
    " -- Filter by schema\n",
    " WHERE table_schema = 'public';"
   ]
  },
  {
   "attachments": {},
   "cell_type": "markdown",
   "metadata": {},
   "source": [
    "Querying for columns"
   ]
  },
  {
   "cell_type": "code",
   "execution_count": null,
   "metadata": {
    "vscode": {
     "languageId": "sql"
    }
   },
   "outputs": [],
   "source": [
    " -- Select all columns from the COLUMNS system database\n",
    " SELECT * \n",
    " FROM INFORMATION_SCHEMA.COLUMNS\n",
    " WHERE table_name = 'actor';"
   ]
  },
  {
   "attachments": {},
   "cell_type": "markdown",
   "metadata": {},
   "source": [
    "Determining data types"
   ]
  },
  {
   "cell_type": "code",
   "execution_count": null,
   "metadata": {
    "vscode": {
     "languageId": "sql"
    }
   },
   "outputs": [],
   "source": [
    "-- Select the column name and data type from the\n",
    "-- INFORMATION_SCHEMA.COLUMNS system database.\n",
    "-- Limit results to only include the customer table.\n",
    "\n",
    "-- Get the column name and data type\n",
    "SELECT\n",
    " \tcolumn_name, \n",
    "    data_type\n",
    "-- From the system database information schema\n",
    "FROM INFORMATION_SCHEMA.COLUMNS \n",
    "-- For the customer table\n",
    "WHERE table_name ='customer';"
   ]
  },
  {
   "attachments": {},
   "cell_type": "markdown",
   "metadata": {},
   "source": [
    "Interval data types"
   ]
  },
  {
   "cell_type": "code",
   "execution_count": null,
   "metadata": {
    "vscode": {
     "languageId": "sql"
    }
   },
   "outputs": [],
   "source": [
    "SELECT\n",
    " \t-- Select the rental and return dates\n",
    "\trental_date,\n",
    "\treturn_date,\n",
    " \t-- Calculate the expected_return_date\n",
    "\trental_date + INTERVAL '3 days' AS expected_return_date\n",
    "FROM rental;"
   ]
  },
  {
   "attachments": {},
   "cell_type": "markdown",
   "metadata": {},
   "source": [
    "Accessing data in an aray"
   ]
  },
  {
   "cell_type": "code",
   "execution_count": null,
   "metadata": {
    "vscode": {
     "languageId": "sql"
    }
   },
   "outputs": [],
   "source": [
    "-- Select the title and special features column \n",
    "SELECT \n",
    "  title, \n",
    "  special_features \n",
    "FROM film;\n",
    "\n",
    "-- Select all films that have a special feature\n",
    "-- Trailers by filtering on the first index of the special_features ARRAY.\n",
    "\n",
    "-- Select the title and special features column \n",
    "SELECT \n",
    "  title, \n",
    "  special_features \n",
    "FROM film\n",
    "-- Use the array index of the special_features column\n",
    "WHERE special_features[1] = 'Trailers';\n",
    "\n",
    "-- Now let's select all films that have Deleted Scenes in the\n",
    "-- second index of the special_features ARRAY.\n",
    "\n",
    "-- Select the title and special features column \n",
    "SELECT \n",
    "  title, \n",
    "  special_features \n",
    "FROM film\n",
    "-- Use the array index of the special_features column\n",
    "WHERE special_features[2] = 'Deleted Scenes';"
   ]
  },
  {
   "cell_type": "code",
   "execution_count": null,
   "metadata": {
    "vscode": {
     "languageId": "sql"
    }
   },
   "outputs": [],
   "source": [
    "-- Searching for a value in an ARRAY can be done using the ANY function.\n",
    "\n",
    "SELECT \n",
    "  title, \n",
    "  special_features \n",
    "FROM film \n",
    "-- Modify the query to use the ANY function \n",
    "WHERE 'Trailers' = ANY (special_features);"
   ]
  },
  {
   "cell_type": "code",
   "execution_count": null,
   "metadata": {
    "vscode": {
     "languageId": "sql"
    }
   },
   "outputs": [],
   "source": [
    "-- Searching an ARRAY column with the @> operator\n",
    "\n",
    "SELECT \n",
    "  title, \n",
    "  special_features \n",
    "FROM film \n",
    "-- Filter where special_features contains 'Deleted Scenes'\n",
    "WHERE special_features @> ARRAY[ 'Deleted Scenes' ];"
   ]
  }
 ],
 "metadata": {
  "language_info": {
   "name": "python"
  },
  "orig_nbformat": 4
 },
 "nbformat": 4,
 "nbformat_minor": 2
}
