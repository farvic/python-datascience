{
 "cells": [
  {
   "attachments": {},
   "cell_type": "markdown",
   "metadata": {},
   "source": [
    "Adding and subtracting date and time values"
   ]
  },
  {
   "cell_type": "code",
   "execution_count": null,
   "metadata": {
    "vscode": {
     "languageId": "sql"
    }
   },
   "outputs": [],
   "source": [
    "SELECT f.title, f.rental_duration,\n",
    "       -- Calculate the number of days rented\n",
    "       r.return_date - r.rental_date AS days_rented\n",
    "FROM film AS f\n",
    "     INNER JOIN inventory AS i ON f.film_id = i.film_id\n",
    "     INNER JOIN rental AS r ON i.inventory_id = r.inventory_id\n",
    "ORDER BY f.title;"
   ]
  },
  {
   "cell_type": "code",
   "execution_count": null,
   "metadata": {
    "vscode": {
     "languageId": "sql"
    }
   },
   "outputs": [],
   "source": [
    "-- Now use the AGE() function to calculate the days_rented.\n",
    "\n",
    "SELECT f.title, f.rental_duration,\n",
    "\t-- Calculate the number of days rented\n",
    "\tAGE(r.return_date, r.rental_date) AS days_rented\n",
    "FROM film AS f\n",
    "\tINNER JOIN inventory AS i ON f.film_id = i.film_id\n",
    "\tINNER JOIN rental AS r ON i.inventory_id = r.inventory_id\n",
    "ORDER BY f.title;"
   ]
  },
  {
   "attachments": {},
   "cell_type": "markdown",
   "metadata": {},
   "source": [
    "INTERVAL arithmetic"
   ]
  },
  {
   "cell_type": "code",
   "execution_count": null,
   "metadata": {
    "vscode": {
     "languageId": "sql"
    }
   },
   "outputs": [],
   "source": [
    "-- Convert rental_duration by multiplying it with a 1 day INTERVAL\n",
    "-- Subtract the rental_date from the return_date to calculate the number of days_rented.\n",
    "-- Exclude rentals with a NULL value for return_date.\n",
    "\n",
    "SELECT\n",
    "    f.title,\n",
    " \t-- Convert the rental_duration to an interval\n",
    "    INTERVAL '1' day * f.rental_duration,\n",
    " \t-- Calculate the days rented as we did previously\n",
    "    r.return_date - r.rental_date AS days_rented\n",
    "FROM film AS f\n",
    "    INNER JOIN inventory AS i ON f.film_id = i.film_id\n",
    "    INNER JOIN rental AS r ON i.inventory_id = r.inventory_id\n",
    "-- Filter the query to exclude outstanding rentals\n",
    "WHERE r.return_date IS NOT NULL\n",
    "ORDER BY f.title;"
   ]
  },
  {
   "cell_type": "code",
   "execution_count": null,
   "metadata": {
    "vscode": {
     "languageId": "sql"
    }
   },
   "outputs": [],
   "source": [
    "SELECT\n",
    "    f.title,\n",
    "\tr.rental_date,\n",
    "    f.rental_duration,\n",
    "    -- Add the rental duration to the rental date\n",
    "    INTERVAL '1' day * f.rental_duration + r.rental_date AS expected_return_date,\n",
    "    r.return_date\n",
    "FROM film AS f\n",
    "    INNER JOIN inventory AS i ON f.film_id = i.film_id\n",
    "    INNER JOIN rental AS r ON i.inventory_id = r.inventory_id\n",
    "ORDER BY f.title;"
   ]
  },
  {
   "attachments": {},
   "cell_type": "markdown",
   "metadata": {},
   "source": [
    "Working with the current date and time"
   ]
  },
  {
   "cell_type": "code",
   "execution_count": null,
   "metadata": {
    "vscode": {
     "languageId": "sql"
    }
   },
   "outputs": [],
   "source": [
    "-- Select the current timestamp\n",
    "SELECT NOW();\n",
    "\n",
    "-- Select the current date\n",
    "SELECT CURRENT_DATE;\n",
    "\n",
    "--Select the current timestamp without a timezone\n",
    "SELECT CAST( NOW() AS timestamp )\n",
    "\n",
    "SELECT \n",
    "\t-- Select the current date\n",
    "\tCURRENT_DATE,\n",
    "    -- CAST the result of the NOW() function to a date\n",
    "    CAST( NOW() AS date )"
   ]
  },
  {
   "cell_type": "code",
   "execution_count": null,
   "metadata": {
    "vscode": {
     "languageId": "sql"
    }
   },
   "outputs": [],
   "source": [
    "-- ! Step 2\n",
    "-- Now select a timestamp five days from now and alias it as five_days_from_now.\n",
    "\n",
    "SELECT\n",
    "\tCURRENT_TIMESTAMP::timestamp AS right_now,\n",
    "    interval '5 days' + CURRENT_TIMESTAMP AS five_days_from_now;\n",
    "\n",
    "-- ! Step 3\n",
    "-- Finally, let's use a second-level precision with no fractional digits for both\n",
    "-- the right_now and five_days_from_now fields.\n",
    "\n",
    "SELECT\n",
    "\tCURRENT_TIMESTAMP(0)::timestamp AS right_now,\n",
    "    interval '5 days' + CURRENT_TIMESTAMP(0) AS five_days_from_now;"
   ]
  },
  {
   "attachments": {},
   "cell_type": "markdown",
   "metadata": {},
   "source": [
    "Using extract to get the day of the week"
   ]
  },
  {
   "cell_type": "code",
   "execution_count": null,
   "metadata": {
    "vscode": {
     "languageId": "sql"
    }
   },
   "outputs": [],
   "source": [
    "SELECT \n",
    "  -- Extract day of week from rental_date\n",
    "  EXTRACT(dow FROM rental_date) AS dayofweek \n",
    "FROM rental \n",
    "LIMIT 100;"
   ]
  },
  {
   "cell_type": "code",
   "execution_count": null,
   "metadata": {
    "vscode": {
     "languageId": "sql"
    }
   },
   "outputs": [],
   "source": [
    "-- Extract day of week from rental_date\n",
    "SELECT \n",
    "  EXTRACT(dow FROM rental_date) AS dayofweek, \n",
    "  -- Count the number of rentals\n",
    "  COUNT(rental_id) as rentals \n",
    "FROM rental \n",
    "GROUP BY 1;"
   ]
  },
  {
   "attachments": {},
   "cell_type": "markdown",
   "metadata": {},
   "source": [
    "Using date_trunc"
   ]
  },
  {
   "cell_type": "code",
   "execution_count": null,
   "metadata": {
    "vscode": {
     "languageId": "sql"
    }
   },
   "outputs": [],
   "source": [
    "-- Truncate rental_date by year\n",
    "SELECT DATE_TRUNC('year', rental_date) AS rental_year\n",
    "FROM rental;\n",
    "\n",
    "-- Truncate rental_date by month\n",
    "SELECT DATE_TRUNC('month', rental_date) AS rental_month\n",
    "FROM rental;\n",
    "\n",
    "-- Truncate rental_date by day of the month \n",
    "SELECT DATE_TRUNC('day', rental_date) AS rental_day \n",
    "FROM rental;\n",
    "\n",
    "SELECT \n",
    "  DATE_TRUNC('day', rental_date) AS rental_day,\n",
    "  -- Count total number of rentals \n",
    "  COUNT(rental_id) as rentals \n",
    "FROM rental\n",
    "GROUP BY 1;"
   ]
  },
  {
   "attachments": {},
   "cell_type": "markdown",
   "metadata": {},
   "source": [
    "Putting it all together\n",
    "\n",
    "* Extract the day of the week from the rental_date column using the alias dayofweek.\n",
    "* Use an INTERVAL in the WHERE clause to select records for the 90 day period starting on 5/1/2005."
   ]
  },
  {
   "cell_type": "code",
   "execution_count": null,
   "metadata": {
    "vscode": {
     "languageId": "sql"
    }
   },
   "outputs": [],
   "source": [
    "SELECT \n",
    "  -- Extract the day of week date part from the rental_date\n",
    "  EXTRACT(dow FROM rental_date) AS dayofweek,\n",
    "  AGE(return_date, rental_date) AS rental_days\n",
    "FROM rental AS r \n",
    "WHERE \n",
    "  -- Use an INTERVAL for the upper bound of the rental_date \n",
    "  rental_date BETWEEN CAST('2005-05-01' AS DATE)\n",
    "   AND CAST('2005-05-01' AS DATE) + INTERVAL '90 day';"
   ]
  },
  {
   "attachments": {},
   "cell_type": "markdown",
   "metadata": {},
   "source": [
    "* Finally, use a CASE statement and DATE_TRUNC() to create a new column called past_due which will be TRUE if the rental_days is greater than the rental_duration otherwise, it will be FALSE."
   ]
  },
  {
   "cell_type": "code",
   "execution_count": null,
   "metadata": {
    "vscode": {
     "languageId": "sql"
    }
   },
   "outputs": [],
   "source": [
    "SELECT \n",
    "  c.first_name || ' ' || c.last_name AS customer_name,\n",
    "  f.title,\n",
    "  r.rental_date,\n",
    "  -- Extract the day of week date part from the rental_date\n",
    "  EXTRACT(dow FROM r.rental_date) AS dayofweek,\n",
    "  AGE(r.return_date, r.rental_date) AS rental_days,\n",
    "  -- Use DATE_TRUNC to get days from the AGE function\n",
    "  CASE WHEN DATE_TRUNC('day', AGE(r.return_date, r.rental_date)) > \n",
    "    f.rental_duration * INTERVAL '1' day \n",
    "  THEN TRUE \n",
    "  ELSE FALSE END AS past_due \n",
    "FROM \n",
    "  film AS f \n",
    "  INNER JOIN inventory AS i \n",
    "  \tON f.film_id = i.film_id \n",
    "  INNER JOIN rental AS r \n",
    "  \tON i.inventory_id = r.inventory_id \n",
    "  INNER JOIN customer AS c \n",
    "  \tON c.customer_id = r.customer_id \n",
    "WHERE \n",
    "  -- Use an INTERVAL for the upper bound of the rental_date \n",
    "  r.rental_date BETWEEN CAST('2005-05-01' AS DATE) \n",
    "  AND CAST('2005-05-01' AS DATE) + INTERVAL '90 day';"
   ]
  }
 ],
 "metadata": {
  "language_info": {
   "name": "python"
  },
  "orig_nbformat": 4
 },
 "nbformat": 4,
 "nbformat_minor": 2
}
