{
 "cells": [
  {
   "attachments": {},
   "cell_type": "markdown",
   "metadata": {},
   "source": [
    "### Filtering using scalar subqueries"
   ]
  },
  {
   "cell_type": "code",
   "execution_count": null,
   "metadata": {
    "vscode": {
     "languageId": "sql"
    }
   },
   "outputs": [],
   "source": [
    "SELECT \n",
    "-- Select the average of home + away goals, multiplied by 3\n",
    "\t3 * AVG(home_goal + away_goal)\n",
    "FROM matches_2013_2014;"
   ]
  },
  {
   "cell_type": "code",
   "execution_count": null,
   "metadata": {
    "vscode": {
     "languageId": "sql"
    }
   },
   "outputs": [],
   "source": [
    "SELECT \n",
    "\t-- Select the date, home goals, and away goals scored\n",
    "\tdate,\n",
    "\thome_goal,\n",
    "\taway_goal\n",
    "FROM matches_2013_2014\n",
    "-- Filter for matches where total goals exceeds 3x the average\n",
    "WHERE (home_goal + away_goal) > \n",
    "       (SELECT 3 * AVG(home_goal + away_goal)\n",
    "        FROM matches_2013_2014); "
   ]
  },
  {
   "attachments": {},
   "cell_type": "markdown",
   "metadata": {},
   "source": [
    "### Filtering using a subquery with a list"
   ]
  },
  {
   "cell_type": "code",
   "execution_count": null,
   "metadata": {
    "vscode": {
     "languageId": "sql"
    }
   },
   "outputs": [],
   "source": [
    "SELECT \n",
    "\t-- Select the team long and short names\n",
    "\tteam_long_name,\n",
    "\tteam_short_name\n",
    "FROM team\n",
    "-- Exclude all values from the subquery\n",
    "WHERE team_api_id NOT IN\n",
    "     (SELECT DISTINCT hometeam_id FROM match);"
   ]
  },
  {
   "attachments": {},
   "cell_type": "markdown",
   "metadata": {},
   "source": [
    "Filtering with more complex subquery conditions"
   ]
  },
  {
   "cell_type": "code",
   "execution_count": null,
   "metadata": {
    "vscode": {
     "languageId": "sql"
    }
   },
   "outputs": [],
   "source": [
    "SELECT\n",
    "\t-- Select the team long and short names\n",
    "\tteam_long_name,\n",
    "\tteam_short_name\n",
    "FROM team\n",
    "-- Filter for teams with 8 or more home goals\n",
    "WHERE team_api_id IN\n",
    "\t  (SELECT hometeam_id \n",
    "       FROM match\n",
    "       WHERE home_goal >= 8);"
   ]
  }
 ],
 "metadata": {
  "language_info": {
   "name": "python"
  },
  "orig_nbformat": 4
 },
 "nbformat": 4,
 "nbformat_minor": 2
}
