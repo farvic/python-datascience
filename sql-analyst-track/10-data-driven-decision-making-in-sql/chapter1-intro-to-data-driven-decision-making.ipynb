{
 "cells": [
  {
   "attachments": {},
   "cell_type": "markdown",
   "metadata": {},
   "source": [
    "Exploring the table rentings table"
   ]
  },
  {
   "cell_type": "code",
   "execution_count": null,
   "metadata": {
    "vscode": {
     "languageId": "sql"
    }
   },
   "outputs": [],
   "source": [
    "SELECT *      -- Select all\n",
    "FROM renting; -- From table renting"
   ]
  },
  {
   "cell_type": "code",
   "execution_count": null,
   "metadata": {
    "vscode": {
     "languageId": "sql"
    }
   },
   "outputs": [],
   "source": [
    "SELECT movie_id,  -- Select all columns needed to compute the average rating per movie\n",
    "       rating\n",
    "FROM renting;"
   ]
  },
  {
   "cell_type": "code",
   "execution_count": null,
   "metadata": {
    "vscode": {
     "languageId": "sql"
    }
   },
   "outputs": [],
   "source": [
    "SELECT *\n",
    "FROM renting\n",
    "WHERE date_renting = '2018-10-09'; -- Movies rented on October 9th, 2018"
   ]
  },
  {
   "cell_type": "code",
   "execution_count": null,
   "metadata": {
    "vscode": {
     "languageId": "sql"
    }
   },
   "outputs": [],
   "source": [
    "SELECT *\n",
    "FROM renting\n",
    "WHERE date_renting BETWEEN '2018-04-01' AND '2018-08-31'; -- from beginning April 2018 to end August 2018"
   ]
  },
  {
   "cell_type": "code",
   "execution_count": null,
   "metadata": {
    "vscode": {
     "languageId": "sql"
    }
   },
   "outputs": [],
   "source": [
    "SELECT *\n",
    "FROM renting\n",
    "WHERE date_renting BETWEEN '2018-04-01' AND '2018-08-31'\n",
    "ORDER BY date_renting DESC; -- Order by recency in decreasing order"
   ]
  },
  {
   "cell_type": "code",
   "execution_count": null,
   "metadata": {
    "vscode": {
     "languageId": "sql"
    }
   },
   "outputs": [],
   "source": [
    "SELECT *\n",
    "FROM movies\n",
    "WHERE genre <> 'Drama'; -- All genres except drama"
   ]
  },
  {
   "cell_type": "code",
   "execution_count": null,
   "metadata": {
    "vscode": {
     "languageId": "sql"
    }
   },
   "outputs": [],
   "source": [
    "SELECT *\n",
    "FROM movies\n",
    "WHERE title IN ('Showtime', 'Love Actually', 'The Fighter'); -- Select all movies with the given titles"
   ]
  },
  {
   "cell_type": "code",
   "execution_count": null,
   "metadata": {
    "vscode": {
     "languageId": "sql"
    }
   },
   "outputs": [],
   "source": [
    "SELECT *\n",
    "FROM movies\n",
    "ORDER BY renting_price; -- Order the movies by increasing renting price"
   ]
  },
  {
   "cell_type": "code",
   "execution_count": null,
   "metadata": {
    "vscode": {
     "languageId": "sql"
    }
   },
   "outputs": [],
   "source": [
    "SELECT *\n",
    "FROM renting\n",
    "WHERE date_renting BETWEEN '2018-01-01' AND '2018-12-31' -- Renting in 2018\n",
    "AND rating IS NOT NULL; -- Rating exists"
   ]
  },
  {
   "attachments": {},
   "cell_type": "markdown",
   "metadata": {},
   "source": [
    "Summarizing costumer information"
   ]
  },
  {
   "cell_type": "code",
   "execution_count": null,
   "metadata": {
    "vscode": {
     "languageId": "sql"
    }
   },
   "outputs": [],
   "source": [
    "SELECT COUNT(*) -- Count the total number of customers\n",
    "FROM customers\n",
    "-- Select customers born between 1980-01-01 and 1989-12-31\n",
    "WHERE date_of_birth BETWEEN '1980-01-01' AND '1989-12-31';"
   ]
  },
  {
   "cell_type": "code",
   "execution_count": null,
   "metadata": {
    "vscode": {
     "languageId": "sql"
    }
   },
   "outputs": [],
   "source": [
    "SELECT COUNT(*) -- Count the total number of customers\n",
    "FROM customers\n",
    "WHERE country = 'Germany'; -- Select all customers from Germany"
   ]
  },
  {
   "cell_type": "code",
   "execution_count": null,
   "metadata": {
    "vscode": {
     "languageId": "sql"
    }
   },
   "outputs": [],
   "source": [
    "SELECT COUNT(DISTINCT country) -- Count the number of countries\n",
    "FROM customers;"
   ]
  },
  {
   "cell_type": "code",
   "execution_count": null,
   "metadata": {
    "vscode": {
     "languageId": "sql"
    }
   },
   "outputs": [],
   "source": [
    "SELECT MIN(rating) AS min_rating, -- Calculate the minimum rating and use alias min_rating\n",
    "\t\tMAX(rating) AS max_rating, -- Calculate the maximum rating and use alias max_rating\n",
    "\t\tAVG(rating) AS avg_rating, -- Calculate the average rating and use alias avg_rating\n",
    "\t\tCOUNT(rating) AS number_ratings -- Count the number of ratings and use alias number_ratings\n",
    "FROM renting\n",
    "WHERE movie_id = 25; -- Select all records of the movie with ID 25"
   ]
  },
  {
   "attachments": {},
   "cell_type": "markdown",
   "metadata": {},
   "source": [
    "Examining annual rentals"
   ]
  },
  {
   "cell_type": "code",
   "execution_count": null,
   "metadata": {
    "vscode": {
     "languageId": "sql"
    }
   },
   "outputs": [],
   "source": [
    "SELECT * -- Select all records of movie rentals since January 1st 2019\n",
    "FROM renting\n",
    "WHERE date_renting >= '2019-01-01'; "
   ]
  },
  {
   "cell_type": "code",
   "execution_count": null,
   "metadata": {
    "vscode": {
     "languageId": "sql"
    }
   },
   "outputs": [],
   "source": [
    "SELECT \n",
    "\tCOUNT(*), -- Count the total number of rented movies\n",
    "\tAVG(rating) -- Add the average rating\n",
    "FROM renting\n",
    "WHERE date_renting >= '2019-01-01';"
   ]
  },
  {
   "cell_type": "code",
   "execution_count": null,
   "metadata": {
    "vscode": {
     "languageId": "sql"
    }
   },
   "outputs": [],
   "source": [
    "SELECT \n",
    "\tCOUNT(*) AS number_renting, -- Give it the column name number_renting\n",
    "\tAVG(rating) AS average_rating  -- Give it the column name average_rating\n",
    "FROM renting\n",
    "WHERE date_renting >= '2019-01-01';"
   ]
  },
  {
   "cell_type": "code",
   "execution_count": null,
   "metadata": {
    "vscode": {
     "languageId": "sql"
    }
   },
   "outputs": [],
   "source": [
    "SELECT \n",
    "\tCOUNT(*) AS number_renting,\n",
    "\tAVG(rating) AS average_rating, \n",
    "    COUNT(rating) AS number_ratings -- Add the total number of ratings here.\n",
    "FROM renting\n",
    "WHERE date_renting >= '2019-01-01';"
   ]
  },
  {
   "cell_type": "code",
   "execution_count": null,
   "metadata": {
    "vscode": {
     "languageId": "sql"
    }
   },
   "outputs": [],
   "source": [
    "SELECT country, -- For each country report the earliest date when an account was created\n",
    "\tMIN(date_account_start) AS first_account\n",
    "FROM customers\n",
    "GROUP BY country\n",
    "ORDER BY first_account;"
   ]
  },
  {
   "cell_type": "code",
   "execution_count": null,
   "metadata": {
    "vscode": {
     "languageId": "sql"
    }
   },
   "outputs": [],
   "source": [
    "SELECT movie_id, \n",
    "       AVG(rating) AS avg_rating,\n",
    "       COUNT(rating) AS number_ratings,\n",
    "       COUNT(*) AS number_renting\n",
    "FROM renting\n",
    "GROUP BY movie_id\n",
    "ORDER BY avg_rating DESC; -- Order by average rating in decreasing order"
   ]
  },
  {
   "cell_type": "code",
   "execution_count": null,
   "metadata": {
    "vscode": {
     "languageId": "sql"
    }
   },
   "outputs": [],
   "source": [
    "SELECT customer_id,  -- Report the customer_id\n",
    "       AVG(rating), -- Report the average rating per customer\n",
    "       COUNT(rating), -- Report the number of ratings per customer\n",
    "       COUNT(*) -- Report the number of movie rentals per customer\n",
    "FROM renting\n",
    "GROUP BY customer_id\n",
    "HAVING COUNT(*) > 7 -- Select only customers with more than 7 movie rentals\n",
    "ORDER BY AVG(rating); -- Order by the average rating in ascending order"
   ]
  },
  {
   "cell_type": "code",
   "execution_count": null,
   "metadata": {
    "vscode": {
     "languageId": "sql"
    }
   },
   "outputs": [],
   "source": [
    "SELECT AVG(r.rating) -- Average ratings of customers from Belgium\n",
    "FROM renting AS r\n",
    "LEFT JOIN customers AS c\n",
    "ON r.customer_id = c.customer_id\n",
    "WHERE c.country='Belgium';"
   ]
  },
  {
   "cell_type": "code",
   "execution_count": null,
   "metadata": {
    "vscode": {
     "languageId": "sql"
    }
   },
   "outputs": [],
   "source": [
    "SELECT \n",
    "\tSUM(m.renting_price), \n",
    "\tCOUNT(*), \n",
    "\tCOUNT(DISTINCT r.customer_id)\n",
    "FROM renting AS r\n",
    "LEFT JOIN movies AS m\n",
    "ON r.movie_id = m.movie_id\n",
    "-- Only look at movie rentals in 2018\n",
    "WHERE date_renting BETWEEN '2018-01-01' AND '2018-12-31';"
   ]
  },
  {
   "cell_type": "code",
   "execution_count": null,
   "metadata": {
    "vscode": {
     "languageId": "sql"
    }
   },
   "outputs": [],
   "source": [
    "SELECT a.name, -- Create a list of movie titles and actor names\n",
    "       m.title\n",
    "FROM actsin AS ai\n",
    "LEFT JOIN movies AS m\n",
    "ON m.movie_id = ai.movie_id\n",
    "LEFT JOIN actors AS a\n",
    "ON a.actor_id = ai.actor_id;"
   ]
  },
  {
   "attachments": {},
   "cell_type": "markdown",
   "metadata": {},
   "source": [
    "Income from movies"
   ]
  },
  {
   "cell_type": "code",
   "execution_count": null,
   "metadata": {
    "vscode": {
     "languageId": "sql"
    }
   },
   "outputs": [],
   "source": [
    "SELECT rm.title, -- Report the income from movie rentals for each movie \n",
    "       SUM(rm.renting_price) AS income_movie\n",
    "FROM\n",
    "       (SELECT m.title, \n",
    "               m.renting_price\n",
    "       FROM renting AS r\n",
    "       LEFT JOIN movies AS m\n",
    "       ON r.movie_id=m.movie_id) AS rm\n",
    "GROUP BY rm.title\n",
    "ORDER BY income_movie DESC; -- Order the result by decreasing income"
   ]
  },
  {
   "cell_type": "code",
   "execution_count": null,
   "metadata": {
    "vscode": {
     "languageId": "sql"
    }
   },
   "outputs": [],
   "source": [
    "SELECT a.gender, -- Report for male and female actors from the USA \n",
    "       MIN(a.year_of_birth), -- The year of birth of the oldest actor\n",
    "       MAX(a.year_of_birth) -- The year of birth of the youngest actor\n",
    "FROM\n",
    "    (SELECT * -- Use a subsequent SELECT to get all information about actors from the USA\n",
    "    FROM actors\n",
    "    WHERE nationality = 'USA') AS a -- Give the table the name a\n",
    "GROUP BY a.gender;"
   ]
  },
  {
   "attachments": {},
   "cell_type": "markdown",
   "metadata": {},
   "source": [
    "Identify favorite movies for a group of customers\n",
    "\n",
    "Which is the favorite movie on MovieNow? Answer this question for a specific group of customers: for all customers born in the 70s."
   ]
  },
  {
   "cell_type": "code",
   "execution_count": null,
   "metadata": {
    "vscode": {
     "languageId": "sql"
    }
   },
   "outputs": [],
   "source": [
    "SELECT m.title, \n",
    "    COUNT(*),\n",
    "    AVG(r.rating) \n",
    "FROM renting AS r\n",
    "LEFT JOIN customers AS c\n",
    "    ON c.customer_id = r.customer_id\n",
    "LEFT JOIN movies AS m\n",
    "    ON m.movie_id = r.movie_id\n",
    "WHERE c.date_of_birth BETWEEN '1970-01-01' AND '1979-12-31'\n",
    "GROUP BY m.title\n",
    "HAVING COUNT(*) > 1  -- Remove movies with only one rental\n",
    "ORDER BY AVG(r.rating) DESC; -- Order with highest rating first"
   ]
  },
  {
   "attachments": {},
   "cell_type": "markdown",
   "metadata": {},
   "source": [
    "Identify favorite actors for Spain"
   ]
  },
  {
   "cell_type": "code",
   "execution_count": null,
   "metadata": {
    "vscode": {
     "languageId": "sql"
    }
   },
   "outputs": [],
   "source": [
    "SELECT a.name,  c.gender,\n",
    "       COUNT(*) AS number_views, \n",
    "       AVG(r.rating) AS avg_rating\n",
    "FROM renting as r\n",
    "LEFT JOIN customers AS c\n",
    "ON r.customer_id = c.customer_id\n",
    "LEFT JOIN actsin as ai\n",
    "ON r.movie_id = ai.movie_id\n",
    "LEFT JOIN actors as a\n",
    "ON ai.actor_id = a.actor_id\n",
    "WHERE c.country = 'Spain' -- Select only customers from Spain\n",
    "GROUP BY a.name, c.gender\n",
    "HAVING AVG(r.rating) IS NOT NULL \n",
    "  AND COUNT(*) > 5 \n",
    "ORDER BY avg_rating DESC, number_views DESC;"
   ]
  },
  {
   "attachments": {},
   "cell_type": "markdown",
   "metadata": {},
   "source": [
    "KPIs per country"
   ]
  },
  {
   "cell_type": "code",
   "execution_count": null,
   "metadata": {
    "vscode": {
     "languageId": "sql"
    }
   },
   "outputs": [],
   "source": [
    "SELECT *\n",
    "FROM renting AS r -- Augment the table renting with information about customers\n",
    "LEFT JOIN customers AS c\n",
    "ON c.customer_id = r.customer_id\n",
    "LEFT JOIN movies AS m -- Augment the table renting with information about movies\n",
    "ON r.movie_id = m.movie_id\n",
    "WHERE date_renting >= '2019-01-01'; -- Select only records about rentals since beginning of 2019"
   ]
  },
  {
   "cell_type": "code",
   "execution_count": null,
   "metadata": {
    "vscode": {
     "languageId": "sql"
    }
   },
   "outputs": [],
   "source": [
    "SELECT \n",
    "\tc.country,                      -- For each country report\n",
    "\tCOUNT(*) AS number_renting,   -- The number of movie rentals\n",
    "\tAVG(r.rating) AS average_rating,  -- The average rating\n",
    "\tSUM(m.renting_price) AS revenue  -- The revenue from movie rentals\n",
    "FROM renting AS r\n",
    "LEFT JOIN customers AS c\n",
    "ON c.customer_id = r.customer_id\n",
    "LEFT JOIN movies AS m\n",
    "ON m.movie_id = r.movie_id\n",
    "WHERE date_renting >= '2019-01-01'\n",
    "GROUP BY c.country;"
   ]
  }
 ],
 "metadata": {
  "language_info": {
   "name": "python"
  },
  "orig_nbformat": 4
 },
 "nbformat": 4,
 "nbformat_minor": 2
}
