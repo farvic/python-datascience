{
 "cells": [
  {
   "attachments": {},
   "cell_type": "markdown",
   "metadata": {},
   "source": [
    "Date comparisons"
   ]
  },
  {
   "cell_type": "code",
   "execution_count": null,
   "metadata": {
    "vscode": {
     "languageId": "sql"
    }
   },
   "outputs": [],
   "source": [
    "-- Count requests created on January 31, 2017\n",
    "SELECT count(*) \n",
    "  FROM evanston311\n",
    " WHERE date_created::date = '2017-01-31';"
   ]
  },
  {
   "cell_type": "code",
   "execution_count": null,
   "metadata": {
    "vscode": {
     "languageId": "sql"
    }
   },
   "outputs": [],
   "source": [
    "-- Count requests created on February 29, 2016\n",
    "SELECT count(*)\n",
    "  FROM evanston311 \n",
    " WHERE date_created >= '2016-02-29' \n",
    "   AND date_created < '2016-03-01';"
   ]
  },
  {
   "cell_type": "code",
   "execution_count": null,
   "metadata": {
    "vscode": {
     "languageId": "sql"
    }
   },
   "outputs": [],
   "source": [
    "-- Count the number of requests created on March 13, 2017.\n",
    "-- Specify the upper bound by adding 1 to the lower bound.\n",
    "\n",
    "-- Count requests created on March 13, 2017\n",
    "SELECT count(*)\n",
    "  FROM evanston311\n",
    " WHERE date_created >= '2017-03-13'\n",
    "   AND date_created < '2017-03-13'::date + 1;"
   ]
  },
  {
   "cell_type": "code",
   "execution_count": null,
   "metadata": {
    "vscode": {
     "languageId": "sql"
    }
   },
   "outputs": [],
   "source": [
    "-- Subtract the min date_created from the max\n",
    "SELECT max(date_created) - min(date_created)\n",
    "  FROM evanston311;"
   ]
  },
  {
   "cell_type": "code",
   "execution_count": null,
   "metadata": {
    "vscode": {
     "languageId": "sql"
    }
   },
   "outputs": [],
   "source": [
    "-- How old is the most recent request?\n",
    "SELECT now() - max(date_created)\n",
    "  FROM evanston311;"
   ]
  },
  {
   "cell_type": "code",
   "execution_count": null,
   "metadata": {
    "vscode": {
     "languageId": "sql"
    }
   },
   "outputs": [],
   "source": [
    "-- Add 100 days to the current timestamp\n",
    "SELECT now() + '100 days'::interval;"
   ]
  },
  {
   "cell_type": "code",
   "execution_count": null,
   "metadata": {
    "vscode": {
     "languageId": "sql"
    }
   },
   "outputs": [],
   "source": [
    "-- Select the current timestamp, \n",
    "-- and the current timestamp + 5 minutes\n",
    "SELECT now(),\n",
    "       now() + '5 minutes'::interval;"
   ]
  },
  {
   "attachments": {},
   "cell_type": "markdown",
   "metadata": {},
   "source": [
    "Completion time by category\n",
    "\n",
    "* Compute the average difference between the completion timestamp and the creation timestamp by category.\n",
    "* Order the results with the largest average time to complete the request first."
   ]
  },
  {
   "cell_type": "code",
   "execution_count": null,
   "metadata": {
    "vscode": {
     "languageId": "sql"
    }
   },
   "outputs": [],
   "source": [
    "-- Select the category and the average completion time by category\n",
    "SELECT category, \n",
    "       avg(date_completed - date_created) AS completion_time\n",
    "  FROM evanston311\n",
    " GROUP BY category\n",
    "-- Order the results\n",
    " ORDER BY completion_time DESC;"
   ]
  },
  {
   "attachments": {},
   "cell_type": "markdown",
   "metadata": {},
   "source": [
    "Date parts\n",
    "\n",
    "```sql\n",
    "SELECT date_part('field', timestamp);\n",
    "```"
   ]
  },
  {
   "cell_type": "code",
   "execution_count": null,
   "metadata": {
    "vscode": {
     "languageId": "sql"
    }
   },
   "outputs": [],
   "source": [
    "-- Extract the month from date_created and count requests\n",
    "SELECT date_part('month', date_created) AS month, \n",
    "       count(*)\n",
    "  FROM evanston311\n",
    " -- Limit the date range\n",
    " WHERE date_created >= '2016-01-01'\n",
    "   AND date_created < '2018-01-01'\n",
    " -- Group by what to get monthly counts?\n",
    " GROUP BY month;"
   ]
  },
  {
   "cell_type": "code",
   "execution_count": null,
   "metadata": {
    "vscode": {
     "languageId": "sql"
    }
   },
   "outputs": [],
   "source": [
    "-- Get the hour and count requests\n",
    "SELECT date_part('hour', date_created) AS hour,\n",
    "       count(*)\n",
    "  FROM evanston311\n",
    " GROUP BY hour\n",
    " -- Order results to select most common\n",
    " ORDER BY count DESC\n",
    " LIMIT 1;"
   ]
  },
  {
   "cell_type": "code",
   "execution_count": null,
   "metadata": {
    "vscode": {
     "languageId": "sql"
    }
   },
   "outputs": [],
   "source": [
    "-- Count requests completed by hour\n",
    "SELECT date_part('hour', date_completed) AS hour,\n",
    "       count(*)\n",
    "  FROM evanston311\n",
    " GROUP BY hour\n",
    " ORDER BY hour;"
   ]
  },
  {
   "attachments": {},
   "cell_type": "markdown",
   "metadata": {},
   "source": [
    "Variation by day of week\n",
    "\n",
    "```sql\n",
    "to_char(date_created, 'day') \n",
    "\n",
    "EXTRACT(DOW FROM date_created)\n",
    "```"
   ]
  },
  {
   "cell_type": "code",
   "execution_count": null,
   "metadata": {
    "vscode": {
     "languageId": "sql"
    }
   },
   "outputs": [],
   "source": [
    "-- Select name of the day of the week the request was created \n",
    "SELECT to_char(date_created, 'day') AS day, \n",
    "       -- Select avg time between request creation and completion\n",
    "       avg(date_completed - date_created) AS duration \n",
    "  FROM evanston311 \n",
    " -- Group by the name of the day of the week and \n",
    " -- integer value of day of week the request was created\n",
    " GROUP BY day, EXTRACT(DOW FROM date_created) \n",
    " -- Order by integer value of the day of the week \n",
    " -- the request was created\n",
    " ORDER BY EXTRACT(DOW FROM date_created);"
   ]
  },
  {
   "attachments": {},
   "cell_type": "markdown",
   "metadata": {},
   "source": [
    "Date truncation\n",
    "\n",
    "```sql\n",
    "date_trunc('field', timestamp)\n",
    "```"
   ]
  },
  {
   "cell_type": "code",
   "execution_count": null,
   "metadata": {
    "vscode": {
     "languageId": "sql"
    }
   },
   "outputs": [],
   "source": [
    "-- Aggregate daily counts by month\n",
    "SELECT date_trunc('month', day) AS month,\n",
    "       avg(count)\n",
    "  -- Subquery to compute daily counts\n",
    "  FROM (SELECT date_trunc('day', date_created) AS day,\n",
    "               count(*) AS count\n",
    "          FROM evanston311\n",
    "         GROUP BY day) AS daily_count\n",
    " GROUP BY month\n",
    " ORDER BY month;"
   ]
  },
  {
   "attachments": {},
   "cell_type": "markdown",
   "metadata": {},
   "source": [
    "Finding missing dates\n",
    "\n",
    "Recall:\n",
    "    \n",
    "```sql\n",
    "SELECT generate_series(from, to, interval)\n",
    "```"
   ]
  },
  {
   "cell_type": "code",
   "execution_count": null,
   "metadata": {
    "vscode": {
     "languageId": "sql"
    }
   },
   "outputs": [],
   "source": [
    "-- Write a subquery using generate_series() to get all dates between the min() and max()\n",
    "-- date_created in evanston311.\n",
    "-- Write another subquery to select all values of date_created as dates from evanston311.\n",
    "-- Both subqueries should produce values of type date (look for the ::).\n",
    "-- Select dates (day) from the first subquery that are NOT IN the results of the second\n",
    "-- subquery. This gives you days that are not in date_created.\n",
    "\n",
    "SELECT day\n",
    "-- 1) Subquery to generate all dates\n",
    "-- from min to max date_created\n",
    "  FROM (SELECT generate_series(min(date_created),\n",
    "                               max(date_created),\n",
    "                               '1 day')::date AS day\n",
    "          -- What table is date_created in?\n",
    "          FROM evanston311) AS all_dates      \n",
    "-- 4) Select dates (day from above) that are NOT IN the subquery\n",
    " WHERE day NOT IN \n",
    "       -- 2) Subquery to select all date_created values as dates\n",
    "       (SELECT date_created::date\n",
    "          FROM evanston311);"
   ]
  },
  {
   "attachments": {},
   "cell_type": "markdown",
   "metadata": {},
   "source": [
    "Custom aggregation periods\n",
    "\n",
    "* Use generate_series() to create bins of 6 month intervals. Recall that the upper bin values are exclusive, so the values need to be one day greater than the last day to be included in the bin.\n",
    "\n",
    "  * Notice how in the sample code, the first bin value of the upper bound is July 1st, and not June 30th.\n",
    "  * Use the same approach when creating the last bin values of the lower and upper bounds (i.e. for 2018)."
   ]
  },
  {
   "cell_type": "code",
   "execution_count": null,
   "metadata": {
    "vscode": {
     "languageId": "sql"
    }
   },
   "outputs": [],
   "source": [
    "-- Generate 6 month bins covering 2016-01-01 to 2018-06-30\n",
    "\n",
    "-- Create lower bounds of bins\n",
    "SELECT generate_series('2016-01-01',  -- First bin lower value\n",
    "                       '2018-01-01',  -- Last bin lower value\n",
    "                       '6 months'::interval) AS lower,\n",
    "-- Create upper bounds of bins\n",
    "       generate_series('2016-07-01',  -- First bin upper value\n",
    "                       '2018-07-01',  -- Last bin upper value\n",
    "                       '6 months'::interval) AS upper;"
   ]
  },
  {
   "attachments": {},
   "cell_type": "markdown",
   "metadata": {},
   "source": [
    "* Count the number of requests created per day. Remember to not count *, or you will risk counting NULL values.\n",
    "\n",
    "* Include days with no requests by joining evanston311 to a daily series from 2016-01-01 to 2018-06-30.\n",
    "\n",
    "- Note that because we are not generating bins, you can use June 30th as your series end date."
   ]
  },
  {
   "cell_type": "code",
   "execution_count": null,
   "metadata": {
    "vscode": {
     "languageId": "sql"
    }
   },
   "outputs": [],
   "source": [
    "-- Count number of requests made per day \n",
    "SELECT day, count(date_created) AS count\n",
    "-- Use a daily series from 2016-01-01 to 2018-06-30 \n",
    "-- to include days with no requests\n",
    "  FROM (SELECT generate_series('2016-01-01',  -- series start date\n",
    "                               '2018-06-30',  -- series end date\n",
    "                               '1 day'::interval)::date AS day) AS daily_series\n",
    "       LEFT JOIN evanston311\n",
    "       -- match day from above (which is a date) to date_created\n",
    "       ON day = date_created::date\n",
    " GROUP BY day;"
   ]
  },
  {
   "cell_type": "code",
   "execution_count": null,
   "metadata": {
    "vscode": {
     "languageId": "sql"
    }
   },
   "outputs": [],
   "source": [
    "-- Bins from Step 1\n",
    "WITH bins AS (\n",
    "\t SELECT generate_series('2016-01-01',\n",
    "                            '2018-01-01',\n",
    "                            '6 months'::interval) AS lower,\n",
    "            generate_series('2016-07-01',\n",
    "                            '2018-07-01',\n",
    "                            '6 months'::interval) AS upper),\n",
    "-- Daily counts from Step 2\n",
    "     daily_counts AS (\n",
    "     SELECT day, count(date_created) AS count\n",
    "       FROM (SELECT generate_series('2016-01-01',\n",
    "                                    '2018-06-30',\n",
    "                                    '1 day'::interval)::date AS day) AS daily_series\n",
    "            LEFT JOIN evanston311\n",
    "            ON day = date_created::date\n",
    "      GROUP BY day)\n",
    "-- Select bin bounds\n",
    "SELECT lower, \n",
    "       upper, \n",
    "       -- Compute median of count for each bin\n",
    "       percentile_disc(0.5) WITHIN GROUP (ORDER BY count) AS median\n",
    "  -- Join bins and daily_counts\n",
    "  FROM bins\n",
    "       LEFT JOIN daily_counts\n",
    "       -- Where the day is between the bin bounds\n",
    "       ON day >= lower\n",
    "          AND day < upper\n",
    " -- Group by bin bounds\n",
    " GROUP BY lower, upper\n",
    " ORDER BY lower;"
   ]
  },
  {
   "attachments": {},
   "cell_type": "markdown",
   "metadata": {},
   "source": [
    "Monthly average with missing dates\n",
    "Find the average number of Evanston 311 requests created per day for each month of the data.\n",
    "\n",
    "This time, do not ignore dates with no requests.\n",
    "\n",
    "* Generate a series of dates from 2016-01-01 to 2018-06-30.\n",
    "* Join the series to a subquery to count the number of requests created per day.\n",
    "* Use date_trunc() to get months from date, which has all dates, NOT day.\n",
    "* Use coalesce() to replace NULL count values with 0. Compute the average of this value."
   ]
  },
  {
   "cell_type": "code",
   "execution_count": null,
   "metadata": {
    "vscode": {
     "languageId": "sql"
    }
   },
   "outputs": [],
   "source": [
    "-- generate series with all days from 2016-01-01 to 2018-06-30\n",
    "WITH all_days AS \n",
    "     (SELECT generate_series('2016-01-01',\n",
    "                             '2018-06-30',\n",
    "                             '1 day'::interval) AS date),\n",
    "     -- Subquery to compute daily counts\n",
    "     daily_count AS \n",
    "     (SELECT date_trunc('day', date_created) AS day,\n",
    "             count(*) AS count\n",
    "        FROM evanston311\n",
    "       GROUP BY day)\n",
    "-- Aggregate daily counts by month using date_trunc\n",
    "SELECT date_trunc('month', date) AS month,\n",
    "       -- Use coalesce to replace NULL count values with 0\n",
    "       avg(coalesce(count, 0)) AS average\n",
    "  FROM all_days\n",
    "       LEFT JOIN daily_count\n",
    "       -- Joining condition\n",
    "       ON all_days.date=daily_count.day\n",
    " GROUP BY month\n",
    " ORDER BY month; "
   ]
  },
  {
   "attachments": {},
   "cell_type": "markdown",
   "metadata": {},
   "source": [
    "Longest gap\n",
    "\n",
    "```sql\n",
    "lag(column_to_adjust) OVER (ORDER BY ordering_column)\n",
    "lead(column_to_adjust) OVER (ORDER BY ordering_column)\n",
    "```"
   ]
  },
  {
   "cell_type": "code",
   "execution_count": null,
   "metadata": {
    "vscode": {
     "languageId": "sql"
    }
   },
   "outputs": [],
   "source": [
    "-- Select date_created and the date_created of the previous request\n",
    "-- using lead() or lag() as appropriate.\n",
    "-- Compute the gap between each request and the previous request.\n",
    "-- Select the row with the maximum gap.\n",
    "\n",
    "-- Compute the gaps\n",
    "WITH request_gaps AS (\n",
    "        SELECT date_created,\n",
    "               -- lead or lag\n",
    "               lag(date_created) OVER (ORDER BY date_created) AS previous,\n",
    "               -- compute gap as date_created minus lead or lag\n",
    "               date_created - lag(date_created) OVER (ORDER BY date_created) AS gap\n",
    "          FROM evanston311)\n",
    "-- Select the row with the maximum gap\n",
    "SELECT *\n",
    "  FROM request_gaps\n",
    "-- Subquery to select maximum gap from request_gaps\n",
    " WHERE gap = (SELECT max(gap) \n",
    "                FROM request_gaps);"
   ]
  },
  {
   "attachments": {},
   "cell_type": "markdown",
   "metadata": {},
   "source": [
    "Rats!\n",
    "Requests in category \"Rodents- Rats\" average over 64 days to resolve. Why?\n",
    "\n",
    "Investigate in 4 steps:\n",
    "\n",
    "Why is the average so high? Check the distribution of completion times. Hint: date_trunc() can be used on intervals.\n",
    "\n",
    "See how excluding outliers influences average completion times.\n",
    "\n",
    "Do requests made in busy months take longer to complete? Check the correlation between the average completion time and requests per month.\n",
    "\n",
    "Compare the number of requests created per month to the number completed.\n",
    "\n",
    "Remember: the time to resolve, or completion time, is date_completed - date_created"
   ]
  },
  {
   "cell_type": "code",
   "execution_count": null,
   "metadata": {
    "vscode": {
     "languageId": "sql"
    }
   },
   "outputs": [],
   "source": [
    "-- ! Step 1:\n",
    "-- Use date_trunc() to examine the distribution of rat request completion\n",
    "-- times by number of days.\n",
    "\n",
    "-- Truncate the time to complete requests to the day\n",
    "SELECT date_trunc('day', date_completed - date_created) AS completion_time,\n",
    "-- Count requests with each truncated time\n",
    "       count(*) \n",
    "  FROM evanston311\n",
    "-- Where category is rats\n",
    " WHERE category = 'Rodents- Rats'\n",
    "-- Group and order by the variable of interest\n",
    " GROUP BY completion_time\n",
    " ORDER BY completion_time;"
   ]
  },
  {
   "cell_type": "code",
   "execution_count": null,
   "metadata": {
    "vscode": {
     "languageId": "sql"
    }
   },
   "outputs": [],
   "source": [
    "-- ! Step 2:\n",
    "-- Compute average completion time per category excluding the longest\n",
    "-- 5% of requests (outliers).\n",
    "\n",
    "SELECT category, \n",
    "       -- Compute average completion time per category\n",
    "       avg(date_completed - date_created) AS avg_completion_time\n",
    "  FROM evanston311\n",
    "-- Where completion time is less than the 95th percentile value\n",
    " WHERE date_completed - date_created < \n",
    "-- Compute the 95th percentile of completion time in a subquery\n",
    "         (SELECT percentile_disc(0.95) WITHIN GROUP (ORDER BY date_completed - date_created)\n",
    "            FROM evanston311)\n",
    " GROUP BY category\n",
    "-- Order the results\n",
    " ORDER BY avg_completion_time DESC;"
   ]
  },
  {
   "cell_type": "code",
   "execution_count": null,
   "metadata": {
    "vscode": {
     "languageId": "sql"
    }
   },
   "outputs": [],
   "source": [
    "-- ! Step 3:\n",
    "-- Get corr() between avg. completion time and monthly requests. EXTRACT(epoch FROM interval)\n",
    "-- returns seconds in interval.\n",
    "\n",
    "-- Compute correlation (corr) between \n",
    "-- avg_completion time and count from the subquery\n",
    "SELECT corr(avg_completion, count)\n",
    "  -- Convert date_created to its month with date_trunc\n",
    "  FROM (SELECT date_trunc('month', date_created) AS month, \n",
    "               -- Compute average completion time in number of seconds           \n",
    "               avg(EXTRACT(epoch FROM date_completed - date_created)) AS avg_completion, \n",
    "               -- Count requests per month\n",
    "               count(*) AS count\n",
    "          FROM evanston311\n",
    "         -- Limit to rodents\n",
    "         WHERE category='Rodents- Rats' \n",
    "         -- Group by month, created above\n",
    "         GROUP BY month) \n",
    "         -- Required alias for subquery \n",
    "         AS monthly_avgs;"
   ]
  },
  {
   "cell_type": "code",
   "execution_count": null,
   "metadata": {
    "vscode": {
     "languageId": "sql"
    }
   },
   "outputs": [],
   "source": [
    "-- ! Step 4:\n",
    "-- Select the number of requests created and number of requests completed per month.\n",
    "\n",
    "-- Compute monthly counts of requests created\n",
    "WITH created AS (\n",
    "       SELECT date_trunc('month', date_created) AS month,\n",
    "              count(*) AS created_count\n",
    "         FROM evanston311\n",
    "        WHERE category='Rodents- Rats'\n",
    "        GROUP BY month),\n",
    "-- Compute monthly counts of requests completed\n",
    "      completed AS (\n",
    "       SELECT date_trunc('month', date_completed) AS month,\n",
    "              count(*) AS completed_count\n",
    "         FROM evanston311\n",
    "        WHERE category='Rodents- Rats'\n",
    "        GROUP BY month)\n",
    "-- Join monthly created and completed counts\n",
    "SELECT created.month, \n",
    "       created_count, \n",
    "       completed_count\n",
    "  FROM created\n",
    "       INNER JOIN completed\n",
    "       ON created.month=completed.month\n",
    " ORDER BY created.month;"
   ]
  }
 ],
 "metadata": {
  "language_info": {
   "name": "python"
  },
  "orig_nbformat": 4
 },
 "nbformat": 4,
 "nbformat_minor": 2
}
