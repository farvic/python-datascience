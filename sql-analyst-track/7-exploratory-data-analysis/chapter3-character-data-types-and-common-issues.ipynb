{
 "cells": [
  {
   "cell_type": "code",
   "execution_count": null,
   "metadata": {
    "vscode": {
     "languageId": "sql"
    }
   },
   "outputs": [],
   "source": [
    "-- Select the count of each level of priority\n",
    "SELECT priority, count(*) \n",
    "  FROM evanston311\n",
    " GROUP BY priority;"
   ]
  },
  {
   "cell_type": "code",
   "execution_count": null,
   "metadata": {
    "vscode": {
     "languageId": "sql"
    }
   },
   "outputs": [],
   "source": [
    "-- Find values of zip that appear in at least 100 rows\n",
    "-- Also get the count of each value\n",
    "SELECT zip, count(*) \n",
    "  FROM evanston311\n",
    " GROUP BY zip\n",
    "HAVING count(*) >=100; "
   ]
  },
  {
   "cell_type": "code",
   "execution_count": null,
   "metadata": {
    "vscode": {
     "languageId": "sql"
    }
   },
   "outputs": [],
   "source": [
    "-- Find values of source that appear in at least 100 rows\n",
    "-- Also get the count of each value\n",
    "SELECT source, count(*) \n",
    "  FROM evanston311\n",
    " GROUP BY source\n",
    "HAVING count(*) >=100; "
   ]
  },
  {
   "cell_type": "code",
   "execution_count": null,
   "metadata": {
    "vscode": {
     "languageId": "sql"
    }
   },
   "outputs": [],
   "source": [
    "-- Find the 5 most common values of street and the count of each\n",
    "SELECT street, count(*) \n",
    "  FROM evanston311\n",
    " GROUP BY street\n",
    " ORDER BY count(*) DESC\n",
    " LIMIT 5;"
   ]
  },
  {
   "attachments": {},
   "cell_type": "markdown",
   "metadata": {},
   "source": [
    "Exploring unstructured data"
   ]
  },
  {
   "cell_type": "code",
   "execution_count": null,
   "metadata": {
    "vscode": {
     "languageId": "sql"
    }
   },
   "outputs": [],
   "source": [
    "SELECT distinct street,\n",
    "       -- Trim off unwanted characters from street\n",
    "       trim(street, '0123456789 #/.') AS cleaned_street\n",
    "  FROM evanston311\n",
    " ORDER BY street;"
   ]
  },
  {
   "cell_type": "code",
   "execution_count": null,
   "metadata": {
    "vscode": {
     "languageId": "sql"
    }
   },
   "outputs": [],
   "source": [
    "-- Use ILIKE to count rows in evanston311 where the description contains\n",
    "-- 'trash' or 'garbage' regardless of case.\n",
    "\n",
    "-- Count rows\n",
    "SELECT count(*)\n",
    "  FROM evanston311\n",
    " -- Where description includes trash or garbage\n",
    " WHERE description ILIKE '%trash%' \n",
    "    OR description ILIKE '%garbage%';"
   ]
  },
  {
   "cell_type": "code",
   "execution_count": null,
   "metadata": {
    "vscode": {
     "languageId": "sql"
    }
   },
   "outputs": [],
   "source": [
    "-- category values are in title case. Use LIKE to find category\n",
    "-- values with 'Trash' or 'Garbage' in them.\n",
    "\n",
    "-- Select categories containing Trash or Garbage\n",
    "SELECT category\n",
    "  FROM evanston311\n",
    " -- Use LIKE\n",
    " WHERE category LIKE '%Trash%'\n",
    "    OR category LIKE '%Garbage%';"
   ]
  },
  {
   "cell_type": "code",
   "execution_count": null,
   "metadata": {
    "vscode": {
     "languageId": "sql"
    }
   },
   "outputs": [],
   "source": [
    "-- Count rows where the description includes 'trash' or 'garbage' but the category does not.\n",
    "\n",
    "-- Count rows\n",
    "SELECT count(*)\n",
    "  FROM evanston311 \n",
    " -- description contains trash or garbage\n",
    " WHERE (description ILIKE '%trash%'\n",
    "    OR description ILIKE '%garbage%') \n",
    " -- category does not contain Trash or Garbage\n",
    "   AND category NOT LIKE '%Trash%'\n",
    "   AND category NOT LIKE '%Garbage%';"
   ]
  },
  {
   "cell_type": "code",
   "execution_count": null,
   "metadata": {
    "vscode": {
     "languageId": "sql"
    }
   },
   "outputs": [],
   "source": [
    "-- Find the most common categories for rows with a description about trash\n",
    "-- that don't have a trash-related category.\n",
    "\n",
    "-- Count rows with each category\n",
    "SELECT category, count(*)\n",
    "  FROM evanston311 \n",
    " WHERE (description ILIKE '%trash%'\n",
    "    OR description ILIKE '%garbage%') \n",
    "   AND category NOT LIKE '%Trash%'\n",
    "   AND category NOT LIKE '%Garbage%'\n",
    " -- What are you counting?\n",
    " GROUP BY category\n",
    " --- order by most frequent values\n",
    " ORDER BY count DESC\n",
    " LIMIT 10;"
   ]
  },
  {
   "attachments": {},
   "cell_type": "markdown",
   "metadata": {},
   "source": [
    "Concatenate strings\n",
    "\n",
    "* Concatenate house_num, a space ' ', and street into a single value using the concat().\n",
    "* Use a trim function to remove any spaces from the start of the concatenated value."
   ]
  },
  {
   "cell_type": "code",
   "execution_count": null,
   "metadata": {
    "vscode": {
     "languageId": "sql"
    }
   },
   "outputs": [],
   "source": [
    "-- Concatenate house_num, a space, and street\n",
    "-- and trim spaces from the start of the result\n",
    "SELECT ltrim(concat(house_num, ' ', street)) AS address\n",
    "  FROM evanston311;"
   ]
  },
  {
   "attachments": {},
   "cell_type": "markdown",
   "metadata": {},
   "source": [
    "Splitting strings on a delimiter\n",
    "\n",
    "```sql\n",
    "split_part(string_to_split, delimiter, part_number)\n",
    "```"
   ]
  },
  {
   "cell_type": "code",
   "execution_count": null,
   "metadata": {
    "vscode": {
     "languageId": "sql"
    }
   },
   "outputs": [],
   "source": [
    "-- Select the first word of the street value\n",
    "SELECT split_part(street, ' ', 1) AS street_name, \n",
    "       count(*)\n",
    "  FROM evanston311\n",
    " GROUP BY street_name\n",
    " ORDER BY count DESC\n",
    " LIMIT 20;"
   ]
  },
  {
   "cell_type": "code",
   "execution_count": null,
   "metadata": {
    "vscode": {
     "languageId": "sql"
    }
   },
   "outputs": [],
   "source": [
    "-- Select the first 50 chars when length is greater than 50\n",
    "SELECT CASE WHEN length(description) > 50\n",
    "            THEN left(description, 50) || '...'\n",
    "       -- otherwise just select description\n",
    "       ELSE description\n",
    "       END\n",
    "  FROM evanston311\n",
    " -- limit to descriptions that start with the word I\n",
    " WHERE description LIKE 'I %'\n",
    " ORDER BY description;"
   ]
  },
  {
   "attachments": {},
   "cell_type": "markdown",
   "metadata": {},
   "source": [
    "Create an \"other\" category"
   ]
  },
  {
   "attachments": {},
   "cell_type": "markdown",
   "metadata": {},
   "source": [
    "Group and recode values\n",
    "\n",
    "Create recode with a standardized column; use split_part() and then rtrim() to remove any remaining whitespace on the result of split_part()."
   ]
  },
  {
   "cell_type": "code",
   "execution_count": null,
   "metadata": {
    "vscode": {
     "languageId": "sql"
    }
   },
   "outputs": [],
   "source": [
    "-- Fill in the command below with the name of the temp table\n",
    "DROP TABLE IF EXISTS recode;\n",
    "\n",
    "-- Create and name the temporary table\n",
    "CREATE TEMP TABLE recode AS\n",
    "-- Write the select query to generate the table \n",
    "-- with distinct values of category and standardized values\n",
    "  SELECT DISTINCT category, \n",
    "         rtrim(split_part(category, '-', 1)) AS standardized\n",
    "    -- What table are you selecting the above values from?\n",
    "    FROM evanston311;\n",
    "       \n",
    "-- Look at a few values before the next step\n",
    "SELECT DISTINCT standardized \n",
    "  FROM recode\n",
    " WHERE standardized LIKE 'Trash%Cart'\n",
    "    OR standardized LIKE 'Snow%Removal%';"
   ]
  },
  {
   "cell_type": "code",
   "execution_count": null,
   "metadata": {
    "vscode": {
     "languageId": "sql"
    }
   },
   "outputs": [],
   "source": [
    "-- UPDATE standardized values LIKE 'Trash%Cart' to 'Trash Cart'.\n",
    "-- UPDATE standardized values of 'Snow Removal/Concerns' and\n",
    "-- 'Snow/Ice/Hazard Removal' to 'Snow Removal'.\n",
    "\n",
    "-- Code from previous step\n",
    "DROP TABLE IF EXISTS recode;\n",
    "\n",
    "CREATE TEMP TABLE recode AS\n",
    "  SELECT DISTINCT category, \n",
    "         rtrim(split_part(category, '-', 1)) AS standardized\n",
    "    FROM evanston311;\n",
    "  \n",
    "-- Update to group trash cart values\n",
    "UPDATE recode \n",
    "   SET standardized='Trash Cart' \n",
    " WHERE standardized LIKE 'Trash%Cart';\n",
    "\n",
    "-- Update to group snow removal values\n",
    "UPDATE recode\n",
    "   SET standardized='Snow Removal' \n",
    " WHERE standardized LIKE 'Snow%Removal%';\n",
    " \n",
    "-- Examine effect of updates\n",
    "SELECT DISTINCT standardized \n",
    "  FROM recode\n",
    " WHERE standardized LIKE 'Trash%Cart'\n",
    "    OR standardized LIKE 'Snow%Removal%';"
   ]
  },
  {
   "cell_type": "code",
   "execution_count": null,
   "metadata": {
    "vscode": {
     "languageId": "sql"
    }
   },
   "outputs": [],
   "source": [
    "-- UPDATE recode by setting standardized values of 'THIS REQUEST IS INACTIVE…Trash Cart',\n",
    "-- '(DO NOT USE) Water Bill', 'DO NOT USE Trash'\n",
    "--  and 'NO LONGER IN USE' to 'UNUSED'\n",
    "\n",
    "-- Code from previous step\n",
    "DROP TABLE IF EXISTS recode;\n",
    "\n",
    "CREATE TEMP TABLE recode AS\n",
    "  SELECT DISTINCT category, \n",
    "         rtrim(split_part(category, '-', 1)) AS standardized\n",
    "    FROM evanston311;\n",
    "  \n",
    "UPDATE recode SET standardized='Trash Cart' \n",
    " WHERE standardized LIKE 'Trash%Cart';\n",
    "\n",
    "UPDATE recode SET standardized='Snow Removal' \n",
    " WHERE standardized LIKE 'Snow%Removal%';\n",
    "\n",
    "-- Update to group unused/inactive values\n",
    "UPDATE recode \n",
    "   SET standardized='UNUSED' \n",
    " WHERE standardized IN ('THIS REQUEST IS INACTIVE...Trash Cart', \n",
    "               '(DO NOT USE) Water Bill',\n",
    "               'DO NOT USE Trash', \n",
    "               'NO LONGER IN USE');\n",
    "\n",
    "-- Examine effect of updates\n",
    "SELECT DISTINCT standardized \n",
    "  FROM recode\n",
    " ORDER BY standardized;"
   ]
  },
  {
   "cell_type": "code",
   "execution_count": null,
   "metadata": {
    "vscode": {
     "languageId": "sql"
    }
   },
   "outputs": [],
   "source": [
    "-- Now, join the evanston311 and recode tables to count the number of requests\n",
    "-- with each of the standardized values\n",
    "-- List the most common standardized values first\n",
    "\n",
    "-- Code from previous step\n",
    "DROP TABLE IF EXISTS recode;\n",
    "CREATE TEMP TABLE recode AS\n",
    "  SELECT DISTINCT category, \n",
    "         rtrim(split_part(category, '-', 1)) AS standardized\n",
    "  FROM evanston311;\n",
    "UPDATE recode SET standardized='Trash Cart' \n",
    " WHERE standardized LIKE 'Trash%Cart';\n",
    "UPDATE recode SET standardized='Snow Removal' \n",
    " WHERE standardized LIKE 'Snow%Removal%';\n",
    "UPDATE recode SET standardized='UNUSED' \n",
    " WHERE standardized IN ('THIS REQUEST IS INACTIVE...Trash Cart', \n",
    "               '(DO NOT USE) Water Bill',\n",
    "               'DO NOT USE Trash', 'NO LONGER IN USE');\n",
    "\n",
    "-- Select the recoded categories and the count of each\n",
    "SELECT standardized, count(*) \n",
    "-- From the original table and table with recoded values\n",
    "  FROM evanston311 \n",
    "       LEFT JOIN recode \n",
    "       -- What column do they have in common?\n",
    "       ON evanston311.category=recode.category \n",
    " -- What do you need to group by to count?\n",
    " GROUP BY standardized\n",
    " -- Display the most common val values first\n",
    " ORDER BY count DESC;"
   ]
  },
  {
   "attachments": {},
   "cell_type": "markdown",
   "metadata": {},
   "source": [
    "Create a table with indicator variables"
   ]
  },
  {
   "cell_type": "code",
   "execution_count": null,
   "metadata": {
    "vscode": {
     "languageId": "sql"
    }
   },
   "outputs": [],
   "source": [
    "-- To clear table if it already exists\n",
    "DROP TABLE IF EXISTS indicators;\n",
    "\n",
    "-- Create the indicators temp table\n",
    "CREATE TEMP TABLE indicators AS\n",
    "  -- Select id\n",
    "  SELECT id, \n",
    "         -- Create the email indicator (find @)\n",
    "         CAST (description LIKE '%@%' AS integer) AS email,\n",
    "         -- Create the phone indicator\n",
    "         CAST (description LIKE '%___-___-____%' AS integer) AS phone \n",
    "    -- What table contains the data? \n",
    "    FROM evanston311;\n",
    "\n",
    "-- Inspect the contents of the new temp table\n",
    "SELECT *\n",
    "  FROM indicators;"
   ]
  },
  {
   "cell_type": "code",
   "execution_count": null,
   "metadata": {
    "vscode": {
     "languageId": "sql"
    }
   },
   "outputs": [],
   "source": [
    "-- To clear table if it already exists\n",
    "DROP TABLE IF EXISTS indicators;\n",
    "\n",
    "-- Create the temp table\n",
    "CREATE TEMP TABLE indicators AS\n",
    "  SELECT id, \n",
    "         CAST (description LIKE '%@%' AS integer) AS email,\n",
    "         CAST (description LIKE '%___-___-____%' AS integer) AS phone \n",
    "    FROM evanston311;\n",
    "\n",
    "-- Select the column you'll group by\n",
    "SELECT priority, \n",
    "       -- Compute the proportion of rows with each indicator\n",
    "       sum(email)/count(*)::numeric AS email_prop, \n",
    "       sum(phone)/count(*)::numeric AS phone_prop \n",
    "  -- Tables to select from\n",
    "  FROM evanston311\n",
    "       LEFT JOIN indicators\n",
    "       -- Joining condition\n",
    "       ON evanston311.id=indicators.id\n",
    " -- What are you grouping by?\n",
    " GROUP BY priority;"
   ]
  }
 ],
 "metadata": {
  "language_info": {
   "name": "python"
  },
  "orig_nbformat": 4
 },
 "nbformat": 4,
 "nbformat_minor": 2
}
