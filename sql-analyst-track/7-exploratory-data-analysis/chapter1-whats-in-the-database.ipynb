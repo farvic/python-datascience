{
 "cells": [
  {
   "cell_type": "code",
   "execution_count": null,
   "metadata": {
    "vscode": {
     "languageId": "sql"
    }
   },
   "outputs": [],
   "source": [
    "-- Select the count of the number of rows\n",
    "SELECT COUNT(*)\n",
    "  FROM fortune500;"
   ]
  },
  {
   "cell_type": "code",
   "execution_count": null,
   "metadata": {
    "vscode": {
     "languageId": "sql"
    }
   },
   "outputs": [],
   "source": [
    "-- Select the count of ticker, \n",
    "-- subtract from the total number of rows, \n",
    "-- and alias as missing\n",
    "SELECT count(*) - count(ticker) AS missing\n",
    "  FROM fortune500;"
   ]
  },
  {
   "attachments": {},
   "cell_type": "markdown",
   "metadata": {},
   "source": [
    "Join tables"
   ]
  },
  {
   "cell_type": "code",
   "execution_count": null,
   "metadata": {
    "vscode": {
     "languageId": "sql"
    }
   },
   "outputs": [],
   "source": [
    "-- Look at the contents of the company and fortune500 tables.\n",
    "-- ... Find a column that they have in common where the values for\n",
    "-- ... each company are the same in both tables.\n",
    "-- Join the company and fortune500 tables with an INNER JOIN.\n",
    "-- Select only company.name for companies that appear in both tables.\n",
    "\n",
    "SELECT company.name \n",
    "-- Table(s) to select from\n",
    "  FROM company \n",
    "       INNER JOIN fortune500 \n",
    "       ON company.ticker=fortune500.ticker;"
   ]
  },
  {
   "attachments": {},
   "cell_type": "markdown",
   "metadata": {},
   "source": [
    "Read an entity relationship diagram\n",
    "\n",
    "* First, using the tag_type table, count the number of tags with each type.\n",
    "* Order the results to find the most common tag type"
   ]
  },
  {
   "cell_type": "code",
   "execution_count": null,
   "metadata": {
    "vscode": {
     "languageId": "sql"
    }
   },
   "outputs": [],
   "source": [
    "-- Count the number of tags with each type\n",
    "SELECT type, count(*) AS count\n",
    "  FROM tag_type\n",
    " -- To get the count for each type, what do you need to do?\n",
    " GROUP BY type\n",
    " -- Order the results with the most common\n",
    " -- tag types listed first\n",
    " ORDER BY count DESC;"
   ]
  },
  {
   "cell_type": "code",
   "execution_count": null,
   "metadata": {
    "vscode": {
     "languageId": "sql"
    }
   },
   "outputs": [],
   "source": [
    "-- Join the tag_company, company, and tag_type tables, keeping only mutually occurring\n",
    "-- records. Select company.name, tag_type.tag, and tag_type.type for tags with the most\n",
    "-- common type from the previous step.\n",
    "\n",
    "-- Select the 3 columns desired\n",
    "SELECT name, tag_type.tag, tag_type.type\n",
    "  FROM company\n",
    "  \t   -- Join the tag_company and company tables\n",
    "       INNER JOIN tag_company \n",
    "       ON company.id = tag_company.company_id\n",
    "       -- Join the tag_type and company tables\n",
    "       INNER JOIN tag_type\n",
    "       ON tag_company.tag = tag_type.tag\n",
    "  -- Filter to most common type\n",
    "  WHERE type='cloud';"
   ]
  },
  {
   "attachments": {},
   "cell_type": "markdown",
   "metadata": {},
   "source": [
    "Coalesce"
   ]
  },
  {
   "cell_type": "code",
   "execution_count": null,
   "metadata": {
    "vscode": {
     "languageId": "sql"
    }
   },
   "outputs": [],
   "source": [
    "-- Use coalesce\n",
    "SELECT coalesce(industry, sector, 'Unknown') AS industry2,\n",
    "       -- Don't forget to count!\n",
    "       count(*) \n",
    "  FROM fortune500 \n",
    "-- Group by what? (What are you counting by?)\n",
    " GROUP BY industry2\n",
    "-- Order results to see most common first\n",
    " ORDER BY count DESC\n",
    "-- Limit results to get just the one value you want\n",
    " LIMIT 1;"
   ]
  },
  {
   "attachments": {},
   "cell_type": "markdown",
   "metadata": {},
   "source": [
    "Coalesce with a self-join"
   ]
  },
  {
   "cell_type": "code",
   "execution_count": null,
   "metadata": {
    "vscode": {
     "languageId": "sql"
    }
   },
   "outputs": [],
   "source": [
    "-- Use coalesce\n",
    "SELECT coalesce(industry, sector, 'Unknown') AS industry2,\n",
    "       -- Don't forget to count!\n",
    "       count(*) \n",
    "  FROM fortune500 \n",
    "-- Group by what? (What are you counting by?)\n",
    " GROUP BY industry2\n",
    "-- Order results to see most common first\n",
    " ORDER BY count DESC\n",
    "-- Limit results to get just the one value you want\n",
    " LIMIT 1;"
   ]
  },
  {
   "attachments": {},
   "cell_type": "markdown",
   "metadata": {},
   "source": [
    "Effects of casting"
   ]
  },
  {
   "cell_type": "code",
   "execution_count": null,
   "metadata": {
    "vscode": {
     "languageId": "sql"
    }
   },
   "outputs": [],
   "source": [
    "-- Select the original value\n",
    "SELECT profits_change, \n",
    "\t   -- Cast profits_change\n",
    "       CAST(profits_change AS integer) AS profits_change_int\n",
    "  FROM fortune500;"
   ]
  },
  {
   "cell_type": "code",
   "execution_count": null,
   "metadata": {
    "vscode": {
     "languageId": "sql"
    }
   },
   "outputs": [],
   "source": [
    "SELECT '3.2'::numeric,\n",
    "       '-123'::numeric,\n",
    "       '1e3'::numeric,\n",
    "       '1e-3'::numeric,\n",
    "       '02314'::numeric,\n",
    "       '0002'::numeric;"
   ]
  },
  {
   "attachments": {},
   "cell_type": "markdown",
   "metadata": {},
   "source": [
    "Summarize the distribution of numeric values"
   ]
  },
  {
   "cell_type": "code",
   "execution_count": null,
   "metadata": {
    "vscode": {
     "languageId": "sql"
    }
   },
   "outputs": [],
   "source": [
    "-- Select the count of each value of revenues_change\n",
    "SELECT revenues_change, count(*) \n",
    "  FROM fortune500\n",
    " GROUP BY revenues_change \n",
    " -- order by the values of revenues_change\n",
    " ORDER BY revenues_change;"
   ]
  },
  {
   "cell_type": "code",
   "execution_count": null,
   "metadata": {
    "vscode": {
     "languageId": "sql"
    }
   },
   "outputs": [],
   "source": [
    "-- Check which companies had a growth in revenue\n",
    "\n",
    "-- Count rows \n",
    "SELECT count(*)\n",
    "  FROM fortune500\n",
    " -- Where...\n",
    " WHERE revenues_change > 0;"
   ]
  }
 ],
 "metadata": {
  "language_info": {
   "name": "python"
  },
  "orig_nbformat": 4
 },
 "nbformat": 4,
 "nbformat_minor": 2
}
