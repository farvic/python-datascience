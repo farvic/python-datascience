{
 "cells": [
  {
   "attachments": {},
   "cell_type": "markdown",
   "metadata": {},
   "source": [
    "Groups of costumers"
   ]
  },
  {
   "cell_type": "code",
   "execution_count": null,
   "metadata": {
    "vscode": {
     "languageId": "sql"
    }
   },
   "outputs": [],
   "source": [
    "SELECT gender,  -- Extract information of a pivot table of gender and country\n",
    "-- for the number of customers\n",
    "\t   country,\n",
    "\t   COUNT(*)\n",
    "FROM customers\n",
    "GROUP BY CUBE (gender, country)\n",
    "ORDER BY country;"
   ]
  },
  {
   "attachments": {},
   "cell_type": "markdown",
   "metadata": {},
   "source": [
    "* List the number of movies for different genres and the year of release on all aggregation levels by using the CUBE operator."
   ]
  },
  {
   "cell_type": "code",
   "execution_count": null,
   "metadata": {
    "vscode": {
     "languageId": "sql"
    }
   },
   "outputs": [],
   "source": [
    "SELECT year_of_release,\n",
    "       genre,\n",
    "\t   COUNT(*)\n",
    "FROM movies\n",
    "GROUP BY CUBE (year_of_release, genre)\n",
    "ORDER BY year_of_release;"
   ]
  },
  {
   "attachments": {},
   "cell_type": "markdown",
   "metadata": {},
   "source": [
    "Analyzing average ratings\n",
    "\n",
    "Prepare a table for a report about the national preferences of the customers from MovieNow comparing the average rating of movies across countries and genres."
   ]
  },
  {
   "cell_type": "code",
   "execution_count": null,
   "metadata": {
    "vscode": {
     "languageId": "sql"
    }
   },
   "outputs": [],
   "source": [
    "-- Augment the records of movie rentals with information about movies and customers\n",
    "SELECT *\n",
    "FROM renting AS r\n",
    "LEFT JOIN movies AS m\n",
    "ON m.movie_id = r.movie_id\n",
    "LEFT JOIN customers AS c\n",
    "ON r.customer_id = c.customer_id;"
   ]
  },
  {
   "cell_type": "code",
   "execution_count": null,
   "metadata": {
    "vscode": {
     "languageId": "sql"
    }
   },
   "outputs": [],
   "source": [
    "-- Calculate the average rating for each country\n",
    "SELECT \n",
    "\tc.country, \n",
    "\tAVG(r.rating)\n",
    "FROM renting AS r\n",
    "LEFT JOIN movies AS m\n",
    "ON m.movie_id = r.movie_id\n",
    "LEFT JOIN customers AS c\n",
    "ON r.customer_id = c.customer_id\n",
    "GROUP BY c.country;"
   ]
  },
  {
   "cell_type": "code",
   "execution_count": null,
   "metadata": {
    "vscode": {
     "languageId": "sql"
    }
   },
   "outputs": [],
   "source": [
    "SELECT \n",
    "\tc.country, \n",
    "\tm.genre, \n",
    "\tAVG(r.rating) AS avg_rating -- Calculate the average rating \n",
    "FROM renting AS r\n",
    "LEFT JOIN movies AS m\n",
    "ON m.movie_id = r.movie_id\n",
    "LEFT JOIN customers AS c\n",
    "ON r.customer_id = c.customer_id\n",
    "GROUP BY CUBE (c.country, m.genre); -- For all aggregation levels of country and genre"
   ]
  },
  {
   "attachments": {},
   "cell_type": "markdown",
   "metadata": {},
   "source": [
    "Number of customers"
   ]
  },
  {
   "cell_type": "code",
   "execution_count": null,
   "metadata": {
    "vscode": {
     "languageId": "sql"
    }
   },
   "outputs": [],
   "source": [
    "-- Count the total number of customers, the number of customers for each country,\n",
    "-- and the number of female and male customers for each country\n",
    "SELECT country,\n",
    "       gender,\n",
    "\t   COUNT(*)\n",
    "FROM customers\n",
    "GROUP BY ROLLUP (country, gender)\n",
    "ORDER BY country, gender; -- Order the result by country and gender"
   ]
  },
  {
   "attachments": {},
   "cell_type": "markdown",
   "metadata": {},
   "source": [
    "Analyzing preferences of genres across countries"
   ]
  },
  {
   "cell_type": "code",
   "execution_count": null,
   "metadata": {
    "vscode": {
     "languageId": "sql"
    }
   },
   "outputs": [],
   "source": [
    "-- Join the tables\n",
    "SELECT *\n",
    "FROM renting AS r\n",
    "LEFT JOIN movies AS m\n",
    "ON m.movie_id = r.movie_id\n",
    "LEFT JOIN customers AS c\n",
    "ON r.customer_id = c.customer_id;"
   ]
  },
  {
   "cell_type": "code",
   "execution_count": null,
   "metadata": {
    "vscode": {
     "languageId": "sql"
    }
   },
   "outputs": [],
   "source": [
    "SELECT \n",
    "\tc.country, -- Select country\n",
    "\tm.genre, -- Select genre\n",
    "    AVG(r.rating), -- Average ratings\n",
    "\tCOUNT(*) -- Count number of movie rentals\n",
    "FROM renting AS r\n",
    "LEFT JOIN movies AS m\n",
    "ON m.movie_id = r.movie_id\n",
    "LEFT JOIN customers AS c\n",
    "ON r.customer_id = c.customer_id\n",
    "GROUP BY c.country, m.genre -- Aggregate for each country and each genre\n",
    "ORDER BY c.country, m.genre;"
   ]
  },
  {
   "cell_type": "code",
   "execution_count": null,
   "metadata": {
    "vscode": {
     "languageId": "sql"
    }
   },
   "outputs": [],
   "source": [
    "-- Group by each county and genre with OLAP extension\n",
    "SELECT \n",
    "\tc.country, \n",
    "\tm.genre, \n",
    "\tAVG(r.rating) AS avg_rating, \n",
    "\tCOUNT(*) AS num_rating\n",
    "FROM renting AS r\n",
    "LEFT JOIN movies AS m\n",
    "ON m.movie_id = r.movie_id\n",
    "LEFT JOIN customers AS c\n",
    "ON r.customer_id = c.customer_id\n",
    "GROUP BY ROLLUP (c.country, m.genre)\n",
    "ORDER BY c.country, m.genre;"
   ]
  },
  {
   "attachments": {},
   "cell_type": "markdown",
   "metadata": {},
   "source": [
    "Exploring nationality and gender of actors"
   ]
  },
  {
   "cell_type": "code",
   "execution_count": null,
   "metadata": {
    "vscode": {
     "languageId": "sql"
    }
   },
   "outputs": [],
   "source": [
    "SELECT \n",
    "\tnationality, -- Select nationality of the actors\n",
    "    gender, -- Select gender of the actors\n",
    "    COUNT(*) -- Count the number of actors\n",
    "FROM actors\n",
    "-- Use the correct GROUPING SETS operation\n",
    "GROUP BY GROUPING SETS ((nationality), (gender), ());"
   ]
  },
  {
   "attachments": {},
   "cell_type": "markdown",
   "metadata": {},
   "source": [
    "Exploring rating by country and gender"
   ]
  },
  {
   "cell_type": "code",
   "execution_count": null,
   "metadata": {
    "vscode": {
     "languageId": "sql"
    }
   },
   "outputs": [],
   "source": [
    "SELECT \n",
    "\tc.country, -- Select country, gender and rating\n",
    "\tc.gender,\n",
    "\tr.rating\n",
    "FROM renting AS r\n",
    "LEFT JOIN customers AS c -- Use the correct join\n",
    "ON r.customer_id = c.customer_id;"
   ]
  },
  {
   "cell_type": "code",
   "execution_count": null,
   "metadata": {
    "vscode": {
     "languageId": "sql"
    }
   },
   "outputs": [],
   "source": [
    "-- Use GROUP BY to calculate the average rating over country and gender.\n",
    "-- Order the table by country and gender.\n",
    "\n",
    "SELECT \n",
    "\tc.country, \n",
    "    c.gender,\n",
    "\tAVG(r.rating) -- Calculate average rating\n",
    "FROM renting AS r\n",
    "LEFT JOIN customers AS c\n",
    "ON r.customer_id = c.customer_id\n",
    "GROUP BY country, gender  -- Order and group by country and gender\n",
    "ORDER BY country, gender;"
   ]
  },
  {
   "cell_type": "code",
   "execution_count": null,
   "metadata": {
    "vscode": {
     "languageId": "sql"
    }
   },
   "outputs": [],
   "source": [
    "-- Now, use GROUPING SETS to get the same result, i.e.\n",
    "-- the average rating over country and gender.\n",
    "\n",
    "SELECT \n",
    "\tc.country, \n",
    "    c.gender,\n",
    "\tAVG(r.rating)\n",
    "FROM renting AS r\n",
    "LEFT JOIN customers AS c\n",
    "ON r.customer_id = c.customer_id\n",
    "GROUP BY GROUPING SETS ((country, gender)); -- Group by country and gender with GROUPING SETS"
   ]
  },
  {
   "cell_type": "code",
   "execution_count": null,
   "metadata": {
    "vscode": {
     "languageId": "sql"
    }
   },
   "outputs": [],
   "source": [
    "SELECT \n",
    "\tc.country, \n",
    "    c.gender,\n",
    "\tAVG(r.rating)\n",
    "FROM renting AS r\n",
    "LEFT JOIN customers AS c\n",
    "ON r.customer_id = c.customer_id\n",
    "-- Report all info from a Pivot table for country and gender\n",
    "GROUP BY GROUPING SETS ((country, gender), (country), (gender), ());"
   ]
  },
  {
   "attachments": {},
   "cell_type": "markdown",
   "metadata": {},
   "source": [
    "Customer preference for genres"
   ]
  },
  {
   "cell_type": "code",
   "execution_count": null,
   "metadata": {
    "vscode": {
     "languageId": "sql"
    }
   },
   "outputs": [],
   "source": [
    "SELECT *\n",
    "FROM renting AS r\n",
    "LEFT JOIN movies AS m -- Augment the table with information about movies\n",
    "ON m.movie_id = r.movie_id;"
   ]
  },
  {
   "cell_type": "code",
   "execution_count": null,
   "metadata": {
    "vscode": {
     "languageId": "sql"
    }
   },
   "outputs": [],
   "source": [
    "SELECT *\n",
    "FROM renting AS r\n",
    "LEFT JOIN movies AS m\n",
    "ON m.movie_id = r.movie_id\n",
    "WHERE r.movie_id IN ( -- Select records of movies with at least 4 ratings\n",
    "\tSELECT movie_id\n",
    "\tFROM renting\n",
    "\tGROUP BY movie_id\n",
    "\tHAVING COUNT(rating) >= 4)\n",
    "AND r.date_renting >= '2018-04-01'; -- Select records of movie rentals since 2018-04-01"
   ]
  },
  {
   "cell_type": "code",
   "execution_count": null,
   "metadata": {
    "vscode": {
     "languageId": "sql"
    }
   },
   "outputs": [],
   "source": [
    "SELECT m.genre, -- For each genre, calculate:\n",
    "\t   AVG(r.rating) AS avg_rating, -- The average rating and use the alias avg_rating\n",
    "\t   COUNT(r.rating) AS n_rating, -- The number of ratings and use the alias n_rating\n",
    "\t   COUNT(*) AS n_rentals,     -- The number of movie rentals and use the alias n_rentals\n",
    "        -- The number of distinct movies and use the alias n_movies\n",
    "\t   COUNT(DISTINCT m.movie_id) AS n_movies\n",
    "FROM renting AS r\n",
    "LEFT JOIN movies AS m\n",
    "ON m.movie_id = r.movie_id\n",
    "WHERE r.movie_id IN ( \n",
    "\tSELECT movie_id\n",
    "\tFROM renting\n",
    "\tGROUP BY movie_id\n",
    "\tHAVING COUNT(rating) >= 3)\n",
    "AND r.date_renting >= '2018-01-01'\n",
    "GROUP BY m.genre;"
   ]
  },
  {
   "cell_type": "code",
   "execution_count": null,
   "metadata": {
    "vscode": {
     "languageId": "sql"
    }
   },
   "outputs": [],
   "source": [
    "SELECT genre,\n",
    "\t   AVG(rating) AS avg_rating,\n",
    "\t   COUNT(rating) AS n_rating,\n",
    "       COUNT(*) AS n_rentals,     \n",
    "\t   COUNT(DISTINCT m.movie_id) AS n_movies \n",
    "FROM renting AS r\n",
    "LEFT JOIN movies AS m\n",
    "ON m.movie_id = r.movie_id\n",
    "WHERE r.movie_id IN ( \n",
    "\tSELECT movie_id\n",
    "\tFROM renting\n",
    "\tGROUP BY movie_id\n",
    "\tHAVING COUNT(rating) >= 3)\n",
    "AND r.date_renting >= '2018-01-01'\n",
    "GROUP BY genre\n",
    "ORDER BY avg_rating DESC; -- Order the table by decreasing average rating"
   ]
  },
  {
   "attachments": {},
   "cell_type": "markdown",
   "metadata": {},
   "source": [
    "Customer preference for actors"
   ]
  },
  {
   "cell_type": "code",
   "execution_count": null,
   "metadata": {
    "vscode": {
     "languageId": "sql"
    }
   },
   "outputs": [],
   "source": [
    "-- Join the tables\n",
    "SELECT *\n",
    "FROM renting AS r\n",
    "LEFT JOIN actsin AS ai\n",
    "ON ai.movie_id = r.movie_id\n",
    "LEFT JOIN actors AS a\n",
    "ON ai.actor_id = a.actor_id;"
   ]
  },
  {
   "cell_type": "code",
   "execution_count": null,
   "metadata": {
    "vscode": {
     "languageId": "sql"
    }
   },
   "outputs": [],
   "source": [
    "SELECT a.nationality,\n",
    "       a.gender,\n",
    "\t   AVG(r.rating) AS avg_rating, -- The average rating\n",
    "\t   COUNT(r.rating) AS n_rating, -- The number of ratings\n",
    "\t   COUNT(*) AS n_rentals, -- The number of movie rentals\n",
    "\t   COUNT(DISTINCT a.actor_id) AS n_actors -- The number of actors\n",
    "FROM renting AS r\n",
    "LEFT JOIN actsin AS ai\n",
    "ON ai.movie_id = r.movie_id\n",
    "LEFT JOIN actors AS a\n",
    "ON ai.actor_id = a.actor_id\n",
    "WHERE r.movie_id IN ( \n",
    "\tSELECT movie_id\n",
    "\tFROM renting\n",
    "\tGROUP BY movie_id\n",
    "\tHAVING COUNT(rating) >=4 )\n",
    "AND r.date_renting >= '2018-04-01'\n",
    "GROUP BY a.nationality, a.gender;"
   ]
  },
  {
   "cell_type": "code",
   "execution_count": null,
   "metadata": {
    "vscode": {
     "languageId": "sql"
    }
   },
   "outputs": [],
   "source": [
    "SELECT a.nationality,\n",
    "       a.gender,\n",
    "\t   AVG(r.rating) AS avg_rating,\n",
    "\t   COUNT(r.rating) AS n_rating,\n",
    "\t   COUNT(*) AS n_rentals,\n",
    "\t   COUNT(DISTINCT a.actor_id) AS n_actors\n",
    "FROM renting AS r\n",
    "LEFT JOIN actsin AS ai\n",
    "ON ai.movie_id = r.movie_id\n",
    "LEFT JOIN actors AS a\n",
    "ON ai.actor_id = a.actor_id\n",
    "WHERE r.movie_id IN ( \n",
    "\tSELECT movie_id\n",
    "\tFROM renting\n",
    "\tGROUP BY movie_id\n",
    "\tHAVING COUNT(rating) >= 4)\n",
    "AND r.date_renting >= '2018-04-01'\n",
    "-- Provide results for all aggregation levels represented in a pivot table\n",
    "GROUP BY CUBE (a.nationality, a.gender);"
   ]
  }
 ],
 "metadata": {
  "language_info": {
   "name": "python"
  },
  "orig_nbformat": 4
 },
 "nbformat": 4,
 "nbformat_minor": 2
}
