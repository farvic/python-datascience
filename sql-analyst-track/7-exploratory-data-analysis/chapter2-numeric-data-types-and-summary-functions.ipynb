{
 "cells": [
  {
   "attachments": {},
   "cell_type": "markdown",
   "metadata": {},
   "source": [
    "Division"
   ]
  },
  {
   "cell_type": "code",
   "execution_count": null,
   "metadata": {
    "vscode": {
     "languageId": "sql"
    }
   },
   "outputs": [],
   "source": [
    "-- Compute revenue per employee by dividing revenues by employees; use casting to\n",
    "-- produce a numeric result.\n",
    "-- Take the average of revenue per employee with avg(); alias this as avg_rev_employee.\n",
    "-- Group by sector.\n",
    "-- Order by the average revenue per employee.\n",
    "\n",
    "-- Select average revenue per employee by sector\n",
    "SELECT sector, \n",
    "       avg(revenues/employees::numeric) AS avg_rev_employee\n",
    "  FROM fortune500\n",
    " GROUP BY sector\n",
    " -- Use the alias to order the results\n",
    " ORDER BY avg_rev_employee;"
   ]
  },
  {
   "cell_type": "code",
   "execution_count": null,
   "metadata": {
    "vscode": {
     "languageId": "sql"
    }
   },
   "outputs": [],
   "source": [
    "-- Exclude rows where question_count is 0 to avoid a divide by zero error.\n",
    "-- Limit the result to 10 rows.\n",
    "\n",
    "-- Divide unanswered_count by question_count\n",
    "SELECT unanswered_count/question_count::numeric AS computed_pct, \n",
    "       -- What are you comparing the above quantity to?\n",
    "       unanswered_pct\n",
    "  FROM stackoverflow\n",
    " -- Select rows where question_count is not 0\n",
    " WHERE question_count != 0\n",
    " LIMIT 10;"
   ]
  },
  {
   "cell_type": "code",
   "execution_count": null,
   "metadata": {
    "vscode": {
     "languageId": "sql"
    }
   },
   "outputs": [],
   "source": [
    "-- Select min, avg, max, and stddev of fortune500 profits\n",
    "SELECT min(profits),\n",
    "       avg(profits),\n",
    "       max(profits),\n",
    "       stddev(profits)\n",
    "  FROM fortune500;"
   ]
  },
  {
   "cell_type": "code",
   "execution_count": null,
   "metadata": {
    "vscode": {
     "languageId": "sql"
    }
   },
   "outputs": [],
   "source": [
    "-- Select sector and summary measures of fortune500 profits\n",
    "SELECT sector,\n",
    "       min(profits),\n",
    "       avg(profits),\n",
    "       max(profits),\n",
    "       stddev(profits)\n",
    "  FROM fortune500\n",
    " -- What to group by?\n",
    " GROUP BY sector\n",
    " -- Order by the average profits\n",
    " ORDER BY avg;"
   ]
  },
  {
   "attachments": {},
   "cell_type": "markdown",
   "metadata": {},
   "source": [
    "Summarize group statistics\n",
    "\n",
    "* Start by writing a subquery to compute the max() of question_count per tag; alias the subquery result as maxval.\n",
    "* Then compute the standard deviation of maxval with stddev().\n",
    "* Compute the min(), max(), and avg() of maxval too."
   ]
  },
  {
   "cell_type": "code",
   "execution_count": null,
   "metadata": {
    "vscode": {
     "languageId": "sql"
    }
   },
   "outputs": [],
   "source": [
    "-- Compute standard deviation of maximum values\n",
    "SELECT stddev(maxval),\n",
    "       -- min\n",
    "       min(maxval),\n",
    "       -- max\n",
    "       max(maxval),\n",
    "       -- avg\n",
    "       avg(maxval)\n",
    "  -- Subquery to compute max of question_count by tag\n",
    "  FROM (SELECT max(question_count) AS maxval\n",
    "          FROM stackoverflow\n",
    "         -- Compute max by...\n",
    "         GROUP BY tag) AS max_results; -- alias for subquery"
   ]
  },
  {
   "attachments": {},
   "cell_type": "markdown",
   "metadata": {},
   "source": [
    "Truncate"
   ]
  },
  {
   "cell_type": "code",
   "execution_count": null,
   "metadata": {
    "vscode": {
     "languageId": "sql"
    }
   },
   "outputs": [],
   "source": [
    "-- Use trunc() to truncate employees to the 100,000s (5 zeros).\n",
    "-- Count the number of observations with each truncated value.\n",
    "\n",
    "-- Truncate employees\n",
    "SELECT trunc(employees, -5) AS employee_bin,\n",
    "       -- Count number of companies with each truncated value\n",
    "       count(*)\n",
    "  FROM fortune500\n",
    " -- Use alias to group\n",
    " GROUP BY employee_bin\n",
    " -- Use alias to order\n",
    " ORDER BY employee_bin;"
   ]
  },
  {
   "cell_type": "code",
   "execution_count": null,
   "metadata": {
    "vscode": {
     "languageId": "sql"
    }
   },
   "outputs": [],
   "source": [
    "-- Repeat step 1 for companies with < 100,000 employees (most common).\n",
    "-- This time, truncate employees to the 10,000s place.\n",
    "\n",
    "-- Truncate employees\n",
    "SELECT trunc(employees, -4) AS employee_bin,\n",
    "       -- Count number of companies with each truncated value\n",
    "       count(*)\n",
    "  FROM fortune500\n",
    " -- Limit to which companies?\n",
    " WHERE employees < 100000\n",
    " -- Use alias to group\n",
    " GROUP BY employee_bin\n",
    " -- Use alias to order\n",
    " ORDER BY employee_bin;"
   ]
  },
  {
   "attachments": {},
   "cell_type": "markdown",
   "metadata": {},
   "source": [
    "Generate series"
   ]
  },
  {
   "cell_type": "code",
   "execution_count": null,
   "metadata": {
    "vscode": {
     "languageId": "sql"
    }
   },
   "outputs": [],
   "source": [
    "-- ! Step 1:\n",
    "-- Start by selecting the minimum and maximum of the question_count column for the\n",
    "-- tag 'dropbox' so you know the range of values to cover with the bins.\n",
    "\n",
    "-- Select the min and max of question_count\n",
    "SELECT min(question_count), \n",
    "       max(question_count)\n",
    "  -- From what table?\n",
    "  FROM stackoverflow\n",
    " -- For tag dropbox\n",
    " WHERE tag='dropbox';"
   ]
  },
  {
   "cell_type": "code",
   "execution_count": null,
   "metadata": {
    "vscode": {
     "languageId": "sql"
    }
   },
   "outputs": [],
   "source": [
    "-- ! Step 2:\n",
    "-- Next, use generate_series() to create bins of size 50 from 2200 to 3100.\n",
    "\n",
    "-- To do this, you need an upper and lower bound to define a bin.\n",
    "\n",
    "-- This will require you to modify the stopping value of the lower bound and the\n",
    "-- starting value of the upper bound by the bin width.\n",
    "\n",
    "-- Create lower and upper bounds of bins\n",
    "SELECT generate_series(2200, 3050, 50) AS lower,\n",
    "       generate_series(2250, 3100, 50) AS upper;"
   ]
  },
  {
   "cell_type": "code",
   "execution_count": null,
   "metadata": {
    "vscode": {
     "languageId": "sql"
    }
   },
   "outputs": [],
   "source": [
    "-- ! Step 3:\n",
    "\n",
    "-- Bins created in Step 2\n",
    "WITH bins AS (\n",
    "      SELECT generate_series(2200, 3050, 50) AS lower,\n",
    "             generate_series(2250, 3100, 50) AS upper),\n",
    "     -- Subset stackoverflow to just tag dropbox (Step 1)\n",
    "     dropbox AS (\n",
    "      SELECT question_count \n",
    "        FROM stackoverflow\n",
    "       WHERE tag='dropbox') \n",
    "-- Select columns for result\n",
    "-- What column are you counting to summarize?\n",
    "SELECT lower, upper, count(question_count) \n",
    "  FROM bins  -- Created above\n",
    "       -- Join to dropbox (created above), \n",
    "       -- keeping all rows from the bins table in the join\n",
    "       LEFT JOIN dropbox\n",
    "       -- Compare question_count to lower and upper\n",
    "         ON question_count >= lower \n",
    "        AND question_count < upper\n",
    " -- Group by lower and upper to count values in each bin\n",
    " GROUP BY lower, upper\n",
    " -- Order by lower to put bins in order\n",
    " ORDER BY lower;"
   ]
  },
  {
   "attachments": {},
   "cell_type": "markdown",
   "metadata": {},
   "source": [
    "Correlation"
   ]
  },
  {
   "cell_type": "code",
   "execution_count": null,
   "metadata": {
    "vscode": {
     "languageId": "sql"
    }
   },
   "outputs": [],
   "source": [
    "-- Correlation between revenues and profit\n",
    "SELECT corr(revenues, profits) AS rev_profits,\n",
    "\t   -- Correlation between revenues and assets\n",
    "       corr(revenues, assets) AS rev_assets,\n",
    "       -- Correlation between revenues and equity\n",
    "       corr(revenues, equity) AS rev_equity \n",
    "  FROM fortune500;"
   ]
  },
  {
   "cell_type": "code",
   "execution_count": null,
   "metadata": {
    "vscode": {
     "languageId": "sql"
    }
   },
   "outputs": [],
   "source": [
    "-- What groups are you computing statistics by?\n",
    "SELECT sector, \n",
    "       -- Select the mean of assets with the avg function\n",
    "       avg(assets) AS mean,\n",
    "       -- Select the median\n",
    "       percentile_disc(0.5) WITHIN GROUP (ORDER BY assets) AS median\n",
    "  FROM fortune500\n",
    " -- Computing statistics for each what?\n",
    " GROUP BY sector\n",
    " -- Order results by a value of interest\n",
    " ORDER BY mean;"
   ]
  },
  {
   "attachments": {},
   "cell_type": "markdown",
   "metadata": {},
   "source": [
    "Create a temp table\n",
    "\n",
    "* Create a temporary table called profit80 containing the sector and 80th percentile of profits for each sector.\n",
    "* Alias the percentile column as pct80."
   ]
  },
  {
   "cell_type": "code",
   "execution_count": null,
   "metadata": {
    "vscode": {
     "languageId": "sql"
    }
   },
   "outputs": [],
   "source": [
    "-- To clear table if it already exists;\n",
    "-- fill in name of temp table\n",
    "DROP TABLE IF EXISTS profit80;\n",
    "\n",
    "-- Create the temporary table\n",
    "CREATE TEMP TABLE profit80 AS\n",
    "  -- Select the two columns you need; alias as needed\n",
    "  SELECT sector, \n",
    "         percentile_disc(0.8) WITHIN GROUP (ORDER BY profits) AS pct80\n",
    "    -- What table are you getting the data from?\n",
    "    FROM fortune500 \n",
    "   -- What do you need to group by?\n",
    "   GROUP BY sector;\n",
    "   \n",
    "-- See what you created: select all columns and rows \n",
    "-- from the table you created\n",
    "SELECT * \n",
    "  FROM profit80;"
   ]
  },
  {
   "attachments": {},
   "cell_type": "markdown",
   "metadata": {},
   "source": [
    "* Using the profit80 table you created in step 1, select companies that have profits greater than pct80.\n",
    "* Select the title, sector, profits from fortune500, as well as the ratio of the company's profits to the 80th percentile profit."
   ]
  },
  {
   "cell_type": "code",
   "execution_count": null,
   "metadata": {
    "vscode": {
     "languageId": "sql"
    }
   },
   "outputs": [],
   "source": [
    "-- Code from previous step\n",
    "DROP TABLE IF EXISTS profit80;\n",
    "\n",
    "CREATE TEMP TABLE profit80 AS\n",
    "  SELECT sector, \n",
    "         percentile_disc(0.8) WITHIN GROUP (ORDER BY profits) AS pct80\n",
    "    FROM fortune500 \n",
    "   GROUP BY sector;\n",
    "\n",
    "-- Select columns, aliasing as needed\n",
    "SELECT title, fortune500.sector, \n",
    "       profits, profits/pct80 AS ratio\n",
    "-- What tables do you need to join?  \n",
    "  FROM fortune500 \n",
    "       LEFT JOIN profit80\n",
    "-- How are the tables joined?\n",
    "       ON fortune500.sector=profit80.sector\n",
    "-- What rows do you want to select?\n",
    " WHERE profits > pct80;"
   ]
  },
  {
   "attachments": {},
   "cell_type": "markdown",
   "metadata": {},
   "source": [
    "Create a temp table to simplify a query\n",
    "\n",
    "* First, create a temporary table called startdates with each tag and the min() date for the tag in stackoverflow."
   ]
  },
  {
   "cell_type": "code",
   "execution_count": null,
   "metadata": {
    "vscode": {
     "languageId": "sql"
    }
   },
   "outputs": [],
   "source": [
    "-- To clear table if it already exists\n",
    "DROP TABLE IF EXISTS startdates;\n",
    "\n",
    "-- Create temp table syntax\n",
    "CREATE TEMP TABLE startdates AS\n",
    "-- Compute the minimum date for each what?\n",
    "SELECT tag,\n",
    "       min(date) AS mindate\n",
    "  FROM stackoverflow\n",
    " -- What do you need to compute the min date for each tag?\n",
    " GROUP BY tag;\n",
    " \n",
    " -- Look at the table you created\n",
    " SELECT * \n",
    "   FROM startdates;"
   ]
  },
  {
   "attachments": {},
   "cell_type": "markdown",
   "metadata": {},
   "source": [
    "* Join startdates to stackoverflow twice using different table aliases.\n",
    "* For each tag, select mindate, question_count on the mindate, and question_count on 2018-09-25 (the max date).\n",
    "* Compute the change in question_count over time."
   ]
  },
  {
   "cell_type": "code",
   "execution_count": null,
   "metadata": {
    "vscode": {
     "languageId": "sql"
    }
   },
   "outputs": [],
   "source": [
    "-- To clear table if it already exists\n",
    "DROP TABLE IF EXISTS startdates;\n",
    "\n",
    "CREATE TEMP TABLE startdates AS\n",
    "SELECT tag, min(date) AS mindate\n",
    "  FROM stackoverflow\n",
    " GROUP BY tag;\n",
    " \n",
    "-- Select tag (Remember the table name!) and mindate\n",
    "SELECT startdates.tag, \n",
    "       mindate, \n",
    "       -- Select question count on the min and max days\n",
    "\t   so_min.question_count AS min_date_question_count,\n",
    "       so_max.question_count AS max_date_question_count,\n",
    "       -- Compute the change in question_count (max- min)\n",
    "       so_max.question_count - so_min.question_count AS change\n",
    "  FROM startdates\n",
    "       -- Join startdates to stackoverflow with alias so_min\n",
    "       INNER JOIN stackoverflow AS so_min\n",
    "          -- What needs to match between tables?\n",
    "          ON startdates.tag = so_min.tag\n",
    "         AND startdates.mindate = so_min.date\n",
    "       -- Join to stackoverflow again with alias so_max\n",
    "       INNER JOIN stackoverflow AS so_max\n",
    "          -- Again, what needs to match between tables?\n",
    "          ON startdates.tag = so_max.tag\n",
    "         AND so_max.date = '2018-09-25';"
   ]
  },
  {
   "attachments": {},
   "cell_type": "markdown",
   "metadata": {},
   "source": [
    "Insert into a temp table"
   ]
  },
  {
   "cell_type": "code",
   "execution_count": null,
   "metadata": {
    "vscode": {
     "languageId": "sql"
    }
   },
   "outputs": [],
   "source": [
    "DROP TABLE IF EXISTS correlations;\n",
    "\n",
    "-- Create temp table \n",
    "CREATE TEMP TABLE correlations AS\n",
    "-- Select each correlation\n",
    "SELECT 'profits'::varchar AS measure,\n",
    "       -- Compute correlations\n",
    "       corr(profits, profits) AS profits,\n",
    "       corr(profits, profits_change) AS profits_change,\n",
    "       corr(profits, revenues_change) AS revenues_change\n",
    "  FROM fortune500;"
   ]
  },
  {
   "cell_type": "code",
   "execution_count": null,
   "metadata": {
    "vscode": {
     "languageId": "sql"
    }
   },
   "outputs": [],
   "source": [
    "DROP TABLE IF EXISTS correlations;\n",
    "\n",
    "CREATE TEMP TABLE correlations AS\n",
    "SELECT 'profits'::varchar AS measure,\n",
    "       corr(profits, profits) AS profits,\n",
    "       corr(profits, profits_change) AS profits_change,\n",
    "       corr(profits, revenues_change) AS revenues_change\n",
    "  FROM fortune500;\n",
    "\n",
    "-- Add a row for profits_change\n",
    "-- Insert into what table?\n",
    "INSERT INTO correlations\n",
    "-- Follow the pattern of the select statement above\n",
    "-- Using profits_change instead of profits\n",
    "SELECT 'profits_change'::varchar AS measure,\n",
    "       corr(profits_change, profits) AS profits,\n",
    "       corr(profits_change, profits_change) AS profits_change,\n",
    "       corr(profits_change, revenues_change) AS revenues_change\n",
    "  FROM fortune500;\n",
    "\n",
    "-- Repeat the above, but for revenues_change\n",
    "INSERT INTO correlations\n",
    "SELECT 'revenues_change'::varchar AS measure,\n",
    "       corr(revenues_change, profits) AS profits,\n",
    "       corr(revenues_change, profits_change) AS profits_change,\n",
    "       corr(revenues_change, revenues_change) AS revenues_change\n",
    "  FROM fortune500;"
   ]
  },
  {
   "attachments": {},
   "cell_type": "markdown",
   "metadata": {},
   "source": [
    "* Select all rows and columns from the correlations table to view the correlation matrix.\n",
    "\n",
    "* First, you will need to round each correlation to 2 decimal places.\n",
    "* The output of corr() is of type double precision, so you will need to also cast columns to numeric."
   ]
  },
  {
   "cell_type": "code",
   "execution_count": null,
   "metadata": {
    "vscode": {
     "languageId": "sql"
    }
   },
   "outputs": [],
   "source": [
    "DROP TABLE IF EXISTS correlations;\n",
    "\n",
    "CREATE TEMP TABLE correlations AS\n",
    "SELECT 'profits'::varchar AS measure,\n",
    "       corr(profits, profits) AS profits,\n",
    "       corr(profits, profits_change) AS profits_change,\n",
    "       corr(profits, revenues_change) AS revenues_change\n",
    "  FROM fortune500;\n",
    "\n",
    "INSERT INTO correlations\n",
    "SELECT 'profits_change'::varchar AS measure,\n",
    "       corr(profits_change, profits) AS profits,\n",
    "       corr(profits_change, profits_change) AS profits_change,\n",
    "       corr(profits_change, revenues_change) AS revenues_change\n",
    "  FROM fortune500;\n",
    "\n",
    "INSERT INTO correlations\n",
    "SELECT 'revenues_change'::varchar AS measure,\n",
    "       corr(revenues_change, profits) AS profits,\n",
    "       corr(revenues_change, profits_change) AS profits_change,\n",
    "       corr(revenues_change, revenues_change) AS revenues_change\n",
    "  FROM fortune500;\n",
    "\n",
    "-- Select each column, rounding the correlations\n",
    "SELECT measure, \n",
    "       round(profits::numeric, 2) AS profits,\n",
    "       round(profits_change::numeric, 2) AS profits_change,\n",
    "       round(revenues_change::numeric, 2) AS revenues_change\n",
    "  FROM correlations;"
   ]
  }
 ],
 "metadata": {
  "language_info": {
   "name": "python"
  },
  "orig_nbformat": 4
 },
 "nbformat": 4,
 "nbformat_minor": 2
}
