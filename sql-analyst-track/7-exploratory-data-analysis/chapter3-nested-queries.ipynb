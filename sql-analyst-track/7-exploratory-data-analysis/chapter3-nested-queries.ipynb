{
 "cells": [
  {
   "attachments": {},
   "cell_type": "markdown",
   "metadata": {},
   "source": [
    "Often rented movies"
   ]
  },
  {
   "cell_type": "code",
   "execution_count": null,
   "metadata": {
    "vscode": {
     "languageId": "sql"
    }
   },
   "outputs": [],
   "source": [
    "SELECT movie_id -- Select movie IDs with more than 5 views\n",
    "FROM renting\n",
    "GROUP BY movie_id\n",
    "HAVING COUNT(*) > 5"
   ]
  },
  {
   "cell_type": "code",
   "execution_count": null,
   "metadata": {
    "vscode": {
     "languageId": "sql"
    }
   },
   "outputs": [],
   "source": [
    "SELECT *\n",
    "FROM movies\n",
    "WHERE movie_id IN  -- Select movie IDs from the inner query\n",
    "\t(SELECT movie_id\n",
    "\tFROM renting\n",
    "\tGROUP BY movie_id\n",
    "\tHAVING COUNT(*) > 5)"
   ]
  },
  {
   "cell_type": "code",
   "execution_count": null,
   "metadata": {
    "vscode": {
     "languageId": "sql"
    }
   },
   "outputs": [],
   "source": [
    "SELECT *\n",
    "FROM customers\n",
    "WHERE customer_id IN -- Select all customers with more than 10 movie rentals\n",
    "\t(SELECT customer_id\n",
    "\tFROM renting\n",
    "\tGROUP BY customer_id\n",
    "\tHAVING COUNT(*) > 10);"
   ]
  },
  {
   "cell_type": "code",
   "execution_count": null,
   "metadata": {
    "vscode": {
     "languageId": "sql"
    }
   },
   "outputs": [],
   "source": [
    "SELECT title -- Report the movie titles of all movies with average rating higher than\n",
    "-- the total average\n",
    "FROM movies\n",
    "WHERE movie_id IN\n",
    "\t(SELECT movie_id\n",
    "\t FROM renting\n",
    "     GROUP BY movie_id\n",
    "     HAVING AVG(rating) > \n",
    "\t\t(SELECT AVG(rating)\n",
    "\t\t FROM renting));"
   ]
  },
  {
   "attachments": {},
   "cell_type": "markdown",
   "metadata": {},
   "source": [
    "Analyzing costumer behavior"
   ]
  },
  {
   "cell_type": "code",
   "execution_count": null,
   "metadata": {
    "vscode": {
     "languageId": "sql"
    }
   },
   "outputs": [],
   "source": [
    "-- Select customers with less than 5 movie rentals\n",
    "SELECT *\n",
    "FROM customers as c\n",
    "WHERE 5 > \n",
    "\t(SELECT count(*)\n",
    "\tFROM renting as r\n",
    "\tWHERE r.customer_id=c.customer_id);"
   ]
  },
  {
   "cell_type": "code",
   "execution_count": null,
   "metadata": {
    "vscode": {
     "languageId": "sql"
    }
   },
   "outputs": [],
   "source": [
    "SELECT *\n",
    "FROM customers AS c\n",
    "WHERE 4 >  -- Select all customers with a minimum rating smaller than 4\n",
    "\t(SELECT MIN(rating)\n",
    "\tFROM renting AS r\n",
    "\tWHERE r.customer_id = c.customer_id);"
   ]
  },
  {
   "attachments": {},
   "cell_type": "markdown",
   "metadata": {},
   "source": [
    "Movies and ratings with correlated queries"
   ]
  },
  {
   "cell_type": "code",
   "execution_count": null,
   "metadata": {
    "vscode": {
     "languageId": "sql"
    }
   },
   "outputs": [],
   "source": [
    "SELECT *\n",
    "FROM movies AS m\n",
    "WHERE 8 <  -- Select all movies with an average rating higher than 8\n",
    "\t(SELECT AVG(rating)\n",
    "\tFROM renting AS r\n",
    "\tWHERE r.movie_id = m.movie_id);"
   ]
  },
  {
   "attachments": {},
   "cell_type": "markdown",
   "metadata": {},
   "source": [
    "Costumers with at least one rating"
   ]
  },
  {
   "cell_type": "code",
   "execution_count": null,
   "metadata": {
    "vscode": {
     "languageId": "sql"
    }
   },
   "outputs": [],
   "source": [
    "SELECT *\n",
    "FROM renting\n",
    "WHERE rating IS NOT NULL -- Exclude those with null ratings\n",
    "AND customer_id = 115;"
   ]
  },
  {
   "cell_type": "code",
   "execution_count": null,
   "metadata": {
    "vscode": {
     "languageId": "sql"
    }
   },
   "outputs": [],
   "source": [
    "SELECT *\n",
    "FROM customers AS c -- Select all customers with at least one rating\n",
    "WHERE EXISTS\n",
    "\t(SELECT *\n",
    "\tFROM renting AS r\n",
    "\tWHERE rating IS NOT NULL \n",
    "\tAND r.customer_id = c.customer_id);"
   ]
  },
  {
   "attachments": {},
   "cell_type": "markdown",
   "metadata": {},
   "source": [
    "Actors in comedies"
   ]
  },
  {
   "cell_type": "code",
   "execution_count": null,
   "metadata": {
    "vscode": {
     "languageId": "sql"
    }
   },
   "outputs": [],
   "source": [
    "SELECT *  -- Select the records of all actors who play in a Comedy\n",
    "FROM actsin AS ai\n",
    "LEFT JOIN movies AS m\n",
    "ON ai.movie_id = m.movie_id\n",
    "WHERE m.genre = 'Comedy';"
   ]
  },
  {
   "cell_type": "code",
   "execution_count": null,
   "metadata": {
    "vscode": {
     "languageId": "sql"
    }
   },
   "outputs": [],
   "source": [
    "SELECT *\n",
    "FROM actsin AS ai\n",
    "LEFT JOIN movies AS m\n",
    "ON m.movie_id = ai.movie_id\n",
    "WHERE m.genre = 'Comedy'\n",
    "AND ai.actor_id = 1; -- Select only the actor with ID 1"
   ]
  },
  {
   "cell_type": "code",
   "execution_count": null,
   "metadata": {
    "vscode": {
     "languageId": "sql"
    }
   },
   "outputs": [],
   "source": [
    "SELECT a.nationality,  -- Report the nationality and number of actors for each nationality\n",
    "COUNT(*) \n",
    "FROM actors AS a\n",
    "WHERE EXISTS\n",
    "\t(SELECT ai.actor_id\n",
    "\t FROM actsin AS ai\n",
    "\t LEFT JOIN movies AS m\n",
    "\t ON m.movie_id = ai.movie_id\n",
    "\t WHERE m.genre = 'Comedy'\n",
    "\t AND ai.actor_id = a.actor_id)\n",
    "GROUP BY a.nationality;"
   ]
  },
  {
   "attachments": {},
   "cell_type": "markdown",
   "metadata": {},
   "source": [
    "Young actors not coming from the USA"
   ]
  },
  {
   "cell_type": "code",
   "execution_count": null,
   "metadata": {
    "vscode": {
     "languageId": "sql"
    }
   },
   "outputs": [],
   "source": [
    "SELECT name,   -- Report the name, nationality and the year of birth\n",
    "       nationality, \n",
    "       year_of_birth\n",
    "FROM actors\n",
    "WHERE nationality <> 'USA'; -- Of all actors who are not from the USA"
   ]
  },
  {
   "cell_type": "code",
   "execution_count": null,
   "metadata": {
    "vscode": {
     "languageId": "sql"
    }
   },
   "outputs": [],
   "source": [
    "SELECT name, \n",
    "       nationality, \n",
    "       year_of_birth\n",
    "FROM actors\n",
    "WHERE year_of_birth > 1990; -- Born after 1990"
   ]
  },
  {
   "cell_type": "code",
   "execution_count": null,
   "metadata": {
    "vscode": {
     "languageId": "sql"
    }
   },
   "outputs": [],
   "source": [
    "SELECT name, \n",
    "       nationality, \n",
    "       year_of_birth\n",
    "FROM actors\n",
    "WHERE nationality <> 'USA'\n",
    "UNION -- Select all actors who are not from the USA and all actors who are born after 1990\n",
    "SELECT name, \n",
    "       nationality, \n",
    "       year_of_birth\n",
    "FROM actors\n",
    "WHERE year_of_birth > 1990;"
   ]
  },
  {
   "cell_type": "code",
   "execution_count": null,
   "metadata": {
    "vscode": {
     "languageId": "sql"
    }
   },
   "outputs": [],
   "source": [
    "SELECT name, \n",
    "       nationality, \n",
    "       year_of_birth\n",
    "FROM actors\n",
    "WHERE nationality <> 'USA'\n",
    "INTERSECT -- Select all actors who are not from the USA and who are also born after 1990\n",
    "SELECT name, \n",
    "       nationality, \n",
    "       year_of_birth\n",
    "FROM actors\n",
    "WHERE year_of_birth > 1990;"
   ]
  },
  {
   "attachments": {},
   "cell_type": "markdown",
   "metadata": {},
   "source": [
    "Dramas with high ratings"
   ]
  },
  {
   "cell_type": "code",
   "execution_count": null,
   "metadata": {
    "vscode": {
     "languageId": "sql"
    }
   },
   "outputs": [],
   "source": [
    "SELECT movie_id -- Select the IDs of all dramas\n",
    "FROM movies\n",
    "WHERE genre = 'Drama';"
   ]
  },
  {
   "cell_type": "code",
   "execution_count": null,
   "metadata": {
    "vscode": {
     "languageId": "sql"
    }
   },
   "outputs": [],
   "source": [
    "SELECT movie_id -- Select the IDs of all movies with average rating higher than 9\n",
    "FROM renting\n",
    "GROUP BY movie_id\n",
    "HAVING AVG(rating) > 9;"
   ]
  },
  {
   "cell_type": "code",
   "execution_count": null,
   "metadata": {
    "vscode": {
     "languageId": "sql"
    }
   },
   "outputs": [],
   "source": [
    "SELECT movie_id\n",
    "FROM movies\n",
    "WHERE genre = 'Drama'\n",
    "INTERSECT  -- Select the IDs of all dramas with average rating higher than 9\n",
    "SELECT movie_id\n",
    "FROM renting\n",
    "GROUP BY movie_id\n",
    "HAVING AVG(rating)>9;"
   ]
  },
  {
   "cell_type": "code",
   "execution_count": null,
   "metadata": {
    "vscode": {
     "languageId": "sql"
    }
   },
   "outputs": [],
   "source": [
    "SELECT *\n",
    "FROM movies\n",
    "WHERE movie_id IN -- Select all movies of genre drama with average rating higher than 9\n",
    "   (SELECT movie_id\n",
    "    FROM movies\n",
    "    WHERE genre = 'Drama'\n",
    "    INTERSECT\n",
    "    SELECT movie_id\n",
    "    FROM renting\n",
    "    GROUP BY movie_id\n",
    "    HAVING AVG(rating)>9);"
   ]
  }
 ],
 "metadata": {
  "language_info": {
   "name": "python"
  },
  "orig_nbformat": 4
 },
 "nbformat": 4,
 "nbformat_minor": 2
}
