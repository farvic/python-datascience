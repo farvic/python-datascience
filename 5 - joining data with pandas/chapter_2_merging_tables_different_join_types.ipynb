{
 "cells": [
  {
   "cell_type": "code",
   "execution_count": 4,
   "metadata": {
    "collapsed": true
   },
   "outputs": [
    {
     "name": "stdout",
     "output_type": "stream",
     "text": [
      "(4803, 5)\n"
     ]
    }
   ],
   "source": [
    "import pandas as pd\n",
    "\n",
    "movies = pd.read_pickle('movies.p')\n",
    "taglines = pd.read_pickle('taglines.p')\n",
    "\n",
    "# merge using left join\n",
    "movies_taglines = movies.merge(taglines, on='id', how='left')\n",
    "\n",
    "print(movies_taglines.shape)"
   ]
  },
  {
   "cell_type": "code",
   "execution_count": null,
   "outputs": [],
   "source": [
    "financials = pd.read_pickle('financials.p')\n",
    "\n",
    "# Merge the movies table with the financials table with a left join\n",
    "movies_financials = movies.merge(financials, on='id', how='left')\n",
    "\n",
    "# Count the number of rows in the budget column that are missing\n",
    "number_of_missing_fin = movies_financials['budget'].isna().sum()\n",
    "\n",
    "# Print the number of movies missing financials\n",
    "print(number_of_missing_fin)"
   ],
   "metadata": {
    "collapsed": false
   }
  },
  {
   "cell_type": "code",
   "execution_count": 18,
   "outputs": [
    {
     "data": {
      "text/plain": "         id        title  popularity release_date\n103   10193  Toy Story 3   59.995418   2010-06-16\n2637    863  Toy Story 2   73.575118   1999-10-30\n3716    862    Toy Story   73.640445   1995-10-30",
      "text/html": "<div>\n<style scoped>\n    .dataframe tbody tr th:only-of-type {\n        vertical-align: middle;\n    }\n\n    .dataframe tbody tr th {\n        vertical-align: top;\n    }\n\n    .dataframe thead th {\n        text-align: right;\n    }\n</style>\n<table border=\"1\" class=\"dataframe\">\n  <thead>\n    <tr style=\"text-align: right;\">\n      <th></th>\n      <th>id</th>\n      <th>title</th>\n      <th>popularity</th>\n      <th>release_date</th>\n    </tr>\n  </thead>\n  <tbody>\n    <tr>\n      <th>103</th>\n      <td>10193</td>\n      <td>Toy Story 3</td>\n      <td>59.995418</td>\n      <td>2010-06-16</td>\n    </tr>\n    <tr>\n      <th>2637</th>\n      <td>863</td>\n      <td>Toy Story 2</td>\n      <td>73.575118</td>\n      <td>1999-10-30</td>\n    </tr>\n    <tr>\n      <th>3716</th>\n      <td>862</td>\n      <td>Toy Story</td>\n      <td>73.640445</td>\n      <td>1995-10-30</td>\n    </tr>\n  </tbody>\n</table>\n</div>"
     },
     "execution_count": 18,
     "metadata": {},
     "output_type": "execute_result"
    }
   ],
   "source": [
    "import pandas as pd\n",
    "\n",
    "# dataset com informações sobre vários filmes\n",
    "movies = pd.read_pickle('movies.p')\n",
    "\n",
    "# ^ : Indica que o texto deve começar com o padrão a seguir\n",
    "# . : indica qualquer coisa.\n",
    "# * :  0 ou + ocorrências do char anterior.\n",
    "#.* : aceita qualquer coisa que vier depois\n",
    "regex = \"^Toy Story.*\"\n",
    "\n",
    "# encontra os filmes na tabela cujo título preenche o padrão\n",
    "# da regex e atribui à variável toy_story\n",
    "toy_story = movies[movies.title.str.match(regex)]\n",
    "toy_story"
   ],
   "metadata": {
    "collapsed": false
   }
  },
  {
   "cell_type": "code",
   "execution_count": 19,
   "outputs": [
    {
     "name": "stdout",
     "output_type": "stream",
     "text": [
      "      id        title  popularity release_date                   tagline\n",
      "0  10193  Toy Story 3   59.995418   2010-06-16  No toy gets left behind.\n",
      "1    863  Toy Story 2   73.575118   1999-10-30        The toys are back!\n",
      "(2, 5)\n"
     ]
    }
   ],
   "source": [
    "# Merge the toy_story and taglines tables with a inner join\n",
    "toystory_tag = toy_story.merge(taglines, on='id')\n",
    "\n",
    "# Print the rows and shape of toystory_tag\n",
    "print(toystory_tag)\n",
    "print(toystory_tag.shape)"
   ],
   "metadata": {
    "collapsed": false
   }
  },
  {
   "cell_type": "markdown",
   "source": [
    "# Merging with columns that have different names"
   ],
   "metadata": {
    "collapsed": false
   }
  },
  {
   "cell_type": "code",
   "execution_count": 21,
   "outputs": [
    {
     "name": "stdout",
     "output_type": "stream",
     "text": [
      "       id                      title  popularity release_date  movie_id  \\\n",
      "0   10947        High School Musical   16.536374   2006-01-20     10947   \n",
      "1   13187  A Charlie Brown Christmas    8.701183   1965-12-09     13187   \n",
      "2   22488         Love's Abiding Joy    1.128559   2006-10-06     22488   \n",
      "3   78814       We Have Your Husband    0.102003   2011-11-12     78814   \n",
      "4  153397                   Restless    0.812776   2012-12-07    153397   \n",
      "\n",
      "      genre  \n",
      "0  TV Movie  \n",
      "1  TV Movie  \n",
      "2  TV Movie  \n",
      "3  TV Movie  \n",
      "4  TV Movie  \n"
     ]
    }
   ],
   "source": [
    "import pandas as pd\n",
    "movie_to_genres = pd.read_pickle('movie_to_genres.p')\n",
    "\n",
    "m = movie_to_genres['genre'] == 'TV Movie'\n",
    "tv_genre = movie_to_genres[m]\n",
    "\n",
    "tv_movies = movies.merge(tv_genre, how='right',\n",
    "left_on='id', right_on='movie_id')\n",
    "print(tv_movies.head())"
   ],
   "metadata": {
    "collapsed": false
   }
  },
  {
   "cell_type": "markdown",
   "source": [
    "# Merge with outer join"
   ],
   "metadata": {
    "collapsed": false
   }
  },
  {
   "cell_type": "code",
   "execution_count": 22,
   "outputs": [
    {
     "name": "stdout",
     "output_type": "stream",
     "text": [
      "   movie_id genre_fam genre_com\n",
      "0        12    Family       NaN\n",
      "1        35    Family    Comedy\n",
      "2       105    Family       NaN\n",
      "3         5       NaN    Comedy\n",
      "4        13       NaN    Comedy\n"
     ]
    }
   ],
   "source": [
    "m = movie_to_genres['genre'] == 'Family'\n",
    "family = movie_to_genres[m].head(3)\n",
    "\n",
    "\n",
    "m = movie_to_genres['genre'] == 'Comedy'\n",
    "comedy = movie_to_genres[m].head(3)\n",
    "\n",
    "family_comedy = family.merge(comedy, on='movie_id', how='outer',\n",
    "suffixes=('_fam', '_com'))\n",
    "print(family_comedy)"
   ],
   "metadata": {
    "collapsed": false
   }
  },
  {
   "cell_type": "code",
   "execution_count": null,
   "outputs": [],
   "source": [
    "# use the same logic above to create action and scifi movies\n",
    "action_movies = []\n",
    "scifi_movies = []\n",
    "\n",
    "# Merge action_movies to the scifi_movies with right join\n",
    "action_scifi = action_movies.merge(scifi_movies, on='movie_id', how='right',\n",
    "                                   suffixes=('_act','_sci'))\n",
    "\n",
    "# From action_scifi, select only the rows where the genre_act column is null\n",
    "scifi_only = action_scifi[action_scifi['genre_act'].isnull()]\n",
    "\n",
    "# Merge the movies and scifi_only tables with an inner join\n",
    "movies_and_scifi_only = movies.merge(scifi_only,left_on='id',right_on='movie_id')\n",
    "\n",
    "# Print the first few rows and shape of movies_and_scifi_only\n",
    "print(movies_and_scifi_only.head())\n",
    "print(movies_and_scifi_only.shape)"
   ],
   "metadata": {
    "collapsed": false
   }
  },
  {
   "cell_type": "markdown",
   "source": [
    "# Use right join to merge the movie_to_genres and pop_movies tables\n",
    "genres_movies = movie_to_genres.merge(pop_movies, how='right',\n",
    "                                      left_on='movie_id',\n",
    "                                      right_on='id')\n",
    "\n",
    "# Count the number of genres\n",
    "genre_count = genres_movies.groupby('genre').agg({'id':'count'})\n",
    "\n",
    "# Plot a bar chart of the genre_count\n",
    "genre_count.plot(kind='bar')\n",
    "plt.show()"
   ],
   "metadata": {
    "collapsed": false
   }
  },
  {
   "cell_type": "markdown",
   "source": [],
   "metadata": {
    "collapsed": false
   }
  },
  {
   "cell_type": "code",
   "execution_count": null,
   "outputs": [],
   "source": [
    "iron_1_actors = []\n",
    "iron_2_actors = []\n",
    "# Merge iron_1_actors to iron_2_actors on id with outer join using suffixes\n",
    "iron_1_and_2 = iron_1_actors.merge(iron_2_actors,\n",
    "                                     on='id',\n",
    "                                     how='outer',\n",
    "                                     suffixes=('_1','_2'))\n",
    "\n",
    "# Create an index that returns true if name_1 or name_2 are null\n",
    "m = ((iron_1_and_2['name_1'].isna()) |\n",
    "     (iron_1_and_2['name_2'].isna()))\n",
    "\n",
    "# Print the first few rows of iron_1_and_2\n",
    "print(iron_1_and_2[m].head())"
   ],
   "metadata": {
    "collapsed": false
   }
  },
  {
   "cell_type": "code",
   "execution_count": 32,
   "outputs": [
    {
     "name": "stdout",
     "output_type": "stream",
     "text": [
      "    id_org                                    title_org  sequel_org  id_seq  \\\n",
      "38   64688                               21 Jump Street      187017  187017   \n",
      "71   10072  A Nightmare on Elm Street 3: Dream Warriors       10131   10131   \n",
      "51    3049                   Ace Ventura: Pet Detective        9273    9273   \n",
      "52     348                                        Alien         679     679   \n",
      "29    6477                      Alvin and the Chipmunks       23398   23398   \n",
      "\n",
      "                                        title_seq  sequel_seq  \n",
      "38                                 22 Jump Street        <NA>  \n",
      "71  A Nightmare on Elm Street 4: The Dream Master        <NA>  \n",
      "51                 Ace Ventura: When Nature Calls        <NA>  \n",
      "52                                         Aliens        <NA>  \n",
      "29        Alvin and the Chipmunks: The Squeakquel        <NA>  \n"
     ]
    }
   ],
   "source": [
    "import pandas as pd\n",
    "\n",
    "sequels = pd.read_pickle('sequels.p')\n",
    "\n",
    "original_sequels = sequels.merge(sequels, left_on='sequel', right_on='id',\n",
    "suffixes=('_org','_seq'))\n",
    "original_sequels_sorted = original_sequels.sort_values(by=[\"title_org\", \"title_seq\"])\n",
    "original_sequels_sorted.to_csv('original_sequels.csv')\n",
    "print(original_sequels_sorted.head())"
   ],
   "metadata": {
    "collapsed": false
   }
  },
  {
   "cell_type": "code",
   "execution_count": 33,
   "outputs": [
    {
     "name": "stdout",
     "output_type": "stream",
     "text": [
      "        id department_dir   job_dir       name_dir department_crew  \\\n",
      "156  19995      Directing  Director  James Cameron         Editing   \n",
      "157  19995      Directing  Director  James Cameron           Sound   \n",
      "158  19995      Directing  Director  James Cameron      Production   \n",
      "160  19995      Directing  Director  James Cameron         Writing   \n",
      "161  19995      Directing  Director  James Cameron             Art   \n",
      "\n",
      "           job_crew          name_crew  \n",
      "156          Editor  Stephen E. Rivkin  \n",
      "157  Sound Designer  Christopher Boyes  \n",
      "158         Casting          Mali Finn  \n",
      "160          Writer      James Cameron  \n",
      "161    Set Designer    Richard F. Mays  \n"
     ]
    }
   ],
   "source": [
    "import pandas as pd\n",
    "\n",
    "crews = pd.read_pickle('crews.p')\n",
    "\n",
    "# Merge the crews table to itself\n",
    "crews_self_merged = crews.merge(crews, on='id', how='inner',\n",
    "                                suffixes=('_dir','_crew'))\n",
    "\n",
    "# Create a boolean index to select the appropriate rows\n",
    "boolean_filter = ((crews_self_merged['job_dir'] == 'Director') &\n",
    "                  (crews_self_merged['job_crew'] != 'Director'))\n",
    "direct_crews = crews_self_merged[boolean_filter]\n",
    "\n",
    "# Print the first few rows of direct_crews\n",
    "print(direct_crews.head())"
   ],
   "metadata": {
    "collapsed": false
   }
  },
  {
   "cell_type": "code",
   "execution_count": 41,
   "outputs": [
    {
     "name": "stdout",
     "output_type": "stream",
     "text": [
      "      id  Unnamed: 0                 title  popularity release_date  \\\n",
      "0    257           0          Oliver Twist   20.415572   2005-09-23   \n",
      "1  14290           1  Better Luck Tomorrow    3.877036   2002-01-12   \n",
      "2  38365           2             Grown Ups   38.864027   2010-06-24   \n",
      "3   9672           3              Infamous    3.680896   2006-11-16   \n",
      "4  12819           4       Alpha and Omega   12.300789   2010-09-17   \n",
      "\n",
      "                                           tagline  \n",
      "0                                              NaN  \n",
      "1             Never underestimate an overachiever.  \n",
      "2  Boys will be boys. . . some longer than others.  \n",
      "3          There's more to the story than you know  \n",
      "4                           A Pawsome 3D Adventure  \n"
     ]
    }
   ],
   "source": [
    "import pandas as pd\n",
    "\n",
    "movies = pd.read_csv('movies.csv',index_col=['id'])\n",
    "taglines = pd.read_pickle('taglines.p')\n",
    "\n",
    "movies_taglines = movies.merge(taglines, on='id', how='left')\n",
    "print(movies_taglines.head())"
   ],
   "metadata": {
    "collapsed": false
   }
  },
  {
   "cell_type": "code",
   "execution_count": null,
   "outputs": [],
   "source": [
    "samuel = pd.read_csv('samuel.csv',index_col=['movie_id','cast_id'])\n",
    "print(samuel.head())\n",
    "\n",
    "casts = pd.read_csv('casts.csv',index_col=['movie_id','cast_id'])\n",
    "print(casts.head())"
   ],
   "metadata": {
    "collapsed": false
   }
  },
  {
   "cell_type": "markdown",
   "source": [
    "# Multiindex merge"
   ],
   "metadata": {
    "collapsed": false
   }
  },
  {
   "cell_type": "code",
   "execution_count": null,
   "outputs": [],
   "source": [
    "samuel_casts = samuel.merge(casts, on=['movie_id','cast_id'])\n",
    "print(samuel_casts.head())\n",
    "print(samuel_casts.shape)"
   ],
   "metadata": {
    "collapsed": false
   }
  },
  {
   "cell_type": "markdown",
   "source": [
    "# Index merge with left_on and right_on"
   ],
   "metadata": {
    "collapsed": false
   }
  },
  {
   "cell_type": "code",
   "execution_count": null,
   "outputs": [],
   "source": [
    "movies_genres = movies.merge(movie_to_genres, left_on='id', left_index=True,\n",
    "right_on='movie_id', right_index=True)\n",
    "print(movies_genres.head())"
   ],
   "metadata": {
    "collapsed": false
   }
  },
  {
   "cell_type": "code",
   "execution_count": null,
   "outputs": [],
   "source": [
    "import pandas as pd\n",
    "ratings = pd.read_pickle('ratings.p')\n",
    "movies = pd.read_pickle('movies.p')\n",
    "\n",
    "# Merge to the movies table the ratings table on the index\n",
    "movies_ratings = movies.merge(ratings, on='id')\n",
    "\n",
    "# Print the first few rows of movies_ratings\n",
    "print(movies_ratings.head())"
   ],
   "metadata": {
    "collapsed": false
   }
  },
  {
   "cell_type": "code",
   "execution_count": null,
   "outputs": [],
   "source": [
    "financials = pd.read_pickle('financials.p')\n",
    "\n",
    "# Merge sequels and financials on index id\n",
    "sequels_fin = sequels.merge(financials, on='id', how='left')\n",
    "\n",
    "# Self merge with suffixes as inner join with left on sequel and right on id\n",
    "orig_seq = sequels_fin.merge(sequels_fin, how='inner', left_on='sequel',\n",
    "                             right_on='id', right_index=True,\n",
    "                             suffixes=('_org','_seq'))\n",
    "\n",
    "# Add calculation to subtract revenue_org from revenue_seq\n",
    "orig_seq['diff'] = orig_seq['revenue_seq'] - orig_seq['revenue_org']\n",
    "\n",
    "# Select the title_org, title_seq, and diff\n",
    "titles_diff = orig_seq[['title_org','title_seq','diff']]\n",
    "\n",
    "# Print the first rows of the sorted titles_diff\n",
    "print(titles_diff.sort_values(by='diff',ascending=False).head())"
   ],
   "metadata": {
    "collapsed": false
   }
  }
 ],
 "metadata": {
  "kernelspec": {
   "display_name": "Python 3",
   "language": "python",
   "name": "python3"
  },
  "language_info": {
   "codemirror_mode": {
    "name": "ipython",
    "version": 2
   },
   "file_extension": ".py",
   "mimetype": "text/x-python",
   "name": "python",
   "nbconvert_exporter": "python",
   "pygments_lexer": "ipython2",
   "version": "2.7.6"
  }
 },
 "nbformat": 4,
 "nbformat_minor": 0
}
