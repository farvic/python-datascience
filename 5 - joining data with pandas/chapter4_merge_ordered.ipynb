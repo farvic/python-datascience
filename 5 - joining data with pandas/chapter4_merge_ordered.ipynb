{
 "cells": [
  {
   "cell_type": "code",
   "execution_count": null,
   "metadata": {
    "collapsed": true
   },
   "outputs": [],
   "source": [
    "# data for this part was missing\n",
    "import pandas as pd\n",
    "\n",
    "appl = pd.read_pickle('data/aapl.pkl')\n",
    "mcd = pd.read_pickle('data/mcd.pkl')\n",
    "\n",
    "pd.merge_ordered(appl, mcd, on='date', suffixes=('_aapl','_mcd'))"
   ]
  },
  {
   "cell_type": "code",
   "execution_count": null,
   "metadata": {},
   "outputs": [],
   "source": [
    "# Filling missing values with data from previous row\n",
    "pd.merge_ordered(appl, mcd, on='date',\n",
    "suffixes=('_aapl','_mcd'),\n",
    "fill_method='ffill')"
   ]
  },
  {
   "attachments": {},
   "cell_type": "markdown",
   "metadata": {},
   "source": [
    "### Exercises\n",
    "Correlation between GDP and S&P500"
   ]
  },
  {
   "cell_type": "code",
   "execution_count": 6,
   "metadata": {},
   "outputs": [
    {
     "name": "stdout",
     "output_type": "stream",
     "text": [
      "     Country Name Country Code     Indicator Name  Year           GDP    Date  \\\n",
      "0           China          CHN  GDP (current US$)  2010  6.087160e+12  2010.0   \n",
      "1         Germany          DEU  GDP (current US$)  2010  3.417090e+12  2010.0   \n",
      "2           Japan          JPN  GDP (current US$)  2010  5.700100e+12  2010.0   \n",
      "3   United States          USA  GDP (current US$)  2010  1.499210e+13  2010.0   \n",
      "4           China          CHN  GDP (current US$)  2011  7.551500e+12  2011.0   \n",
      "5         Germany          DEU  GDP (current US$)  2011  3.757700e+12  2011.0   \n",
      "6           Japan          JPN  GDP (current US$)  2011  6.157460e+12  2011.0   \n",
      "7   United States          USA  GDP (current US$)  2011  1.554260e+13  2011.0   \n",
      "8           China          CHN  GDP (current US$)  2012  8.532230e+12  2012.0   \n",
      "9         Germany          DEU  GDP (current US$)  2012  3.543980e+12  2012.0   \n",
      "10          Japan          JPN  GDP (current US$)  2012  6.203210e+12  2012.0   \n",
      "11  United States          USA  GDP (current US$)  2012  1.619700e+13  2012.0   \n",
      "12          China          CHN  GDP (current US$)  2012  8.532230e+12  2012.0   \n",
      "13        Germany          DEU  GDP (current US$)  2012  3.543980e+12  2012.0   \n",
      "14          Japan          JPN  GDP (current US$)  2012  6.203210e+12  2012.0   \n",
      "15  United States          USA  GDP (current US$)  2012  1.619700e+13  2012.0   \n",
      "16          China          CHN  GDP (current US$)  2013  9.570410e+12  2013.0   \n",
      "17        Germany          DEU  GDP (current US$)  2013  3.752510e+12  2013.0   \n",
      "18          Japan          JPN  GDP (current US$)  2013  5.155720e+12  2013.0   \n",
      "19  United States          USA  GDP (current US$)  2013  1.678480e+13  2013.0   \n",
      "20          China          CHN  GDP (current US$)  2014  1.043850e+13  2014.0   \n",
      "21        Germany          DEU  GDP (current US$)  2014  3.898730e+12  2014.0   \n",
      "22          Japan          JPN  GDP (current US$)  2014  4.850410e+12  2014.0   \n",
      "23  United States          USA  GDP (current US$)  2014  1.752170e+13  2014.0   \n",
      "24          China          CHN  GDP (current US$)  2015  1.101550e+13  2015.0   \n",
      "25        Germany          DEU  GDP (current US$)  2015  3.381390e+12  2015.0   \n",
      "26          Japan          JPN  GDP (current US$)  2015  4.389480e+12  2015.0   \n",
      "27  United States          USA  GDP (current US$)  2015  1.821930e+13  2015.0   \n",
      "28          China          CHN  GDP (current US$)  2016  1.113790e+13  2016.0   \n",
      "29        Germany          DEU  GDP (current US$)  2016  3.495160e+12  2016.0   \n",
      "30          Japan          JPN  GDP (current US$)  2016  4.926670e+12  2016.0   \n",
      "31  United States          USA  GDP (current US$)  2016  1.870720e+13  2016.0   \n",
      "32          China          CHN  GDP (current US$)  2017  1.214350e+13  2017.0   \n",
      "33        Germany          DEU  GDP (current US$)  2017  3.693200e+12  2017.0   \n",
      "34          Japan          JPN  GDP (current US$)  2017  4.859950e+12  2017.0   \n",
      "35  United States          USA  GDP (current US$)  2017  1.948540e+13  2017.0   \n",
      "36          China          CHN  GDP (current US$)  2018  1.360820e+13     NaN   \n",
      "37        Germany          DEU  GDP (current US$)  2018  3.996760e+12     NaN   \n",
      "38          Japan          JPN  GDP (current US$)  2018  4.970920e+12     NaN   \n",
      "39  United States          USA  GDP (current US$)  2018  2.049410e+13     NaN   \n",
      "\n",
      "    Returns  \n",
      "0     12.78  \n",
      "1     12.78  \n",
      "2     12.78  \n",
      "3     12.78  \n",
      "4      0.00  \n",
      "5      0.00  \n",
      "6      0.00  \n",
      "7      0.00  \n",
      "8     13.41  \n",
      "9     13.41  \n",
      "10    13.41  \n",
      "11    13.41  \n",
      "12    13.41  \n",
      "13    13.41  \n",
      "14    13.41  \n",
      "15    13.41  \n",
      "16    29.60  \n",
      "17    29.60  \n",
      "18    29.60  \n",
      "19    29.60  \n",
      "20    11.39  \n",
      "21    11.39  \n",
      "22    11.39  \n",
      "23    11.39  \n",
      "24    -0.73  \n",
      "25    -0.73  \n",
      "26    -0.73  \n",
      "27    -0.73  \n",
      "28     9.54  \n",
      "29     9.54  \n",
      "30     9.54  \n",
      "31     9.54  \n",
      "32    19.42  \n",
      "33    19.42  \n",
      "34    19.42  \n",
      "35    19.42  \n",
      "36      NaN  \n",
      "37      NaN  \n",
      "38      NaN  \n",
      "39      NaN  \n"
     ]
    }
   ],
   "source": [
    "import pandas as pd\n",
    "\n",
    "gdp = pd.read_csv('WorldBank_GDP.csv')\n",
    "sp500 = pd.read_csv('S&P500.csv')\n",
    "\n",
    "# Use merge_ordered() to merge gdp and sp500 on year and date\n",
    "gdp_sp500 = pd.merge_ordered(gdp, sp500, left_on='Year', right_on='Date', \n",
    "                             how='left')\n",
    "\n",
    "# Print gdp_sp500\n",
    "print(gdp_sp500)"
   ]
  },
  {
   "cell_type": "code",
   "execution_count": 8,
   "metadata": {},
   "outputs": [
    {
     "name": "stdout",
     "output_type": "stream",
     "text": [
      "     Country Name Country Code     Indicator Name  Year           GDP  Date  \\\n",
      "0           China          CHN  GDP (current US$)  2010  6.087160e+12  2010   \n",
      "1         Germany          DEU  GDP (current US$)  2010  3.417090e+12  2010   \n",
      "2           Japan          JPN  GDP (current US$)  2010  5.700100e+12  2010   \n",
      "3   United States          USA  GDP (current US$)  2010  1.499210e+13  2010   \n",
      "4           China          CHN  GDP (current US$)  2011  7.551500e+12  2011   \n",
      "5         Germany          DEU  GDP (current US$)  2011  3.757700e+12  2011   \n",
      "6           Japan          JPN  GDP (current US$)  2011  6.157460e+12  2011   \n",
      "7   United States          USA  GDP (current US$)  2011  1.554260e+13  2011   \n",
      "8           China          CHN  GDP (current US$)  2012  8.532230e+12  2012   \n",
      "9         Germany          DEU  GDP (current US$)  2012  3.543980e+12  2012   \n",
      "10          Japan          JPN  GDP (current US$)  2012  6.203210e+12  2012   \n",
      "11  United States          USA  GDP (current US$)  2012  1.619700e+13  2012   \n",
      "12          China          CHN  GDP (current US$)  2012  8.532230e+12  2012   \n",
      "13        Germany          DEU  GDP (current US$)  2012  3.543980e+12  2012   \n",
      "14          Japan          JPN  GDP (current US$)  2012  6.203210e+12  2012   \n",
      "15  United States          USA  GDP (current US$)  2012  1.619700e+13  2012   \n",
      "16          China          CHN  GDP (current US$)  2013  9.570410e+12  2013   \n",
      "17        Germany          DEU  GDP (current US$)  2013  3.752510e+12  2013   \n",
      "18          Japan          JPN  GDP (current US$)  2013  5.155720e+12  2013   \n",
      "19  United States          USA  GDP (current US$)  2013  1.678480e+13  2013   \n",
      "20          China          CHN  GDP (current US$)  2014  1.043850e+13  2014   \n",
      "21        Germany          DEU  GDP (current US$)  2014  3.898730e+12  2014   \n",
      "22          Japan          JPN  GDP (current US$)  2014  4.850410e+12  2014   \n",
      "23  United States          USA  GDP (current US$)  2014  1.752170e+13  2014   \n",
      "24          China          CHN  GDP (current US$)  2015  1.101550e+13  2015   \n",
      "25        Germany          DEU  GDP (current US$)  2015  3.381390e+12  2015   \n",
      "26          Japan          JPN  GDP (current US$)  2015  4.389480e+12  2015   \n",
      "27  United States          USA  GDP (current US$)  2015  1.821930e+13  2015   \n",
      "28          China          CHN  GDP (current US$)  2016  1.113790e+13  2016   \n",
      "29        Germany          DEU  GDP (current US$)  2016  3.495160e+12  2016   \n",
      "30          Japan          JPN  GDP (current US$)  2016  4.926670e+12  2016   \n",
      "31  United States          USA  GDP (current US$)  2016  1.870720e+13  2016   \n",
      "32          China          CHN  GDP (current US$)  2017  1.214350e+13  2017   \n",
      "33        Germany          DEU  GDP (current US$)  2017  3.693200e+12  2017   \n",
      "34          Japan          JPN  GDP (current US$)  2017  4.859950e+12  2017   \n",
      "35  United States          USA  GDP (current US$)  2017  1.948540e+13  2017   \n",
      "36          China          CHN  GDP (current US$)  2018  1.360820e+13  2017   \n",
      "37        Germany          DEU  GDP (current US$)  2018  3.996760e+12  2017   \n",
      "38          Japan          JPN  GDP (current US$)  2018  4.970920e+12  2017   \n",
      "39  United States          USA  GDP (current US$)  2018  2.049410e+13  2017   \n",
      "\n",
      "    Returns  \n",
      "0     12.78  \n",
      "1     12.78  \n",
      "2     12.78  \n",
      "3     12.78  \n",
      "4      0.00  \n",
      "5      0.00  \n",
      "6      0.00  \n",
      "7      0.00  \n",
      "8     13.41  \n",
      "9     13.41  \n",
      "10    13.41  \n",
      "11    13.41  \n",
      "12    13.41  \n",
      "13    13.41  \n",
      "14    13.41  \n",
      "15    13.41  \n",
      "16    29.60  \n",
      "17    29.60  \n",
      "18    29.60  \n",
      "19    29.60  \n",
      "20    11.39  \n",
      "21    11.39  \n",
      "22    11.39  \n",
      "23    11.39  \n",
      "24    -0.73  \n",
      "25    -0.73  \n",
      "26    -0.73  \n",
      "27    -0.73  \n",
      "28     9.54  \n",
      "29     9.54  \n",
      "30     9.54  \n",
      "31     9.54  \n",
      "32    19.42  \n",
      "33    19.42  \n",
      "34    19.42  \n",
      "35    19.42  \n",
      "36    19.42  \n",
      "37    19.42  \n",
      "38    19.42  \n",
      "39    19.42  \n"
     ]
    }
   ],
   "source": [
    "# Use merge_ordered() to merge gdp and sp500, interpolate missing value\n",
    "gdp_sp500 = pd.merge_ordered(gdp,sp500,left_on='Year', right_on='Date', how='left',fill_method='ffill')\n",
    "\n",
    "\n",
    "# Print gdp_sp500\n",
    "print (gdp_sp500)"
   ]
  },
  {
   "cell_type": "code",
   "execution_count": 11,
   "metadata": {},
   "outputs": [
    {
     "name": "stdout",
     "output_type": "stream",
     "text": [
      "              GDP   Returns\n",
      "GDP      1.000000  0.040669\n",
      "Returns  0.040669  1.000000\n"
     ]
    }
   ],
   "source": [
    "# Use merge_ordered() to merge gdp and sp500, interpolate missing value\n",
    "gdp_sp500 = pd.merge_ordered(gdp, sp500, left_on='Year', right_on='Date', \n",
    "                             how='left',  fill_method='ffill')\n",
    "\n",
    "# Subset the gdp and returns columns\n",
    "gdp_returns = gdp_sp500[[\"GDP\",\"Returns\"]]\n",
    "\n",
    "# Print gdp_returns correlation\n",
    "print (gdp_returns.corr())"
   ]
  },
  {
   "cell_type": "code",
   "execution_count": null,
   "metadata": {},
   "outputs": [],
   "source": [
    "import matplotlib.pyplot as plt\n",
    "\n",
    "# data was not provided\n",
    "inflation = []\n",
    "unemployment = []\n",
    "\n",
    "# Use merge_ordered() to merge inflation, unemployment with inner join\n",
    "inflation_unemploy = pd.merge_ordered(inflation,unemployment,how='inner')\n",
    "\n",
    "# Print inflation_unemploy \n",
    "print(inflation_unemploy)\n",
    "\n",
    "# Plot a scatter plot of unemployment_rate vs cpi of inflation_unemploy\n",
    "inflation_unemploy.plot(kind='scatter',x='unemployment_rate',y='cpi')\n",
    "plt.show()"
   ]
  },
  {
   "cell_type": "code",
   "execution_count": null,
   "metadata": {},
   "outputs": [],
   "source": [
    "pop = pd.read_csv('WorldBank_POP.csv')\n",
    "\n",
    "# Merge gdp and pop on date and country with fill and notice rows 2 and 3\n",
    "ctry_date = pd.merge_ordered(gdp,pop, on=('date','country'),\n",
    "                             fill_method='ffill')\n",
    "\n",
    "# Print ctry_date\n",
    "print(ctry_date.head())"
   ]
  },
  {
   "attachments": {},
   "cell_type": "markdown",
   "metadata": {},
   "source": [
    "Since the date was used before the country, the missing data for the country\n",
    "was being filled in a wrong way. We can solve this problem by merging with the\n",
    "country on the left side, so that the missing population data for the country is filled by\n",
    "data from the same country."
   ]
  },
  {
   "cell_type": "code",
   "execution_count": null,
   "metadata": {},
   "outputs": [],
   "source": [
    "# Merge gdp and pop on country and date with fill\n",
    "date_ctry = pd.merge_ordered(gdp,pop,on=('country','date'),fill_method='ffill')\n",
    "\n",
    "# Print date_ctry\n",
    "print(date_ctry.head())"
   ]
  },
  {
   "cell_type": "code",
   "execution_count": null,
   "metadata": {},
   "outputs": [],
   "source": [
    "visa = []\n",
    "ibm = []\n",
    "\n",
    "# direction='forward' means that if the date_time is not found in visa, then the next date_time in visa will be used\n",
    "# direction='backward' means that if the date_time is not found in visa, then the previous date_time in visa will be used\n",
    "# direction='nearest' means that if the date_time is not found in visa, then the nearest date_time in visa will be used\n",
    "pd.merge_asof(visa, ibm, on=['date_time'],suffixes=('_visa','_ibm'),direction='forward')"
   ]
  },
  {
   "attachments": {},
   "cell_type": "markdown",
   "metadata": {},
   "source": [
    "### Using merge_asof() to study stocks\n",
    "\n",
    "You have a feed of stock market prices that you record. You attempt to track the price every five minutes. Still, due to some network latency, the prices you record are roughly every 5 minutes. You pull your price logs for three banks, JP Morgan (JPM), Wells Fargo (WFC), and Bank Of America (BAC). You want to know how the price change of the two other banks compare to JP Morgan. Therefore, you will need to merge these three logs into one table. Afterward, you will use the pandas .diff() method to compute the price change over time. Finally, plot the price changes so you can review your analysis.\n",
    "\n",
    "The three log files have been loaded for you as tables named jpm, wells, and bac."
   ]
  },
  {
   "cell_type": "code",
   "execution_count": null,
   "metadata": {},
   "outputs": [],
   "source": [
    "# data was not provided for this part\n",
    "jpm = []\n",
    "wells = []\n",
    "bac = []\n",
    "\n",
    "# Use merge_asof() to merge jpm and wells\n",
    "jpm_wells = pd.merge_asof(jpm, wells, on='date_time',suffixes=('','_wells'),direction='nearest')\n",
    "\n",
    "\n",
    "# Use merge_asof() to merge jpm_wells and bac\n",
    "jpm_wells_bac = pd.merge_asof(jpm_wells, bac, on='date_time',suffixes=('_jpm','_bac'),direction='nearest')\n",
    "\n",
    "\n",
    "# Compute price diff\n",
    "price_diffs = jpm_wells_bac.diff()\n",
    "\n",
    "# Plot the price diff of the close of jpm, wells and bac only\n",
    "price_diffs.plot(y=['close_jpm', 'close_wells', 'close_bac'])\n",
    "plt.show()"
   ]
  },
  {
   "attachments": {},
   "cell_type": "markdown",
   "metadata": {},
   "source": [
    "### Using merge_asof() to create dataset\n",
    "The merge_asof() function can be used to create datasets where you have a table of start and stop dates, and you want to use them to create a flag in another table. You have been given gdp, which is a table of quarterly GDP values of the US during the 1980s. Additionally, the table recession has been given to you. It holds the starting date of every US recession since 1980, and the date when the recession was declared to be over. Use merge_asof() to merge the tables and create a status flag if a quarter was during a recession. Finally, to check your work, plot the data in a bar chart.\n",
    "\n",
    "The tables gdp and recession have been loaded for you."
   ]
  },
  {
   "attachments": {},
   "cell_type": "markdown",
   "metadata": {},
   "source": [
    "Using list comprehension to fill the collors"
   ]
  },
  {
   "cell_type": "code",
   "execution_count": null,
   "metadata": {},
   "outputs": [],
   "source": [
    "# data was not provided for the recession\n",
    "recession = []\n",
    "\n",
    "# Merge gdp and recession on date using merge_asof()\n",
    "gdp_recession = pd.merge_asof(gdp,recession,on=\"date\")\n",
    "\n",
    "# Create a list based on the row value of gdp_recession['econ_status']\n",
    "is_recession = ['r' if s=='recession' else 'g' for s in gdp_recession['econ_status']]\n",
    "\n",
    "# Plot a bar chart of gdp_recession\n",
    "gdp_recession.plot(kind='bar', y='gdp', x='date', color=is_recession, rot=90)\n",
    "plt.show()"
   ]
  },
  {
   "attachments": {},
   "cell_type": "markdown",
   "metadata": {},
   "source": [
    "Query Method"
   ]
  },
  {
   "cell_type": "code",
   "execution_count": null,
   "metadata": {},
   "outputs": [],
   "source": [
    "stocks = [] # columns are date, nike and disney\n",
    "stocks.query('nike >= 90')\n",
    "stocks.query('nike >= 90 and disney < 140')\n",
    "stocks.query('nike >= 90 or disney < 140')\n",
    "\n",
    "# now the columns are date, stock and close (disney and nike are part of stock)\n",
    "stocks.query('stock==\"disney\" or (stock==\"nike\" and close < 90)')"
   ]
  },
  {
   "cell_type": "code",
   "execution_count": null,
   "metadata": {},
   "outputs": [],
   "source": [
    "import pandas as pd\n",
    "gdp = pd.read_csv('WorldBank_GDP.csv')\n",
    "pop = pd.read_csv('WorldBank_POP.csv')\n",
    "\n",
    "# Merge gdp and pop on date and country with fill\n",
    "gdp_pop = pd.merge_ordered(gdp, pop, on=['country','date'], fill_method='ffill')\n",
    "\n",
    "# Add a column named gdp_per_capita to gdp_pop that divides the gdp by pop\n",
    "gdp_pop['gdp_per_capita'] = gdp_pop['gdp'] / gdp_pop['pop']\n",
    "\n",
    "# Pivot data so gdp_per_capita, where index is date and columns is country\n",
    "gdp_pivot = gdp_pop.pivot_table('gdp_per_capita', 'date', 'country')\n",
    "\n",
    "# Select dates equal to or greater than 1991-01-01\n",
    "recent_gdp_pop = gdp_pivot.query('date >= \"1991-01-01\"')\n",
    "\n",
    "# Plot recent_gdp_pop\n",
    "recent_gdp_pop.plot(rot=90)\n",
    "plt.show()"
   ]
  },
  {
   "attachments": {},
   "cell_type": "markdown",
   "metadata": {},
   "source": [
    "### Melt example"
   ]
  },
  {
   "cell_type": "code",
   "execution_count": null,
   "metadata": {},
   "outputs": [],
   "source": [
    "# example of melt\n",
    "social_fin = []\n",
    "\n",
    "# id_vars are the columns that will not be melted\n",
    "social_fin_tall = social_fin.melt(id_vars=['financial','company'])\n",
    "print(social_fin_tall.head(10))\n",
    "\n",
    "social_fin_tall = social_fin.melt(id_vars=['financial','company'], \\\n",
    "# value_vars are the values from the columns that will be melted that we want\n",
    "# in our table. In this example, 2019 was also available, but we've discarded it\n",
    "value_vars=['2018','2017'], \\\n",
    "    # var_name and value_name are the names of the new columns\n",
    "var_name=['year'], value_name='dollars')\n",
    "print(social_fin_tall.head(8))"
   ]
  },
  {
   "cell_type": "code",
   "execution_count": null,
   "metadata": {},
   "outputs": [],
   "source": [
    "ur_wide = []\n",
    "# unpivot everything besides the year column\n",
    "ur_tall = ur_wide.melt(id_vars='year',var_name='month', value_name='unempl_rate')\n",
    "\n",
    "\n",
    "# Create a date column using the month and year columns of ur_tall\n",
    "ur_tall['date'] = pd.to_datetime(ur_tall['year'] + '-' + ur_tall['month'])\n",
    "\n",
    "# Sort ur_tall by date in ascending order\n",
    "ur_sorted = ur_tall.sort_values(by='date')\n",
    "\n",
    "# Plot the unempl_rate by date\n",
    "ur_sorted.plot(x='date',y='unempl_rate')\n",
    "plt.show()"
   ]
  },
  {
   "cell_type": "code",
   "execution_count": null,
   "metadata": {},
   "outputs": [],
   "source": [
    "# Use melt on ten_yr, unpivot everything besides the metric column\n",
    "bond_perc = ten_yr.melt(id_vars='metric',var_name='date',value_name='close')\n",
    "\n",
    "# Use query on bond_perc to select only the rows where metric=close\n",
    "bond_perc_close = bond_perc.query('metric == \"close\"')\n",
    "\n",
    "# Merge (ordered) dji and bond_perc_close on date with an inner join\n",
    "dow_bond = pd.merge_ordered(dji,bond_perc_close,how='inner', on='date',suffixes=('_dow','_bond'))\n",
    "\n",
    "\n",
    "# Plot only the close_dow and close_bond columns\n",
    "dow_bond.plot(y=['close_dow','close_bond'], x='date', rot=90)\n",
    "plt.show()"
   ]
  }
 ],
 "metadata": {
  "kernelspec": {
   "display_name": "Python 3",
   "language": "python",
   "name": "python3"
  },
  "language_info": {
   "codemirror_mode": {
    "name": "ipython",
    "version": 3
   },
   "file_extension": ".py",
   "mimetype": "text/x-python",
   "name": "python",
   "nbconvert_exporter": "python",
   "pygments_lexer": "ipython3",
   "version": "3.11.0"
  }
 },
 "nbformat": 4,
 "nbformat_minor": 0
}
