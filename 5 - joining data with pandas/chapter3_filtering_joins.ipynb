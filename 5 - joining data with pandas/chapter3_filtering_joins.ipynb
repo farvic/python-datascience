{
 "cells": [
  {
   "cell_type": "markdown",
   "source": [
    "# The dataset for this part is missing"
   ],
   "metadata": {
    "collapsed": false
   }
  },
  {
   "cell_type": "code",
   "execution_count": null,
   "metadata": {
    "collapsed": true
   },
   "outputs": [],
   "source": [
    "# semi join returns the intersection\n",
    "\n",
    "genres = []\n",
    "top_tracks = []\n",
    "\n",
    "genres_tracks = genres.merge(top_tracks, on='gid')\n",
    "top_genres = genres[genres['gid'].isin(genres_tracks['gid'])]\n",
    "print(top_genres.head())"
   ]
  },
  {
   "cell_type": "markdown",
   "source": [
    "# Anti-Join:\n",
    "Returns the left table, excluding the intersection\n",
    "Returns only columns from the left table and not the right"
   ],
   "metadata": {
    "collapsed": false
   }
  },
  {
   "cell_type": "code",
   "execution_count": null,
   "outputs": [],
   "source": [
    "genres = []\n",
    "top_tracks = []\n",
    "\n",
    "\n",
    "genres_tracks = genres.merge(top_tracks, on='gid', how='left', indicator=True)\n",
    "gid_list = genres_tracks.loc[genres_tracks['_merge'] == 'left_only','gid']\n",
    "non_top_genres = genres[genres['gid'].isin(gid_list)]\n",
    "print(non_top_genres.head())"
   ],
   "metadata": {
    "collapsed": false
   }
  },
  {
   "cell_type": "markdown",
   "source": [
    "# Get employees no working with customers\n",
    "The dataset was not provided"
   ],
   "metadata": {
    "collapsed": false
   }
  },
  {
   "cell_type": "code",
   "execution_count": null,
   "outputs": [],
   "source": [
    "employees = []\n",
    "top_cust = []\n",
    "\n",
    "# Merge employees and top_cust\n",
    "empl_cust = employees.merge(top_cust, on='srid',\n",
    "                                 how='left', indicator=True)\n",
    "\n",
    "# Select the srid column where _merge is left_only\n",
    "srid_list = empl_cust.loc[empl_cust['_merge'] == 'left_only', 'srid']\n",
    "\n",
    "# Get employees not working with top customers\n",
    "print(employees[employees.srid.isin(srid_list)])"
   ],
   "metadata": {
    "collapsed": false
   }
  },
  {
   "cell_type": "code",
   "execution_count": null,
   "outputs": [],
   "source": [
    "# dataset was not provided\n",
    "non_mus_tcks = []\n",
    "top_invoices = []\n",
    "\n",
    "# Merge the non_mus_tck and top_invoices tables on tid\n",
    "tracks_invoices = non_mus_tcks.merge(top_invoices,on='tid')\n",
    "\n",
    "# Use .isin() to subset non_mus_tcks to rows with tid in tracks_invoices\n",
    "top_tracks = non_mus_tcks[non_mus_tcks['tid'].isin(tracks_invoices['tid'])]\n",
    "\n",
    "# Group the top_tracks by gid and count the tid rows\n",
    "cnt_by_gid = top_tracks.groupby(['gid'], as_index=False).agg({'tid':'count'})\n",
    "\n",
    "# Merge the genres table to cnt_by_gid on gid and print\n",
    "print(cnt_by_gid.merge(genres,on='gid'))"
   ],
   "metadata": {
    "collapsed": false
   }
  },
  {
   "cell_type": "markdown",
   "source": [
    "# Concatenating tables\n",
    "pandas .concat() method can\n",
    "concatenate both vertical and horizontal.\n",
    "axis=0 , vertical\n",
    "\n",
    "# Basic concatenation\n",
    "* 3 different tables\n",
    "* Same column names\n",
    "* Table variable names:\n",
    "* * inv_jan (top)\n",
    "* * inv_feb (middle)\n",
    "* * inv_mar (bottom)\n",
    "\n",
    "pd.concat([inv_jan, inv_feb, inv_mar]) iid cid invoice_date total\n",
    "\n",
    "# You can ignore the index\n",
    "pd.concat([inv_jan, inv_feb, inv_mar],ignore_index=True)\n",
    "\n",
    "# Setting labels to original tables\n",
    "pd.concat([inv_jan, inv_feb, inv_mar], ignore_index=False, keys=['jan','feb','mar'])\n",
    "\n",
    "# Concatenating tables with different names\n",
    "pd.concat([inv_jan, inv_feb], sort=True)\n",
    "\n",
    "# if we only want the matching columns between the tables\n",
    "pd.concat([inv_jan, inv_feb],join='inner')"
   ],
   "metadata": {
    "collapsed": false
   }
  },
  {
   "cell_type": "code",
   "execution_count": null,
   "outputs": [],
   "source": [
    "import pandas as pd\n",
    "\n",
    "tracks_master = []\n",
    "tracks_ride = []\n",
    "tracks_st = []\n",
    "\n",
    "# Concatenate the tracks\n",
    "tracks_from_albums = pd.concat([tracks_master, tracks_ride, tracks_st],\n",
    "                               sort=True)\n",
    "print(tracks_from_albums)\n",
    "\n",
    "# Concatenate the tracks so the index goes from 0 to n-1\n",
    "tracks_from_albums = pd.concat([tracks_master, tracks_ride, tracks_st],\n",
    "                               ignore_index=True,\n",
    "                               sort=True)\n",
    "print(tracks_from_albums)\n",
    "\n",
    "# Concatenate the tracks, show only columns names that are in all tables\n",
    "tracks_from_albums = pd.concat([tracks_master,tracks_ride,tracks_st],\n",
    "                               join='inner',\n",
    "                               sort=True)\n",
    "print(tracks_from_albums)"
   ],
   "metadata": {
    "collapsed": false
   }
  },
  {
   "cell_type": "code",
   "execution_count": null,
   "outputs": [],
   "source": [
    "import matplotlib.pyplot as plt\n",
    "\n",
    "inv_jul = []\n",
    "inv_aug = []\n",
    "inv_sep = []\n",
    "\n",
    "# Concatenate the tables and add keys\n",
    "inv_jul_thr_sep = pd.concat([inv_jul, inv_aug, inv_sep],\n",
    "                            keys=['7Jul','8Aug','9Sep'])\n",
    "\n",
    "# Group the invoices by the index keys and find avg of the total column\n",
    "avg_inv_by_month = inv_jul_thr_sep.groupby(level=0).agg({'total':'mean'})\n",
    "\n",
    "# Bar plot of avg_inv_by_month\n",
    "avg_inv_by_month.plot(kind='bar')\n",
    "plt.show()"
   ],
   "metadata": {
    "collapsed": false
   }
  },
  {
   "cell_type": "markdown",
   "source": [
    "# Validating merges\n",
    ".merge(validate=None) :\n",
    "\n",
    "# Checks if merge is of specified type\n",
    "* 'one_to_one'\n",
    "* 'one_to_many'\n",
    "* 'many_to_one'\n",
    "* 'many_to_many'"
   ],
   "metadata": {
    "collapsed": false
   }
  },
  {
   "cell_type": "code",
   "execution_count": null,
   "outputs": [],
   "source": [
    "tracks = []\n",
    "specs = []\n",
    "\n",
    "tracks.merge(specs, on='tid',validate='one_to_one')"
   ],
   "metadata": {
    "collapsed": false
   }
  },
  {
   "cell_type": "markdown",
   "source": [
    "# Verifying integrity\n",
    "Raises an error if ids are not unique"
   ],
   "metadata": {
    "collapsed": false
   }
  },
  {
   "cell_type": "code",
   "execution_count": null,
   "outputs": [],
   "source": [
    "inv_feb = []\n",
    "inv_mar = []\n",
    "pd.concat([inv_feb, inv_mar],verify_integrity=True)"
   ],
   "metadata": {
    "collapsed": false
   }
  },
  {
   "cell_type": "markdown",
   "source": [
    "# Why verify integrity and what to do\n",
    "Why:\n",
    "Real world data is often NOT clean\n",
    "What to do:\n",
    "* Fix incorrect data\n",
    "* Drop duplicate rows"
   ],
   "metadata": {
    "collapsed": false
   }
  },
  {
   "cell_type": "code",
   "execution_count": null,
   "outputs": [],
   "source": [
    "classic_18 = []\n",
    "classic_19 = []\n",
    "pop_18 = []\n",
    "pop_19 = []\n",
    "\n",
    "# Concatenate the classic tables vertically\n",
    "classic_18_19 = pd.concat([classic_18, classic_19], ignore_index=True)\n",
    "\n",
    "# Concatenate the pop tables vertically\n",
    "pop_18_19 = pd.concat([pop_18, pop_19], ignore_index=True)\n",
    "\n",
    "# Merge classic_18_19 with pop_18_19\n",
    "classic_pop = classic_18_19.merge(pop_18_19,on='tid')\n",
    "\n",
    "# Using .isin(), filter classic_18_19 rows where tid is in classic_pop\n",
    "popular_classic = classic_18_19[classic_18_19['tid'].isin(classic_pop['tid'])]\n",
    "\n",
    "# Print popular chart\n",
    "print(popular_classic)"
   ],
   "metadata": {
    "collapsed": false
   }
  }
 ],
 "metadata": {
  "kernelspec": {
   "display_name": "Python 3",
   "language": "python",
   "name": "python3"
  },
  "language_info": {
   "codemirror_mode": {
    "name": "ipython",
    "version": 2
   },
   "file_extension": ".py",
   "mimetype": "text/x-python",
   "name": "python",
   "nbconvert_exporter": "python",
   "pygments_lexer": "ipython2",
   "version": "2.7.6"
  }
 },
 "nbformat": 4,
 "nbformat_minor": 0
}
